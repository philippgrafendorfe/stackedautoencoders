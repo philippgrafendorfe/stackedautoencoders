{
 "cells": [
  {
   "cell_type": "code",
   "execution_count": 167,
   "metadata": {
    "scrolled": true
   },
   "outputs": [],
   "source": [
    "from keras.layers import Input, Dense, Dropout\n",
    "from keras.models import Model\n",
    "from keras.datasets import mnist\n",
    "from keras.models import Sequential, load_model\n",
    "from keras.optimizers import RMSprop\n",
    "from keras.callbacks import TensorBoard\n",
    "from __future__ import print_function\n",
    "from keras.utils import plot_model\n",
    "from IPython.display import SVG\n",
    "from keras.utils.vis_utils import model_to_dot\n",
    "from sklearn import preprocessing\n",
    "\n",
    "import keras\n",
    "import matplotlib.pyplot as plt\n",
    "import numpy as np\n",
    "import math\n",
    "import pydot\n",
    "import graphviz\n",
    "import pandas as pd"
   ]
  },
  {
   "cell_type": "code",
   "execution_count": 168,
   "metadata": {
    "collapsed": true,
    "scrolled": true
   },
   "outputs": [],
   "source": [
    "data = pd.read_csv('data/sensor_readings_24.csv', sep=\",\", header=None)"
   ]
  },
  {
   "cell_type": "code",
   "execution_count": 169,
   "metadata": {
    "scrolled": true
   },
   "outputs": [],
   "source": [
    "classes = data.iloc[:,24].unique()"
   ]
  },
  {
   "cell_type": "code",
   "execution_count": 170,
   "metadata": {
    "scrolled": true
   },
   "outputs": [],
   "source": [
    "mapping = {classes[0]: 0, classes[1]: 1, classes[2]: 2, classes[3]: 3}\n",
    "data[24].replace(mapping, inplace = True)"
   ]
  },
  {
   "cell_type": "code",
   "execution_count": 171,
   "metadata": {
    "scrolled": true
   },
   "outputs": [],
   "source": [
    "train_idx = int(np.floor(data.shape[0]*0.8))\n",
    "test_idx = data.shape[0] - train_idx\n",
    "\n",
    "df_train = data.iloc[:train_idx,:]\n",
    "df_val = data.iloc[train_idx:,]"
   ]
  },
  {
   "cell_type": "code",
   "execution_count": 172,
   "metadata": {
    "scrolled": true
   },
   "outputs": [],
   "source": [
    "x_train = df_train.iloc[:,:df_train.shape[1]-1].values\n",
    "x_train = x_train / x_train.max()\n",
    "y_train = df_train.iloc[:,-1].values\n",
    "\n",
    "x_val = df_val.iloc[:,:df_val.shape[1]-1].values\n",
    "x_val = x_val / x_val.max()\n",
    "y_val = df_val.iloc[:,-1].values"
   ]
  },
  {
   "cell_type": "code",
   "execution_count": 173,
   "metadata": {
    "scrolled": true
   },
   "outputs": [
    {
     "data": {
      "text/plain": [
       "(4364, 24)"
      ]
     },
     "execution_count": 173,
     "metadata": {},
     "output_type": "execute_result"
    }
   ],
   "source": [
    "x_train.shape"
   ]
  },
  {
   "cell_type": "code",
   "execution_count": 174,
   "metadata": {
    "scrolled": true
   },
   "outputs": [],
   "source": [
    "y_train = keras.utils.to_categorical(y_train, 4)\n",
    "y_val = keras.utils.to_categorical(y_val, 4)"
   ]
  },
  {
   "cell_type": "code",
   "execution_count": 175,
   "metadata": {
    "scrolled": true
   },
   "outputs": [],
   "source": [
    "# constants\n",
    "batch_size = 8\n",
    "epochs = 100\n",
    "hidden1_dim = 16\n",
    "hidden2_dim = 16"
   ]
  },
  {
   "cell_type": "code",
   "execution_count": 176,
   "metadata": {
    "collapsed": true,
    "scrolled": true
   },
   "outputs": [],
   "source": [
    "model = Sequential()\n",
    "model.add(Dense(hidden1_dim, activation='relu', input_shape=(24,)))\n",
    "# model.add(Dropout(0.1))\n",
    "# model.add(Dense(hidden2_dim, activation='relu'))\n",
    "# model.add(Dropout(0.1))\n",
    "model.add(Dense(4, activation='softmax'))"
   ]
  },
  {
   "cell_type": "code",
   "execution_count": 177,
   "metadata": {
    "collapsed": true,
    "scrolled": true
   },
   "outputs": [],
   "source": [
    "model.compile(loss='categorical_crossentropy',\n",
    "              optimizer=RMSprop(),\n",
    "              metrics=['accuracy'])"
   ]
  },
  {
   "cell_type": "code",
   "execution_count": 178,
   "metadata": {
    "scrolled": true
   },
   "outputs": [
    {
     "name": "stdout",
     "output_type": "stream",
     "text": [
      "Train on 4364 samples, validate on 1092 samples\n",
      "Epoch 1/100\n",
      "4364/4364 [==============================] - 1s 243us/step - loss: 1.1066 - acc: 0.4911 - val_loss: 1.0447 - val_acc: 0.5513\n",
      "Epoch 2/100\n",
      "4364/4364 [==============================] - 1s 143us/step - loss: 0.9572 - acc: 0.5816 - val_loss: 0.9155 - val_acc: 0.5559\n",
      "Epoch 3/100\n",
      "4364/4364 [==============================] - 1s 148us/step - loss: 0.8785 - acc: 0.5978 - val_loss: 0.8410 - val_acc: 0.5769\n",
      "Epoch 4/100\n",
      "4364/4364 [==============================] - 1s 161us/step - loss: 0.8337 - acc: 0.6212 - val_loss: 0.7832 - val_acc: 0.6236\n",
      "Epoch 5/100\n",
      "4364/4364 [==============================] - 1s 146us/step - loss: 0.8052 - acc: 0.6434 - val_loss: 0.7469 - val_acc: 0.6474\n",
      "Epoch 6/100\n",
      "4364/4364 [==============================] - 1s 148us/step - loss: 0.7820 - acc: 0.6611 - val_loss: 0.7243 - val_acc: 0.6712\n",
      "Epoch 7/100\n",
      "4364/4364 [==============================] - 1s 150us/step - loss: 0.7630 - acc: 0.6693 - val_loss: 0.7082 - val_acc: 0.6813\n",
      "Epoch 8/100\n",
      "4364/4364 [==============================] - 1s 150us/step - loss: 0.7496 - acc: 0.6801 - val_loss: 0.6867 - val_acc: 0.6923\n",
      "Epoch 9/100\n",
      "4364/4364 [==============================] - 1s 155us/step - loss: 0.7349 - acc: 0.6890 - val_loss: 0.6676 - val_acc: 0.7115\n",
      "Epoch 10/100\n",
      "4364/4364 [==============================] - 1s 154us/step - loss: 0.7211 - acc: 0.6939 - val_loss: 0.6616 - val_acc: 0.6987\n",
      "Epoch 11/100\n",
      "4364/4364 [==============================] - 1s 159us/step - loss: 0.7078 - acc: 0.7003 - val_loss: 0.6423 - val_acc: 0.7143\n",
      "Epoch 12/100\n",
      "4364/4364 [==============================] - 1s 153us/step - loss: 0.6948 - acc: 0.7115 - val_loss: 0.6371 - val_acc: 0.7106\n",
      "Epoch 13/100\n",
      "4364/4364 [==============================] - 1s 158us/step - loss: 0.6816 - acc: 0.7186 - val_loss: 0.6320 - val_acc: 0.7097\n",
      "Epoch 14/100\n",
      "4364/4364 [==============================] - 1s 161us/step - loss: 0.6721 - acc: 0.7207 - val_loss: 0.5996 - val_acc: 0.7363\n",
      "Epoch 15/100\n",
      "4364/4364 [==============================] - 1s 166us/step - loss: 0.6605 - acc: 0.7225 - val_loss: 0.5999 - val_acc: 0.7390\n",
      "Epoch 16/100\n",
      "4364/4364 [==============================] - 1s 160us/step - loss: 0.6518 - acc: 0.7330 - val_loss: 0.5815 - val_acc: 0.7573\n",
      "Epoch 17/100\n",
      "4364/4364 [==============================] - 1s 149us/step - loss: 0.6419 - acc: 0.7422 - val_loss: 0.5846 - val_acc: 0.7454\n",
      "Epoch 18/100\n",
      "4364/4364 [==============================] - 1s 153us/step - loss: 0.6333 - acc: 0.7452 - val_loss: 0.5788 - val_acc: 0.7518\n",
      "Epoch 19/100\n",
      "4364/4364 [==============================] - 1s 164us/step - loss: 0.6257 - acc: 0.7484 - val_loss: 0.5589 - val_acc: 0.7802\n",
      "Epoch 20/100\n",
      "4364/4364 [==============================] - 1s 161us/step - loss: 0.6183 - acc: 0.7539 - val_loss: 0.5559 - val_acc: 0.7821\n",
      "Epoch 21/100\n",
      "4364/4364 [==============================] - 1s 153us/step - loss: 0.6103 - acc: 0.7589 - val_loss: 0.5629 - val_acc: 0.7665\n",
      "Epoch 22/100\n",
      "4364/4364 [==============================] - 1s 151us/step - loss: 0.6056 - acc: 0.7573 - val_loss: 0.5544 - val_acc: 0.7665\n",
      "Epoch 23/100\n",
      "4364/4364 [==============================] - 1s 158us/step - loss: 0.5975 - acc: 0.7644 - val_loss: 0.5702 - val_acc: 0.7500\n",
      "Epoch 24/100\n",
      "4364/4364 [==============================] - 1s 153us/step - loss: 0.5915 - acc: 0.7651 - val_loss: 0.5492 - val_acc: 0.7720\n",
      "Epoch 25/100\n",
      "4364/4364 [==============================] - 1s 160us/step - loss: 0.5837 - acc: 0.7672 - val_loss: 0.5305 - val_acc: 0.7985\n",
      "Epoch 26/100\n",
      "4364/4364 [==============================] - 1s 161us/step - loss: 0.5767 - acc: 0.7729 - val_loss: 0.5576 - val_acc: 0.7683\n",
      "Epoch 27/100\n",
      "4364/4364 [==============================] - 1s 162us/step - loss: 0.5679 - acc: 0.7752 - val_loss: 0.5463 - val_acc: 0.7683\n",
      "Epoch 28/100\n",
      "4364/4364 [==============================] - 1s 159us/step - loss: 0.5606 - acc: 0.7809 - val_loss: 0.5593 - val_acc: 0.7619\n",
      "Epoch 29/100\n",
      "4364/4364 [==============================] - 1s 157us/step - loss: 0.5532 - acc: 0.7851 - val_loss: 0.5260 - val_acc: 0.7940\n",
      "Epoch 30/100\n",
      "4364/4364 [==============================] - 1s 162us/step - loss: 0.5449 - acc: 0.7864 - val_loss: 0.5204 - val_acc: 0.7894\n",
      "Epoch 31/100\n",
      "4364/4364 [==============================] - 1s 162us/step - loss: 0.5392 - acc: 0.7835 - val_loss: 0.5186 - val_acc: 0.7949\n",
      "Epoch 32/100\n",
      "4364/4364 [==============================] - 1s 153us/step - loss: 0.5314 - acc: 0.7917 - val_loss: 0.5242 - val_acc: 0.7912\n",
      "Epoch 33/100\n",
      "4364/4364 [==============================] - 1s 166us/step - loss: 0.5227 - acc: 0.7945 - val_loss: 0.5075 - val_acc: 0.8187\n",
      "Epoch 34/100\n",
      "4364/4364 [==============================] - 1s 158us/step - loss: 0.5155 - acc: 0.8011 - val_loss: 0.5035 - val_acc: 0.8233\n",
      "Epoch 35/100\n",
      "4364/4364 [==============================] - 1s 158us/step - loss: 0.5080 - acc: 0.8077 - val_loss: 0.5135 - val_acc: 0.8004\n",
      "Epoch 36/100\n",
      "4364/4364 [==============================] - 1s 162us/step - loss: 0.5006 - acc: 0.8112 - val_loss: 0.5044 - val_acc: 0.8132\n",
      "Epoch 37/100\n",
      "4364/4364 [==============================] - 1s 166us/step - loss: 0.4929 - acc: 0.8183 - val_loss: 0.4926 - val_acc: 0.8315\n",
      "Epoch 38/100\n",
      "4364/4364 [==============================] - 1s 173us/step - loss: 0.4858 - acc: 0.8169 - val_loss: 0.4975 - val_acc: 0.8214 0s - loss: 0.4775 - acc: 0.819\n",
      "Epoch 39/100\n",
      "4364/4364 [==============================] - 1s 163us/step - loss: 0.4784 - acc: 0.8208 - val_loss: 0.4976 - val_acc: 0.8288\n",
      "Epoch 40/100\n",
      "4364/4364 [==============================] - 1s 158us/step - loss: 0.4728 - acc: 0.8307 - val_loss: 0.4882 - val_acc: 0.8260\n",
      "Epoch 41/100\n",
      "4364/4364 [==============================] - 1s 176us/step - loss: 0.4676 - acc: 0.8233 - val_loss: 0.4854 - val_acc: 0.8352\n",
      "Epoch 42/100\n",
      "4364/4364 [==============================] - 1s 161us/step - loss: 0.4608 - acc: 0.8330 - val_loss: 0.4826 - val_acc: 0.8315\n",
      "Epoch 43/100\n",
      "4364/4364 [==============================] - 1s 168us/step - loss: 0.4536 - acc: 0.8323 - val_loss: 0.4802 - val_acc: 0.8324\n",
      "Epoch 44/100\n",
      "4364/4364 [==============================] - 1s 157us/step - loss: 0.4474 - acc: 0.8389 - val_loss: 0.4752 - val_acc: 0.8425\n",
      "Epoch 45/100\n",
      "4364/4364 [==============================] - 1s 164us/step - loss: 0.4410 - acc: 0.8430 - val_loss: 0.4777 - val_acc: 0.8425\n",
      "Epoch 46/100\n",
      "4364/4364 [==============================] - 1s 161us/step - loss: 0.4372 - acc: 0.8453 - val_loss: 0.4607 - val_acc: 0.8379\n",
      "Epoch 47/100\n",
      "4364/4364 [==============================] - 1s 170us/step - loss: 0.4307 - acc: 0.8456 - val_loss: 0.4684 - val_acc: 0.8462\n",
      "Epoch 48/100\n",
      "4364/4364 [==============================] - 1s 154us/step - loss: 0.4256 - acc: 0.8515 - val_loss: 0.4642 - val_acc: 0.8462\n",
      "Epoch 49/100\n",
      "4364/4364 [==============================] - 1s 165us/step - loss: 0.4202 - acc: 0.8517 - val_loss: 0.4597 - val_acc: 0.8452\n",
      "Epoch 50/100\n",
      "4364/4364 [==============================] - 1s 167us/step - loss: 0.4143 - acc: 0.8538 - val_loss: 0.4527 - val_acc: 0.8462\n",
      "Epoch 51/100\n",
      "4364/4364 [==============================] - 1s 172us/step - loss: 0.4109 - acc: 0.8579 - val_loss: 0.4723 - val_acc: 0.8443\n",
      "Epoch 52/100\n",
      "4364/4364 [==============================] - 1s 173us/step - loss: 0.4066 - acc: 0.8536 - val_loss: 0.4558 - val_acc: 0.8526\n",
      "Epoch 53/100\n",
      "4364/4364 [==============================] - 1s 161us/step - loss: 0.4013 - acc: 0.8588 - val_loss: 0.4586 - val_acc: 0.8498\n",
      "Epoch 54/100\n",
      "4364/4364 [==============================] - 1s 161us/step - loss: 0.3979 - acc: 0.8604 - val_loss: 0.4541 - val_acc: 0.8544\n",
      "Epoch 55/100\n",
      "4364/4364 [==============================] - 1s 160us/step - loss: 0.3930 - acc: 0.8616 - val_loss: 0.4695 - val_acc: 0.8489\n",
      "Epoch 56/100\n",
      "4364/4364 [==============================] - 1s 168us/step - loss: 0.3894 - acc: 0.8643 - val_loss: 0.4522 - val_acc: 0.8498\n",
      "Epoch 57/100\n",
      "4364/4364 [==============================] - 1s 162us/step - loss: 0.3847 - acc: 0.8653 - val_loss: 0.4378 - val_acc: 0.8507\n",
      "Epoch 58/100\n",
      "4364/4364 [==============================] - 1s 162us/step - loss: 0.3826 - acc: 0.8666 - val_loss: 0.4518 - val_acc: 0.8535\n",
      "Epoch 59/100\n"
     ]
    },
    {
     "name": "stdout",
     "output_type": "stream",
     "text": [
      "4364/4364 [==============================] - 1s 154us/step - loss: 0.3785 - acc: 0.8666 - val_loss: 0.4392 - val_acc: 0.8489\n",
      "Epoch 60/100\n",
      "4364/4364 [==============================] - 1s 149us/step - loss: 0.3757 - acc: 0.8664 - val_loss: 0.4493 - val_acc: 0.8526\n",
      "Epoch 61/100\n",
      "4364/4364 [==============================] - 1s 138us/step - loss: 0.3723 - acc: 0.8701 - val_loss: 0.4360 - val_acc: 0.8571\n",
      "Epoch 62/100\n",
      "4364/4364 [==============================] - 1s 141us/step - loss: 0.3692 - acc: 0.8719 - val_loss: 0.4370 - val_acc: 0.8617\n",
      "Epoch 63/100\n",
      "4364/4364 [==============================] - 1s 142us/step - loss: 0.3667 - acc: 0.8682 - val_loss: 0.4333 - val_acc: 0.8581\n",
      "Epoch 64/100\n",
      "4364/4364 [==============================] - 1s 157us/step - loss: 0.3635 - acc: 0.8721 - val_loss: 0.4358 - val_acc: 0.8544\n",
      "Epoch 65/100\n",
      "4364/4364 [==============================] - 1s 189us/step - loss: 0.3614 - acc: 0.8749 - val_loss: 0.4362 - val_acc: 0.8608\n",
      "Epoch 66/100\n",
      "4364/4364 [==============================] - 1s 158us/step - loss: 0.3577 - acc: 0.8774 - val_loss: 0.4294 - val_acc: 0.8626\n",
      "Epoch 67/100\n",
      "4364/4364 [==============================] - 1s 145us/step - loss: 0.3559 - acc: 0.8760 - val_loss: 0.4265 - val_acc: 0.8599\n",
      "Epoch 68/100\n",
      "4364/4364 [==============================] - 1s 145us/step - loss: 0.3533 - acc: 0.8786 - val_loss: 0.4399 - val_acc: 0.8553\n",
      "Epoch 69/100\n",
      "4364/4364 [==============================] - 1s 194us/step - loss: 0.3498 - acc: 0.8788 - val_loss: 0.4288 - val_acc: 0.8617\n",
      "Epoch 70/100\n",
      "4364/4364 [==============================] - 1s 153us/step - loss: 0.3475 - acc: 0.8799 - val_loss: 0.4342 - val_acc: 0.8617\n",
      "Epoch 71/100\n",
      "4364/4364 [==============================] - 1s 143us/step - loss: 0.3459 - acc: 0.8806 - val_loss: 0.4272 - val_acc: 0.8672\n",
      "Epoch 72/100\n",
      "4364/4364 [==============================] - 1s 144us/step - loss: 0.3429 - acc: 0.8852 - val_loss: 0.4248 - val_acc: 0.8663\n",
      "Epoch 73/100\n",
      "4364/4364 [==============================] - 1s 147us/step - loss: 0.3409 - acc: 0.8824 - val_loss: 0.4291 - val_acc: 0.8562\n",
      "Epoch 74/100\n",
      "4364/4364 [==============================] - 1s 147us/step - loss: 0.3389 - acc: 0.8859 - val_loss: 0.4205 - val_acc: 0.8663\n",
      "Epoch 75/100\n",
      "4364/4364 [==============================] - 1s 145us/step - loss: 0.3347 - acc: 0.8834 - val_loss: 0.4285 - val_acc: 0.8645\n",
      "Epoch 76/100\n",
      "4364/4364 [==============================] - 1s 141us/step - loss: 0.3351 - acc: 0.8838 - val_loss: 0.4168 - val_acc: 0.8690\n",
      "Epoch 77/100\n",
      "4364/4364 [==============================] - 1s 141us/step - loss: 0.3335 - acc: 0.8868 - val_loss: 0.4204 - val_acc: 0.8672\n",
      "Epoch 78/100\n",
      "4364/4364 [==============================] - 1s 148us/step - loss: 0.3298 - acc: 0.8843 - val_loss: 0.4172 - val_acc: 0.8718\n",
      "Epoch 79/100\n",
      "4364/4364 [==============================] - 1s 143us/step - loss: 0.3289 - acc: 0.8847 - val_loss: 0.4228 - val_acc: 0.8654\n",
      "Epoch 80/100\n",
      "4364/4364 [==============================] - 1s 145us/step - loss: 0.3282 - acc: 0.8875 - val_loss: 0.4206 - val_acc: 0.8654\n",
      "Epoch 81/100\n",
      "4364/4364 [==============================] - 1s 142us/step - loss: 0.3262 - acc: 0.8875 - val_loss: 0.4272 - val_acc: 0.8626\n",
      "Epoch 82/100\n",
      "4364/4364 [==============================] - 1s 145us/step - loss: 0.3241 - acc: 0.8882 - val_loss: 0.4200 - val_acc: 0.8681\n",
      "Epoch 83/100\n",
      "4364/4364 [==============================] - 1s 145us/step - loss: 0.3235 - acc: 0.8866 - val_loss: 0.4218 - val_acc: 0.8727\n",
      "Epoch 84/100\n",
      "4364/4364 [==============================] - 1s 142us/step - loss: 0.3221 - acc: 0.8882 - val_loss: 0.4187 - val_acc: 0.8663\n",
      "Epoch 85/100\n",
      "4364/4364 [==============================] - 1s 149us/step - loss: 0.3203 - acc: 0.8896 - val_loss: 0.4283 - val_acc: 0.8690\n",
      "Epoch 86/100\n",
      "4364/4364 [==============================] - 1s 145us/step - loss: 0.3174 - acc: 0.8923 - val_loss: 0.4173 - val_acc: 0.8718\n",
      "Epoch 87/100\n",
      "4364/4364 [==============================] - 1s 142us/step - loss: 0.3168 - acc: 0.8918 - val_loss: 0.4184 - val_acc: 0.8709\n",
      "Epoch 88/100\n",
      "4364/4364 [==============================] - 1s 149us/step - loss: 0.3165 - acc: 0.8912 - val_loss: 0.4142 - val_acc: 0.8709\n",
      "Epoch 89/100\n",
      "4364/4364 [==============================] - 1s 145us/step - loss: 0.3157 - acc: 0.8907 - val_loss: 0.4116 - val_acc: 0.8709\n",
      "Epoch 90/100\n",
      "4364/4364 [==============================] - 1s 146us/step - loss: 0.3141 - acc: 0.8939 - val_loss: 0.4263 - val_acc: 0.8626\n",
      "Epoch 91/100\n",
      "4364/4364 [==============================] - 1s 149us/step - loss: 0.3129 - acc: 0.8877 - val_loss: 0.4194 - val_acc: 0.8645\n",
      "Epoch 92/100\n",
      "4364/4364 [==============================] - 1s 145us/step - loss: 0.3134 - acc: 0.8916 - val_loss: 0.4236 - val_acc: 0.8709\n",
      "Epoch 93/100\n",
      "4364/4364 [==============================] - 1s 146us/step - loss: 0.3120 - acc: 0.8891 - val_loss: 0.4138 - val_acc: 0.8718\n",
      "Epoch 94/100\n",
      "4364/4364 [==============================] - 1s 147us/step - loss: 0.3088 - acc: 0.8916 - val_loss: 0.4190 - val_acc: 0.8608\n",
      "Epoch 95/100\n",
      "4364/4364 [==============================] - 1s 147us/step - loss: 0.3075 - acc: 0.8900 - val_loss: 0.4542 - val_acc: 0.8608\n",
      "Epoch 96/100\n",
      "4364/4364 [==============================] - 1s 146us/step - loss: 0.3077 - acc: 0.8923 - val_loss: 0.4175 - val_acc: 0.8764\n",
      "Epoch 97/100\n",
      "4364/4364 [==============================] - 1s 146us/step - loss: 0.3071 - acc: 0.8932 - val_loss: 0.4143 - val_acc: 0.8773\n",
      "Epoch 98/100\n",
      "4364/4364 [==============================] - 1s 148us/step - loss: 0.3051 - acc: 0.8914 - val_loss: 0.4170 - val_acc: 0.8709\n",
      "Epoch 99/100\n",
      "4364/4364 [==============================] - 1s 150us/step - loss: 0.3041 - acc: 0.8953 - val_loss: 0.4122 - val_acc: 0.8681\n",
      "Epoch 100/100\n",
      "4364/4364 [==============================] - 1s 145us/step - loss: 0.3029 - acc: 0.8923 - val_loss: 0.4299 - val_acc: 0.8663\n"
     ]
    },
    {
     "data": {
      "text/plain": [
       "<keras.callbacks.History at 0x1930c17c8d0>"
      ]
     },
     "execution_count": 178,
     "metadata": {},
     "output_type": "execute_result"
    }
   ],
   "source": [
    "model.fit(x_train, y_train, \n",
    "          batch_size=batch_size,\n",
    "          epochs=epochs,\n",
    "          verbose=1,\n",
    "          validation_data=(x_val, y_val))"
   ]
  }
 ],
 "metadata": {
  "kernelspec": {
   "display_name": "Python 3",
   "language": "python",
   "name": "python3"
  },
  "language_info": {
   "codemirror_mode": {
    "name": "ipython",
    "version": 3
   },
   "file_extension": ".py",
   "mimetype": "text/x-python",
   "name": "python",
   "nbconvert_exporter": "python",
   "pygments_lexer": "ipython3",
   "version": "3.6.1"
  }
 },
 "nbformat": 4,
 "nbformat_minor": 2
}
