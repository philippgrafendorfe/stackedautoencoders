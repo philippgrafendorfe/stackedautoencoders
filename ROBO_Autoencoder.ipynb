{
 "cells": [
  {
   "cell_type": "raw",
   "metadata": {},
   "source": [
    "<script>\n",
    "  jQuery(document).ready(function($) {\n",
    "\n",
    "  $(window).load(function(){\n",
    "    $('#preloader').fadeOut('slow',function(){$(this).remove();});\n",
    "  });\n",
    "\n",
    "  });\n",
    "</script>\n",
    "\n",
    "<style type=\"text/css\">\n",
    "  div#preloader { position: fixed;\n",
    "      left: 0;\n",
    "      top: 0;\n",
    "      z-index: 999;\n",
    "      width: 100%;\n",
    "      height: 100%;\n",
    "      overflow: visible;\n",
    "      background: #fff url('http://preloaders.net/preloaders/720/Moving%20line.gif') no-repeat center center;\n",
    "  }\n",
    "\n",
    "</style>\n",
    "\n",
    "<div id=\"preloader\"></div>"
   ]
  },
  {
   "cell_type": "raw",
   "metadata": {},
   "source": [
    "<script>\n",
    "  function code_toggle() {\n",
    "    if (code_shown){\n",
    "      $('div.input').hide('500');\n",
    "      $('#toggleButton').val('Show Code')\n",
    "    } else {\n",
    "      $('div.input').show('500');\n",
    "      $('#toggleButton').val('Hide Code')\n",
    "    }\n",
    "    code_shown = !code_shown\n",
    "  }\n",
    "\n",
    "  $( document ).ready(function(){\n",
    "    code_shown=false;\n",
    "    $('div.input').hide()\n",
    "  });\n",
    "</script>\n",
    "<form action=\"javascript:code_toggle()\"><input type=\"submit\" id=\"toggleButton\" value=\"Show Code\"></form>"
   ]
  },
  {
   "cell_type": "markdown",
   "metadata": {},
   "source": [
    "# Title of Database: Wall-Following navigation task with mobile robot SCITOS-G5"
   ]
  },
  {
   "cell_type": "markdown",
   "metadata": {},
   "source": [
    "The data were collected as the SCITOS G5 navigates through the room following the wall in a clockwise\n",
    "direction, for 4 rounds. To navigate, the robot uses 24 ultrasound sensors arranged circularly around its \"waist\". \n",
    "The numbering of the ultrasound sensors starts at the front of the robot and increases in clockwise direction."
   ]
  },
  {
   "cell_type": "code",
   "execution_count": 189,
   "metadata": {
    "scrolled": true
   },
   "outputs": [],
   "source": [
    "# modules\n",
    "from keras.layers import Input, Dense, Dropout\n",
    "from keras.models import Model\n",
    "from keras.datasets import mnist\n",
    "from keras.models import Sequential, load_model\n",
    "from keras.optimizers import RMSprop\n",
    "from keras.callbacks import TensorBoard\n",
    "from __future__ import print_function\n",
    "from keras.utils import plot_model\n",
    "from IPython.display import SVG\n",
    "from keras.utils.vis_utils import model_to_dot\n",
    "from sklearn import preprocessing\n",
    "from keras import layers\n",
    "from keras import initializers\n",
    "\n",
    "import keras\n",
    "import matplotlib.pyplot as plt\n",
    "import numpy as np\n",
    "import math\n",
    "import pydot\n",
    "import graphviz\n",
    "import pandas as pd\n",
    "\n",
    "%matplotlib inline"
   ]
  },
  {
   "cell_type": "markdown",
   "metadata": {},
   "source": [
    "## Import and basic data inspection"
   ]
  },
  {
   "cell_type": "code",
   "execution_count": 152,
   "metadata": {
    "collapsed": true,
    "scrolled": true
   },
   "outputs": [],
   "source": [
    "# import\n",
    "data_raw = pd.read_csv('data/sensor_readings_24.csv', sep=\",\", header=None)\n",
    "data = data_raw.copy()"
   ]
  },
  {
   "cell_type": "markdown",
   "metadata": {},
   "source": [
    "The dataframe consists of only positive values and the classes are encoded as strings in the variable with index `24`"
   ]
  },
  {
   "cell_type": "code",
   "execution_count": 153,
   "metadata": {},
   "outputs": [
    {
     "data": {
      "text/html": [
       "<div>\n",
       "<style>\n",
       "    .dataframe thead tr:only-child th {\n",
       "        text-align: right;\n",
       "    }\n",
       "\n",
       "    .dataframe thead th {\n",
       "        text-align: left;\n",
       "    }\n",
       "\n",
       "    .dataframe tbody tr th {\n",
       "        vertical-align: top;\n",
       "    }\n",
       "</style>\n",
       "<table border=\"1\" class=\"dataframe\">\n",
       "  <thead>\n",
       "    <tr style=\"text-align: right;\">\n",
       "      <th></th>\n",
       "      <th>0</th>\n",
       "      <th>1</th>\n",
       "      <th>2</th>\n",
       "      <th>3</th>\n",
       "      <th>4</th>\n",
       "      <th>5</th>\n",
       "      <th>6</th>\n",
       "      <th>7</th>\n",
       "      <th>8</th>\n",
       "      <th>9</th>\n",
       "      <th>...</th>\n",
       "      <th>15</th>\n",
       "      <th>16</th>\n",
       "      <th>17</th>\n",
       "      <th>18</th>\n",
       "      <th>19</th>\n",
       "      <th>20</th>\n",
       "      <th>21</th>\n",
       "      <th>22</th>\n",
       "      <th>23</th>\n",
       "      <th>24</th>\n",
       "    </tr>\n",
       "  </thead>\n",
       "  <tbody>\n",
       "    <tr>\n",
       "      <th>0</th>\n",
       "      <td>0.438</td>\n",
       "      <td>0.498</td>\n",
       "      <td>3.625</td>\n",
       "      <td>3.645</td>\n",
       "      <td>5.0</td>\n",
       "      <td>2.918</td>\n",
       "      <td>5.0</td>\n",
       "      <td>2.351</td>\n",
       "      <td>2.332</td>\n",
       "      <td>2.643</td>\n",
       "      <td>...</td>\n",
       "      <td>0.593</td>\n",
       "      <td>0.502</td>\n",
       "      <td>0.493</td>\n",
       "      <td>0.504</td>\n",
       "      <td>0.445</td>\n",
       "      <td>0.431</td>\n",
       "      <td>0.444</td>\n",
       "      <td>0.440</td>\n",
       "      <td>0.429</td>\n",
       "      <td>Slight-Right-Turn</td>\n",
       "    </tr>\n",
       "    <tr>\n",
       "      <th>1</th>\n",
       "      <td>0.438</td>\n",
       "      <td>0.498</td>\n",
       "      <td>3.625</td>\n",
       "      <td>3.648</td>\n",
       "      <td>5.0</td>\n",
       "      <td>2.918</td>\n",
       "      <td>5.0</td>\n",
       "      <td>2.637</td>\n",
       "      <td>2.332</td>\n",
       "      <td>2.649</td>\n",
       "      <td>...</td>\n",
       "      <td>0.592</td>\n",
       "      <td>0.502</td>\n",
       "      <td>0.493</td>\n",
       "      <td>0.504</td>\n",
       "      <td>0.449</td>\n",
       "      <td>0.431</td>\n",
       "      <td>0.444</td>\n",
       "      <td>0.443</td>\n",
       "      <td>0.429</td>\n",
       "      <td>Slight-Right-Turn</td>\n",
       "    </tr>\n",
       "    <tr>\n",
       "      <th>2</th>\n",
       "      <td>0.438</td>\n",
       "      <td>0.498</td>\n",
       "      <td>3.625</td>\n",
       "      <td>3.629</td>\n",
       "      <td>5.0</td>\n",
       "      <td>2.918</td>\n",
       "      <td>5.0</td>\n",
       "      <td>2.637</td>\n",
       "      <td>2.334</td>\n",
       "      <td>2.643</td>\n",
       "      <td>...</td>\n",
       "      <td>0.593</td>\n",
       "      <td>0.502</td>\n",
       "      <td>0.493</td>\n",
       "      <td>0.504</td>\n",
       "      <td>0.449</td>\n",
       "      <td>0.431</td>\n",
       "      <td>0.444</td>\n",
       "      <td>0.446</td>\n",
       "      <td>0.429</td>\n",
       "      <td>Slight-Right-Turn</td>\n",
       "    </tr>\n",
       "    <tr>\n",
       "      <th>3</th>\n",
       "      <td>0.437</td>\n",
       "      <td>0.501</td>\n",
       "      <td>3.625</td>\n",
       "      <td>3.626</td>\n",
       "      <td>5.0</td>\n",
       "      <td>2.918</td>\n",
       "      <td>5.0</td>\n",
       "      <td>2.353</td>\n",
       "      <td>2.334</td>\n",
       "      <td>2.642</td>\n",
       "      <td>...</td>\n",
       "      <td>0.593</td>\n",
       "      <td>0.502</td>\n",
       "      <td>0.493</td>\n",
       "      <td>0.504</td>\n",
       "      <td>0.449</td>\n",
       "      <td>0.431</td>\n",
       "      <td>0.444</td>\n",
       "      <td>0.444</td>\n",
       "      <td>0.429</td>\n",
       "      <td>Slight-Right-Turn</td>\n",
       "    </tr>\n",
       "    <tr>\n",
       "      <th>4</th>\n",
       "      <td>0.438</td>\n",
       "      <td>0.498</td>\n",
       "      <td>3.626</td>\n",
       "      <td>3.629</td>\n",
       "      <td>5.0</td>\n",
       "      <td>2.918</td>\n",
       "      <td>5.0</td>\n",
       "      <td>2.640</td>\n",
       "      <td>2.334</td>\n",
       "      <td>2.639</td>\n",
       "      <td>...</td>\n",
       "      <td>0.592</td>\n",
       "      <td>0.502</td>\n",
       "      <td>0.493</td>\n",
       "      <td>0.504</td>\n",
       "      <td>0.449</td>\n",
       "      <td>0.431</td>\n",
       "      <td>0.444</td>\n",
       "      <td>0.441</td>\n",
       "      <td>0.429</td>\n",
       "      <td>Slight-Right-Turn</td>\n",
       "    </tr>\n",
       "  </tbody>\n",
       "</table>\n",
       "<p>5 rows × 25 columns</p>\n",
       "</div>"
      ],
      "text/plain": [
       "      0      1      2      3    4      5    6      7      8      9   \\\n",
       "0  0.438  0.498  3.625  3.645  5.0  2.918  5.0  2.351  2.332  2.643   \n",
       "1  0.438  0.498  3.625  3.648  5.0  2.918  5.0  2.637  2.332  2.649   \n",
       "2  0.438  0.498  3.625  3.629  5.0  2.918  5.0  2.637  2.334  2.643   \n",
       "3  0.437  0.501  3.625  3.626  5.0  2.918  5.0  2.353  2.334  2.642   \n",
       "4  0.438  0.498  3.626  3.629  5.0  2.918  5.0  2.640  2.334  2.639   \n",
       "\n",
       "         ...             15     16     17     18     19     20     21     22  \\\n",
       "0        ...          0.593  0.502  0.493  0.504  0.445  0.431  0.444  0.440   \n",
       "1        ...          0.592  0.502  0.493  0.504  0.449  0.431  0.444  0.443   \n",
       "2        ...          0.593  0.502  0.493  0.504  0.449  0.431  0.444  0.446   \n",
       "3        ...          0.593  0.502  0.493  0.504  0.449  0.431  0.444  0.444   \n",
       "4        ...          0.592  0.502  0.493  0.504  0.449  0.431  0.444  0.441   \n",
       "\n",
       "      23                 24  \n",
       "0  0.429  Slight-Right-Turn  \n",
       "1  0.429  Slight-Right-Turn  \n",
       "2  0.429  Slight-Right-Turn  \n",
       "3  0.429  Slight-Right-Turn  \n",
       "4  0.429  Slight-Right-Turn  \n",
       "\n",
       "[5 rows x 25 columns]"
      ]
     },
     "execution_count": 153,
     "metadata": {},
     "output_type": "execute_result"
    }
   ],
   "source": [
    "data.head()"
   ]
  },
  {
   "cell_type": "markdown",
   "metadata": {},
   "source": [
    "Whats the distribution of the classes?"
   ]
  },
  {
   "cell_type": "code",
   "execution_count": 154,
   "metadata": {},
   "outputs": [
    {
     "data": {
      "text/html": [
       "<div>\n",
       "<style>\n",
       "    .dataframe thead tr:only-child th {\n",
       "        text-align: right;\n",
       "    }\n",
       "\n",
       "    .dataframe thead th {\n",
       "        text-align: left;\n",
       "    }\n",
       "\n",
       "    .dataframe tbody tr th {\n",
       "        vertical-align: top;\n",
       "    }\n",
       "</style>\n",
       "<table border=\"1\" class=\"dataframe\">\n",
       "  <thead>\n",
       "    <tr style=\"text-align: right;\">\n",
       "      <th>col_0</th>\n",
       "      <th>frequency</th>\n",
       "    </tr>\n",
       "    <tr>\n",
       "      <th>Class/Direction</th>\n",
       "      <th></th>\n",
       "    </tr>\n",
       "  </thead>\n",
       "  <tbody>\n",
       "    <tr>\n",
       "      <th>Move-Forward</th>\n",
       "      <td>0.404142</td>\n",
       "    </tr>\n",
       "    <tr>\n",
       "      <th>Sharp-Right-Turn</th>\n",
       "      <td>0.384348</td>\n",
       "    </tr>\n",
       "    <tr>\n",
       "      <th>Slight-Left-Turn</th>\n",
       "      <td>0.060117</td>\n",
       "    </tr>\n",
       "    <tr>\n",
       "      <th>Slight-Right-Turn</th>\n",
       "      <td>0.151393</td>\n",
       "    </tr>\n",
       "  </tbody>\n",
       "</table>\n",
       "</div>"
      ],
      "text/plain": [
       "col_0              frequency\n",
       "Class/Direction             \n",
       "Move-Forward        0.404142\n",
       "Sharp-Right-Turn    0.384348\n",
       "Slight-Left-Turn    0.060117\n",
       "Slight-Right-Turn   0.151393"
      ]
     },
     "execution_count": 154,
     "metadata": {},
     "output_type": "execute_result"
    }
   ],
   "source": [
    "df_tab = data_raw\n",
    "df_tab[24] = df_tab[24].astype('category')\n",
    "tab = pd.crosstab(index=df_tab[24], columns=\"frequency\")\n",
    "tab.index.name = 'Class/Direction'\n",
    "tab/tab.sum()"
   ]
  },
  {
   "cell_type": "markdown",
   "metadata": {},
   "source": [
    "The `Move_Forward` and the `Sharp-Right-Turn` Class combine nearly 80% of all observated classes. So it might happen, that the accuracy may still be high with around 75% although most of the features are eliminated."
   ]
  },
  {
   "cell_type": "markdown",
   "metadata": {},
   "source": [
    "## Preprocessing"
   ]
  },
  {
   "cell_type": "markdown",
   "metadata": {},
   "source": [
    "**0. Mapping integer values to the classes.**"
   ]
  },
  {
   "cell_type": "code",
   "execution_count": 155,
   "metadata": {
    "collapsed": true
   },
   "outputs": [],
   "source": [
    "mapping = {key: value for (key, value) in zip(data[24].unique(), range(len(data[24].unique())))}\n",
    "data.replace({24:mapping}, inplace=True)"
   ]
  },
  {
   "cell_type": "code",
   "execution_count": 156,
   "metadata": {},
   "outputs": [
    {
     "data": {
      "text/plain": [
       "array([0, 1, 2, 3], dtype=int64)"
      ]
     },
     "execution_count": 156,
     "metadata": {},
     "output_type": "execute_result"
    }
   ],
   "source": [
    "data[24].unique()"
   ]
  },
  {
   "cell_type": "markdown",
   "metadata": {},
   "source": [
    "**1. Take a random sample of 90% of the rows from the dataframe. To ensure reproducability the `random_state` variable is set. The other 10% are placed aside for validation after training. The last column is the class column and is stored in the y variables respectively.**"
   ]
  },
  {
   "cell_type": "code",
   "execution_count": 157,
   "metadata": {
    "collapsed": true
   },
   "outputs": [],
   "source": [
    "data_train = data.sample(frac=0.9, random_state=42)\n",
    "data_val = data.drop(data_train.index)\n",
    "\n",
    "df_x_train = data_train.iloc[:,:-1]\n",
    "df_y_train = data_train.iloc[:,-1]\n",
    "\n",
    "df_x_val = data_val.iloc[:,:-1]\n",
    "df_y_val = data_val.iloc[:,-1]"
   ]
  },
  {
   "cell_type": "markdown",
   "metadata": {},
   "source": [
    "**2. Normalization between 0 and 1**"
   ]
  },
  {
   "cell_type": "code",
   "execution_count": 158,
   "metadata": {
    "collapsed": true,
    "scrolled": true
   },
   "outputs": [],
   "source": [
    "x_train = df_x_train.values\n",
    "x_train = (x_train - x_train.min()) / (x_train.max() - x_train.min())\n",
    "y_train = df_y_train.values\n",
    "\n",
    "x_val = df_x_val.values\n",
    "x_val = (x_val - x_val.min()) / (x_val.max() - x_val.min())\n",
    "y_val = df_y_val.values"
   ]
  },
  {
   "cell_type": "markdown",
   "metadata": {},
   "source": [
    "**3. Make useful categorical variables out of the single column data by one-hot encoding it.**"
   ]
  },
  {
   "cell_type": "code",
   "execution_count": 159,
   "metadata": {
    "collapsed": true,
    "scrolled": true
   },
   "outputs": [],
   "source": [
    "y_train = keras.utils.to_categorical(y_train, 4)\n",
    "y_val = keras.utils.to_categorical(y_val, 4)"
   ]
  },
  {
   "cell_type": "markdown",
   "metadata": {},
   "source": [
    "** 4. Set Global Parameters**"
   ]
  },
  {
   "cell_type": "code",
   "execution_count": null,
   "metadata": {
    "collapsed": true
   },
   "outputs": [],
   "source": [
    "epochsize = 150\n",
    "batchsize = 24\n",
    "shuffle = False\n",
    "# Boolean (whether to shuffle the training data before each epoch) or str (for 'batch'). \n",
    "# shuffle only works with sequential models and might slightly improve the result.\n",
    "dropout = 0.1\n",
    "num_classes = 4"
   ]
  },
  {
   "cell_type": "markdown",
   "metadata": {},
   "source": [
    "## Train Neural Net"
   ]
  },
  {
   "cell_type": "markdown",
   "metadata": {},
   "source": [
    "*Due to a tight schedule we will not perform any cross validation. So it might happen that our accuracy estimators lack a little bit in potential of generalization. We shall live with that. Another setup of experiments would be, that we loop over some different dataframes samples up in the preprocessing steps and repeat all the steps below to finally average the results.*"
   ]
  },
  {
   "cell_type": "markdown",
   "metadata": {},
   "source": [
    "The dimension of the hidden layers are set arbitrarily but some runs have shown that 30 is a good number. The `input_dim` Variable is set to 24 because initially there are 24 features. The aim is to build the best possible neural net."
   ]
  },
  {
   "cell_type": "markdown",
   "metadata": {},
   "source": [
    "#### Optimizer"
   ]
  },
  {
   "cell_type": "markdown",
   "metadata": {},
   "source": [
    "RMSprop is a mini batch gradient descent algorithm which divides the gradient by a running average of the learning rate. More information: http://www.cs.toronto.edu/~tijmen/csc321/slides/lecture_slides_lec6.pdf"
   ]
  },
  {
   "cell_type": "markdown",
   "metadata": {},
   "source": [
    "The weights are initialized by a normal distribution with mean 0 and standard deviation of 0.05."
   ]
  },
  {
   "cell_type": "code",
   "execution_count": 186,
   "metadata": {
    "collapsed": true,
    "scrolled": true
   },
   "outputs": [],
   "source": [
    "# constants\n",
    "input_dim = x_train.shape[1]\n",
    "hidden1_dim = 30\n",
    "hidden2_dim = 30"
   ]
  },
  {
   "cell_type": "code",
   "execution_count": 195,
   "metadata": {
    "scrolled": true
   },
   "outputs": [
    {
     "name": "stdout",
     "output_type": "stream",
     "text": [
      "546/546 [==============================] - 0s 131us/step\n",
      "[0.95421245421245426]\n",
      "546/546 [==============================] - 0s 153us/step\n",
      "[0.95421245421245426, 0.94688644688644685]\n",
      "546/546 [==============================] - 0s 123us/step\n",
      "[0.95421245421245426, 0.94688644688644685, 0.94871794871794868]\n"
     ]
    }
   ],
   "source": [
    "result1 = []\n",
    "\n",
    "for i in range(1,4):\n",
    "    model = Sequential()\n",
    "    model.add(Dense(hidden1_dim, activation='relu', input_shape=(input_dim,), kernel_initializer='normal'))\n",
    "    model.add(Dropout(dropout))\n",
    "    model.add(Dense(hidden2_dim, activation='relu', kernel_initializer='normal'))\n",
    "    model.add(Dropout(dropout))\n",
    "    model.add(Dense(num_classes, activation='softmax', kernel_initializer='normal'))\n",
    "\n",
    "    model.compile(loss='categorical_crossentropy',\n",
    "                  optimizer=RMSprop(),\n",
    "                  metrics=['accuracy'])\n",
    "\n",
    "    model.fit(x_train, y_train, \n",
    "              batch_size=batchsize,\n",
    "              epochs=epochsize,\n",
    "              verbose=0,\n",
    "              shuffle=shuffle,\n",
    "              validation_split=0.1)\n",
    "    score = model.evaluate(x_val, y_val)[1]\n",
    "    result1.append(score)\n",
    "    print(result1)"
   ]
  },
  {
   "cell_type": "markdown",
   "metadata": {},
   "source": [
    "#### Model Summary"
   ]
  },
  {
   "cell_type": "code",
   "execution_count": 144,
   "metadata": {},
   "outputs": [
    {
     "name": "stdout",
     "output_type": "stream",
     "text": [
      "_________________________________________________________________\n",
      "Layer (type)                 Output Shape              Param #   \n",
      "=================================================================\n",
      "dense_640 (Dense)            (None, 30)                750       \n",
      "_________________________________________________________________\n",
      "dropout_5 (Dropout)          (None, 30)                0         \n",
      "_________________________________________________________________\n",
      "dense_641 (Dense)            (None, 30)                930       \n",
      "_________________________________________________________________\n",
      "dropout_6 (Dropout)          (None, 30)                0         \n",
      "_________________________________________________________________\n",
      "dense_642 (Dense)            (None, 4)                 124       \n",
      "=================================================================\n",
      "Total params: 1,804\n",
      "Trainable params: 1,804\n",
      "Non-trainable params: 0\n",
      "_________________________________________________________________\n"
     ]
    }
   ],
   "source": [
    "model.summary()"
   ]
  },
  {
   "cell_type": "markdown",
   "metadata": {},
   "source": [
    "#### Architecture"
   ]
  },
  {
   "cell_type": "code",
   "execution_count": 148,
   "metadata": {
    "collapsed": true
   },
   "outputs": [],
   "source": [
    "plot_model(model, to_file='images/robo1_nn.png', show_shapes=True, show_layer_names=True, rankdir='LR')"
   ]
  },
  {
   "cell_type": "markdown",
   "metadata": {},
   "source": [
    "![MNIST Neural Net](images/robo1_nn.png)"
   ]
  },
  {
   "cell_type": "code",
   "execution_count": 196,
   "metadata": {},
   "outputs": [
    {
     "name": "stdout",
     "output_type": "stream",
     "text": [
      "0.949938949939\n"
     ]
    }
   ],
   "source": [
    "print(np.mean(result1))"
   ]
  },
  {
   "cell_type": "markdown",
   "metadata": {},
   "source": [
    "The \"Pseudo- Cross Validation\" gives a result of about 94% accuracy for a feed forward network. This shall be our benchmark for feature selection."
   ]
  },
  {
   "cell_type": "markdown",
   "metadata": {},
   "source": [
    "## Finding good features"
   ]
  },
  {
   "cell_type": "markdown",
   "metadata": {},
   "source": [
    "\"Is there a good number of features for the Robo- Dataset?\" For that we create a loop over some numbers (i.e. dimension of hidden layer from the single autoencoder) and get the respective result."
   ]
  },
  {
   "cell_type": "markdown",
   "metadata": {},
   "source": [
    "The architecture within those loops is quite special. For that we recommend to have a look at the neural net visualization below."
   ]
  },
  {
   "cell_type": "markdown",
   "metadata": {},
   "source": [
    "#### The parameters for the ensemble training"
   ]
  },
  {
   "cell_type": "code",
   "execution_count": 200,
   "metadata": {
    "collapsed": true
   },
   "outputs": [],
   "source": [
    "# the initial coding dimension s.t. there is no feature selection at the beginning\n",
    "encoding_dim = 24\n",
    "# dimension of the neural net layer1\n",
    "hidden1_dim = 30\n",
    "# dimension of the second neural net layer\n",
    "hidden2_dim = 30\n",
    "epoch_size = 150\n",
    "batch_size = 24\n",
    "shuffle = False\n",
    "result2 = {'encoding_dim/features': []\n",
    "           ,'compression_level': []\n",
    "           ,'auto_classifier_acc': []\n",
    "           ,'selected_classifier_acc': []\n",
    "           ,'features': []}"
   ]
  },
  {
   "cell_type": "markdown",
   "metadata": {},
   "source": [
    "The idea is:\n",
    "- reduce the number of features `encoding_dim` iteratively by training an auto_classifier network\n",
    "- after training, the weights of the first layer are analyzed.\n",
    "- therefore sum up the weights for each input node and take the `encoding_dim` number as new features\n",
    "- test the new features with the pre- defined neural net and see which selection is best."
   ]
  },
  {
   "cell_type": "code",
   "execution_count": 201,
   "metadata": {
    "scrolled": true
   },
   "outputs": [
    {
     "name": "stdout",
     "output_type": "stream",
     "text": [
      "546/546 [==============================] - 0s 114us/step\n",
      "546/546 [==============================] - 0s 88us/step\n",
      "{'encoding_dim/features': [24], 'compression_level': [0.0], 'auto_classifier_acc': [0.91575091575091572], 'selected_classifier_acc': [0.93223443223443225], 'features': [[12, 10, 8, 6, 1, 20, 4, 3, 5, 22, 21, 7, 9, 15, 2, 11, 0, 16, 23, 13, 19, 18, 14, 17]]}\n",
      "546/546 [==============================] - 0s 86us/step\n",
      "546/546 [==============================] - 0s 86us/step\n",
      "{'encoding_dim/features': [24, 23], 'compression_level': [0.0, 0.04166666666666663], 'auto_classifier_acc': [0.91575091575091572, 0.9432234432234432], 'selected_classifier_acc': [0.93223443223443225, 0.92490842490842495], 'features': [[12, 10, 8, 6, 1, 20, 4, 3, 5, 22, 21, 7, 9, 15, 2, 11, 0, 16, 23, 13, 19, 18, 14, 17], [12, 8, 20, 7, 11, 6, 10, 15, 4, 21, 22, 1, 5, 3, 9, 2, 0, 23, 13, 17, 18, 16, 14]]}\n",
      "546/546 [==============================] - 0s 114us/step\n",
      "546/546 [==============================] - 0s 86us/step\n",
      "{'encoding_dim/features': [24, 23, 22], 'compression_level': [0.0, 0.04166666666666663, 0.08333333333333337], 'auto_classifier_acc': [0.91575091575091572, 0.9432234432234432, 0.92490842490842495], 'selected_classifier_acc': [0.93223443223443225, 0.92490842490842495, 0.91941391941391937], 'features': [[12, 10, 8, 6, 1, 20, 4, 3, 5, 22, 21, 7, 9, 15, 2, 11, 0, 16, 23, 13, 19, 18, 14, 17], [12, 8, 20, 7, 11, 6, 10, 15, 4, 21, 22, 1, 5, 3, 9, 2, 0, 23, 13, 17, 18, 16, 14], [8, 12, 6, 20, 1, 21, 7, 2, 4, 5, 3, 10, 9, 22, 13, 0, 11, 15, 23, 16, 14, 17]]}\n",
      "546/546 [==============================] - 0s 86us/step\n",
      "546/546 [==============================] - 0s 64us/step\n",
      "{'encoding_dim/features': [24, 23, 22, 21], 'compression_level': [0.0, 0.04166666666666663, 0.08333333333333337, 0.125], 'auto_classifier_acc': [0.91575091575091572, 0.9432234432234432, 0.92490842490842495, 0.90476190476190477], 'selected_classifier_acc': [0.93223443223443225, 0.92490842490842495, 0.91941391941391937, 0.85347985347985345], 'features': [[12, 10, 8, 6, 1, 20, 4, 3, 5, 22, 21, 7, 9, 15, 2, 11, 0, 16, 23, 13, 19, 18, 14, 17], [12, 8, 20, 7, 11, 6, 10, 15, 4, 21, 22, 1, 5, 3, 9, 2, 0, 23, 13, 17, 18, 16, 14], [8, 12, 6, 20, 1, 21, 7, 2, 4, 5, 3, 10, 9, 22, 13, 0, 11, 15, 23, 16, 14, 17], [20, 8, 12, 2, 6, 3, 5, 1, 10, 13, 21, 4, 7, 0, 23, 22, 9, 15, 19, 11, 16]]}\n",
      "546/546 [==============================] - 0s 86us/step\n",
      "546/546 [==============================] - 0s 110us/step\n",
      "{'encoding_dim/features': [24, 23, 22, 21, 20], 'compression_level': [0.0, 0.04166666666666663, 0.08333333333333337, 0.125, 0.16666666666666663], 'auto_classifier_acc': [0.91575091575091572, 0.9432234432234432, 0.92490842490842495, 0.90476190476190477, 0.92124542124542119], 'selected_classifier_acc': [0.93223443223443225, 0.92490842490842495, 0.91941391941391937, 0.85347985347985345, 0.88827838827838823], 'features': [[12, 10, 8, 6, 1, 20, 4, 3, 5, 22, 21, 7, 9, 15, 2, 11, 0, 16, 23, 13, 19, 18, 14, 17], [12, 8, 20, 7, 11, 6, 10, 15, 4, 21, 22, 1, 5, 3, 9, 2, 0, 23, 13, 17, 18, 16, 14], [8, 12, 6, 20, 1, 21, 7, 2, 4, 5, 3, 10, 9, 22, 13, 0, 11, 15, 23, 16, 14, 17], [20, 8, 12, 2, 6, 3, 5, 1, 10, 13, 21, 4, 7, 0, 23, 22, 9, 15, 19, 11, 16], [12, 8, 4, 6, 10, 5, 3, 21, 9, 2, 7, 1, 22, 20, 0, 23, 13, 15, 11, 14]]}\n",
      "546/546 [==============================] - 0s 114us/step\n",
      "546/546 [==============================] - 0s 86us/step\n",
      "{'encoding_dim/features': [24, 23, 22, 21, 20, 19], 'compression_level': [0.0, 0.04166666666666663, 0.08333333333333337, 0.125, 0.16666666666666663, 0.20833333333333337], 'auto_classifier_acc': [0.91575091575091572, 0.9432234432234432, 0.92490842490842495, 0.90476190476190477, 0.92124542124542119, 0.92124542124542119], 'selected_classifier_acc': [0.93223443223443225, 0.92490842490842495, 0.91941391941391937, 0.85347985347985345, 0.88827838827838823, 0.83699633699633702], 'features': [[12, 10, 8, 6, 1, 20, 4, 3, 5, 22, 21, 7, 9, 15, 2, 11, 0, 16, 23, 13, 19, 18, 14, 17], [12, 8, 20, 7, 11, 6, 10, 15, 4, 21, 22, 1, 5, 3, 9, 2, 0, 23, 13, 17, 18, 16, 14], [8, 12, 6, 20, 1, 21, 7, 2, 4, 5, 3, 10, 9, 22, 13, 0, 11, 15, 23, 16, 14, 17], [20, 8, 12, 2, 6, 3, 5, 1, 10, 13, 21, 4, 7, 0, 23, 22, 9, 15, 19, 11, 16], [12, 8, 4, 6, 10, 5, 3, 21, 9, 2, 7, 1, 22, 20, 0, 23, 13, 15, 11, 14], [12, 8, 4, 6, 2, 5, 7, 21, 1, 3, 20, 9, 22, 10, 0, 15, 13, 11, 23]]}\n",
      "546/546 [==============================] - 0s 109us/step\n",
      "546/546 [==============================] - 0s 86us/step\n",
      "{'encoding_dim/features': [24, 23, 22, 21, 20, 19, 18], 'compression_level': [0.0, 0.04166666666666663, 0.08333333333333337, 0.125, 0.16666666666666663, 0.20833333333333337, 0.25], 'auto_classifier_acc': [0.91575091575091572, 0.9432234432234432, 0.92490842490842495, 0.90476190476190477, 0.92124542124542119, 0.92124542124542119, 0.91391941391941389], 'selected_classifier_acc': [0.93223443223443225, 0.92490842490842495, 0.91941391941391937, 0.85347985347985345, 0.88827838827838823, 0.83699633699633702, 0.80402930402930406], 'features': [[12, 10, 8, 6, 1, 20, 4, 3, 5, 22, 21, 7, 9, 15, 2, 11, 0, 16, 23, 13, 19, 18, 14, 17], [12, 8, 20, 7, 11, 6, 10, 15, 4, 21, 22, 1, 5, 3, 9, 2, 0, 23, 13, 17, 18, 16, 14], [8, 12, 6, 20, 1, 21, 7, 2, 4, 5, 3, 10, 9, 22, 13, 0, 11, 15, 23, 16, 14, 17], [20, 8, 12, 2, 6, 3, 5, 1, 10, 13, 21, 4, 7, 0, 23, 22, 9, 15, 19, 11, 16], [12, 8, 4, 6, 10, 5, 3, 21, 9, 2, 7, 1, 22, 20, 0, 23, 13, 15, 11, 14], [12, 8, 4, 6, 2, 5, 7, 21, 1, 3, 20, 9, 22, 10, 0, 15, 13, 11, 23], [8, 12, 6, 1, 2, 5, 7, 4, 3, 10, 9, 21, 0, 20, 15, 22, 11, 23]]}\n",
      "546/546 [==============================] - 0s 114us/step\n",
      "546/546 [==============================] - 0s 86us/step\n",
      "{'encoding_dim/features': [24, 23, 22, 21, 20, 19, 18, 17], 'compression_level': [0.0, 0.04166666666666663, 0.08333333333333337, 0.125, 0.16666666666666663, 0.20833333333333337, 0.25, 0.29166666666666663], 'auto_classifier_acc': [0.91575091575091572, 0.9432234432234432, 0.92490842490842495, 0.90476190476190477, 0.92124542124542119, 0.92124542124542119, 0.91391941391941389, 0.90293040293040294], 'selected_classifier_acc': [0.93223443223443225, 0.92490842490842495, 0.91941391941391937, 0.85347985347985345, 0.88827838827838823, 0.83699633699633702, 0.80402930402930406, 0.79670329670329665], 'features': [[12, 10, 8, 6, 1, 20, 4, 3, 5, 22, 21, 7, 9, 15, 2, 11, 0, 16, 23, 13, 19, 18, 14, 17], [12, 8, 20, 7, 11, 6, 10, 15, 4, 21, 22, 1, 5, 3, 9, 2, 0, 23, 13, 17, 18, 16, 14], [8, 12, 6, 20, 1, 21, 7, 2, 4, 5, 3, 10, 9, 22, 13, 0, 11, 15, 23, 16, 14, 17], [20, 8, 12, 2, 6, 3, 5, 1, 10, 13, 21, 4, 7, 0, 23, 22, 9, 15, 19, 11, 16], [12, 8, 4, 6, 10, 5, 3, 21, 9, 2, 7, 1, 22, 20, 0, 23, 13, 15, 11, 14], [12, 8, 4, 6, 2, 5, 7, 21, 1, 3, 20, 9, 22, 10, 0, 15, 13, 11, 23], [8, 12, 6, 1, 2, 5, 7, 4, 3, 10, 9, 21, 0, 20, 15, 22, 11, 23], [8, 12, 4, 6, 3, 2, 20, 5, 1, 11, 21, 15, 7, 10, 9, 22, 0]]}\n",
      "546/546 [==============================] - 0s 114us/step\n",
      "546/546 [==============================] - 0s 114us/step\n",
      "{'encoding_dim/features': [24, 23, 22, 21, 20, 19, 18, 17, 16], 'compression_level': [0.0, 0.04166666666666663, 0.08333333333333337, 0.125, 0.16666666666666663, 0.20833333333333337, 0.25, 0.29166666666666663, 0.33333333333333337], 'auto_classifier_acc': [0.91575091575091572, 0.9432234432234432, 0.92490842490842495, 0.90476190476190477, 0.92124542124542119, 0.92124542124542119, 0.91391941391941389, 0.90293040293040294, 0.93772893772893773], 'selected_classifier_acc': [0.93223443223443225, 0.92490842490842495, 0.91941391941391937, 0.85347985347985345, 0.88827838827838823, 0.83699633699633702, 0.80402930402930406, 0.79670329670329665, 0.80219780219780223], 'features': [[12, 10, 8, 6, 1, 20, 4, 3, 5, 22, 21, 7, 9, 15, 2, 11, 0, 16, 23, 13, 19, 18, 14, 17], [12, 8, 20, 7, 11, 6, 10, 15, 4, 21, 22, 1, 5, 3, 9, 2, 0, 23, 13, 17, 18, 16, 14], [8, 12, 6, 20, 1, 21, 7, 2, 4, 5, 3, 10, 9, 22, 13, 0, 11, 15, 23, 16, 14, 17], [20, 8, 12, 2, 6, 3, 5, 1, 10, 13, 21, 4, 7, 0, 23, 22, 9, 15, 19, 11, 16], [12, 8, 4, 6, 10, 5, 3, 21, 9, 2, 7, 1, 22, 20, 0, 23, 13, 15, 11, 14], [12, 8, 4, 6, 2, 5, 7, 21, 1, 3, 20, 9, 22, 10, 0, 15, 13, 11, 23], [8, 12, 6, 1, 2, 5, 7, 4, 3, 10, 9, 21, 0, 20, 15, 22, 11, 23], [8, 12, 4, 6, 3, 2, 20, 5, 1, 11, 21, 15, 7, 10, 9, 22, 0], [8, 12, 1, 6, 2, 4, 3, 7, 9, 10, 20, 22, 5, 15, 21, 11]]}\n"
     ]
    },
    {
     "name": "stdout",
     "output_type": "stream",
     "text": [
      "546/546 [==============================] - 0s 86us/step\n",
      "546/546 [==============================] - 0s 114us/step\n",
      "{'encoding_dim/features': [24, 23, 22, 21, 20, 19, 18, 17, 16, 15], 'compression_level': [0.0, 0.04166666666666663, 0.08333333333333337, 0.125, 0.16666666666666663, 0.20833333333333337, 0.25, 0.29166666666666663, 0.33333333333333337, 0.375], 'auto_classifier_acc': [0.91575091575091572, 0.9432234432234432, 0.92490842490842495, 0.90476190476190477, 0.92124542124542119, 0.92124542124542119, 0.91391941391941389, 0.90293040293040294, 0.93772893772893773, 0.91758241758241754], 'selected_classifier_acc': [0.93223443223443225, 0.92490842490842495, 0.91941391941391937, 0.85347985347985345, 0.88827838827838823, 0.83699633699633702, 0.80402930402930406, 0.79670329670329665, 0.80219780219780223, 0.80402930402930406], 'features': [[12, 10, 8, 6, 1, 20, 4, 3, 5, 22, 21, 7, 9, 15, 2, 11, 0, 16, 23, 13, 19, 18, 14, 17], [12, 8, 20, 7, 11, 6, 10, 15, 4, 21, 22, 1, 5, 3, 9, 2, 0, 23, 13, 17, 18, 16, 14], [8, 12, 6, 20, 1, 21, 7, 2, 4, 5, 3, 10, 9, 22, 13, 0, 11, 15, 23, 16, 14, 17], [20, 8, 12, 2, 6, 3, 5, 1, 10, 13, 21, 4, 7, 0, 23, 22, 9, 15, 19, 11, 16], [12, 8, 4, 6, 10, 5, 3, 21, 9, 2, 7, 1, 22, 20, 0, 23, 13, 15, 11, 14], [12, 8, 4, 6, 2, 5, 7, 21, 1, 3, 20, 9, 22, 10, 0, 15, 13, 11, 23], [8, 12, 6, 1, 2, 5, 7, 4, 3, 10, 9, 21, 0, 20, 15, 22, 11, 23], [8, 12, 4, 6, 3, 2, 20, 5, 1, 11, 21, 15, 7, 10, 9, 22, 0], [8, 12, 1, 6, 2, 4, 3, 7, 9, 10, 20, 22, 5, 15, 21, 11], [4, 22, 8, 6, 1, 3, 10, 0, 2, 20, 5, 9, 12, 7, 11]]}\n",
      "546/546 [==============================] - 0s 114us/step\n",
      "546/546 [==============================] - 0s 86us/step\n",
      "{'encoding_dim/features': [24, 23, 22, 21, 20, 19, 18, 17, 16, 15, 14], 'compression_level': [0.0, 0.04166666666666663, 0.08333333333333337, 0.125, 0.16666666666666663, 0.20833333333333337, 0.25, 0.29166666666666663, 0.33333333333333337, 0.375, 0.41666666666666663], 'auto_classifier_acc': [0.91575091575091572, 0.9432234432234432, 0.92490842490842495, 0.90476190476190477, 0.92124542124542119, 0.92124542124542119, 0.91391941391941389, 0.90293040293040294, 0.93772893772893773, 0.91758241758241754, 0.93223443223443225], 'selected_classifier_acc': [0.93223443223443225, 0.92490842490842495, 0.91941391941391937, 0.85347985347985345, 0.88827838827838823, 0.83699633699633702, 0.80402930402930406, 0.79670329670329665, 0.80219780219780223, 0.80402930402930406, 0.81135531135531136], 'features': [[12, 10, 8, 6, 1, 20, 4, 3, 5, 22, 21, 7, 9, 15, 2, 11, 0, 16, 23, 13, 19, 18, 14, 17], [12, 8, 20, 7, 11, 6, 10, 15, 4, 21, 22, 1, 5, 3, 9, 2, 0, 23, 13, 17, 18, 16, 14], [8, 12, 6, 20, 1, 21, 7, 2, 4, 5, 3, 10, 9, 22, 13, 0, 11, 15, 23, 16, 14, 17], [20, 8, 12, 2, 6, 3, 5, 1, 10, 13, 21, 4, 7, 0, 23, 22, 9, 15, 19, 11, 16], [12, 8, 4, 6, 10, 5, 3, 21, 9, 2, 7, 1, 22, 20, 0, 23, 13, 15, 11, 14], [12, 8, 4, 6, 2, 5, 7, 21, 1, 3, 20, 9, 22, 10, 0, 15, 13, 11, 23], [8, 12, 6, 1, 2, 5, 7, 4, 3, 10, 9, 21, 0, 20, 15, 22, 11, 23], [8, 12, 4, 6, 3, 2, 20, 5, 1, 11, 21, 15, 7, 10, 9, 22, 0], [8, 12, 1, 6, 2, 4, 3, 7, 9, 10, 20, 22, 5, 15, 21, 11], [4, 22, 8, 6, 1, 3, 10, 0, 2, 20, 5, 9, 12, 7, 11], [8, 12, 6, 4, 9, 10, 3, 20, 1, 5, 2, 7, 21, 15]]}\n",
      "546/546 [==============================] - 0s 86us/step\n",
      "546/546 [==============================] - 0s 86us/step\n",
      "{'encoding_dim/features': [24, 23, 22, 21, 20, 19, 18, 17, 16, 15, 14, 13], 'compression_level': [0.0, 0.04166666666666663, 0.08333333333333337, 0.125, 0.16666666666666663, 0.20833333333333337, 0.25, 0.29166666666666663, 0.33333333333333337, 0.375, 0.41666666666666663, 0.45833333333333337], 'auto_classifier_acc': [0.91575091575091572, 0.9432234432234432, 0.92490842490842495, 0.90476190476190477, 0.92124542124542119, 0.92124542124542119, 0.91391941391941389, 0.90293040293040294, 0.93772893772893773, 0.91758241758241754, 0.93223443223443225, 0.91941391941391937], 'selected_classifier_acc': [0.93223443223443225, 0.92490842490842495, 0.91941391941391937, 0.85347985347985345, 0.88827838827838823, 0.83699633699633702, 0.80402930402930406, 0.79670329670329665, 0.80219780219780223, 0.80402930402930406, 0.81135531135531136, 0.80586080586080588], 'features': [[12, 10, 8, 6, 1, 20, 4, 3, 5, 22, 21, 7, 9, 15, 2, 11, 0, 16, 23, 13, 19, 18, 14, 17], [12, 8, 20, 7, 11, 6, 10, 15, 4, 21, 22, 1, 5, 3, 9, 2, 0, 23, 13, 17, 18, 16, 14], [8, 12, 6, 20, 1, 21, 7, 2, 4, 5, 3, 10, 9, 22, 13, 0, 11, 15, 23, 16, 14, 17], [20, 8, 12, 2, 6, 3, 5, 1, 10, 13, 21, 4, 7, 0, 23, 22, 9, 15, 19, 11, 16], [12, 8, 4, 6, 10, 5, 3, 21, 9, 2, 7, 1, 22, 20, 0, 23, 13, 15, 11, 14], [12, 8, 4, 6, 2, 5, 7, 21, 1, 3, 20, 9, 22, 10, 0, 15, 13, 11, 23], [8, 12, 6, 1, 2, 5, 7, 4, 3, 10, 9, 21, 0, 20, 15, 22, 11, 23], [8, 12, 4, 6, 3, 2, 20, 5, 1, 11, 21, 15, 7, 10, 9, 22, 0], [8, 12, 1, 6, 2, 4, 3, 7, 9, 10, 20, 22, 5, 15, 21, 11], [4, 22, 8, 6, 1, 3, 10, 0, 2, 20, 5, 9, 12, 7, 11], [8, 12, 6, 4, 9, 10, 3, 20, 1, 5, 2, 7, 21, 15], [4, 0, 8, 6, 22, 3, 2, 5, 12, 23, 9, 1, 10]]}\n",
      "546/546 [==============================] - 0s 114us/step\n",
      "546/546 [==============================] - 0s 86us/step\n",
      "{'encoding_dim/features': [24, 23, 22, 21, 20, 19, 18, 17, 16, 15, 14, 13, 12], 'compression_level': [0.0, 0.04166666666666663, 0.08333333333333337, 0.125, 0.16666666666666663, 0.20833333333333337, 0.25, 0.29166666666666663, 0.33333333333333337, 0.375, 0.41666666666666663, 0.45833333333333337, 0.5], 'auto_classifier_acc': [0.91575091575091572, 0.9432234432234432, 0.92490842490842495, 0.90476190476190477, 0.92124542124542119, 0.92124542124542119, 0.91391941391941389, 0.90293040293040294, 0.93772893772893773, 0.91758241758241754, 0.93223443223443225, 0.91941391941391937, 0.93223443223443225], 'selected_classifier_acc': [0.93223443223443225, 0.92490842490842495, 0.91941391941391937, 0.85347985347985345, 0.88827838827838823, 0.83699633699633702, 0.80402930402930406, 0.79670329670329665, 0.80219780219780223, 0.80402930402930406, 0.81135531135531136, 0.80586080586080588, 0.81868131868131866], 'features': [[12, 10, 8, 6, 1, 20, 4, 3, 5, 22, 21, 7, 9, 15, 2, 11, 0, 16, 23, 13, 19, 18, 14, 17], [12, 8, 20, 7, 11, 6, 10, 15, 4, 21, 22, 1, 5, 3, 9, 2, 0, 23, 13, 17, 18, 16, 14], [8, 12, 6, 20, 1, 21, 7, 2, 4, 5, 3, 10, 9, 22, 13, 0, 11, 15, 23, 16, 14, 17], [20, 8, 12, 2, 6, 3, 5, 1, 10, 13, 21, 4, 7, 0, 23, 22, 9, 15, 19, 11, 16], [12, 8, 4, 6, 10, 5, 3, 21, 9, 2, 7, 1, 22, 20, 0, 23, 13, 15, 11, 14], [12, 8, 4, 6, 2, 5, 7, 21, 1, 3, 20, 9, 22, 10, 0, 15, 13, 11, 23], [8, 12, 6, 1, 2, 5, 7, 4, 3, 10, 9, 21, 0, 20, 15, 22, 11, 23], [8, 12, 4, 6, 3, 2, 20, 5, 1, 11, 21, 15, 7, 10, 9, 22, 0], [8, 12, 1, 6, 2, 4, 3, 7, 9, 10, 20, 22, 5, 15, 21, 11], [4, 22, 8, 6, 1, 3, 10, 0, 2, 20, 5, 9, 12, 7, 11], [8, 12, 6, 4, 9, 10, 3, 20, 1, 5, 2, 7, 21, 15], [4, 0, 8, 6, 22, 3, 2, 5, 12, 23, 9, 1, 10], [12, 8, 6, 5, 2, 3, 4, 7, 1, 20, 13, 10]]}\n",
      "546/546 [==============================] - 0s 145us/step\n",
      "546/546 [==============================] - 0s 86us/step\n",
      "{'encoding_dim/features': [24, 23, 22, 21, 20, 19, 18, 17, 16, 15, 14, 13, 12, 11], 'compression_level': [0.0, 0.04166666666666663, 0.08333333333333337, 0.125, 0.16666666666666663, 0.20833333333333337, 0.25, 0.29166666666666663, 0.33333333333333337, 0.375, 0.41666666666666663, 0.45833333333333337, 0.5, 0.5416666666666667], 'auto_classifier_acc': [0.91575091575091572, 0.9432234432234432, 0.92490842490842495, 0.90476190476190477, 0.92124542124542119, 0.92124542124542119, 0.91391941391941389, 0.90293040293040294, 0.93772893772893773, 0.91758241758241754, 0.93223443223443225, 0.91941391941391937, 0.93223443223443225, 0.91575091575091572], 'selected_classifier_acc': [0.93223443223443225, 0.92490842490842495, 0.91941391941391937, 0.85347985347985345, 0.88827838827838823, 0.83699633699633702, 0.80402930402930406, 0.79670329670329665, 0.80219780219780223, 0.80402930402930406, 0.81135531135531136, 0.80586080586080588, 0.81868131868131866, 0.77655677655677657], 'features': [[12, 10, 8, 6, 1, 20, 4, 3, 5, 22, 21, 7, 9, 15, 2, 11, 0, 16, 23, 13, 19, 18, 14, 17], [12, 8, 20, 7, 11, 6, 10, 15, 4, 21, 22, 1, 5, 3, 9, 2, 0, 23, 13, 17, 18, 16, 14], [8, 12, 6, 20, 1, 21, 7, 2, 4, 5, 3, 10, 9, 22, 13, 0, 11, 15, 23, 16, 14, 17], [20, 8, 12, 2, 6, 3, 5, 1, 10, 13, 21, 4, 7, 0, 23, 22, 9, 15, 19, 11, 16], [12, 8, 4, 6, 10, 5, 3, 21, 9, 2, 7, 1, 22, 20, 0, 23, 13, 15, 11, 14], [12, 8, 4, 6, 2, 5, 7, 21, 1, 3, 20, 9, 22, 10, 0, 15, 13, 11, 23], [8, 12, 6, 1, 2, 5, 7, 4, 3, 10, 9, 21, 0, 20, 15, 22, 11, 23], [8, 12, 4, 6, 3, 2, 20, 5, 1, 11, 21, 15, 7, 10, 9, 22, 0], [8, 12, 1, 6, 2, 4, 3, 7, 9, 10, 20, 22, 5, 15, 21, 11], [4, 22, 8, 6, 1, 3, 10, 0, 2, 20, 5, 9, 12, 7, 11], [8, 12, 6, 4, 9, 10, 3, 20, 1, 5, 2, 7, 21, 15], [4, 0, 8, 6, 22, 3, 2, 5, 12, 23, 9, 1, 10], [12, 8, 6, 5, 2, 3, 4, 7, 1, 20, 13, 10], [2, 11, 12, 5, 8, 3, 6, 4, 20, 9, 1]]}\n"
     ]
    },
    {
     "name": "stdout",
     "output_type": "stream",
     "text": [
      "546/546 [==============================] - 0s 114us/step\n",
      "546/546 [==============================] - 0s 86us/step\n",
      "{'encoding_dim/features': [24, 23, 22, 21, 20, 19, 18, 17, 16, 15, 14, 13, 12, 11, 10], 'compression_level': [0.0, 0.04166666666666663, 0.08333333333333337, 0.125, 0.16666666666666663, 0.20833333333333337, 0.25, 0.29166666666666663, 0.33333333333333337, 0.375, 0.41666666666666663, 0.45833333333333337, 0.5, 0.5416666666666667, 0.5833333333333333], 'auto_classifier_acc': [0.91575091575091572, 0.9432234432234432, 0.92490842490842495, 0.90476190476190477, 0.92124542124542119, 0.92124542124542119, 0.91391941391941389, 0.90293040293040294, 0.93772893772893773, 0.91758241758241754, 0.93223443223443225, 0.91941391941391937, 0.93223443223443225, 0.91575091575091572, 0.90476190476190477], 'selected_classifier_acc': [0.93223443223443225, 0.92490842490842495, 0.91941391941391937, 0.85347985347985345, 0.88827838827838823, 0.83699633699633702, 0.80402930402930406, 0.79670329670329665, 0.80219780219780223, 0.80402930402930406, 0.81135531135531136, 0.80586080586080588, 0.81868131868131866, 0.77655677655677657, 0.76190476190476186], 'features': [[12, 10, 8, 6, 1, 20, 4, 3, 5, 22, 21, 7, 9, 15, 2, 11, 0, 16, 23, 13, 19, 18, 14, 17], [12, 8, 20, 7, 11, 6, 10, 15, 4, 21, 22, 1, 5, 3, 9, 2, 0, 23, 13, 17, 18, 16, 14], [8, 12, 6, 20, 1, 21, 7, 2, 4, 5, 3, 10, 9, 22, 13, 0, 11, 15, 23, 16, 14, 17], [20, 8, 12, 2, 6, 3, 5, 1, 10, 13, 21, 4, 7, 0, 23, 22, 9, 15, 19, 11, 16], [12, 8, 4, 6, 10, 5, 3, 21, 9, 2, 7, 1, 22, 20, 0, 23, 13, 15, 11, 14], [12, 8, 4, 6, 2, 5, 7, 21, 1, 3, 20, 9, 22, 10, 0, 15, 13, 11, 23], [8, 12, 6, 1, 2, 5, 7, 4, 3, 10, 9, 21, 0, 20, 15, 22, 11, 23], [8, 12, 4, 6, 3, 2, 20, 5, 1, 11, 21, 15, 7, 10, 9, 22, 0], [8, 12, 1, 6, 2, 4, 3, 7, 9, 10, 20, 22, 5, 15, 21, 11], [4, 22, 8, 6, 1, 3, 10, 0, 2, 20, 5, 9, 12, 7, 11], [8, 12, 6, 4, 9, 10, 3, 20, 1, 5, 2, 7, 21, 15], [4, 0, 8, 6, 22, 3, 2, 5, 12, 23, 9, 1, 10], [12, 8, 6, 5, 2, 3, 4, 7, 1, 20, 13, 10], [2, 11, 12, 5, 8, 3, 6, 4, 20, 9, 1], [12, 8, 6, 10, 3, 4, 1, 5, 11, 15]]}\n",
      "546/546 [==============================] - 0s 86us/step\n",
      "546/546 [==============================] - 0s 143us/step\n",
      "{'encoding_dim/features': [24, 23, 22, 21, 20, 19, 18, 17, 16, 15, 14, 13, 12, 11, 10, 9], 'compression_level': [0.0, 0.04166666666666663, 0.08333333333333337, 0.125, 0.16666666666666663, 0.20833333333333337, 0.25, 0.29166666666666663, 0.33333333333333337, 0.375, 0.41666666666666663, 0.45833333333333337, 0.5, 0.5416666666666667, 0.5833333333333333, 0.625], 'auto_classifier_acc': [0.91575091575091572, 0.9432234432234432, 0.92490842490842495, 0.90476190476190477, 0.92124542124542119, 0.92124542124542119, 0.91391941391941389, 0.90293040293040294, 0.93772893772893773, 0.91758241758241754, 0.93223443223443225, 0.91941391941391937, 0.93223443223443225, 0.91575091575091572, 0.90476190476190477, 0.9285714285714286], 'selected_classifier_acc': [0.93223443223443225, 0.92490842490842495, 0.91941391941391937, 0.85347985347985345, 0.88827838827838823, 0.83699633699633702, 0.80402930402930406, 0.79670329670329665, 0.80219780219780223, 0.80402930402930406, 0.81135531135531136, 0.80586080586080588, 0.81868131868131866, 0.77655677655677657, 0.76190476190476186, 0.75274725274725274], 'features': [[12, 10, 8, 6, 1, 20, 4, 3, 5, 22, 21, 7, 9, 15, 2, 11, 0, 16, 23, 13, 19, 18, 14, 17], [12, 8, 20, 7, 11, 6, 10, 15, 4, 21, 22, 1, 5, 3, 9, 2, 0, 23, 13, 17, 18, 16, 14], [8, 12, 6, 20, 1, 21, 7, 2, 4, 5, 3, 10, 9, 22, 13, 0, 11, 15, 23, 16, 14, 17], [20, 8, 12, 2, 6, 3, 5, 1, 10, 13, 21, 4, 7, 0, 23, 22, 9, 15, 19, 11, 16], [12, 8, 4, 6, 10, 5, 3, 21, 9, 2, 7, 1, 22, 20, 0, 23, 13, 15, 11, 14], [12, 8, 4, 6, 2, 5, 7, 21, 1, 3, 20, 9, 22, 10, 0, 15, 13, 11, 23], [8, 12, 6, 1, 2, 5, 7, 4, 3, 10, 9, 21, 0, 20, 15, 22, 11, 23], [8, 12, 4, 6, 3, 2, 20, 5, 1, 11, 21, 15, 7, 10, 9, 22, 0], [8, 12, 1, 6, 2, 4, 3, 7, 9, 10, 20, 22, 5, 15, 21, 11], [4, 22, 8, 6, 1, 3, 10, 0, 2, 20, 5, 9, 12, 7, 11], [8, 12, 6, 4, 9, 10, 3, 20, 1, 5, 2, 7, 21, 15], [4, 0, 8, 6, 22, 3, 2, 5, 12, 23, 9, 1, 10], [12, 8, 6, 5, 2, 3, 4, 7, 1, 20, 13, 10], [2, 11, 12, 5, 8, 3, 6, 4, 20, 9, 1], [12, 8, 6, 10, 3, 4, 1, 5, 11, 15], [8, 4, 9, 6, 7, 12, 10, 1, 3]]}\n",
      "546/546 [==============================] - 0s 114us/step\n",
      "546/546 [==============================] - 0s 114us/step\n",
      "{'encoding_dim/features': [24, 23, 22, 21, 20, 19, 18, 17, 16, 15, 14, 13, 12, 11, 10, 9, 8], 'compression_level': [0.0, 0.04166666666666663, 0.08333333333333337, 0.125, 0.16666666666666663, 0.20833333333333337, 0.25, 0.29166666666666663, 0.33333333333333337, 0.375, 0.41666666666666663, 0.45833333333333337, 0.5, 0.5416666666666667, 0.5833333333333333, 0.625, 0.6666666666666667], 'auto_classifier_acc': [0.91575091575091572, 0.9432234432234432, 0.92490842490842495, 0.90476190476190477, 0.92124542124542119, 0.92124542124542119, 0.91391941391941389, 0.90293040293040294, 0.93772893772893773, 0.91758241758241754, 0.93223443223443225, 0.91941391941391937, 0.93223443223443225, 0.91575091575091572, 0.90476190476190477, 0.9285714285714286, 0.91941391941391937], 'selected_classifier_acc': [0.93223443223443225, 0.92490842490842495, 0.91941391941391937, 0.85347985347985345, 0.88827838827838823, 0.83699633699633702, 0.80402930402930406, 0.79670329670329665, 0.80219780219780223, 0.80402930402930406, 0.81135531135531136, 0.80586080586080588, 0.81868131868131866, 0.77655677655677657, 0.76190476190476186, 0.75274725274725274, 0.7783882783882784], 'features': [[12, 10, 8, 6, 1, 20, 4, 3, 5, 22, 21, 7, 9, 15, 2, 11, 0, 16, 23, 13, 19, 18, 14, 17], [12, 8, 20, 7, 11, 6, 10, 15, 4, 21, 22, 1, 5, 3, 9, 2, 0, 23, 13, 17, 18, 16, 14], [8, 12, 6, 20, 1, 21, 7, 2, 4, 5, 3, 10, 9, 22, 13, 0, 11, 15, 23, 16, 14, 17], [20, 8, 12, 2, 6, 3, 5, 1, 10, 13, 21, 4, 7, 0, 23, 22, 9, 15, 19, 11, 16], [12, 8, 4, 6, 10, 5, 3, 21, 9, 2, 7, 1, 22, 20, 0, 23, 13, 15, 11, 14], [12, 8, 4, 6, 2, 5, 7, 21, 1, 3, 20, 9, 22, 10, 0, 15, 13, 11, 23], [8, 12, 6, 1, 2, 5, 7, 4, 3, 10, 9, 21, 0, 20, 15, 22, 11, 23], [8, 12, 4, 6, 3, 2, 20, 5, 1, 11, 21, 15, 7, 10, 9, 22, 0], [8, 12, 1, 6, 2, 4, 3, 7, 9, 10, 20, 22, 5, 15, 21, 11], [4, 22, 8, 6, 1, 3, 10, 0, 2, 20, 5, 9, 12, 7, 11], [8, 12, 6, 4, 9, 10, 3, 20, 1, 5, 2, 7, 21, 15], [4, 0, 8, 6, 22, 3, 2, 5, 12, 23, 9, 1, 10], [12, 8, 6, 5, 2, 3, 4, 7, 1, 20, 13, 10], [2, 11, 12, 5, 8, 3, 6, 4, 20, 9, 1], [12, 8, 6, 10, 3, 4, 1, 5, 11, 15], [8, 4, 9, 6, 7, 12, 10, 1, 3], [10, 8, 2, 3, 4, 11, 6, 5]]}\n",
      "546/546 [==============================] - 0s 114us/step\n",
      "546/546 [==============================] - 0s 86us/step\n",
      "{'encoding_dim/features': [24, 23, 22, 21, 20, 19, 18, 17, 16, 15, 14, 13, 12, 11, 10, 9, 8, 7], 'compression_level': [0.0, 0.04166666666666663, 0.08333333333333337, 0.125, 0.16666666666666663, 0.20833333333333337, 0.25, 0.29166666666666663, 0.33333333333333337, 0.375, 0.41666666666666663, 0.45833333333333337, 0.5, 0.5416666666666667, 0.5833333333333333, 0.625, 0.6666666666666667, 0.7083333333333333], 'auto_classifier_acc': [0.91575091575091572, 0.9432234432234432, 0.92490842490842495, 0.90476190476190477, 0.92124542124542119, 0.92124542124542119, 0.91391941391941389, 0.90293040293040294, 0.93772893772893773, 0.91758241758241754, 0.93223443223443225, 0.91941391941391937, 0.93223443223443225, 0.91575091575091572, 0.90476190476190477, 0.9285714285714286, 0.91941391941391937, 0.89926739926739929], 'selected_classifier_acc': [0.93223443223443225, 0.92490842490842495, 0.91941391941391937, 0.85347985347985345, 0.88827838827838823, 0.83699633699633702, 0.80402930402930406, 0.79670329670329665, 0.80219780219780223, 0.80402930402930406, 0.81135531135531136, 0.80586080586080588, 0.81868131868131866, 0.77655677655677657, 0.76190476190476186, 0.75274725274725274, 0.7783882783882784, 0.76923076923076927], 'features': [[12, 10, 8, 6, 1, 20, 4, 3, 5, 22, 21, 7, 9, 15, 2, 11, 0, 16, 23, 13, 19, 18, 14, 17], [12, 8, 20, 7, 11, 6, 10, 15, 4, 21, 22, 1, 5, 3, 9, 2, 0, 23, 13, 17, 18, 16, 14], [8, 12, 6, 20, 1, 21, 7, 2, 4, 5, 3, 10, 9, 22, 13, 0, 11, 15, 23, 16, 14, 17], [20, 8, 12, 2, 6, 3, 5, 1, 10, 13, 21, 4, 7, 0, 23, 22, 9, 15, 19, 11, 16], [12, 8, 4, 6, 10, 5, 3, 21, 9, 2, 7, 1, 22, 20, 0, 23, 13, 15, 11, 14], [12, 8, 4, 6, 2, 5, 7, 21, 1, 3, 20, 9, 22, 10, 0, 15, 13, 11, 23], [8, 12, 6, 1, 2, 5, 7, 4, 3, 10, 9, 21, 0, 20, 15, 22, 11, 23], [8, 12, 4, 6, 3, 2, 20, 5, 1, 11, 21, 15, 7, 10, 9, 22, 0], [8, 12, 1, 6, 2, 4, 3, 7, 9, 10, 20, 22, 5, 15, 21, 11], [4, 22, 8, 6, 1, 3, 10, 0, 2, 20, 5, 9, 12, 7, 11], [8, 12, 6, 4, 9, 10, 3, 20, 1, 5, 2, 7, 21, 15], [4, 0, 8, 6, 22, 3, 2, 5, 12, 23, 9, 1, 10], [12, 8, 6, 5, 2, 3, 4, 7, 1, 20, 13, 10], [2, 11, 12, 5, 8, 3, 6, 4, 20, 9, 1], [12, 8, 6, 10, 3, 4, 1, 5, 11, 15], [8, 4, 9, 6, 7, 12, 10, 1, 3], [10, 8, 2, 3, 4, 11, 6, 5], [8, 6, 7, 9, 5, 3, 12]]}\n"
     ]
    },
    {
     "name": "stdout",
     "output_type": "stream",
     "text": [
      "546/546 [==============================] - 0s 114us/step\n",
      "546/546 [==============================] - 0s 86us/step\n",
      "{'encoding_dim/features': [24, 23, 22, 21, 20, 19, 18, 17, 16, 15, 14, 13, 12, 11, 10, 9, 8, 7, 6], 'compression_level': [0.0, 0.04166666666666663, 0.08333333333333337, 0.125, 0.16666666666666663, 0.20833333333333337, 0.25, 0.29166666666666663, 0.33333333333333337, 0.375, 0.41666666666666663, 0.45833333333333337, 0.5, 0.5416666666666667, 0.5833333333333333, 0.625, 0.6666666666666667, 0.7083333333333333, 0.75], 'auto_classifier_acc': [0.91575091575091572, 0.9432234432234432, 0.92490842490842495, 0.90476190476190477, 0.92124542124542119, 0.92124542124542119, 0.91391941391941389, 0.90293040293040294, 0.93772893772893773, 0.91758241758241754, 0.93223443223443225, 0.91941391941391937, 0.93223443223443225, 0.91575091575091572, 0.90476190476190477, 0.9285714285714286, 0.91941391941391937, 0.89926739926739929, 0.89743589743589747], 'selected_classifier_acc': [0.93223443223443225, 0.92490842490842495, 0.91941391941391937, 0.85347985347985345, 0.88827838827838823, 0.83699633699633702, 0.80402930402930406, 0.79670329670329665, 0.80219780219780223, 0.80402930402930406, 0.81135531135531136, 0.80586080586080588, 0.81868131868131866, 0.77655677655677657, 0.76190476190476186, 0.75274725274725274, 0.7783882783882784, 0.76923076923076927, 0.74542124542124544], 'features': [[12, 10, 8, 6, 1, 20, 4, 3, 5, 22, 21, 7, 9, 15, 2, 11, 0, 16, 23, 13, 19, 18, 14, 17], [12, 8, 20, 7, 11, 6, 10, 15, 4, 21, 22, 1, 5, 3, 9, 2, 0, 23, 13, 17, 18, 16, 14], [8, 12, 6, 20, 1, 21, 7, 2, 4, 5, 3, 10, 9, 22, 13, 0, 11, 15, 23, 16, 14, 17], [20, 8, 12, 2, 6, 3, 5, 1, 10, 13, 21, 4, 7, 0, 23, 22, 9, 15, 19, 11, 16], [12, 8, 4, 6, 10, 5, 3, 21, 9, 2, 7, 1, 22, 20, 0, 23, 13, 15, 11, 14], [12, 8, 4, 6, 2, 5, 7, 21, 1, 3, 20, 9, 22, 10, 0, 15, 13, 11, 23], [8, 12, 6, 1, 2, 5, 7, 4, 3, 10, 9, 21, 0, 20, 15, 22, 11, 23], [8, 12, 4, 6, 3, 2, 20, 5, 1, 11, 21, 15, 7, 10, 9, 22, 0], [8, 12, 1, 6, 2, 4, 3, 7, 9, 10, 20, 22, 5, 15, 21, 11], [4, 22, 8, 6, 1, 3, 10, 0, 2, 20, 5, 9, 12, 7, 11], [8, 12, 6, 4, 9, 10, 3, 20, 1, 5, 2, 7, 21, 15], [4, 0, 8, 6, 22, 3, 2, 5, 12, 23, 9, 1, 10], [12, 8, 6, 5, 2, 3, 4, 7, 1, 20, 13, 10], [2, 11, 12, 5, 8, 3, 6, 4, 20, 9, 1], [12, 8, 6, 10, 3, 4, 1, 5, 11, 15], [8, 4, 9, 6, 7, 12, 10, 1, 3], [10, 8, 2, 3, 4, 11, 6, 5], [8, 6, 7, 9, 5, 3, 12], [6, 11, 10, 3, 8, 2]]}\n",
      "546/546 [==============================] - 0s 114us/step\n",
      "546/546 [==============================] - 0s 86us/step\n",
      "{'encoding_dim/features': [24, 23, 22, 21, 20, 19, 18, 17, 16, 15, 14, 13, 12, 11, 10, 9, 8, 7, 6, 5], 'compression_level': [0.0, 0.04166666666666663, 0.08333333333333337, 0.125, 0.16666666666666663, 0.20833333333333337, 0.25, 0.29166666666666663, 0.33333333333333337, 0.375, 0.41666666666666663, 0.45833333333333337, 0.5, 0.5416666666666667, 0.5833333333333333, 0.625, 0.6666666666666667, 0.7083333333333333, 0.75, 0.7916666666666666], 'auto_classifier_acc': [0.91575091575091572, 0.9432234432234432, 0.92490842490842495, 0.90476190476190477, 0.92124542124542119, 0.92124542124542119, 0.91391941391941389, 0.90293040293040294, 0.93772893772893773, 0.91758241758241754, 0.93223443223443225, 0.91941391941391937, 0.93223443223443225, 0.91575091575091572, 0.90476190476190477, 0.9285714285714286, 0.91941391941391937, 0.89926739926739929, 0.89743589743589747, 0.86263736263736268], 'selected_classifier_acc': [0.93223443223443225, 0.92490842490842495, 0.91941391941391937, 0.85347985347985345, 0.88827838827838823, 0.83699633699633702, 0.80402930402930406, 0.79670329670329665, 0.80219780219780223, 0.80402930402930406, 0.81135531135531136, 0.80586080586080588, 0.81868131868131866, 0.77655677655677657, 0.76190476190476186, 0.75274725274725274, 0.7783882783882784, 0.76923076923076927, 0.74542124542124544, 0.84615384615384615], 'features': [[12, 10, 8, 6, 1, 20, 4, 3, 5, 22, 21, 7, 9, 15, 2, 11, 0, 16, 23, 13, 19, 18, 14, 17], [12, 8, 20, 7, 11, 6, 10, 15, 4, 21, 22, 1, 5, 3, 9, 2, 0, 23, 13, 17, 18, 16, 14], [8, 12, 6, 20, 1, 21, 7, 2, 4, 5, 3, 10, 9, 22, 13, 0, 11, 15, 23, 16, 14, 17], [20, 8, 12, 2, 6, 3, 5, 1, 10, 13, 21, 4, 7, 0, 23, 22, 9, 15, 19, 11, 16], [12, 8, 4, 6, 10, 5, 3, 21, 9, 2, 7, 1, 22, 20, 0, 23, 13, 15, 11, 14], [12, 8, 4, 6, 2, 5, 7, 21, 1, 3, 20, 9, 22, 10, 0, 15, 13, 11, 23], [8, 12, 6, 1, 2, 5, 7, 4, 3, 10, 9, 21, 0, 20, 15, 22, 11, 23], [8, 12, 4, 6, 3, 2, 20, 5, 1, 11, 21, 15, 7, 10, 9, 22, 0], [8, 12, 1, 6, 2, 4, 3, 7, 9, 10, 20, 22, 5, 15, 21, 11], [4, 22, 8, 6, 1, 3, 10, 0, 2, 20, 5, 9, 12, 7, 11], [8, 12, 6, 4, 9, 10, 3, 20, 1, 5, 2, 7, 21, 15], [4, 0, 8, 6, 22, 3, 2, 5, 12, 23, 9, 1, 10], [12, 8, 6, 5, 2, 3, 4, 7, 1, 20, 13, 10], [2, 11, 12, 5, 8, 3, 6, 4, 20, 9, 1], [12, 8, 6, 10, 3, 4, 1, 5, 11, 15], [8, 4, 9, 6, 7, 12, 10, 1, 3], [10, 8, 2, 3, 4, 11, 6, 5], [8, 6, 7, 9, 5, 3, 12], [6, 11, 10, 3, 8, 2], [14, 4, 2, 10, 11]]}\n",
      "546/546 [==============================] - 0s 114us/step\n",
      "546/546 [==============================] - 0s 114us/step\n",
      "{'encoding_dim/features': [24, 23, 22, 21, 20, 19, 18, 17, 16, 15, 14, 13, 12, 11, 10, 9, 8, 7, 6, 5, 4], 'compression_level': [0.0, 0.04166666666666663, 0.08333333333333337, 0.125, 0.16666666666666663, 0.20833333333333337, 0.25, 0.29166666666666663, 0.33333333333333337, 0.375, 0.41666666666666663, 0.45833333333333337, 0.5, 0.5416666666666667, 0.5833333333333333, 0.625, 0.6666666666666667, 0.7083333333333333, 0.75, 0.7916666666666666, 0.8333333333333334], 'auto_classifier_acc': [0.91575091575091572, 0.9432234432234432, 0.92490842490842495, 0.90476190476190477, 0.92124542124542119, 0.92124542124542119, 0.91391941391941389, 0.90293040293040294, 0.93772893772893773, 0.91758241758241754, 0.93223443223443225, 0.91941391941391937, 0.93223443223443225, 0.91575091575091572, 0.90476190476190477, 0.9285714285714286, 0.91941391941391937, 0.89926739926739929, 0.89743589743589747, 0.86263736263736268, 0.86263736263736268], 'selected_classifier_acc': [0.93223443223443225, 0.92490842490842495, 0.91941391941391937, 0.85347985347985345, 0.88827838827838823, 0.83699633699633702, 0.80402930402930406, 0.79670329670329665, 0.80219780219780223, 0.80402930402930406, 0.81135531135531136, 0.80586080586080588, 0.81868131868131866, 0.77655677655677657, 0.76190476190476186, 0.75274725274725274, 0.7783882783882784, 0.76923076923076927, 0.74542124542124544, 0.84615384615384615, 0.82967032967032972], 'features': [[12, 10, 8, 6, 1, 20, 4, 3, 5, 22, 21, 7, 9, 15, 2, 11, 0, 16, 23, 13, 19, 18, 14, 17], [12, 8, 20, 7, 11, 6, 10, 15, 4, 21, 22, 1, 5, 3, 9, 2, 0, 23, 13, 17, 18, 16, 14], [8, 12, 6, 20, 1, 21, 7, 2, 4, 5, 3, 10, 9, 22, 13, 0, 11, 15, 23, 16, 14, 17], [20, 8, 12, 2, 6, 3, 5, 1, 10, 13, 21, 4, 7, 0, 23, 22, 9, 15, 19, 11, 16], [12, 8, 4, 6, 10, 5, 3, 21, 9, 2, 7, 1, 22, 20, 0, 23, 13, 15, 11, 14], [12, 8, 4, 6, 2, 5, 7, 21, 1, 3, 20, 9, 22, 10, 0, 15, 13, 11, 23], [8, 12, 6, 1, 2, 5, 7, 4, 3, 10, 9, 21, 0, 20, 15, 22, 11, 23], [8, 12, 4, 6, 3, 2, 20, 5, 1, 11, 21, 15, 7, 10, 9, 22, 0], [8, 12, 1, 6, 2, 4, 3, 7, 9, 10, 20, 22, 5, 15, 21, 11], [4, 22, 8, 6, 1, 3, 10, 0, 2, 20, 5, 9, 12, 7, 11], [8, 12, 6, 4, 9, 10, 3, 20, 1, 5, 2, 7, 21, 15], [4, 0, 8, 6, 22, 3, 2, 5, 12, 23, 9, 1, 10], [12, 8, 6, 5, 2, 3, 4, 7, 1, 20, 13, 10], [2, 11, 12, 5, 8, 3, 6, 4, 20, 9, 1], [12, 8, 6, 10, 3, 4, 1, 5, 11, 15], [8, 4, 9, 6, 7, 12, 10, 1, 3], [10, 8, 2, 3, 4, 11, 6, 5], [8, 6, 7, 9, 5, 3, 12], [6, 11, 10, 3, 8, 2], [14, 4, 2, 10, 11], [14, 13, 0, 10]]}\n",
      "546/546 [==============================] - 0s 114us/step\n",
      "546/546 [==============================] - 0s 143us/step\n",
      "{'encoding_dim/features': [24, 23, 22, 21, 20, 19, 18, 17, 16, 15, 14, 13, 12, 11, 10, 9, 8, 7, 6, 5, 4, 3], 'compression_level': [0.0, 0.04166666666666663, 0.08333333333333337, 0.125, 0.16666666666666663, 0.20833333333333337, 0.25, 0.29166666666666663, 0.33333333333333337, 0.375, 0.41666666666666663, 0.45833333333333337, 0.5, 0.5416666666666667, 0.5833333333333333, 0.625, 0.6666666666666667, 0.7083333333333333, 0.75, 0.7916666666666666, 0.8333333333333334, 0.875], 'auto_classifier_acc': [0.91575091575091572, 0.9432234432234432, 0.92490842490842495, 0.90476190476190477, 0.92124542124542119, 0.92124542124542119, 0.91391941391941389, 0.90293040293040294, 0.93772893772893773, 0.91758241758241754, 0.93223443223443225, 0.91941391941391937, 0.93223443223443225, 0.91575091575091572, 0.90476190476190477, 0.9285714285714286, 0.91941391941391937, 0.89926739926739929, 0.89743589743589747, 0.86263736263736268, 0.86263736263736268, 0.80219780219780223], 'selected_classifier_acc': [0.93223443223443225, 0.92490842490842495, 0.91941391941391937, 0.85347985347985345, 0.88827838827838823, 0.83699633699633702, 0.80402930402930406, 0.79670329670329665, 0.80219780219780223, 0.80402930402930406, 0.81135531135531136, 0.80586080586080588, 0.81868131868131866, 0.77655677655677657, 0.76190476190476186, 0.75274725274725274, 0.7783882783882784, 0.76923076923076927, 0.74542124542124544, 0.84615384615384615, 0.82967032967032972, 0.73443223443223449], 'features': [[12, 10, 8, 6, 1, 20, 4, 3, 5, 22, 21, 7, 9, 15, 2, 11, 0, 16, 23, 13, 19, 18, 14, 17], [12, 8, 20, 7, 11, 6, 10, 15, 4, 21, 22, 1, 5, 3, 9, 2, 0, 23, 13, 17, 18, 16, 14], [8, 12, 6, 20, 1, 21, 7, 2, 4, 5, 3, 10, 9, 22, 13, 0, 11, 15, 23, 16, 14, 17], [20, 8, 12, 2, 6, 3, 5, 1, 10, 13, 21, 4, 7, 0, 23, 22, 9, 15, 19, 11, 16], [12, 8, 4, 6, 10, 5, 3, 21, 9, 2, 7, 1, 22, 20, 0, 23, 13, 15, 11, 14], [12, 8, 4, 6, 2, 5, 7, 21, 1, 3, 20, 9, 22, 10, 0, 15, 13, 11, 23], [8, 12, 6, 1, 2, 5, 7, 4, 3, 10, 9, 21, 0, 20, 15, 22, 11, 23], [8, 12, 4, 6, 3, 2, 20, 5, 1, 11, 21, 15, 7, 10, 9, 22, 0], [8, 12, 1, 6, 2, 4, 3, 7, 9, 10, 20, 22, 5, 15, 21, 11], [4, 22, 8, 6, 1, 3, 10, 0, 2, 20, 5, 9, 12, 7, 11], [8, 12, 6, 4, 9, 10, 3, 20, 1, 5, 2, 7, 21, 15], [4, 0, 8, 6, 22, 3, 2, 5, 12, 23, 9, 1, 10], [12, 8, 6, 5, 2, 3, 4, 7, 1, 20, 13, 10], [2, 11, 12, 5, 8, 3, 6, 4, 20, 9, 1], [12, 8, 6, 10, 3, 4, 1, 5, 11, 15], [8, 4, 9, 6, 7, 12, 10, 1, 3], [10, 8, 2, 3, 4, 11, 6, 5], [8, 6, 7, 9, 5, 3, 12], [6, 11, 10, 3, 8, 2], [14, 4, 2, 10, 11], [14, 13, 0, 10], [14, 2, 4]]}\n"
     ]
    },
    {
     "name": "stdout",
     "output_type": "stream",
     "text": [
      "546/546 [==============================] - 0s 129us/step\n",
      "546/546 [==============================] - 0s 114us/step\n",
      "{'encoding_dim/features': [24, 23, 22, 21, 20, 19, 18, 17, 16, 15, 14, 13, 12, 11, 10, 9, 8, 7, 6, 5, 4, 3, 2], 'compression_level': [0.0, 0.04166666666666663, 0.08333333333333337, 0.125, 0.16666666666666663, 0.20833333333333337, 0.25, 0.29166666666666663, 0.33333333333333337, 0.375, 0.41666666666666663, 0.45833333333333337, 0.5, 0.5416666666666667, 0.5833333333333333, 0.625, 0.6666666666666667, 0.7083333333333333, 0.75, 0.7916666666666666, 0.8333333333333334, 0.875, 0.9166666666666666], 'auto_classifier_acc': [0.91575091575091572, 0.9432234432234432, 0.92490842490842495, 0.90476190476190477, 0.92124542124542119, 0.92124542124542119, 0.91391941391941389, 0.90293040293040294, 0.93772893772893773, 0.91758241758241754, 0.93223443223443225, 0.91941391941391937, 0.93223443223443225, 0.91575091575091572, 0.90476190476190477, 0.9285714285714286, 0.91941391941391937, 0.89926739926739929, 0.89743589743589747, 0.86263736263736268, 0.86263736263736268, 0.80219780219780223, 0.78754578754578752], 'selected_classifier_acc': [0.93223443223443225, 0.92490842490842495, 0.91941391941391937, 0.85347985347985345, 0.88827838827838823, 0.83699633699633702, 0.80402930402930406, 0.79670329670329665, 0.80219780219780223, 0.80402930402930406, 0.81135531135531136, 0.80586080586080588, 0.81868131868131866, 0.77655677655677657, 0.76190476190476186, 0.75274725274725274, 0.7783882783882784, 0.76923076923076927, 0.74542124542124544, 0.84615384615384615, 0.82967032967032972, 0.73443223443223449, 0.74175824175824179], 'features': [[12, 10, 8, 6, 1, 20, 4, 3, 5, 22, 21, 7, 9, 15, 2, 11, 0, 16, 23, 13, 19, 18, 14, 17], [12, 8, 20, 7, 11, 6, 10, 15, 4, 21, 22, 1, 5, 3, 9, 2, 0, 23, 13, 17, 18, 16, 14], [8, 12, 6, 20, 1, 21, 7, 2, 4, 5, 3, 10, 9, 22, 13, 0, 11, 15, 23, 16, 14, 17], [20, 8, 12, 2, 6, 3, 5, 1, 10, 13, 21, 4, 7, 0, 23, 22, 9, 15, 19, 11, 16], [12, 8, 4, 6, 10, 5, 3, 21, 9, 2, 7, 1, 22, 20, 0, 23, 13, 15, 11, 14], [12, 8, 4, 6, 2, 5, 7, 21, 1, 3, 20, 9, 22, 10, 0, 15, 13, 11, 23], [8, 12, 6, 1, 2, 5, 7, 4, 3, 10, 9, 21, 0, 20, 15, 22, 11, 23], [8, 12, 4, 6, 3, 2, 20, 5, 1, 11, 21, 15, 7, 10, 9, 22, 0], [8, 12, 1, 6, 2, 4, 3, 7, 9, 10, 20, 22, 5, 15, 21, 11], [4, 22, 8, 6, 1, 3, 10, 0, 2, 20, 5, 9, 12, 7, 11], [8, 12, 6, 4, 9, 10, 3, 20, 1, 5, 2, 7, 21, 15], [4, 0, 8, 6, 22, 3, 2, 5, 12, 23, 9, 1, 10], [12, 8, 6, 5, 2, 3, 4, 7, 1, 20, 13, 10], [2, 11, 12, 5, 8, 3, 6, 4, 20, 9, 1], [12, 8, 6, 10, 3, 4, 1, 5, 11, 15], [8, 4, 9, 6, 7, 12, 10, 1, 3], [10, 8, 2, 3, 4, 11, 6, 5], [8, 6, 7, 9, 5, 3, 12], [6, 11, 10, 3, 8, 2], [14, 4, 2, 10, 11], [14, 13, 0, 10], [14, 2, 4], [14, 13]]}\n",
      "546/546 [==============================] - 0s 114us/step\n",
      "546/546 [==============================] - 0s 114us/step\n",
      "{'encoding_dim/features': [24, 23, 22, 21, 20, 19, 18, 17, 16, 15, 14, 13, 12, 11, 10, 9, 8, 7, 6, 5, 4, 3, 2, 1], 'compression_level': [0.0, 0.04166666666666663, 0.08333333333333337, 0.125, 0.16666666666666663, 0.20833333333333337, 0.25, 0.29166666666666663, 0.33333333333333337, 0.375, 0.41666666666666663, 0.45833333333333337, 0.5, 0.5416666666666667, 0.5833333333333333, 0.625, 0.6666666666666667, 0.7083333333333333, 0.75, 0.7916666666666666, 0.8333333333333334, 0.875, 0.9166666666666666, 0.9583333333333334], 'auto_classifier_acc': [0.91575091575091572, 0.9432234432234432, 0.92490842490842495, 0.90476190476190477, 0.92124542124542119, 0.92124542124542119, 0.91391941391941389, 0.90293040293040294, 0.93772893772893773, 0.91758241758241754, 0.93223443223443225, 0.91941391941391937, 0.93223443223443225, 0.91575091575091572, 0.90476190476190477, 0.9285714285714286, 0.91941391941391937, 0.89926739926739929, 0.89743589743589747, 0.86263736263736268, 0.86263736263736268, 0.80219780219780223, 0.78754578754578752, 0.68681318681318682], 'selected_classifier_acc': [0.93223443223443225, 0.92490842490842495, 0.91941391941391937, 0.85347985347985345, 0.88827838827838823, 0.83699633699633702, 0.80402930402930406, 0.79670329670329665, 0.80219780219780223, 0.80402930402930406, 0.81135531135531136, 0.80586080586080588, 0.81868131868131866, 0.77655677655677657, 0.76190476190476186, 0.75274725274725274, 0.7783882783882784, 0.76923076923076927, 0.74542124542124544, 0.84615384615384615, 0.82967032967032972, 0.73443223443223449, 0.74175824175824179, 0.66300366300366298], 'features': [[12, 10, 8, 6, 1, 20, 4, 3, 5, 22, 21, 7, 9, 15, 2, 11, 0, 16, 23, 13, 19, 18, 14, 17], [12, 8, 20, 7, 11, 6, 10, 15, 4, 21, 22, 1, 5, 3, 9, 2, 0, 23, 13, 17, 18, 16, 14], [8, 12, 6, 20, 1, 21, 7, 2, 4, 5, 3, 10, 9, 22, 13, 0, 11, 15, 23, 16, 14, 17], [20, 8, 12, 2, 6, 3, 5, 1, 10, 13, 21, 4, 7, 0, 23, 22, 9, 15, 19, 11, 16], [12, 8, 4, 6, 10, 5, 3, 21, 9, 2, 7, 1, 22, 20, 0, 23, 13, 15, 11, 14], [12, 8, 4, 6, 2, 5, 7, 21, 1, 3, 20, 9, 22, 10, 0, 15, 13, 11, 23], [8, 12, 6, 1, 2, 5, 7, 4, 3, 10, 9, 21, 0, 20, 15, 22, 11, 23], [8, 12, 4, 6, 3, 2, 20, 5, 1, 11, 21, 15, 7, 10, 9, 22, 0], [8, 12, 1, 6, 2, 4, 3, 7, 9, 10, 20, 22, 5, 15, 21, 11], [4, 22, 8, 6, 1, 3, 10, 0, 2, 20, 5, 9, 12, 7, 11], [8, 12, 6, 4, 9, 10, 3, 20, 1, 5, 2, 7, 21, 15], [4, 0, 8, 6, 22, 3, 2, 5, 12, 23, 9, 1, 10], [12, 8, 6, 5, 2, 3, 4, 7, 1, 20, 13, 10], [2, 11, 12, 5, 8, 3, 6, 4, 20, 9, 1], [12, 8, 6, 10, 3, 4, 1, 5, 11, 15], [8, 4, 9, 6, 7, 12, 10, 1, 3], [10, 8, 2, 3, 4, 11, 6, 5], [8, 6, 7, 9, 5, 3, 12], [6, 11, 10, 3, 8, 2], [14, 4, 2, 10, 11], [14, 13, 0, 10], [14, 2, 4], [14, 13], [14]]}\n"
     ]
    }
   ],
   "source": [
    "while encoding_dim > 0:\n",
    "    main_input = Input(shape=(input_dim,), dtype='float32', name='main_input')\n",
    "\n",
    "    encoding_layer = Dense(encoding_dim, activation='relu', name='encoder', kernel_initializer='normal')\n",
    "    encoding_layer_output = encoding_layer(main_input)\n",
    "    decoding_layer_output = Dense(input_dim, activation='sigmoid'\n",
    "                                  ,name='decoder_output'\n",
    "                                  ,kernel_initializer='normal')(encoding_layer_output)\n",
    "\n",
    "    x = Dense(hidden1_dim, activation='relu', kernel_initializer='normal')(encoding_layer_output)\n",
    "    x = Dense(hidden2_dim, activation='relu', kernel_initializer='normal')(x)\n",
    "\n",
    "    classifier_output = Dense(num_classes, activation='softmax', name='main_output', kernel_initializer='normal')(x)\n",
    "\n",
    "    auto_classifier = Model(inputs=main_input, outputs=[classifier_output, decoding_layer_output])\n",
    "\n",
    "    auto_classifier.compile(optimizer=RMSprop(),\n",
    "                            loss={'main_output': 'categorical_crossentropy', 'decoder_output': 'mean_squared_error'},\n",
    "                            loss_weights={'main_output': 1., 'decoder_output': 1.},\n",
    "                            metrics=['accuracy'])\n",
    "\n",
    "    auto_classifier.fit({'main_input': x_train},\n",
    "                        {'main_output': y_train, 'decoder_output': x_train},\n",
    "                        epochs=epoch_size, \n",
    "                        batch_size=batch_size,\n",
    "                        shuffle=shuffle,\n",
    "                        validation_split=0.1,\n",
    "                        verbose=0)\n",
    "\n",
    "    accuracy = auto_classifier.evaluate(x=x_val, y=[y_val, x_val], verbose=1)[3]\n",
    "    result2['encoding_dim/features'].append(encoding_dim)\n",
    "    result2['compression_level'].append(1 - encoding_dim/24)\n",
    "    result2['auto_classifier_acc'].append(accuracy)\n",
    "\n",
    "    encoding_weights = encoding_layer.get_weights()\n",
    "    sum_of_weights = {index: item.sum() for (index, item) in enumerate(encoding_weights[0])}\n",
    "\n",
    "    weights = sum_of_weights\n",
    "    features = []\n",
    "    for i in range(encoding_dim):\n",
    "        max_key = max(weights, key=lambda key: weights[key])\n",
    "        features.append(max_key)\n",
    "        del weights[max_key]\n",
    "    \n",
    "    result2['features'].append(features)\n",
    "    x_train_selected = np.array([x[features] for x in x_train])\n",
    "    x_val_selected = np.array([x[features] for x in x_val])\n",
    "\n",
    "    input_dim_new = x_train_selected.shape[1]\n",
    "    \n",
    "    accuracy_list = []\n",
    "    for i in range(1):\n",
    "        model_new = Sequential()\n",
    "        model_new.add(Dense(hidden1_dim, activation='relu', input_shape=(input_dim_new,), kernel_initializer='normal'))\n",
    "        model_new.add(Dense(hidden2_dim, activation='relu', kernel_initializer='normal'))\n",
    "        model_new.add(Dense(num_classes, activation='softmax', kernel_initializer='normal'))\n",
    "\n",
    "        model_new.compile(loss='categorical_crossentropy',\n",
    "                      optimizer=RMSprop(),\n",
    "                      metrics=['accuracy'])\n",
    "\n",
    "        model_new.fit(x_train_selected, y_train, \n",
    "                  batch_size=batch_size,\n",
    "                  epochs=epoch_size,\n",
    "                  verbose=0,\n",
    "                  shuffle=shuffle,\n",
    "                  validation_split=0.1)\n",
    "        score = model_new.evaluate(x_val_selected, y_val)[1]\n",
    "        accuracy_list.append(score)\n",
    "\n",
    "    result2['selected_classifier_acc'].append(np.mean(accuracy_list))\n",
    "    encoding_dim -=1\n",
    "    print(result2)"
   ]
  },
  {
   "cell_type": "markdown",
   "metadata": {},
   "source": [
    "#### Summary"
   ]
  },
  {
   "cell_type": "code",
   "execution_count": 149,
   "metadata": {},
   "outputs": [
    {
     "name": "stdout",
     "output_type": "stream",
     "text": [
      "__________________________________________________________________________________________________\n",
      "Layer (type)                    Output Shape         Param #     Connected to                     \n",
      "==================================================================================================\n",
      "main_input (InputLayer)         (None, 24)           0                                            \n",
      "__________________________________________________________________________________________________\n",
      "dense_622 (Dense)               (None, 13)           325         main_input[0][0]                 \n",
      "__________________________________________________________________________________________________\n",
      "dense_623 (Dense)               (None, 30)           420         dense_622[0][0]                  \n",
      "__________________________________________________________________________________________________\n",
      "dense_624 (Dense)               (None, 30)           930         dense_623[0][0]                  \n",
      "__________________________________________________________________________________________________\n",
      "main_output (Dense)             (None, 4)            124         dense_624[0][0]                  \n",
      "__________________________________________________________________________________________________\n",
      "decoder_output (Dense)          (None, 24)           336         dense_622[0][0]                  \n",
      "==================================================================================================\n",
      "Total params: 2,135\n",
      "Trainable params: 2,135\n",
      "Non-trainable params: 0\n",
      "__________________________________________________________________________________________________\n"
     ]
    }
   ],
   "source": [
    "auto_classifier.summary()"
   ]
  },
  {
   "cell_type": "markdown",
   "metadata": {},
   "source": [
    "#### Architecture"
   ]
  },
  {
   "cell_type": "code",
   "execution_count": 150,
   "metadata": {
    "collapsed": true
   },
   "outputs": [],
   "source": [
    "plot_model(auto_classifier, to_file='images/robo2_auto_class_LR.png', show_shapes=True, show_layer_names=True, rankdir='LR')"
   ]
  },
  {
   "cell_type": "markdown",
   "metadata": {},
   "source": [
    "![MNIST Neural Net](images/robo2_auto_class_LR.png)"
   ]
  },
  {
   "cell_type": "markdown",
   "metadata": {},
   "source": [
    "### Results"
   ]
  },
  {
   "cell_type": "code",
   "execution_count": 202,
   "metadata": {},
   "outputs": [
    {
     "data": {
      "text/html": [
       "<div>\n",
       "<style>\n",
       "    .dataframe thead tr:only-child th {\n",
       "        text-align: right;\n",
       "    }\n",
       "\n",
       "    .dataframe thead th {\n",
       "        text-align: left;\n",
       "    }\n",
       "\n",
       "    .dataframe tbody tr th {\n",
       "        vertical-align: top;\n",
       "    }\n",
       "</style>\n",
       "<table border=\"1\" class=\"dataframe\">\n",
       "  <thead>\n",
       "    <tr style=\"text-align: right;\">\n",
       "      <th></th>\n",
       "      <th>auto_classifier_acc</th>\n",
       "      <th>compression_level</th>\n",
       "      <th>encoding_dim/features</th>\n",
       "      <th>features</th>\n",
       "      <th>selected_classifier_acc</th>\n",
       "      <th>neural_net_acc</th>\n",
       "    </tr>\n",
       "  </thead>\n",
       "  <tbody>\n",
       "    <tr>\n",
       "      <th>0</th>\n",
       "      <td>0.915751</td>\n",
       "      <td>0.000000</td>\n",
       "      <td>24</td>\n",
       "      <td>[12, 10, 8, 6, 1, 20, 4, 3, 5, 22, 21, 7, 9, 1...</td>\n",
       "      <td>0.932234</td>\n",
       "      <td>0.949939</td>\n",
       "    </tr>\n",
       "    <tr>\n",
       "      <th>1</th>\n",
       "      <td>0.943223</td>\n",
       "      <td>0.041667</td>\n",
       "      <td>23</td>\n",
       "      <td>[12, 8, 20, 7, 11, 6, 10, 15, 4, 21, 22, 1, 5,...</td>\n",
       "      <td>0.924908</td>\n",
       "      <td>0.949939</td>\n",
       "    </tr>\n",
       "    <tr>\n",
       "      <th>2</th>\n",
       "      <td>0.924908</td>\n",
       "      <td>0.083333</td>\n",
       "      <td>22</td>\n",
       "      <td>[8, 12, 6, 20, 1, 21, 7, 2, 4, 5, 3, 10, 9, 22...</td>\n",
       "      <td>0.919414</td>\n",
       "      <td>0.949939</td>\n",
       "    </tr>\n",
       "    <tr>\n",
       "      <th>3</th>\n",
       "      <td>0.904762</td>\n",
       "      <td>0.125000</td>\n",
       "      <td>21</td>\n",
       "      <td>[20, 8, 12, 2, 6, 3, 5, 1, 10, 13, 21, 4, 7, 0...</td>\n",
       "      <td>0.853480</td>\n",
       "      <td>0.949939</td>\n",
       "    </tr>\n",
       "    <tr>\n",
       "      <th>4</th>\n",
       "      <td>0.921245</td>\n",
       "      <td>0.166667</td>\n",
       "      <td>20</td>\n",
       "      <td>[12, 8, 4, 6, 10, 5, 3, 21, 9, 2, 7, 1, 22, 20...</td>\n",
       "      <td>0.888278</td>\n",
       "      <td>0.949939</td>\n",
       "    </tr>\n",
       "    <tr>\n",
       "      <th>5</th>\n",
       "      <td>0.921245</td>\n",
       "      <td>0.208333</td>\n",
       "      <td>19</td>\n",
       "      <td>[12, 8, 4, 6, 2, 5, 7, 21, 1, 3, 20, 9, 22, 10...</td>\n",
       "      <td>0.836996</td>\n",
       "      <td>0.949939</td>\n",
       "    </tr>\n",
       "    <tr>\n",
       "      <th>6</th>\n",
       "      <td>0.913919</td>\n",
       "      <td>0.250000</td>\n",
       "      <td>18</td>\n",
       "      <td>[8, 12, 6, 1, 2, 5, 7, 4, 3, 10, 9, 21, 0, 20,...</td>\n",
       "      <td>0.804029</td>\n",
       "      <td>0.949939</td>\n",
       "    </tr>\n",
       "    <tr>\n",
       "      <th>7</th>\n",
       "      <td>0.902930</td>\n",
       "      <td>0.291667</td>\n",
       "      <td>17</td>\n",
       "      <td>[8, 12, 4, 6, 3, 2, 20, 5, 1, 11, 21, 15, 7, 1...</td>\n",
       "      <td>0.796703</td>\n",
       "      <td>0.949939</td>\n",
       "    </tr>\n",
       "    <tr>\n",
       "      <th>8</th>\n",
       "      <td>0.937729</td>\n",
       "      <td>0.333333</td>\n",
       "      <td>16</td>\n",
       "      <td>[8, 12, 1, 6, 2, 4, 3, 7, 9, 10, 20, 22, 5, 15...</td>\n",
       "      <td>0.802198</td>\n",
       "      <td>0.949939</td>\n",
       "    </tr>\n",
       "    <tr>\n",
       "      <th>9</th>\n",
       "      <td>0.917582</td>\n",
       "      <td>0.375000</td>\n",
       "      <td>15</td>\n",
       "      <td>[4, 22, 8, 6, 1, 3, 10, 0, 2, 20, 5, 9, 12, 7,...</td>\n",
       "      <td>0.804029</td>\n",
       "      <td>0.949939</td>\n",
       "    </tr>\n",
       "    <tr>\n",
       "      <th>10</th>\n",
       "      <td>0.932234</td>\n",
       "      <td>0.416667</td>\n",
       "      <td>14</td>\n",
       "      <td>[8, 12, 6, 4, 9, 10, 3, 20, 1, 5, 2, 7, 21, 15]</td>\n",
       "      <td>0.811355</td>\n",
       "      <td>0.949939</td>\n",
       "    </tr>\n",
       "    <tr>\n",
       "      <th>11</th>\n",
       "      <td>0.919414</td>\n",
       "      <td>0.458333</td>\n",
       "      <td>13</td>\n",
       "      <td>[4, 0, 8, 6, 22, 3, 2, 5, 12, 23, 9, 1, 10]</td>\n",
       "      <td>0.805861</td>\n",
       "      <td>0.949939</td>\n",
       "    </tr>\n",
       "    <tr>\n",
       "      <th>12</th>\n",
       "      <td>0.932234</td>\n",
       "      <td>0.500000</td>\n",
       "      <td>12</td>\n",
       "      <td>[12, 8, 6, 5, 2, 3, 4, 7, 1, 20, 13, 10]</td>\n",
       "      <td>0.818681</td>\n",
       "      <td>0.949939</td>\n",
       "    </tr>\n",
       "    <tr>\n",
       "      <th>13</th>\n",
       "      <td>0.915751</td>\n",
       "      <td>0.541667</td>\n",
       "      <td>11</td>\n",
       "      <td>[2, 11, 12, 5, 8, 3, 6, 4, 20, 9, 1]</td>\n",
       "      <td>0.776557</td>\n",
       "      <td>0.949939</td>\n",
       "    </tr>\n",
       "    <tr>\n",
       "      <th>14</th>\n",
       "      <td>0.904762</td>\n",
       "      <td>0.583333</td>\n",
       "      <td>10</td>\n",
       "      <td>[12, 8, 6, 10, 3, 4, 1, 5, 11, 15]</td>\n",
       "      <td>0.761905</td>\n",
       "      <td>0.949939</td>\n",
       "    </tr>\n",
       "    <tr>\n",
       "      <th>15</th>\n",
       "      <td>0.928571</td>\n",
       "      <td>0.625000</td>\n",
       "      <td>9</td>\n",
       "      <td>[8, 4, 9, 6, 7, 12, 10, 1, 3]</td>\n",
       "      <td>0.752747</td>\n",
       "      <td>0.949939</td>\n",
       "    </tr>\n",
       "    <tr>\n",
       "      <th>16</th>\n",
       "      <td>0.919414</td>\n",
       "      <td>0.666667</td>\n",
       "      <td>8</td>\n",
       "      <td>[10, 8, 2, 3, 4, 11, 6, 5]</td>\n",
       "      <td>0.778388</td>\n",
       "      <td>0.949939</td>\n",
       "    </tr>\n",
       "    <tr>\n",
       "      <th>17</th>\n",
       "      <td>0.899267</td>\n",
       "      <td>0.708333</td>\n",
       "      <td>7</td>\n",
       "      <td>[8, 6, 7, 9, 5, 3, 12]</td>\n",
       "      <td>0.769231</td>\n",
       "      <td>0.949939</td>\n",
       "    </tr>\n",
       "    <tr>\n",
       "      <th>18</th>\n",
       "      <td>0.897436</td>\n",
       "      <td>0.750000</td>\n",
       "      <td>6</td>\n",
       "      <td>[6, 11, 10, 3, 8, 2]</td>\n",
       "      <td>0.745421</td>\n",
       "      <td>0.949939</td>\n",
       "    </tr>\n",
       "    <tr>\n",
       "      <th>19</th>\n",
       "      <td>0.862637</td>\n",
       "      <td>0.791667</td>\n",
       "      <td>5</td>\n",
       "      <td>[14, 4, 2, 10, 11]</td>\n",
       "      <td>0.846154</td>\n",
       "      <td>0.949939</td>\n",
       "    </tr>\n",
       "    <tr>\n",
       "      <th>20</th>\n",
       "      <td>0.862637</td>\n",
       "      <td>0.833333</td>\n",
       "      <td>4</td>\n",
       "      <td>[14, 13, 0, 10]</td>\n",
       "      <td>0.829670</td>\n",
       "      <td>0.949939</td>\n",
       "    </tr>\n",
       "    <tr>\n",
       "      <th>21</th>\n",
       "      <td>0.802198</td>\n",
       "      <td>0.875000</td>\n",
       "      <td>3</td>\n",
       "      <td>[14, 2, 4]</td>\n",
       "      <td>0.734432</td>\n",
       "      <td>0.949939</td>\n",
       "    </tr>\n",
       "    <tr>\n",
       "      <th>22</th>\n",
       "      <td>0.787546</td>\n",
       "      <td>0.916667</td>\n",
       "      <td>2</td>\n",
       "      <td>[14, 13]</td>\n",
       "      <td>0.741758</td>\n",
       "      <td>0.949939</td>\n",
       "    </tr>\n",
       "    <tr>\n",
       "      <th>23</th>\n",
       "      <td>0.686813</td>\n",
       "      <td>0.958333</td>\n",
       "      <td>1</td>\n",
       "      <td>[14]</td>\n",
       "      <td>0.663004</td>\n",
       "      <td>0.949939</td>\n",
       "    </tr>\n",
       "  </tbody>\n",
       "</table>\n",
       "</div>"
      ],
      "text/plain": [
       "    auto_classifier_acc  compression_level  encoding_dim/features  \\\n",
       "0              0.915751           0.000000                     24   \n",
       "1              0.943223           0.041667                     23   \n",
       "2              0.924908           0.083333                     22   \n",
       "3              0.904762           0.125000                     21   \n",
       "4              0.921245           0.166667                     20   \n",
       "5              0.921245           0.208333                     19   \n",
       "6              0.913919           0.250000                     18   \n",
       "7              0.902930           0.291667                     17   \n",
       "8              0.937729           0.333333                     16   \n",
       "9              0.917582           0.375000                     15   \n",
       "10             0.932234           0.416667                     14   \n",
       "11             0.919414           0.458333                     13   \n",
       "12             0.932234           0.500000                     12   \n",
       "13             0.915751           0.541667                     11   \n",
       "14             0.904762           0.583333                     10   \n",
       "15             0.928571           0.625000                      9   \n",
       "16             0.919414           0.666667                      8   \n",
       "17             0.899267           0.708333                      7   \n",
       "18             0.897436           0.750000                      6   \n",
       "19             0.862637           0.791667                      5   \n",
       "20             0.862637           0.833333                      4   \n",
       "21             0.802198           0.875000                      3   \n",
       "22             0.787546           0.916667                      2   \n",
       "23             0.686813           0.958333                      1   \n",
       "\n",
       "                                             features  \\\n",
       "0   [12, 10, 8, 6, 1, 20, 4, 3, 5, 22, 21, 7, 9, 1...   \n",
       "1   [12, 8, 20, 7, 11, 6, 10, 15, 4, 21, 22, 1, 5,...   \n",
       "2   [8, 12, 6, 20, 1, 21, 7, 2, 4, 5, 3, 10, 9, 22...   \n",
       "3   [20, 8, 12, 2, 6, 3, 5, 1, 10, 13, 21, 4, 7, 0...   \n",
       "4   [12, 8, 4, 6, 10, 5, 3, 21, 9, 2, 7, 1, 22, 20...   \n",
       "5   [12, 8, 4, 6, 2, 5, 7, 21, 1, 3, 20, 9, 22, 10...   \n",
       "6   [8, 12, 6, 1, 2, 5, 7, 4, 3, 10, 9, 21, 0, 20,...   \n",
       "7   [8, 12, 4, 6, 3, 2, 20, 5, 1, 11, 21, 15, 7, 1...   \n",
       "8   [8, 12, 1, 6, 2, 4, 3, 7, 9, 10, 20, 22, 5, 15...   \n",
       "9   [4, 22, 8, 6, 1, 3, 10, 0, 2, 20, 5, 9, 12, 7,...   \n",
       "10    [8, 12, 6, 4, 9, 10, 3, 20, 1, 5, 2, 7, 21, 15]   \n",
       "11        [4, 0, 8, 6, 22, 3, 2, 5, 12, 23, 9, 1, 10]   \n",
       "12           [12, 8, 6, 5, 2, 3, 4, 7, 1, 20, 13, 10]   \n",
       "13               [2, 11, 12, 5, 8, 3, 6, 4, 20, 9, 1]   \n",
       "14                 [12, 8, 6, 10, 3, 4, 1, 5, 11, 15]   \n",
       "15                      [8, 4, 9, 6, 7, 12, 10, 1, 3]   \n",
       "16                         [10, 8, 2, 3, 4, 11, 6, 5]   \n",
       "17                             [8, 6, 7, 9, 5, 3, 12]   \n",
       "18                               [6, 11, 10, 3, 8, 2]   \n",
       "19                                 [14, 4, 2, 10, 11]   \n",
       "20                                    [14, 13, 0, 10]   \n",
       "21                                         [14, 2, 4]   \n",
       "22                                           [14, 13]   \n",
       "23                                               [14]   \n",
       "\n",
       "    selected_classifier_acc  neural_net_acc  \n",
       "0                  0.932234        0.949939  \n",
       "1                  0.924908        0.949939  \n",
       "2                  0.919414        0.949939  \n",
       "3                  0.853480        0.949939  \n",
       "4                  0.888278        0.949939  \n",
       "5                  0.836996        0.949939  \n",
       "6                  0.804029        0.949939  \n",
       "7                  0.796703        0.949939  \n",
       "8                  0.802198        0.949939  \n",
       "9                  0.804029        0.949939  \n",
       "10                 0.811355        0.949939  \n",
       "11                 0.805861        0.949939  \n",
       "12                 0.818681        0.949939  \n",
       "13                 0.776557        0.949939  \n",
       "14                 0.761905        0.949939  \n",
       "15                 0.752747        0.949939  \n",
       "16                 0.778388        0.949939  \n",
       "17                 0.769231        0.949939  \n",
       "18                 0.745421        0.949939  \n",
       "19                 0.846154        0.949939  \n",
       "20                 0.829670        0.949939  \n",
       "21                 0.734432        0.949939  \n",
       "22                 0.741758        0.949939  \n",
       "23                 0.663004        0.949939  "
      ]
     },
     "execution_count": 202,
     "metadata": {},
     "output_type": "execute_result"
    }
   ],
   "source": [
    "result_df = pd.DataFrame(result2)\n",
    "result_df['neural_net_acc'] = 0.949938949939\n",
    "result_df"
   ]
  },
  {
   "cell_type": "code",
   "execution_count": 203,
   "metadata": {
    "collapsed": true
   },
   "outputs": [],
   "source": [
    "result_df.to_csv('results/robo_results1.csv')"
   ]
  },
  {
   "cell_type": "code",
   "execution_count": 204,
   "metadata": {},
   "outputs": [
    {
     "data": {
      "text/plain": [
       "<matplotlib.axes._subplots.AxesSubplot at 0x221a8d090f0>"
      ]
     },
     "execution_count": 204,
     "metadata": {},
     "output_type": "execute_result"
    },
    {
     "data": {
      "image/png": "[encoded data removed]",
      "text/plain": [
       "<matplotlib.figure.Figure at 0x221a8d09668>"
      ]
     },
     "metadata": {},
     "output_type": "display_data"
    }
   ],
   "source": [
    "result_df.plot(x='encoding_dim/features', y=['selected_classifier_acc', 'neural_net_acc'], kind='bar', figsize=(20,10))"
   ]
  },
  {
   "cell_type": "markdown",
   "metadata": {},
   "source": [
    "Obviously the procedure yields the best performance for 13 features. That corresponds to a compression of about 45%.\n",
    "To go a little bit deeper we analyze the confusion matrix of the 13- feature version of the Neural Net."
   ]
  },
  {
   "cell_type": "markdown",
   "metadata": {},
   "source": [
    "## Single Autoencoder with classifier"
   ]
  },
  {
   "cell_type": "code",
   "execution_count": 177,
   "metadata": {
    "collapsed": true
   },
   "outputs": [],
   "source": [
    "encoder_dim1 = 13"
   ]
  },
  {
   "cell_type": "code",
   "execution_count": 178,
   "metadata": {},
   "outputs": [
    {
     "name": "stdout",
     "output_type": "stream",
     "text": [
      "546/546 [==============================] - 0s 128us/step\n",
      "0.932234432234\n"
     ]
    }
   ],
   "source": [
    "main_input = Input(shape=(input_dim,), dtype='float32', name='main_input')\n",
    "\n",
    "encoding_layer = Dense(encoder_dim1, activation='relu')\n",
    "encoding_layer_output = encoding_layer(main_input)\n",
    "decoding_layer_output = Dense(input_dim, activation='sigmoid', name='decoder_output')(encoding_layer_output)\n",
    "\n",
    "x = Dense(hidden1_dim, activation='relu')(encoding_layer_output)\n",
    "x = Dense(hidden2_dim, activation='relu')(x)\n",
    "\n",
    "classifier_output = Dense(num_classes, activation='softmax', name='main_output')(x)\n",
    "\n",
    "auto_classifier = Model(inputs=main_input, outputs=[classifier_output, decoding_layer_output])\n",
    "\n",
    "auto_classifier.compile(optimizer=RMSprop(),\n",
    "                        loss={'main_output': 'categorical_crossentropy', 'decoder_output': 'mean_squared_error'},\n",
    "                        loss_weights={'main_output': 1., 'decoder_output': 1.},\n",
    "                        metrics=['accuracy'])\n",
    "\n",
    "auto_classifier.fit({'main_input': x_train},\n",
    "                    {'main_output': y_train, 'decoder_output': x_train},\n",
    "                    epochs=epochsize, \n",
    "                    batch_size=batchsize,\n",
    "                    shuffle=shuffle,\n",
    "                    validation_split=0.1,\n",
    "                    verbose=0)\n",
    "\n",
    "score = auto_classifier.evaluate(x=x_val, y=[y_val, x_val], verbose=1)\n",
    "print(score[3])"
   ]
  },
  {
   "cell_type": "markdown",
   "metadata": {},
   "source": [
    "The indices of the extracted features are:"
   ]
  },
  {
   "cell_type": "code",
   "execution_count": 185,
   "metadata": {},
   "outputs": [
    {
     "name": "stdout",
     "output_type": "stream",
     "text": [
      "[12, 6, 20, 0, 5, 1, 17, 2, 23, 22, 21, 8, 3]\n"
     ]
    }
   ],
   "source": [
    "encoding_weights = encoding_layer.get_weights()\n",
    "sum_of_weights = {index: item.sum() for (index, item) in enumerate(encoding_weights[0])}\n",
    "\n",
    "weights = sum_of_weights\n",
    "features = []\n",
    "for i in range(encoder_dim1):\n",
    "    max_key = max(weights, key=lambda key: weights[key])\n",
    "    features.append(max_key)\n",
    "    del weights[max_key]\n",
    "    \n",
    "print(features)"
   ]
  },
  {
   "cell_type": "markdown",
   "metadata": {},
   "source": [
    "## Check the neural net performance with new selected features"
   ]
  },
  {
   "cell_type": "code",
   "execution_count": 180,
   "metadata": {
    "collapsed": true
   },
   "outputs": [],
   "source": [
    "x_train_selected = np.array([x[features] for x in x_train])\n",
    "x_val_selected = np.array([x[features] for x in x_val])"
   ]
  },
  {
   "cell_type": "code",
   "execution_count": 182,
   "metadata": {
    "collapsed": true
   },
   "outputs": [],
   "source": [
    "input_dim = x_train_selected.shape[1]\n",
    "hidden1_dim = 26\n",
    "hidden2_dim = 26"
   ]
  },
  {
   "cell_type": "code",
   "execution_count": 183,
   "metadata": {},
   "outputs": [
    {
     "name": "stdout",
     "output_type": "stream",
     "text": [
      "546/546 [==============================] - 0s 100us/step\n",
      "[0.81135531135531136]\n",
      "546/546 [==============================] - 0s 110us/step\n",
      "[0.81135531135531136, 0.79853479853479858]\n",
      "546/546 [==============================] - 0s 110us/step\n",
      "[0.81135531135531136, 0.79853479853479858, 0.78388278388278387]\n",
      "0.797924297924\n"
     ]
    }
   ],
   "source": [
    "result3 = []\n",
    "\n",
    "for i in range(1,4):\n",
    "    model_new = Sequential()\n",
    "    model_new.add(Dense(hidden1_dim, activation='relu', input_shape=(input_dim,)))\n",
    "    model_new.add(Dense(hidden2_dim, activation='relu'))\n",
    "    model_new.add(Dense(num_classes, activation='softmax'))\n",
    "\n",
    "    model_new.compile(loss='categorical_crossentropy',\n",
    "                  optimizer=RMSprop(),\n",
    "                  metrics=['accuracy'])\n",
    "\n",
    "    model_new.fit(x_train_selected, y_train, \n",
    "              batch_size=batchsize,\n",
    "              epochs=epochsize,\n",
    "              verbose=0,\n",
    "              shuffle=shuffle,\n",
    "              validation_split=0.1)\n",
    "    score = model_new.evaluate(x_val_selected, y_val)[1]\n",
    "    result3.append(score)\n",
    "    print(result3)\n",
    "print(np.mean(result3))"
   ]
  }
 ],
 "metadata": {
  "kernelspec": {
   "display_name": "Python 3",
   "language": "python",
   "name": "python3"
  },
  "language_info": {
   "codemirror_mode": {
    "name": "ipython",
    "version": 3
   },
   "file_extension": ".py",
   "mimetype": "text/x-python",
   "name": "python",
   "nbconvert_exporter": "python",
   "pygments_lexer": "ipython3",
   "version": "3.6.1"
  }
 },
 "nbformat": 4,
 "nbformat_minor": 2
}
