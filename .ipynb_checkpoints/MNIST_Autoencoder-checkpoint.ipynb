{
 "cells": [
  {
   "cell_type": "markdown",
   "metadata": {},
   "source": [
    "# One layer autoencoder"
   ]
  },
  {
   "cell_type": "markdown",
   "metadata": {},
   "source": [
    "Using keras module with compression to 32 floats."
   ]
  },
  {
   "cell_type": "code",
   "execution_count": 1,
   "metadata": {
    "scrolled": true
   },
   "outputs": [
    {
     "name": "stderr",
     "output_type": "stream",
     "text": [
      "Using TensorFlow backend.\n"
     ]
    }
   ],
   "source": [
    "from keras.layers import Input, Dense\n",
    "from keras.models import Model\n",
    "\n",
    "# this is the size of our encoded representations\n",
    "encoding_dim = 32  # 32 floats -> compression of factor 24.5, assuming the input is 784 floats\n",
    "\n",
    "# this is our input placeholder\n",
    "input_img = Input(shape=(784,))\n",
    "# \"encoded\" is the encoded representation of the input, the dense function corresponds to our \"regular\" neural net, where every input\n",
    "# neuron is connected to every output neuron\n",
    "encoded = Dense(encoding_dim, activation='relu')(input_img)\n",
    "# \"decoded\" is the lossy reconstruction of the input\n",
    "decoded = Dense(784, activation='sigmoid')(encoded)\n",
    "\n",
    "# this model maps an input to its reconstruction\n",
    "autoencoder = Model(input_img, decoded)"
   ]
  },
  {
   "cell_type": "markdown",
   "metadata": {},
   "source": [
    "Encoder Model:"
   ]
  },
  {
   "cell_type": "code",
   "execution_count": 2,
   "metadata": {
    "collapsed": true,
    "scrolled": true
   },
   "outputs": [],
   "source": [
    "# this model maps an input to its encoded representation\n",
    "encoder = Model(input_img, encoded)"
   ]
  },
  {
   "cell_type": "markdown",
   "metadata": {},
   "source": [
    "Decoder Model:"
   ]
  },
  {
   "cell_type": "code",
   "execution_count": 3,
   "metadata": {
    "collapsed": true,
    "scrolled": true
   },
   "outputs": [],
   "source": [
    "# create a placeholder for an encoded (32-dimensional) input\n",
    "encoded_input = Input(shape=(encoding_dim,))\n",
    "# retrieve the last layer of the autoencoder model\n",
    "decoder_layer = autoencoder.layers[-1]\n",
    "# create the decoder model\n",
    "decoder = Model(encoded_input, decoder_layer(encoded_input))"
   ]
  },
  {
   "cell_type": "markdown",
   "metadata": {},
   "source": [
    "Now let's train our autoencoder to reconstruct MNIST digits.\n",
    "\n",
    "First, we'll configure our model to use a per-pixel binary crossentropy loss, and the Adadelta optimizer:"
   ]
  },
  {
   "cell_type": "markdown",
   "metadata": {},
   "source": [
    "Binary Cross Entropy = Binomial Cross Entropy = Special Case of Multinomial Cross Entropy "
   ]
  },
  {
   "cell_type": "markdown",
   "metadata": {},
   "source": [
    "The adadelta optimizer paper is stored in the docs folder of the repo."
   ]
  },
  {
   "cell_type": "markdown",
   "metadata": {},
   "source": [
    "![Cross Entropy](images\\2017-12-03 10_42_19-Machine Learning_ Should I use a categorical cross entropy or binary cross entro.png)"
   ]
  },
  {
   "cell_type": "code",
   "execution_count": 4,
   "metadata": {
    "collapsed": true,
    "scrolled": true
   },
   "outputs": [],
   "source": [
    "autoencoder.compile(optimizer='adadelta', loss='binary_crossentropy')"
   ]
  },
  {
   "cell_type": "markdown",
   "metadata": {},
   "source": [
    "Let's prepare our input data. We're using MNIST digits, and we're discarding the labels (since we're only interested in encoding/decoding the input images)."
   ]
  },
  {
   "cell_type": "markdown",
   "metadata": {},
   "source": [
    "We use a validation dataset to tune hyperparameters."
   ]
  },
  {
   "cell_type": "code",
   "execution_count": 34,
   "metadata": {
    "collapsed": true,
    "scrolled": true
   },
   "outputs": [],
   "source": [
    "from keras.datasets import mnist\n",
    "import numpy as np\n",
    "(x_train, _), (x_val, _) = mnist.load_data()"
   ]
  },
  {
   "cell_type": "markdown",
   "metadata": {},
   "source": [
    "Best practice is to keep some data for testing."
   ]
  },
  {
   "cell_type": "code",
   "execution_count": 6,
   "metadata": {
    "collapsed": true,
    "scrolled": false
   },
   "outputs": [],
   "source": [
    "# x_test = x_val[:2000]"
   ]
  },
  {
   "cell_type": "code",
   "execution_count": 11,
   "metadata": {
    "collapsed": true,
    "scrolled": true
   },
   "outputs": [],
   "source": [
    "# x_val = x_val[2000:10001]"
   ]
  },
  {
   "cell_type": "code",
   "execution_count": 14,
   "metadata": {
    "scrolled": false
   },
   "outputs": [
    {
     "data": {
      "text/plain": [
       "784"
      ]
     },
     "execution_count": 14,
     "metadata": {},
     "output_type": "execute_result"
    }
   ],
   "source": [
    "np.prod(x_train.shape[1:])"
   ]
  },
  {
   "cell_type": "code",
   "execution_count": 37,
   "metadata": {
    "scrolled": false
   },
   "outputs": [
    {
     "data": {
      "text/plain": [
       "array([[  0,   0,   0,   0,   0,   0,   0,   0,   0,   0,   0,   0,   0,\n",
       "          0,   0,   0,   0,   0,   0,   0,   0,   0,   0,   0,   0,   0,\n",
       "          0,   0],\n",
       "       [  0,   0,   0,   0,   0,   0,   0,   0,   0,   0,   0,   0,   0,\n",
       "          0,   0,   0,   0,   0,   0,   0,   0,   0,   0,   0,   0,   0,\n",
       "          0,   0],\n",
       "       [  0,   0,   0,   0,   0,   0,   0,   0,   0,   0,   0,   0,   0,\n",
       "          0,   0,   0,   0,   0,   0,   0,   0,   0,   0,   0,   0,   0,\n",
       "          0,   0],\n",
       "       [  0,   0,   0,   0,   0,   0,   0,   0,   0,   0,   0,   0,   0,\n",
       "          0,   0,   0,   0,   0,   0,   0,   0,   0,   0,   0,   0,   0,\n",
       "          0,   0],\n",
       "       [  0,   0,   0,   0,   0,   0,   0,   0,   0,   0,   0,   0,   0,\n",
       "          0,   0,   0,   0,   0,   0,   0,   0,   0,   0,   0,   0,   0,\n",
       "          0,   0],\n",
       "       [  0,   0,   0,   0,   0,   0,   0,   0,   0,   0,   0,   0,   3,\n",
       "         18,  18,  18, 126, 136, 175,  26, 166, 255, 247, 127,   0,   0,\n",
       "          0,   0],\n",
       "       [  0,   0,   0,   0,   0,   0,   0,   0,  30,  36,  94, 154, 170,\n",
       "        253, 253, 253, 253, 253, 225, 172, 253, 242, 195,  64,   0,   0,\n",
       "          0,   0],\n",
       "       [  0,   0,   0,   0,   0,   0,   0,  49, 238, 253, 253, 253, 253,\n",
       "        253, 253, 253, 253, 251,  93,  82,  82,  56,  39,   0,   0,   0,\n",
       "          0,   0],\n",
       "       [  0,   0,   0,   0,   0,   0,   0,  18, 219, 253, 253, 253, 253,\n",
       "        253, 198, 182, 247, 241,   0,   0,   0,   0,   0,   0,   0,   0,\n",
       "          0,   0],\n",
       "       [  0,   0,   0,   0,   0,   0,   0,   0,  80, 156, 107, 253, 253,\n",
       "        205,  11,   0,  43, 154,   0,   0,   0,   0,   0,   0,   0,   0,\n",
       "          0,   0],\n",
       "       [  0,   0,   0,   0,   0,   0,   0,   0,   0,  14,   1, 154, 253,\n",
       "         90,   0,   0,   0,   0,   0,   0,   0,   0,   0,   0,   0,   0,\n",
       "          0,   0],\n",
       "       [  0,   0,   0,   0,   0,   0,   0,   0,   0,   0,   0, 139, 253,\n",
       "        190,   2,   0,   0,   0,   0,   0,   0,   0,   0,   0,   0,   0,\n",
       "          0,   0],\n",
       "       [  0,   0,   0,   0,   0,   0,   0,   0,   0,   0,   0,  11, 190,\n",
       "        253,  70,   0,   0,   0,   0,   0,   0,   0,   0,   0,   0,   0,\n",
       "          0,   0],\n",
       "       [  0,   0,   0,   0,   0,   0,   0,   0,   0,   0,   0,   0,  35,\n",
       "        241, 225, 160, 108,   1,   0,   0,   0,   0,   0,   0,   0,   0,\n",
       "          0,   0],\n",
       "       [  0,   0,   0,   0,   0,   0,   0,   0,   0,   0,   0,   0,   0,\n",
       "         81, 240, 253, 253, 119,  25,   0,   0,   0,   0,   0,   0,   0,\n",
       "          0,   0],\n",
       "       [  0,   0,   0,   0,   0,   0,   0,   0,   0,   0,   0,   0,   0,\n",
       "          0,  45, 186, 253, 253, 150,  27,   0,   0,   0,   0,   0,   0,\n",
       "          0,   0],\n",
       "       [  0,   0,   0,   0,   0,   0,   0,   0,   0,   0,   0,   0,   0,\n",
       "          0,   0,  16,  93, 252, 253, 187,   0,   0,   0,   0,   0,   0,\n",
       "          0,   0],\n",
       "       [  0,   0,   0,   0,   0,   0,   0,   0,   0,   0,   0,   0,   0,\n",
       "          0,   0,   0,   0, 249, 253, 249,  64,   0,   0,   0,   0,   0,\n",
       "          0,   0],\n",
       "       [  0,   0,   0,   0,   0,   0,   0,   0,   0,   0,   0,   0,   0,\n",
       "          0,  46, 130, 183, 253, 253, 207,   2,   0,   0,   0,   0,   0,\n",
       "          0,   0],\n",
       "       [  0,   0,   0,   0,   0,   0,   0,   0,   0,   0,   0,   0,  39,\n",
       "        148, 229, 253, 253, 253, 250, 182,   0,   0,   0,   0,   0,   0,\n",
       "          0,   0],\n",
       "       [  0,   0,   0,   0,   0,   0,   0,   0,   0,   0,  24, 114, 221,\n",
       "        253, 253, 253, 253, 201,  78,   0,   0,   0,   0,   0,   0,   0,\n",
       "          0,   0],\n",
       "       [  0,   0,   0,   0,   0,   0,   0,   0,  23,  66, 213, 253, 253,\n",
       "        253, 253, 198,  81,   2,   0,   0,   0,   0,   0,   0,   0,   0,\n",
       "          0,   0],\n",
       "       [  0,   0,   0,   0,   0,   0,  18, 171, 219, 253, 253, 253, 253,\n",
       "        195,  80,   9,   0,   0,   0,   0,   0,   0,   0,   0,   0,   0,\n",
       "          0,   0],\n",
       "       [  0,   0,   0,   0,  55, 172, 226, 253, 253, 253, 253, 244, 133,\n",
       "         11,   0,   0,   0,   0,   0,   0,   0,   0,   0,   0,   0,   0,\n",
       "          0,   0],\n",
       "       [  0,   0,   0,   0, 136, 253, 253, 253, 212, 135, 132,  16,   0,\n",
       "          0,   0,   0,   0,   0,   0,   0,   0,   0,   0,   0,   0,   0,\n",
       "          0,   0],\n",
       "       [  0,   0,   0,   0,   0,   0,   0,   0,   0,   0,   0,   0,   0,\n",
       "          0,   0,   0,   0,   0,   0,   0,   0,   0,   0,   0,   0,   0,\n",
       "          0,   0],\n",
       "       [  0,   0,   0,   0,   0,   0,   0,   0,   0,   0,   0,   0,   0,\n",
       "          0,   0,   0,   0,   0,   0,   0,   0,   0,   0,   0,   0,   0,\n",
       "          0,   0],\n",
       "       [  0,   0,   0,   0,   0,   0,   0,   0,   0,   0,   0,   0,   0,\n",
       "          0,   0,   0,   0,   0,   0,   0,   0,   0,   0,   0,   0,   0,\n",
       "          0,   0]], dtype=uint8)"
      ]
     },
     "execution_count": 37,
     "metadata": {},
     "output_type": "execute_result"
    }
   ],
   "source": [
    "x_train[0]"
   ]
  },
  {
   "cell_type": "markdown",
   "metadata": {},
   "source": [
    "We will normalize all values between 0 and 1 and we will flatten the 28x28 images into vectors of size 784."
   ]
  },
  {
   "cell_type": "code",
   "execution_count": 18,
   "metadata": {
    "scrolled": true
   },
   "outputs": [
    {
     "name": "stdout",
     "output_type": "stream",
     "text": [
      "(60000, 784)\n",
      "(10000, 784)\n"
     ]
    }
   ],
   "source": [
    "x_train = x_train.astype('float32') / 255.\n",
    "x_val = x_val.astype('float32') / 255.\n",
    "# x_test = x_test.astype('float32') / 255\n",
    "# make 60.000 vectors where each vector has a length of 28x28\n",
    "x_train = x_train.reshape((len(x_train), np.prod(x_train.shape[1:])))\n",
    "x_val = x_val.reshape((len(x_val), np.prod(x_val.shape[1:])))\n",
    "# x_test = x_test.reshape((len(x_test), np.prod(x_test.shape[1:])))\n",
    "print(x_train.shape)\n",
    "print(x_val.shape)\n",
    "# print(x_test.shape)"
   ]
  },
  {
   "cell_type": "markdown",
   "metadata": {},
   "source": [
    "Now let's train our autoencoder for 50 epochs. open up tensor board with `tensorboard --logdir=/tmp/autoencoder` in command line."
   ]
  },
  {
   "cell_type": "code",
   "execution_count": 19,
   "metadata": {
    "scrolled": false
   },
   "outputs": [
    {
     "name": "stdout",
     "output_type": "stream",
     "text": [
      "Train on 60000 samples, validate on 10000 samples\n",
      "Epoch 1/50\n",
      "60000/60000 [==============================] - 5s 77us/step - loss: 0.3734 - val_loss: 0.2718\n",
      "Epoch 2/50\n",
      "60000/60000 [==============================] - 4s 71us/step - loss: 0.2638 - val_loss: 0.2520\n",
      "Epoch 3/50\n",
      "60000/60000 [==============================] - 4s 71us/step - loss: 0.2414 - val_loss: 0.2287\n",
      "Epoch 4/50\n",
      "60000/60000 [==============================] - 4s 74us/step - loss: 0.2211 - val_loss: 0.2114\n",
      "Epoch 5/50\n",
      "60000/60000 [==============================] - 4s 71us/step - loss: 0.2063 - val_loss: 0.1990\n",
      "Epoch 6/50\n",
      "60000/60000 [==============================] - 4s 73us/step - loss: 0.1956 - val_loss: 0.1899\n",
      "Epoch 7/50\n",
      "60000/60000 [==============================] - 4s 68us/step - loss: 0.1877 - val_loss: 0.1829\n",
      "Epoch 8/50\n",
      "60000/60000 [==============================] - 4s 66us/step - loss: 0.1812 - val_loss: 0.1769\n",
      "Epoch 9/50\n",
      "60000/60000 [==============================] - 4s 67us/step - loss: 0.1756 - val_loss: 0.1716\n",
      "Epoch 10/50\n",
      "60000/60000 [==============================] - 4s 67us/step - loss: 0.1706 - val_loss: 0.1669\n",
      "Epoch 11/50\n",
      "60000/60000 [==============================] - 4s 66us/step - loss: 0.1661 - val_loss: 0.1625\n",
      "Epoch 12/50\n",
      "60000/60000 [==============================] - 4s 65us/step - loss: 0.1618 - val_loss: 0.1584\n",
      "Epoch 13/50\n",
      "60000/60000 [==============================] - 4s 68us/step - loss: 0.1579 - val_loss: 0.1546\n",
      "Epoch 14/50\n",
      "60000/60000 [==============================] - 4s 66us/step - loss: 0.1543 - val_loss: 0.1511\n",
      "Epoch 15/50\n",
      "60000/60000 [==============================] - 4s 66us/step - loss: 0.1509 - val_loss: 0.1479\n",
      "Epoch 16/50\n",
      "60000/60000 [==============================] - 4s 67us/step - loss: 0.1478 - val_loss: 0.1449\n",
      "Epoch 17/50\n",
      "60000/60000 [==============================] - 4s 66us/step - loss: 0.1449 - val_loss: 0.1421\n",
      "Epoch 18/50\n",
      "60000/60000 [==============================] - 4s 66us/step - loss: 0.1422 - val_loss: 0.1394\n",
      "Epoch 19/50\n",
      "60000/60000 [==============================] - 4s 70us/step - loss: 0.1397 - val_loss: 0.1370\n",
      "Epoch 20/50\n",
      "60000/60000 [==============================] - 4s 71us/step - loss: 0.1374 - val_loss: 0.1348\n",
      "Epoch 21/50\n",
      "60000/60000 [==============================] - 4s 67us/step - loss: 0.1352 - val_loss: 0.1327\n",
      "Epoch 22/50\n",
      "60000/60000 [==============================] - 4s 69us/step - loss: 0.1331 - val_loss: 0.1306\n",
      "Epoch 23/50\n",
      "60000/60000 [==============================] - 4s 68us/step - loss: 0.1311 - val_loss: 0.1287\n",
      "Epoch 24/50\n",
      "60000/60000 [==============================] - 4s 73us/step - loss: 0.1293 - val_loss: 0.1269\n",
      "Epoch 25/50\n",
      "60000/60000 [==============================] - 4s 72us/step - loss: 0.1275 - val_loss: 0.1252\n",
      "Epoch 26/50\n",
      "60000/60000 [==============================] - 4s 59us/step - loss: 0.1258 - val_loss: 0.1235\n",
      "Epoch 27/50\n",
      "60000/60000 [==============================] - 4s 62us/step - loss: 0.1242 - val_loss: 0.1220\n",
      "Epoch 28/50\n",
      "60000/60000 [==============================] - 4s 67us/step - loss: 0.1227 - val_loss: 0.1205\n",
      "Epoch 29/50\n",
      "60000/60000 [==============================] - 4s 61us/step - loss: 0.1212 - val_loss: 0.1191\n",
      "Epoch 30/50\n",
      "60000/60000 [==============================] - 4s 72us/step - loss: 0.1198 - val_loss: 0.1177\n",
      "Epoch 31/50\n",
      "60000/60000 [==============================] - 4s 71us/step - loss: 0.1185 - val_loss: 0.1165\n",
      "Epoch 32/50\n",
      "60000/60000 [==============================] - 4s 59us/step - loss: 0.1173 - val_loss: 0.1153\n",
      "Epoch 33/50\n",
      "60000/60000 [==============================] - 4s 69us/step - loss: 0.1162 - val_loss: 0.1141\n",
      "Epoch 34/50\n",
      "60000/60000 [==============================] - 4s 72us/step - loss: 0.1151 - val_loss: 0.1131\n",
      "Epoch 35/50\n",
      "60000/60000 [==============================] - 4s 71us/step - loss: 0.1141 - val_loss: 0.1121\n",
      "Epoch 36/50\n",
      "60000/60000 [==============================] - 4s 62us/step - loss: 0.1131 - val_loss: 0.1112\n",
      "Epoch 37/50\n",
      "60000/60000 [==============================] - 4s 59us/step - loss: 0.1122 - val_loss: 0.1103\n",
      "Epoch 38/50\n",
      "60000/60000 [==============================] - 4s 59us/step - loss: 0.1114 - val_loss: 0.1095\n",
      "Epoch 39/50\n",
      "60000/60000 [==============================] - 4s 60us/step - loss: 0.1106 - val_loss: 0.1087\n",
      "Epoch 40/50\n",
      "60000/60000 [==============================] - 4s 60us/step - loss: 0.1099 - val_loss: 0.1081\n",
      "Epoch 41/50\n",
      "60000/60000 [==============================] - 4s 62us/step - loss: 0.1092 - val_loss: 0.1074\n",
      "Epoch 42/50\n",
      "60000/60000 [==============================] - 4s 64us/step - loss: 0.1086 - val_loss: 0.1068\n",
      "Epoch 43/50\n",
      "60000/60000 [==============================] - 4s 59us/step - loss: 0.1080 - val_loss: 0.1062\n",
      "Epoch 44/50\n",
      "60000/60000 [==============================] - 3s 58us/step - loss: 0.1075 - val_loss: 0.1057\n",
      "Epoch 45/50\n",
      "60000/60000 [==============================] - 4s 60us/step - loss: 0.1070 - val_loss: 0.1052\n",
      "Epoch 46/50\n",
      "60000/60000 [==============================] - 4s 61us/step - loss: 0.1065 - val_loss: 0.1048\n",
      "Epoch 47/50\n",
      "60000/60000 [==============================] - 4s 61us/step - loss: 0.1061 - val_loss: 0.1044\n",
      "Epoch 48/50\n",
      "60000/60000 [==============================] - 3s 58us/step - loss: 0.1057 - val_loss: 0.1040\n",
      "Epoch 49/50\n",
      "60000/60000 [==============================] - 3s 58us/step - loss: 0.1053 - val_loss: 0.1036\n",
      "Epoch 50/50\n",
      "60000/60000 [==============================] - 4s 59us/step - loss: 0.1050 - val_loss: 0.1033\n"
     ]
    },
    {
     "data": {
      "text/plain": [
       "<keras.callbacks.History at 0x271dfe61cc0>"
      ]
     },
     "execution_count": 19,
     "metadata": {},
     "output_type": "execute_result"
    }
   ],
   "source": [
    "from keras.callbacks import TensorBoard\n",
    "\n",
    "autoencoder.fit(x_train, x_train,\n",
    "                epochs=50,\n",
    "                batch_size=256,\n",
    "                shuffle=True,\n",
    "                validation_data=(x_val, x_val),\n",
    "                callbacks=[TensorBoard(log_dir='/tmp/autoencoder')])"
   ]
  },
  {
   "cell_type": "markdown",
   "metadata": {},
   "source": [
    "### batchsize"
   ]
  },
  {
   "cell_type": "markdown",
   "metadata": {},
   "source": [
    "Batch size defines number of samples that going to be propagated through the network.\n",
    "\n",
    "For instance, let's say you have 1050 training samples and you want to set up batch_size equal to 100. Algorithm takes first 100 samples (from 1st to 100th) from the training dataset and trains network. Next it takes second 100 samples (from 101st to 200th) and train network again. We can keep doing this procedure until we will propagate through the networks all samples. The problem usually happens with the last set of samples. In our example we've used 1050 which is not divisible by 100 without remainder. The simplest solution is just to get final 50 samples and train the network.\n",
    "\n",
    "Advantages:\n",
    "\n",
    "* It requires less memory. Since you train network using less number of samples the overall training procedure requires less memory. It's especially important in case if you are not able to fit dataset in memory.\n",
    "* Typically networks trains faster with mini-batches. That's because we update weights after each propagation. In our example we've propagated 11 batches (10 of them had 100 samples and 1 had 50 samples) and after each of them we've updated network's parameters. If we used all samples during propagation we would make only 1 update for the network's parameter.\n",
    "\n",
    "Disadvantages:\n",
    "\n",
    "* The smaller the batch the less accurate estimate of the gradient. In the figure below you can see that mini-batch (green color) gradient's direction fluctuates compare to the full batch (blue color)."
   ]
  },
  {
   "cell_type": "markdown",
   "metadata": {},
   "source": [
    "![https://stats.stackexchange.com/questions/153531/what-is-batch-size-in-neural-network](images\\lU3sx.png)"
   ]
  },
  {
   "cell_type": "markdown",
   "metadata": {},
   "source": [
    "After 50 epochs, the autoencoder seems to reach a stable train/test loss value of about 0.10. We can try to visualize the reconstructed inputs and the encoded representations. We will use Matplotlib."
   ]
  },
  {
   "cell_type": "code",
   "execution_count": 20,
   "metadata": {
    "collapsed": true,
    "scrolled": false
   },
   "outputs": [],
   "source": [
    "# encode and decode some digits\n",
    "# note that we take them from the *test* set\n",
    "encoded_imgs = encoder.predict(x_val)\n",
    "decoded_imgs = decoder.predict(encoded_imgs)"
   ]
  },
  {
   "cell_type": "code",
   "execution_count": 21,
   "metadata": {
    "scrolled": true
   },
   "outputs": [
    {
     "data": {
      "image/png": "[encoded data removed]",
      "text/plain": [
       "<matplotlib.figure.Figure at 0x271e029d908>"
      ]
     },
     "metadata": {},
     "output_type": "display_data"
    }
   ],
   "source": [
    "# use Matplotlib (don't ask)\n",
    "import matplotlib.pyplot as plt\n",
    "\n",
    "n = 10  # how many digits we will display\n",
    "plt.figure(figsize=(20, 4))\n",
    "for i in range(n):\n",
    "    # display original\n",
    "    ax = plt.subplot(2, n, i + 1)\n",
    "    plt.imshow(x_val[i].reshape(28, 28))\n",
    "    plt.gray()\n",
    "    ax.get_xaxis().set_visible(False)\n",
    "    ax.get_yaxis().set_visible(False)\n",
    "    \n",
    "    # encoded respresentation\n",
    "#     ax = plt.subplot(2, n, i + 1 + n)\n",
    "#     plt.imshow(encoded_imgs[i].reshape(6, 6))\n",
    "#     plt.gray()\n",
    "#     ax.get_xaxis().set_visible(False)\n",
    "#     ax.get_yaxis().set_visible(False)\n",
    "\n",
    "    # display reconstruction\n",
    "    ax = plt.subplot(2, n, i + 1 + n)\n",
    "    plt.imshow(decoded_imgs[i].reshape(28, 28))\n",
    "    plt.gray()\n",
    "    ax.get_xaxis().set_visible(False)\n",
    "    ax.get_yaxis().set_visible(False)\n",
    "plt.show()"
   ]
  },
  {
   "cell_type": "code",
   "execution_count": 22,
   "metadata": {
    "scrolled": true
   },
   "outputs": [
    {
     "data": {
      "text/plain": [
       "array([  8.363554  ,   0.6863333 ,  14.11952209,   6.7402401 ,\n",
       "         6.09213209,   5.38135004,   2.10553741,   2.55527806,\n",
       "        12.10164452,   2.47983027,   2.72452021,   9.32856178,\n",
       "         9.47200871,   3.97431803,   0.        ,   5.88972521,\n",
       "         2.74016428,   0.15349308,   4.29700613,   6.15368223,\n",
       "        13.50575542,   7.24913549,   1.27030444,   8.00200939,\n",
       "         2.26380539,   2.43485212,   4.28144979,   0.77613997,\n",
       "         4.5071249 ,   2.52069926,   5.4376955 ,   0.        ], dtype=float32)"
      ]
     },
     "execution_count": 22,
     "metadata": {},
     "output_type": "execute_result"
    }
   ],
   "source": [
    "encoded_imgs[0]"
   ]
  },
  {
   "cell_type": "markdown",
   "metadata": {},
   "source": [
    "# Stacked Autoencoder"
   ]
  },
  {
   "cell_type": "code",
   "execution_count": 23,
   "metadata": {
    "collapsed": true,
    "scrolled": false
   },
   "outputs": [],
   "source": [
    "input_img = Input(shape=(784,))\n",
    "encoded = Dense(128, activation='relu')(input_img)\n",
    "encoded = Dense(64, activation='relu')(encoded)\n",
    "encoded = Dense(32, activation='relu')(encoded)\n",
    "\n",
    "decoded = Dense(64, activation='relu')(encoded)\n",
    "decoded = Dense(128, activation='relu')(decoded)\n",
    "decoded = Dense(784, activation='sigmoid')(decoded)"
   ]
  },
  {
   "cell_type": "code",
   "execution_count": 24,
   "metadata": {
    "scrolled": false
   },
   "outputs": [
    {
     "name": "stdout",
     "output_type": "stream",
     "text": [
      "Train on 60000 samples, validate on 10000 samples\n",
      "Epoch 1/100\n",
      "60000/60000 [==============================] - 8s 126us/step - loss: 0.3395 - val_loss: 0.2640\n",
      "Epoch 2/100\n",
      "60000/60000 [==============================] - 6s 106us/step - loss: 0.2603 - val_loss: 0.2569\n",
      "Epoch 3/100\n",
      "60000/60000 [==============================] - 7s 109us/step - loss: 0.2529 - val_loss: 0.2470\n",
      "Epoch 4/100\n",
      "60000/60000 [==============================] - 7s 115us/step - loss: 0.2399 - val_loss: 0.2316\n",
      "Epoch 5/100\n",
      "60000/60000 [==============================] - 6s 101us/step - loss: 0.2241 - val_loss: 0.2145\n",
      "Epoch 6/100\n",
      "60000/60000 [==============================] - 6s 102us/step - loss: 0.2092 - val_loss: 0.2033\n",
      "Epoch 7/100\n",
      "60000/60000 [==============================] - 6s 102us/step - loss: 0.2011 - val_loss: 0.1956\n",
      "Epoch 8/100\n",
      "60000/60000 [==============================] - 6s 100us/step - loss: 0.1930 - val_loss: 0.1866\n",
      "Epoch 9/100\n",
      "60000/60000 [==============================] - 6s 102us/step - loss: 0.1838 - val_loss: 0.1785\n",
      "Epoch 10/100\n",
      "60000/60000 [==============================] - 7s 111us/step - loss: 0.1771 - val_loss: 0.1733\n",
      "Epoch 11/100\n",
      "60000/60000 [==============================] - 6s 101us/step - loss: 0.1729 - val_loss: 0.1696\n",
      "Epoch 12/100\n",
      "60000/60000 [==============================] - 6s 100us/step - loss: 0.1691 - val_loss: 0.1651\n",
      "Epoch 13/100\n",
      "60000/60000 [==============================] - 6s 100us/step - loss: 0.1654 - val_loss: 0.1623\n",
      "Epoch 14/100\n",
      "60000/60000 [==============================] - 6s 101us/step - loss: 0.1620 - val_loss: 0.1610\n",
      "Epoch 15/100\n",
      "60000/60000 [==============================] - 6s 105us/step - loss: 0.1588 - val_loss: 0.1574\n",
      "Epoch 16/100\n",
      "60000/60000 [==============================] - 7s 114us/step - loss: 0.1560 - val_loss: 0.1553\n",
      "Epoch 17/100\n",
      "60000/60000 [==============================] - 7s 112us/step - loss: 0.1534 - val_loss: 0.1504\n",
      "Epoch 18/100\n",
      "60000/60000 [==============================] - 6s 101us/step - loss: 0.1506 - val_loss: 0.1482\n",
      "Epoch 19/100\n",
      "60000/60000 [==============================] - 6s 101us/step - loss: 0.1482 - val_loss: 0.1450\n",
      "Epoch 20/100\n",
      "60000/60000 [==============================] - 6s 101us/step - loss: 0.1457 - val_loss: 0.1435\n",
      "Epoch 21/100\n",
      "60000/60000 [==============================] - 6s 101us/step - loss: 0.1439 - val_loss: 0.1417\n",
      "Epoch 22/100\n",
      "60000/60000 [==============================] - 6s 102us/step - loss: 0.1420 - val_loss: 0.1392\n",
      "Epoch 23/100\n",
      "60000/60000 [==============================] - 6s 102us/step - loss: 0.1404 - val_loss: 0.1375\n",
      "Epoch 24/100\n",
      "60000/60000 [==============================] - 6s 102us/step - loss: 0.1385 - val_loss: 0.1368\n",
      "Epoch 25/100\n",
      "60000/60000 [==============================] - 6s 102us/step - loss: 0.1368 - val_loss: 0.1341\n",
      "Epoch 26/100\n",
      "60000/60000 [==============================] - 7s 121us/step - loss: 0.1351 - val_loss: 0.1336\n",
      "Epoch 27/100\n",
      "60000/60000 [==============================] - 7s 116us/step - loss: 0.1336 - val_loss: 0.1311\n",
      "Epoch 28/100\n",
      "60000/60000 [==============================] - 7s 119us/step - loss: 0.1323 - val_loss: 0.1300\n",
      "Epoch 29/100\n",
      "60000/60000 [==============================] - 7s 109us/step - loss: 0.1312 - val_loss: 0.1288\n",
      "Epoch 30/100\n",
      "60000/60000 [==============================] - 6s 103us/step - loss: 0.1301 - val_loss: 0.1290\n",
      "Epoch 31/100\n",
      "60000/60000 [==============================] - 6s 103us/step - loss: 0.1290 - val_loss: 0.1270\n",
      "Epoch 32/100\n",
      "60000/60000 [==============================] - 6s 103us/step - loss: 0.1280 - val_loss: 0.1257\n",
      "Epoch 33/100\n",
      "60000/60000 [==============================] - 6s 103us/step - loss: 0.1270 - val_loss: 0.1262\n",
      "Epoch 34/100\n",
      "60000/60000 [==============================] - 6s 103us/step - loss: 0.1262 - val_loss: 0.1254\n",
      "Epoch 35/100\n",
      "60000/60000 [==============================] - 6s 102us/step - loss: 0.1252 - val_loss: 0.1240\n",
      "Epoch 36/100\n",
      "60000/60000 [==============================] - 7s 111us/step - loss: 0.1244 - val_loss: 0.1237\n",
      "Epoch 37/100\n",
      "60000/60000 [==============================] - 6s 107us/step - loss: 0.1237 - val_loss: 0.1216\n",
      "Epoch 38/100\n",
      "60000/60000 [==============================] - 6s 104us/step - loss: 0.1231 - val_loss: 0.1222\n",
      "Epoch 39/100\n",
      "60000/60000 [==============================] - 6s 102us/step - loss: 0.1224 - val_loss: 0.1212\n",
      "Epoch 40/100\n",
      "60000/60000 [==============================] - 6s 106us/step - loss: 0.1218 - val_loss: 0.1214\n",
      "Epoch 41/100\n",
      "60000/60000 [==============================] - 6s 108us/step - loss: 0.1212 - val_loss: 0.1200\n",
      "Epoch 42/100\n",
      "60000/60000 [==============================] - 6s 104us/step - loss: 0.1207 - val_loss: 0.1186\n",
      "Epoch 43/100\n",
      "60000/60000 [==============================] - 6s 102us/step - loss: 0.1201 - val_loss: 0.1184\n",
      "Epoch 44/100\n",
      "60000/60000 [==============================] - 6s 102us/step - loss: 0.1196 - val_loss: 0.1173\n",
      "Epoch 45/100\n",
      "60000/60000 [==============================] - 6s 104us/step - loss: 0.1189 - val_loss: 0.1167\n",
      "Epoch 46/100\n",
      "60000/60000 [==============================] - 6s 101us/step - loss: 0.1183 - val_loss: 0.1167\n",
      "Epoch 47/100\n",
      "60000/60000 [==============================] - 6s 102us/step - loss: 0.1177 - val_loss: 0.1148\n",
      "Epoch 48/100\n",
      "60000/60000 [==============================] - 7s 110us/step - loss: 0.1170 - val_loss: 0.1157\n",
      "Epoch 49/100\n",
      "60000/60000 [==============================] - 6s 102us/step - loss: 0.1164 - val_loss: 0.1137\n",
      "Epoch 50/100\n",
      "60000/60000 [==============================] - 6s 101us/step - loss: 0.1158 - val_loss: 0.1135\n",
      "Epoch 51/100\n",
      "60000/60000 [==============================] - 6s 100us/step - loss: 0.1152 - val_loss: 0.1140\n",
      "Epoch 52/100\n",
      "60000/60000 [==============================] - 6s 102us/step - loss: 0.1147 - val_loss: 0.1129\n",
      "Epoch 53/100\n",
      "60000/60000 [==============================] - 6s 101us/step - loss: 0.1143 - val_loss: 0.1121\n",
      "Epoch 54/100\n",
      "60000/60000 [==============================] - 6s 100us/step - loss: 0.1138 - val_loss: 0.1118\n",
      "Epoch 55/100\n",
      "60000/60000 [==============================] - 6s 101us/step - loss: 0.1133 - val_loss: 0.1114\n",
      "Epoch 56/100\n",
      "60000/60000 [==============================] - 6s 101us/step - loss: 0.1127 - val_loss: 0.1109\n",
      "Epoch 57/100\n",
      "60000/60000 [==============================] - 6s 100us/step - loss: 0.1124 - val_loss: 0.1107\n",
      "Epoch 58/100\n",
      "60000/60000 [==============================] - 6s 105us/step - loss: 0.1119 - val_loss: 0.1118\n",
      "Epoch 59/100\n",
      "60000/60000 [==============================] - 6s 104us/step - loss: 0.1115 - val_loss: 0.1104\n",
      "Epoch 60/100\n",
      "60000/60000 [==============================] - 6s 92us/step - loss: 0.1111 - val_loss: 0.1095\n",
      "Epoch 61/100\n",
      "60000/60000 [==============================] - 6s 92us/step - loss: 0.1108 - val_loss: 0.1090\n",
      "Epoch 62/100\n",
      "60000/60000 [==============================] - 6s 92us/step - loss: 0.1104 - val_loss: 0.1074\n",
      "Epoch 63/100\n",
      "60000/60000 [==============================] - 6s 102us/step - loss: 0.1100 - val_loss: 0.1082\n",
      "Epoch 64/100\n",
      "60000/60000 [==============================] - 6s 101us/step - loss: 0.1096 - val_loss: 0.1084\n",
      "Epoch 65/100\n",
      "60000/60000 [==============================] - 6s 101us/step - loss: 0.1093 - val_loss: 0.1070\n",
      "Epoch 66/100\n",
      "60000/60000 [==============================] - 6s 101us/step - loss: 0.1088 - val_loss: 0.1080\n",
      "Epoch 67/100\n",
      "60000/60000 [==============================] - 6s 103us/step - loss: 0.1085 - val_loss: 0.1074\n",
      "Epoch 68/100\n",
      "60000/60000 [==============================] - 6s 107us/step - loss: 0.1082 - val_loss: 0.1059\n",
      "Epoch 69/100\n",
      "60000/60000 [==============================] - 6s 92us/step - loss: 0.1077 - val_loss: 0.1058\n",
      "Epoch 70/100\n",
      "60000/60000 [==============================] - 6s 101us/step - loss: 0.1075 - val_loss: 0.1065\n",
      "Epoch 71/100\n",
      "60000/60000 [==============================] - 6s 100us/step - loss: 0.1072 - val_loss: 0.1057\n",
      "Epoch 72/100\n",
      "60000/60000 [==============================] - 6s 99us/step - loss: 0.1069 - val_loss: 0.1052\n",
      "Epoch 73/100\n",
      "60000/60000 [==============================] - 6s 99us/step - loss: 0.1065 - val_loss: 0.1046\n",
      "Epoch 74/100\n",
      "60000/60000 [==============================] - 6s 100us/step - loss: 0.1063 - val_loss: 0.1060\n",
      "Epoch 75/100\n",
      "60000/60000 [==============================] - 6s 100us/step - loss: 0.1061 - val_loss: 0.1050\n",
      "Epoch 76/100\n"
     ]
    },
    {
     "name": "stdout",
     "output_type": "stream",
     "text": [
      "60000/60000 [==============================] - 6s 99us/step - loss: 0.1058 - val_loss: 0.1056\n",
      "Epoch 77/100\n",
      "60000/60000 [==============================] - 6s 102us/step - loss: 0.1055 - val_loss: 0.1043\n",
      "Epoch 78/100\n",
      "60000/60000 [==============================] - 6s 102us/step - loss: 0.1054 - val_loss: 0.1037\n",
      "Epoch 79/100\n",
      "60000/60000 [==============================] - 6s 100us/step - loss: 0.1051 - val_loss: 0.1047\n",
      "Epoch 80/100\n",
      "60000/60000 [==============================] - 6s 103us/step - loss: 0.1048 - val_loss: 0.1041\n",
      "Epoch 81/100\n",
      "60000/60000 [==============================] - 6s 101us/step - loss: 0.1048 - val_loss: 0.1037\n",
      "Epoch 82/100\n",
      "60000/60000 [==============================] - 6s 107us/step - loss: 0.1046 - val_loss: 0.1035\n",
      "Epoch 83/100\n",
      "60000/60000 [==============================] - 7s 116us/step - loss: 0.1043 - val_loss: 0.1026\n",
      "Epoch 84/100\n",
      "60000/60000 [==============================] - 6s 106us/step - loss: 0.1043 - val_loss: 0.1025\n",
      "Epoch 85/100\n",
      "60000/60000 [==============================] - 6s 101us/step - loss: 0.1038 - val_loss: 0.1027\n",
      "Epoch 86/100\n",
      "60000/60000 [==============================] - 6s 100us/step - loss: 0.1038 - val_loss: 0.1039\n",
      "Epoch 87/100\n",
      "60000/60000 [==============================] - 6s 102us/step - loss: 0.1036 - val_loss: 0.1017\n",
      "Epoch 88/100\n",
      "60000/60000 [==============================] - 6s 96us/step - loss: 0.1034 - val_loss: 0.1014\n",
      "Epoch 89/100\n",
      "60000/60000 [==============================] - 6s 92us/step - loss: 0.1032 - val_loss: 0.1021\n",
      "Epoch 90/100\n",
      "60000/60000 [==============================] - 6s 92us/step - loss: 0.1031 - val_loss: 0.1016\n",
      "Epoch 91/100\n",
      "60000/60000 [==============================] - 6s 93us/step - loss: 0.1029 - val_loss: 0.1014\n",
      "Epoch 92/100\n",
      "60000/60000 [==============================] - 6s 93us/step - loss: 0.1028 - val_loss: 0.1017\n",
      "Epoch 93/100\n",
      "60000/60000 [==============================] - 6s 96us/step - loss: 0.1027 - val_loss: 0.1016\n",
      "Epoch 94/100\n",
      "60000/60000 [==============================] - 6s 96us/step - loss: 0.1025 - val_loss: 0.1012\n",
      "Epoch 95/100\n",
      "60000/60000 [==============================] - 6s 103us/step - loss: 0.1023 - val_loss: 0.1015\n",
      "Epoch 96/100\n",
      "60000/60000 [==============================] - 7s 117us/step - loss: 0.1021 - val_loss: 0.1018\n",
      "Epoch 97/100\n",
      "60000/60000 [==============================] - 7s 113us/step - loss: 0.1020 - val_loss: 0.1010\n",
      "Epoch 98/100\n",
      "60000/60000 [==============================] - 5s 92us/step - loss: 0.1017 - val_loss: 0.0999\n",
      "Epoch 99/100\n",
      "60000/60000 [==============================] - 6s 92us/step - loss: 0.1016 - val_loss: 0.1011\n",
      "Epoch 100/100\n",
      "60000/60000 [==============================] - 6s 92us/step - loss: 0.1015 - val_loss: 0.1005\n"
     ]
    },
    {
     "data": {
      "text/plain": [
       "<keras.callbacks.History at 0x271e217ceb8>"
      ]
     },
     "execution_count": 24,
     "metadata": {},
     "output_type": "execute_result"
    }
   ],
   "source": [
    "autoencoder = Model(input_img, decoded)\n",
    "autoencoder.compile(optimizer='adadelta', loss='binary_crossentropy')\n",
    "\n",
    "autoencoder.fit(x_train, x_train,\n",
    "                epochs=100,\n",
    "                batch_size=256,\n",
    "                shuffle=True,\n",
    "                validation_data=(x_val, x_val))"
   ]
  },
  {
   "cell_type": "code",
   "execution_count": 25,
   "metadata": {
    "collapsed": true,
    "scrolled": false
   },
   "outputs": [],
   "source": [
    "encoded_imgs = encoder.predict(x_val)\n",
    "decoded_imgs = decoder.predict(encoded_imgs)"
   ]
  },
  {
   "cell_type": "code",
   "execution_count": 26,
   "metadata": {
    "scrolled": false
   },
   "outputs": [
    {
     "data": {
      "image/png": "[encoded data removed]",
      "text/plain": [
       "<matplotlib.figure.Figure at 0x271e2f7eac8>"
      ]
     },
     "metadata": {},
     "output_type": "display_data"
    }
   ],
   "source": [
    "n = 10  # how many digits we will display\n",
    "plt.figure(figsize=(20, 4))\n",
    "for i in range(n):\n",
    "    # display original\n",
    "    ax = plt.subplot(2, n, i + 1)\n",
    "    plt.imshow(x_val[i].reshape(28, 28))\n",
    "    plt.gray()\n",
    "    ax.get_xaxis().set_visible(False)\n",
    "    ax.get_yaxis().set_visible(False)\n",
    "\n",
    "    # display reconstruction\n",
    "    ax = plt.subplot(2, n, i + 1 + n)\n",
    "    plt.imshow(decoded_imgs[i].reshape(28, 28))\n",
    "    plt.gray()\n",
    "    ax.get_xaxis().set_visible(False)\n",
    "    ax.get_yaxis().set_visible(False)\n",
    "plt.show()"
   ]
  },
  {
   "cell_type": "markdown",
   "metadata": {},
   "source": [
    "# Denoising Data"
   ]
  },
  {
   "cell_type": "code",
   "execution_count": 39,
   "metadata": {
    "collapsed": true,
    "scrolled": true
   },
   "outputs": [],
   "source": [
    "# (x_train, _), (x_val, _) = mnist.load_data()\n",
    "\n",
    "# x_train = x_train.astype('float32') / 255.\n",
    "# x_val = x_val.astype('float32') / 255.\n",
    "# x_train = np.reshape(x_train, (len(x_train), 28, 28, 1))  # adapt this if using `channels_first` image data format\n",
    "# x_val = np.reshape(x_val, (len(x_val), 28, 28, 1)) \n",
    "\n",
    "# noise_factor = 0.5\n",
    "# x_train_noisy = x_train + noise_factor * np.random.normal(loc=0.0, scale=1.0, size=x_train.shape) \n",
    "# x_val_noisy = x_val + noise_factor * np.random.normal(loc=0.0, scale=1.0, size=x_val.shape) \n",
    "\n",
    "# # re-normalization by clipping to the intervall (0,1)\n",
    "# x_train_noisy = np.clip(x_train_noisy, 0., 1.)\n",
    "# x_val_noisy = np.clip(x_val_noisy, 0., 1.)"
   ]
  },
  {
   "cell_type": "code",
   "execution_count": 43,
   "metadata": {
    "scrolled": true
   },
   "outputs": [],
   "source": [
    "(x_train, _), (x_val, _) = mnist.load_data()\n",
    "\n",
    "x_train = x_train.astype('float32') / 255.\n",
    "x_val = x_val.astype('float32') / 255.\n",
    "x_train = x_train.reshape((len(x_train), np.prod(x_train.shape[1:])))\n",
    "x_val = x_val.reshape((len(x_val), np.prod(x_val.shape[1:])))\n",
    "\n",
    "noise_factor = 0.5\n",
    "x_train_noisy = x_train + noise_factor * np.random.normal(loc=0.0, scale=1.0, size=x_train.shape) \n",
    "x_val_noisy = x_val + noise_factor * np.random.normal(loc=0.0, scale=1.0, size=x_val.shape) \n",
    "\n",
    "# re-normalization by clipping to the intervall (0,1)\n",
    "x_train_noisy = np.clip(x_train_noisy, 0., 1.)\n",
    "x_val_noisy = np.clip(x_val_noisy, 0., 1.)"
   ]
  },
  {
   "cell_type": "code",
   "execution_count": 42,
   "metadata": {
    "scrolled": false
   },
   "outputs": [
    {
     "data": {
      "text/plain": [
       "array([ 0.03777336,  0.        ,  0.        ,  0.46009773,  0.74985305,\n",
       "        0.        ,  0.23710042,  0.13497281,  0.        ,  0.        ,\n",
       "        0.47216259,  0.        ,  0.        ,  0.        ,  0.        ,\n",
       "        0.        ,  0.        ,  0.        ,  0.17937523,  0.31620825,\n",
       "        0.99028615,  0.28960346,  0.        ,  0.        ,  0.66722709,\n",
       "        0.        ,  0.12383496,  0.        ,  0.54364973,  0.51352438,\n",
       "        0.31322291,  0.16389857,  0.36395377,  0.        ,  1.        ,\n",
       "        0.        ,  0.        ,  0.28036377,  0.        ,  0.        ,\n",
       "        0.34728008,  0.1196191 ,  0.38097145,  0.46376166,  0.        ,\n",
       "        0.95264448,  0.        ,  0.        ,  0.        ,  0.        ,\n",
       "        0.1031486 ,  0.66866739,  0.22335236,  0.        ,  0.1202323 ,\n",
       "        0.91507071,  0.35954142,  0.60018507,  0.2382857 ,  0.        ,\n",
       "        0.        ,  0.        ,  1.        ,  0.21016193,  0.        ,\n",
       "        0.        ,  0.6043334 ,  1.        ,  0.45091459,  0.        ,\n",
       "        1.        ,  1.        ,  0.        ,  0.23263612,  0.        ,\n",
       "        0.        ,  0.18105509,  0.2302772 ,  0.        ,  0.        ,\n",
       "        0.        ,  0.        ,  0.        ,  0.04535892,  0.        ,\n",
       "        0.18084771,  0.38858991,  0.        ,  0.89883238,  0.32524241,\n",
       "        0.        ,  0.375916  ,  0.        ,  0.68173237,  0.57494009,\n",
       "        0.50515173,  0.        ,  0.        ,  0.13234758,  0.55628706,\n",
       "        0.28010757,  0.        ,  0.        ,  0.        ,  0.52937506,\n",
       "        0.        ,  0.        ,  0.07996401,  0.        ,  0.47172652,\n",
       "        0.        ,  0.        ,  0.        ,  0.        ,  0.        ,\n",
       "        0.        ,  0.29741454,  0.18556254,  0.6119526 ,  0.38951239,\n",
       "        0.10011065,  0.        ,  0.21975608,  1.        ,  0.        ,\n",
       "        0.17245949,  0.        ,  0.        ,  0.        ,  0.        ,\n",
       "        0.06983219,  0.        ,  0.        ,  0.52696696,  0.        ,\n",
       "        0.3282019 ,  0.        ,  0.30455019,  0.        ,  0.05540413,\n",
       "        0.40644029,  0.        ,  0.        ,  0.        ,  0.49839071,\n",
       "        0.        ,  0.36096166,  0.        ,  0.03243663,  0.09461026,\n",
       "        0.        ,  0.        ,  0.        ,  0.17971409,  0.        ,\n",
       "        0.9404145 ,  0.        ,  0.        ,  0.50733947,  0.32873601,\n",
       "        0.29251695,  1.        ,  0.54355237,  0.7749213 ,  0.        ,\n",
       "        0.        ,  0.        ,  0.81895014,  0.        ,  0.        ,\n",
       "        0.15002086,  0.        ,  0.22278827,  0.        ,  0.        ,\n",
       "        0.        ,  0.18780694,  0.04321833,  0.        ,  0.74984498,\n",
       "        1.        ,  0.75508282,  1.        ,  1.        ,  1.        ,\n",
       "        0.        ,  0.74474923,  0.75630904,  0.74367257,  0.32016205,\n",
       "        0.        ,  0.41057791,  0.        ,  0.20496476,  0.        ,\n",
       "        0.        ,  0.84068796,  0.67098091,  0.34226279,  0.        ,\n",
       "        0.        ,  0.        ,  1.        ,  0.        ,  0.1574798 ,\n",
       "        1.        ,  1.        ,  0.        ,  0.39948848,  1.        ,\n",
       "        1.        ,  1.        ,  0.99889756,  0.63732252,  0.61957758,\n",
       "        1.        ,  1.        ,  0.        ,  0.1240289 ,  0.        ,\n",
       "        0.15482539,  0.        ,  0.34818604,  0.6232317 ,  0.68016241,\n",
       "        0.        ,  0.        ,  0.12044407,  0.        ,  0.01343176,\n",
       "        0.        ,  0.24027862,  1.        ,  0.85385335,  1.        ,\n",
       "        1.        ,  1.        ,  1.        ,  1.        ,  0.99512622,\n",
       "        1.        ,  1.        ,  0.57826848,  0.8248762 ,  0.        ,\n",
       "        0.        ,  0.        ,  0.36988903,  0.        ,  0.        ,\n",
       "        0.02534964,  0.        ,  0.34084101,  0.        ,  0.        ,\n",
       "        0.        ,  0.00343546,  0.04658171,  0.60075651,  0.58524518,\n",
       "        0.        ,  1.        ,  0.        ,  0.94206541,  1.        ,\n",
       "        1.        ,  0.        ,  0.        ,  0.        ,  0.45536864,\n",
       "        0.        ,  0.        ,  0.98737178,  0.24125051,  0.        ,\n",
       "        0.15941342,  0.17109599,  0.        ,  0.        ,  0.0438959 ,\n",
       "        0.        ,  0.44311296,  0.44182045,  0.        ,  0.27050137,\n",
       "        0.        ,  0.20649592,  0.59303489,  0.30436443,  0.20402476,\n",
       "        0.        ,  0.38211973,  1.        ,  0.45057942,  0.53405672,\n",
       "        0.        ,  0.        ,  0.        ,  0.10079384,  0.        ,\n",
       "        0.        ,  0.        ,  1.        ,  0.        ,  0.11874392,\n",
       "        0.        ,  0.        ,  0.40315114,  0.        ,  0.17781184,\n",
       "        0.        ,  0.        ,  0.        ,  0.        ,  0.        ,\n",
       "        0.30225084,  0.        ,  0.18235391,  0.17816126,  0.01201622,\n",
       "        0.        ,  0.51008636,  0.84806406,  0.        ,  0.65836457,\n",
       "        0.        ,  0.28065085,  0.        ,  0.        ,  0.49742429,\n",
       "        0.29674022,  0.39769418,  0.33284959,  0.43900734,  0.        ,\n",
       "        0.37645853,  0.        ,  0.        ,  0.        ,  0.52743915,\n",
       "        0.        ,  0.        ,  0.        ,  0.27835434,  0.09208101,\n",
       "        0.        ,  0.45065658,  0.        ,  0.5088485 ,  0.09251514,\n",
       "        0.        ,  0.        ,  0.        ,  0.50749506,  0.07876682,\n",
       "        0.16107949,  0.82082786,  0.        ,  0.16646773,  0.31132931,\n",
       "        0.        ,  0.        ,  0.44492229,  0.00810636,  0.53115233,\n",
       "        0.20021223,  0.19027294,  0.        ,  1.        ,  0.        ,\n",
       "        0.62874405,  0.        ,  0.68918098,  0.21255265,  0.        ,\n",
       "        1.        ,  0.960205  ,  0.71940303,  1.        ,  0.24252592,\n",
       "        0.44973495,  0.        ,  0.        ,  1.        ,  0.        ,\n",
       "        0.15419567,  0.25914441,  0.21105632,  0.05442998,  0.        ,\n",
       "        0.        ,  0.07112656,  0.        ,  0.00259777,  0.        ,\n",
       "        0.62413106,  0.        ,  0.        ,  0.        ,  0.42090279,\n",
       "        0.        ,  0.2825691 ,  0.        ,  0.        ,  0.1471619 ,\n",
       "        0.2344365 ,  1.        ,  1.        ,  0.97296378,  0.06214629,\n",
       "        0.10953414,  1.        ,  0.        ,  0.1216974 ,  0.        ,\n",
       "        0.        ,  0.89502375,  0.        ,  0.        ,  0.        ,\n",
       "        0.46576319,  0.        ,  0.        ,  0.        ,  0.        ,\n",
       "        0.19152549,  0.27849613,  0.17646973,  0.        ,  0.        ,\n",
       "        0.        ,  0.        ,  0.        ,  0.        ,  0.        ,\n",
       "        0.45155638,  0.7587139 ,  0.00582406,  0.        ,  0.32751728,\n",
       "        0.13164915,  0.        ,  0.        ,  0.        ,  0.24357546,\n",
       "        0.        ,  0.        ,  0.        ,  0.        ,  0.        ,\n",
       "        0.        ,  0.16616998,  0.19900245,  0.        ,  0.        ,\n",
       "        0.02670526,  0.        ,  0.        ,  1.        ,  0.47746727,\n",
       "        0.02954064,  0.02101454,  0.10722601,  0.90578521,  0.85932712,\n",
       "        0.89886129,  1.        ,  1.        ,  0.        ,  0.        ,\n",
       "        0.        ,  0.00211665,  0.        ,  0.        ,  0.20147796,\n",
       "        0.        ,  0.20688569,  1.        ,  0.        ,  0.        ,\n",
       "        0.77499262,  0.49561568,  0.32027863,  0.42485336,  0.        ,\n",
       "        0.17025478,  0.        ,  0.18606207,  1.        ,  0.47006798,\n",
       "        0.00827575,  0.17685961,  0.        ,  1.        ,  0.5198416 ,\n",
       "        0.96803213,  0.19446952,  0.0273707 ,  0.        ,  0.10304626,\n",
       "        0.        ,  0.        ,  0.        ,  0.00325187,  0.34856299,\n",
       "        0.        ,  0.        ,  0.068364  ,  0.45944475,  0.18170741,\n",
       "        0.31557618,  0.72218532,  0.56164679,  0.8355276 ,  0.        ,\n",
       "        0.23651496,  0.        ,  0.        ,  0.        ,  0.        ,\n",
       "        0.78371191,  0.81441907,  1.        ,  1.        ,  0.        ,\n",
       "        0.        ,  0.2270934 ,  0.79405628,  0.        ,  0.        ,\n",
       "        0.13041581,  0.48040319,  0.        ,  0.        ,  0.15263264,\n",
       "        0.15437568,  0.        ,  0.        ,  0.        ,  0.76310951,\n",
       "        0.28144276,  0.79811727,  0.        ,  0.        ,  0.40309313,\n",
       "        1.        ,  1.        ,  1.        ,  0.18975221,  0.68355334,\n",
       "        0.91352138,  1.        ,  0.31064387,  0.        ,  0.05429401,\n",
       "        0.18679904,  0.        ,  0.16597474,  1.        ,  0.        ,\n",
       "        0.        ,  0.        ,  0.        ,  0.        ,  0.44827613,\n",
       "        0.01331524,  0.24466997,  0.        ,  0.91968024,  0.24011867,\n",
       "        0.        ,  0.17672103,  1.        ,  0.56969792,  0.61625374,\n",
       "        0.80333325,  1.        ,  0.65443895,  1.        ,  0.        ,\n",
       "        0.        ,  0.        ,  0.        ,  0.68831116,  1.        ,\n",
       "        0.86469829,  0.27656727,  0.        ,  0.        ,  0.03820598,\n",
       "        0.25994366,  0.0482663 ,  0.        ,  0.20521659,  0.        ,\n",
       "        0.        ,  0.44029143,  0.16502532,  0.89399562,  0.93984464,\n",
       "        0.56072756,  0.30950123,  1.        ,  1.        ,  0.40209645,\n",
       "        0.4309387 ,  0.        ,  0.56317739,  0.        ,  0.59485752,\n",
       "        0.        ,  0.        ,  0.1379134 ,  0.        ,  0.        ,\n",
       "        0.        ,  0.        ,  0.08919955,  0.63090004,  0.15052032,\n",
       "        0.12347197,  0.47341904,  0.        ,  1.        ,  1.        ,\n",
       "        0.30284209,  0.62863994,  0.49278425,  1.        ,  0.68287669,\n",
       "        0.43343733,  0.        ,  0.09010644,  0.        ,  0.05065881,\n",
       "        0.26149274,  0.        ,  0.09243842,  0.197842  ,  0.13322975,\n",
       "        1.        ,  0.32760108,  0.        ,  0.23653251,  0.43444654,\n",
       "        0.25620653,  0.        ,  0.        ,  0.18862955,  0.86655263,\n",
       "        0.68317796,  0.93618656,  0.66414281,  0.71846874,  0.8108656 ,\n",
       "        1.        ,  0.55307549,  0.54260402,  0.        ,  0.30390781,\n",
       "        0.4797402 ,  0.21041204,  0.        ,  0.82957811,  0.        ,\n",
       "        0.        ,  0.65435148,  0.        ,  0.        ,  0.18865946,\n",
       "        0.26043643,  0.        ,  0.        ,  0.        ,  0.        ,\n",
       "        0.        ,  0.        ,  1.        ,  0.84072761,  1.        ,\n",
       "        0.54426664,  0.44003242,  0.66669761,  0.        ,  0.06582051,\n",
       "        0.        ,  0.        ,  0.40501962,  1.        ,  0.        ,\n",
       "        0.        ,  0.08261427,  0.74212119,  0.02806181,  0.        ,\n",
       "        0.        ,  0.        ,  0.        ,  0.21473239,  0.        ,\n",
       "        0.47544873,  0.        ,  0.37277712,  0.        ,  0.        ,\n",
       "        0.        ,  0.        ,  0.        ,  0.        ,  0.29728381,\n",
       "        0.        ,  0.13268548,  0.92906779,  0.15638275,  0.        ,\n",
       "        0.46294608,  0.        ,  0.        ,  0.21258539,  0.        ,\n",
       "        0.        ,  0.        ,  0.        ,  0.28370866,  0.7871738 ,\n",
       "        0.        ,  0.        ,  0.57117635,  0.07111134,  0.        ,\n",
       "        0.08540062,  0.57315723,  0.        ,  0.42954141,  0.1773826 ,\n",
       "        0.        ,  0.90538236,  0.34007204,  0.        ,  0.        ,\n",
       "        0.10271779,  0.10895732,  0.        ,  0.        ,  0.08367278,\n",
       "        0.        ,  0.        ,  0.        ,  0.08768658,  1.        ,\n",
       "        0.        ,  0.        ,  0.        ,  0.        ,  0.        ,\n",
       "        0.48359923,  0.        ,  0.        ,  0.        ,  0.        ,\n",
       "        0.        ,  0.10834959,  0.        ,  0.        ,  0.76066946,\n",
       "        0.        ,  0.20316002,  0.        ,  0.        ,  0.        ,\n",
       "        0.        ,  0.40011802,  0.04135842,  0.50252155,  0.04525338,\n",
       "        0.        ,  0.        ,  0.24110623,  0.        ,  0.        ,\n",
       "        0.20473005,  0.        ,  0.        ,  0.41122816])"
      ]
     },
     "execution_count": 42,
     "metadata": {},
     "output_type": "execute_result"
    }
   ],
   "source": [
    "x_train_noisy[0]"
   ]
  },
  {
   "cell_type": "code",
   "execution_count": 44,
   "metadata": {
    "scrolled": true
   },
   "outputs": [
    {
     "data": {
      "image/png": "[encoded data removed]",
      "text/plain": [
       "<matplotlib.figure.Figure at 0x2718f175400>"
      ]
     },
     "metadata": {},
     "output_type": "display_data"
    }
   ],
   "source": [
    "n = 10\n",
    "plt.figure(figsize=(20, 2))\n",
    "for i in range(n):\n",
    "    ax = plt.subplot(1, n, i + 1)\n",
    "    plt.imshow(x_val_noisy[i].reshape(28, 28))\n",
    "    plt.gray()\n",
    "    ax.get_xaxis().set_visible(False)\n",
    "    ax.get_yaxis().set_visible(False)\n",
    "plt.show()"
   ]
  },
  {
   "cell_type": "markdown",
   "metadata": {},
   "source": [
    "Stick with the stack"
   ]
  },
  {
   "cell_type": "code",
   "execution_count": 49,
   "metadata": {
    "scrolled": true
   },
   "outputs": [
    {
     "name": "stdout",
     "output_type": "stream",
     "text": [
      "Train on 60000 samples, validate on 10000 samples\n",
      "Epoch 1/100\n",
      "60000/60000 [==============================] - 7s 118us/step - loss: 0.1236 - val_loss: 0.1238\n",
      "Epoch 2/100\n",
      "60000/60000 [==============================] - 6s 107us/step - loss: 0.1232 - val_loss: 0.1248\n",
      "Epoch 3/100\n",
      "60000/60000 [==============================] - 6s 106us/step - loss: 0.1231 - val_loss: 0.1244\n",
      "Epoch 4/100\n",
      "60000/60000 [==============================] - 6s 106us/step - loss: 0.1228 - val_loss: 0.1227\n",
      "Epoch 5/100\n",
      "60000/60000 [==============================] - 7s 119us/step - loss: 0.1228 - val_loss: 0.1243\n",
      "Epoch 6/100\n",
      "60000/60000 [==============================] - 6s 105us/step - loss: 0.1226 - val_loss: 0.1244\n",
      "Epoch 7/100\n",
      "60000/60000 [==============================] - 6s 96us/step - loss: 0.1223 - val_loss: 0.1231\n",
      "Epoch 8/100\n",
      "60000/60000 [==============================] - 6s 105us/step - loss: 0.1222 - val_loss: 0.1233\n",
      "Epoch 9/100\n",
      "60000/60000 [==============================] - 6s 96us/step - loss: 0.1220 - val_loss: 0.1234\n",
      "Epoch 10/100\n",
      "60000/60000 [==============================] - 6s 96us/step - loss: 0.1219 - val_loss: 0.1235\n",
      "Epoch 11/100\n",
      "60000/60000 [==============================] - 6s 97us/step - loss: 0.1217 - val_loss: 0.1219\n",
      "Epoch 12/100\n",
      "60000/60000 [==============================] - 6s 96us/step - loss: 0.1216 - val_loss: 0.1229\n",
      "Epoch 13/100\n",
      "60000/60000 [==============================] - 6s 97us/step - loss: 0.1214 - val_loss: 0.1229\n",
      "Epoch 14/100\n",
      "60000/60000 [==============================] - 6s 106us/step - loss: 0.1212 - val_loss: 0.1222\n",
      "Epoch 15/100\n",
      "60000/60000 [==============================] - 6s 100us/step - loss: 0.1213 - val_loss: 0.1225\n",
      "Epoch 16/100\n",
      "60000/60000 [==============================] - 6s 106us/step - loss: 0.1210 - val_loss: 0.1227\n",
      "Epoch 17/100\n",
      "60000/60000 [==============================] - 7s 113us/step - loss: 0.1209 - val_loss: 0.1233\n",
      "Epoch 18/100\n",
      "60000/60000 [==============================] - 7s 119us/step - loss: 0.1208 - val_loss: 0.1219\n",
      "Epoch 19/100\n",
      "60000/60000 [==============================] - 6s 105us/step - loss: 0.1208 - val_loss: 0.1223\n",
      "Epoch 20/100\n",
      "60000/60000 [==============================] - 6s 97us/step - loss: 0.1204 - val_loss: 0.1217\n",
      "Epoch 21/100\n",
      "60000/60000 [==============================] - 6s 98us/step - loss: 0.1205 - val_loss: 0.1228\n",
      "Epoch 22/100\n",
      "60000/60000 [==============================] - 6s 97us/step - loss: 0.1201 - val_loss: 0.1218\n",
      "Epoch 23/100\n",
      "60000/60000 [==============================] - 6s 98us/step - loss: 0.1202 - val_loss: 0.1222\n",
      "Epoch 24/100\n",
      "60000/60000 [==============================] - 6s 97us/step - loss: 0.1201 - val_loss: 0.1210\n",
      "Epoch 25/100\n",
      "60000/60000 [==============================] - 6s 97us/step - loss: 0.1199 - val_loss: 0.1210\n",
      "Epoch 26/100\n",
      "60000/60000 [==============================] - 6s 97us/step - loss: 0.1198 - val_loss: 0.1208\n",
      "Epoch 27/100\n",
      "60000/60000 [==============================] - 6s 96us/step - loss: 0.1197 - val_loss: 0.1206\n",
      "Epoch 28/100\n",
      "60000/60000 [==============================] - 6s 105us/step - loss: 0.1197 - val_loss: 0.1216\n",
      "Epoch 29/100\n",
      "60000/60000 [==============================] - 6s 98us/step - loss: 0.1195 - val_loss: 0.1209\n",
      "Epoch 30/100\n",
      "60000/60000 [==============================] - 6s 96us/step - loss: 0.1192 - val_loss: 0.1211\n",
      "Epoch 31/100\n",
      "60000/60000 [==============================] - 7s 109us/step - loss: 0.1192 - val_loss: 0.1225\n",
      "Epoch 32/100\n",
      "60000/60000 [==============================] - 7s 114us/step - loss: 0.1191 - val_loss: 0.1200\n",
      "Epoch 33/100\n",
      "60000/60000 [==============================] - 7s 114us/step - loss: 0.1191 - val_loss: 0.1208\n",
      "Epoch 34/100\n",
      "60000/60000 [==============================] - 7s 122us/step - loss: 0.1191 - val_loss: 0.1210\n",
      "Epoch 35/100\n",
      "60000/60000 [==============================] - 7s 123us/step - loss: 0.1188 - val_loss: 0.1218\n",
      "Epoch 36/100\n",
      "60000/60000 [==============================] - 8s 126us/step - loss: 0.1187 - val_loss: 0.1207\n",
      "Epoch 37/100\n",
      "60000/60000 [==============================] - 7s 121us/step - loss: 0.1186 - val_loss: 0.1202\n",
      "Epoch 38/100\n",
      "60000/60000 [==============================] - 6s 100us/step - loss: 0.1187 - val_loss: 0.1194\n",
      "Epoch 39/100\n",
      "60000/60000 [==============================] - 6s 98us/step - loss: 0.1185 - val_loss: 0.1203\n",
      "Epoch 40/100\n",
      "60000/60000 [==============================] - 6s 99us/step - loss: 0.1184 - val_loss: 0.1210\n",
      "Epoch 41/100\n",
      "60000/60000 [==============================] - 6s 98us/step - loss: 0.1182 - val_loss: 0.1196\n",
      "Epoch 42/100\n",
      "60000/60000 [==============================] - 6s 102us/step - loss: 0.1182 - val_loss: 0.1192\n",
      "Epoch 43/100\n",
      "60000/60000 [==============================] - 6s 100us/step - loss: 0.1180 - val_loss: 0.1193\n",
      "Epoch 44/100\n",
      "60000/60000 [==============================] - 6s 99us/step - loss: 0.1179 - val_loss: 0.1192\n",
      "Epoch 45/100\n",
      "60000/60000 [==============================] - 6s 98us/step - loss: 0.1179 - val_loss: 0.1196\n",
      "Epoch 46/100\n",
      "60000/60000 [==============================] - 6s 99us/step - loss: 0.1177 - val_loss: 0.1194\n",
      "Epoch 47/100\n",
      "60000/60000 [==============================] - 6s 105us/step - loss: 0.1178 - val_loss: 0.1204\n",
      "Epoch 48/100\n",
      "60000/60000 [==============================] - 6s 98us/step - loss: 0.1175 - val_loss: 0.1219\n",
      "Epoch 49/100\n",
      "60000/60000 [==============================] - 6s 96us/step - loss: 0.1176 - val_loss: 0.1194\n",
      "Epoch 50/100\n",
      "60000/60000 [==============================] - 6s 97us/step - loss: 0.1175 - val_loss: 0.1198\n",
      "Epoch 51/100\n",
      "60000/60000 [==============================] - 6s 97us/step - loss: 0.1175 - val_loss: 0.1204\n",
      "Epoch 52/100\n",
      "60000/60000 [==============================] - 6s 97us/step - loss: 0.1173 - val_loss: 0.1205\n",
      "Epoch 53/100\n",
      "60000/60000 [==============================] - 6s 96us/step - loss: 0.1172 - val_loss: 0.1198\n",
      "Epoch 54/100\n",
      "60000/60000 [==============================] - 6s 96us/step - loss: 0.1171 - val_loss: 0.1189\n",
      "Epoch 55/100\n",
      "60000/60000 [==============================] - 6s 96us/step - loss: 0.1171 - val_loss: 0.1206\n",
      "Epoch 56/100\n",
      "60000/60000 [==============================] - 6s 96us/step - loss: 0.1170 - val_loss: 0.1191\n",
      "Epoch 57/100\n",
      "60000/60000 [==============================] - 6s 96us/step - loss: 0.1168 - val_loss: 0.1191\n",
      "Epoch 58/100\n",
      "60000/60000 [==============================] - 6s 96us/step - loss: 0.1167 - val_loss: 0.1192\n",
      "Epoch 59/100\n",
      "60000/60000 [==============================] - 6s 97us/step - loss: 0.1168 - val_loss: 0.1190\n",
      "Epoch 60/100\n",
      "60000/60000 [==============================] - 6s 96us/step - loss: 0.1167 - val_loss: 0.1192\n",
      "Epoch 61/100\n",
      "60000/60000 [==============================] - 6s 97us/step - loss: 0.1165 - val_loss: 0.1184\n",
      "Epoch 62/100\n",
      "60000/60000 [==============================] - 6s 99us/step - loss: 0.1164 - val_loss: 0.1177\n",
      "Epoch 63/100\n",
      "60000/60000 [==============================] - 6s 98us/step - loss: 0.1164 - val_loss: 0.1179\n",
      "Epoch 64/100\n",
      "60000/60000 [==============================] - 6s 96us/step - loss: 0.1163 - val_loss: 0.1192\n",
      "Epoch 65/100\n",
      "60000/60000 [==============================] - 6s 97us/step - loss: 0.1163 - val_loss: 0.1178\n",
      "Epoch 66/100\n",
      "60000/60000 [==============================] - 6s 96us/step - loss: 0.1163 - val_loss: 0.1189\n",
      "Epoch 67/100\n",
      "60000/60000 [==============================] - 6s 101us/step - loss: 0.1161 - val_loss: 0.1177\n",
      "Epoch 68/100\n",
      "60000/60000 [==============================] - 6s 105us/step - loss: 0.1161 - val_loss: 0.1192\n",
      "Epoch 69/100\n",
      "60000/60000 [==============================] - 7s 119us/step - loss: 0.1159 - val_loss: 0.1203\n",
      "Epoch 70/100\n",
      "60000/60000 [==============================] - 6s 106us/step - loss: 0.1159 - val_loss: 0.1180\n",
      "Epoch 71/100\n",
      "60000/60000 [==============================] - 7s 111us/step - loss: 0.1159 - val_loss: 0.1182\n",
      "Epoch 72/100\n",
      "60000/60000 [==============================] - 7s 109us/step - loss: 0.1159 - val_loss: 0.1176\n",
      "Epoch 73/100\n",
      "60000/60000 [==============================] - 6s 107us/step - loss: 0.1157 - val_loss: 0.1187\n",
      "Epoch 74/100\n",
      "60000/60000 [==============================] - 6s 107us/step - loss: 0.1157 - val_loss: 0.1172\n",
      "Epoch 75/100\n",
      "60000/60000 [==============================] - 7s 110us/step - loss: 0.1156 - val_loss: 0.1181\n",
      "Epoch 76/100\n",
      "60000/60000 [==============================] - 6s 106us/step - loss: 0.1156 - val_loss: 0.1185\n"
     ]
    },
    {
     "name": "stdout",
     "output_type": "stream",
     "text": [
      "Epoch 77/100\n",
      "60000/60000 [==============================] - 6s 106us/step - loss: 0.1155 - val_loss: 0.1186\n",
      "Epoch 78/100\n",
      "60000/60000 [==============================] - 6s 108us/step - loss: 0.1153 - val_loss: 0.1176\n",
      "Epoch 79/100\n",
      "60000/60000 [==============================] - 6s 108us/step - loss: 0.1154 - val_loss: 0.1180\n",
      "Epoch 80/100\n",
      "60000/60000 [==============================] - 6s 107us/step - loss: 0.1153 - val_loss: 0.1176\n",
      "Epoch 81/100\n",
      "60000/60000 [==============================] - 6s 106us/step - loss: 0.1152 - val_loss: 0.1179\n",
      "Epoch 82/100\n",
      "60000/60000 [==============================] - 6s 106us/step - loss: 0.1153 - val_loss: 0.1183\n",
      "Epoch 83/100\n",
      "60000/60000 [==============================] - 7s 109us/step - loss: 0.1151 - val_loss: 0.1174\n",
      "Epoch 84/100\n",
      "60000/60000 [==============================] - 7s 120us/step - loss: 0.1150 - val_loss: 0.1176\n",
      "Epoch 85/100\n",
      "60000/60000 [==============================] - 8s 129us/step - loss: 0.1151 - val_loss: 0.1178\n",
      "Epoch 86/100\n",
      "60000/60000 [==============================] - 7s 125us/step - loss: 0.1149 - val_loss: 0.1173\n",
      "Epoch 87/100\n",
      "60000/60000 [==============================] - 7s 120us/step - loss: 0.1149 - val_loss: 0.1170\n",
      "Epoch 88/100\n",
      "60000/60000 [==============================] - 8s 125us/step - loss: 0.1148 - val_loss: 0.1177\n",
      "Epoch 89/100\n",
      "60000/60000 [==============================] - 7s 118us/step - loss: 0.1147 - val_loss: 0.1172\n",
      "Epoch 90/100\n",
      "60000/60000 [==============================] - 7s 109us/step - loss: 0.1147 - val_loss: 0.1179\n",
      "Epoch 91/100\n",
      "60000/60000 [==============================] - 6s 106us/step - loss: 0.1146 - val_loss: 0.1168\n",
      "Epoch 92/100\n",
      "60000/60000 [==============================] - 6s 107us/step - loss: 0.1147 - val_loss: 0.1170\n",
      "Epoch 93/100\n",
      "60000/60000 [==============================] - 6s 106us/step - loss: 0.1146 - val_loss: 0.1173\n",
      "Epoch 94/100\n",
      "60000/60000 [==============================] - 6s 107us/step - loss: 0.1144 - val_loss: 0.1171\n",
      "Epoch 95/100\n",
      "60000/60000 [==============================] - 6s 107us/step - loss: 0.1144 - val_loss: 0.1168\n",
      "Epoch 96/100\n",
      "60000/60000 [==============================] - 6s 108us/step - loss: 0.1143 - val_loss: 0.1175\n",
      "Epoch 97/100\n",
      "60000/60000 [==============================] - 6s 108us/step - loss: 0.1143 - val_loss: 0.1177\n",
      "Epoch 98/100\n",
      "60000/60000 [==============================] - 6s 108us/step - loss: 0.1142 - val_loss: 0.1169\n",
      "Epoch 99/100\n",
      "60000/60000 [==============================] - 6s 108us/step - loss: 0.1143 - val_loss: 0.1169\n",
      "Epoch 100/100\n",
      "60000/60000 [==============================] - 6s 108us/step - loss: 0.1142 - val_loss: 0.1166\n"
     ]
    },
    {
     "data": {
      "text/plain": [
       "<keras.callbacks.History at 0x271e0768a20>"
      ]
     },
     "execution_count": 49,
     "metadata": {},
     "output_type": "execute_result"
    }
   ],
   "source": [
    "from keras.callbacks import TensorBoard\n",
    "\n",
    "autoencoder = Model(input_img, decoded)\n",
    "autoencoder.compile(optimizer='adadelta', loss='binary_crossentropy')\n",
    "\n",
    "autoencoder.fit(x_train_noisy, x_train,\n",
    "                epochs=100,\n",
    "                batch_size=256,\n",
    "                shuffle=True,\n",
    "                validation_data=(x_val_noisy, x_val),\n",
    "                callbacks=[TensorBoard(log_dir='/tmp/autoencoder')])"
   ]
  },
  {
   "cell_type": "code",
   "execution_count": 50,
   "metadata": {
    "collapsed": true,
    "scrolled": true
   },
   "outputs": [],
   "source": [
    "encoded_imgs = encoder.predict(x_val_noisy)\n",
    "decoded_imgs = decoder.predict(encoded_imgs)"
   ]
  },
  {
   "cell_type": "code",
   "execution_count": 51,
   "metadata": {
    "scrolled": true
   },
   "outputs": [
    {
     "data": {
      "image/png": "[encoded data removed]",
      "text/plain": [
       "<matplotlib.figure.Figure at 0x2718f030550>"
      ]
     },
     "metadata": {},
     "output_type": "display_data"
    }
   ],
   "source": [
    "n = 10  # how many digits we will display\n",
    "plt.figure(figsize=(20, 4))\n",
    "for i in range(n):\n",
    "    # display original\n",
    "    ax = plt.subplot(2, n, i + 1)\n",
    "    plt.imshow(x_val[i].reshape(28, 28))\n",
    "    plt.gray()\n",
    "    ax.get_xaxis().set_visible(False)\n",
    "    ax.get_yaxis().set_visible(False)\n",
    "\n",
    "    # display reconstruction\n",
    "    ax = plt.subplot(2, n, i + 1 + n)\n",
    "    plt.imshow(decoded_imgs[i].reshape(28, 28))\n",
    "    plt.gray()\n",
    "    ax.get_xaxis().set_visible(False)\n",
    "    ax.get_yaxis().set_visible(False)\n",
    "plt.show()"
   ]
  }
 ],
 "metadata": {
  "kernelspec": {
   "display_name": "Python 3",
   "language": "python",
   "name": "python3"
  },
  "language_info": {
   "codemirror_mode": {
    "name": "ipython",
    "version": 3
   },
   "file_extension": ".py",
   "mimetype": "text/x-python",
   "name": "python",
   "nbconvert_exporter": "python",
   "pygments_lexer": "ipython3",
   "version": "3.6.1"
  }
 },
 "nbformat": 4,
 "nbformat_minor": 2
}
