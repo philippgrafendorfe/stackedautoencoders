{
 "cells": [
  {
   "cell_type": "markdown",
   "metadata": {},
   "source": [
    "## Modules"
   ]
  },
  {
   "cell_type": "code",
   "execution_count": 131,
   "metadata": {
    "collapsed": true,
    "scrolled": false
   },
   "outputs": [],
   "source": [
    "from keras.layers import Input, Dense, Dropout\n",
    "from keras.models import Model\n",
    "from keras.datasets import mnist\n",
    "from keras.models import Sequential, load_model\n",
    "from keras.optimizers import RMSprop\n",
    "from __future__ import print_function\n",
    "from keras.callbacks import TensorBoard\n",
    "\n",
    "import keras\n",
    "import matplotlib.pyplot as plt\n",
    "import numpy as np"
   ]
  },
  {
   "cell_type": "markdown",
   "metadata": {},
   "source": [
    "# Single layer autoencoder"
   ]
  },
  {
   "cell_type": "markdown",
   "metadata": {},
   "source": [
    "## Data import and preprocessing"
   ]
  },
  {
   "cell_type": "markdown",
   "metadata": {},
   "source": [
    "The `load_data()` method shuffles the input.\n",
    "All data is normalized and serialized into a vector."
   ]
  },
  {
   "cell_type": "code",
   "execution_count": 160,
   "metadata": {
    "scrolled": false
   },
   "outputs": [
    {
     "name": "stdout",
     "output_type": "stream",
     "text": [
      "(60000, 784)\n",
      "(10000, 784)\n"
     ]
    }
   ],
   "source": [
    "(x_train, y_train), (x_val, y_val) = mnist.load_data()\n",
    "\n",
    "x_train = x_train.astype('float32') / 255.\n",
    "x_val = x_val.astype('float32') / 255.\n",
    "\n",
    "x_train = x_train.reshape((len(x_train), np.prod(x_train.shape[1:])))\n",
    "x_val = x_val.reshape((len(x_val), np.prod(x_val.shape[1:])))\n",
    "\n",
    "print(x_train.shape)\n",
    "print(x_val.shape)"
   ]
  },
  {
   "cell_type": "markdown",
   "metadata": {},
   "source": [
    "## Model Definitions"
   ]
  },
  {
   "cell_type": "markdown",
   "metadata": {},
   "source": [
    "Using keras module with compression to 32 floats."
   ]
  },
  {
   "cell_type": "code",
   "execution_count": 133,
   "metadata": {
    "collapsed": true,
    "scrolled": false
   },
   "outputs": [],
   "source": [
    "######## constants for autoencoder ############\n",
    "# this is the size of our encoded representations\n",
    "encoding_dim = 32\n",
    "input_dim = 784\n",
    "epochs = 50\n",
    "batch_size = 256"
   ]
  },
  {
   "cell_type": "code",
   "execution_count": 134,
   "metadata": {
    "scrolled": true
   },
   "outputs": [],
   "source": [
    "# input placeholder\n",
    "input_img = Input(shape=(input_dim,))\n",
    "encoded = Dense(encoding_dim, activation='relu')(input_img)\n",
    "decoded = Dense(input_dim, activation='sigmoid')(encoded)\n",
    "\n",
    "autoencoder = Model(input_img, decoded)"
   ]
  },
  {
   "cell_type": "markdown",
   "metadata": {},
   "source": [
    "Encoder Model:"
   ]
  },
  {
   "cell_type": "code",
   "execution_count": 135,
   "metadata": {
    "collapsed": true,
    "scrolled": true
   },
   "outputs": [],
   "source": [
    "# this model maps an input to its encoded representation\n",
    "encoder = Model(input_img, encoded)"
   ]
  },
  {
   "cell_type": "markdown",
   "metadata": {},
   "source": [
    "Decoder Model:"
   ]
  },
  {
   "cell_type": "code",
   "execution_count": 136,
   "metadata": {
    "collapsed": true,
    "scrolled": true
   },
   "outputs": [],
   "source": [
    "encoded_input = Input(shape=(encoding_dim,))\n",
    "# retrieve the last layer of the autoencoder model\n",
    "decoder_layer = autoencoder.layers[-1]\n",
    "# create the decoder model\n",
    "decoder = Model(encoded_input, decoder_layer(encoded_input))"
   ]
  },
  {
   "cell_type": "markdown",
   "metadata": {},
   "source": [
    "First, we'll configure our model to use a per-pixel binary crossentropy loss, and the Adadelta optimizer:"
   ]
  },
  {
   "cell_type": "markdown",
   "metadata": {},
   "source": [
    "Binary Cross Entropy = Binomial Cross Entropy = Special Case of Multinomial Cross Entropy "
   ]
  },
  {
   "cell_type": "code",
   "execution_count": 137,
   "metadata": {
    "collapsed": true,
    "scrolled": true
   },
   "outputs": [],
   "source": [
    "autoencoder.compile(optimizer='adadelta', loss='binary_crossentropy')"
   ]
  },
  {
   "cell_type": "code",
   "execution_count": 138,
   "metadata": {
    "scrolled": false
   },
   "outputs": [
    {
     "name": "stdout",
     "output_type": "stream",
     "text": [
      "_________________________________________________________________\n",
      "Layer (type)                 Output Shape              Param #   \n",
      "=================================================================\n",
      "input_9 (InputLayer)         (None, 784)               0         \n",
      "_________________________________________________________________\n",
      "dense_26 (Dense)             (None, 32)                25120     \n",
      "_________________________________________________________________\n",
      "dense_27 (Dense)             (None, 784)               25872     \n",
      "=================================================================\n",
      "Total params: 50,992\n",
      "Trainable params: 50,992\n",
      "Non-trainable params: 0\n",
      "_________________________________________________________________\n"
     ]
    }
   ],
   "source": [
    "autoencoder.summary()"
   ]
  },
  {
   "cell_type": "markdown",
   "metadata": {},
   "source": [
    "### Train or load single autoencoder model"
   ]
  },
  {
   "cell_type": "code",
   "execution_count": 139,
   "metadata": {
    "scrolled": false
   },
   "outputs": [
    {
     "name": "stdout",
     "output_type": "stream",
     "text": [
      "Train on 60000 samples, validate on 10000 samples\n",
      "Epoch 1/50\n",
      "60000/60000 [==============================] - 4s 74us/step - loss: 0.3667 - val_loss: 0.2716\n",
      "Epoch 2/50\n",
      "60000/60000 [==============================] - 4s 71us/step - loss: 0.2638 - val_loss: 0.2527\n",
      "Epoch 3/50\n",
      "60000/60000 [==============================] - 4s 70us/step - loss: 0.2421 - val_loss: 0.2295\n",
      "Epoch 4/50\n",
      "60000/60000 [==============================] - 4s 72us/step - loss: 0.2210 - val_loss: 0.2106\n",
      "Epoch 5/50\n",
      "60000/60000 [==============================] - 4s 69us/step - loss: 0.2053 - val_loss: 0.1978\n",
      "Epoch 6/50\n",
      "60000/60000 [==============================] - 4s 69us/step - loss: 0.1949 - val_loss: 0.1892\n",
      "Epoch 7/50\n",
      "60000/60000 [==============================] - 4s 71us/step - loss: 0.1871 - val_loss: 0.1821\n",
      "Epoch 8/50\n",
      "60000/60000 [==============================] - 4s 71us/step - loss: 0.1806 - val_loss: 0.1761\n",
      "Epoch 9/50\n",
      "60000/60000 [==============================] - 4s 72us/step - loss: 0.1748 - val_loss: 0.1706\n",
      "Epoch 10/50\n",
      "60000/60000 [==============================] - 4s 72us/step - loss: 0.1695 - val_loss: 0.1656\n",
      "Epoch 11/50\n",
      "60000/60000 [==============================] - 4s 73us/step - loss: 0.1646 - val_loss: 0.1609\n",
      "Epoch 12/50\n",
      "60000/60000 [==============================] - 4s 73us/step - loss: 0.1601 - val_loss: 0.1566\n",
      "Epoch 13/50\n",
      "60000/60000 [==============================] - 4s 71us/step - loss: 0.1560 - val_loss: 0.1526\n",
      "Epoch 14/50\n",
      "60000/60000 [==============================] - 4s 71us/step - loss: 0.1522 - val_loss: 0.1491\n",
      "Epoch 15/50\n",
      "60000/60000 [==============================] - 4s 70us/step - loss: 0.1488 - val_loss: 0.1458\n",
      "Epoch 16/50\n",
      "60000/60000 [==============================] - 4s 72us/step - loss: 0.1457 - val_loss: 0.1428\n",
      "Epoch 17/50\n",
      "60000/60000 [==============================] - 4s 71us/step - loss: 0.1429 - val_loss: 0.1401\n",
      "Epoch 18/50\n",
      "60000/60000 [==============================] - 4s 73us/step - loss: 0.1404 - val_loss: 0.1376\n",
      "Epoch 19/50\n",
      "60000/60000 [==============================] - 4s 73us/step - loss: 0.1380 - val_loss: 0.1353\n",
      "Epoch 20/50\n",
      "60000/60000 [==============================] - 4s 72us/step - loss: 0.1358 - val_loss: 0.1331\n",
      "Epoch 21/50\n",
      "60000/60000 [==============================] - 4s 71us/step - loss: 0.1337 - val_loss: 0.1311\n",
      "Epoch 22/50\n",
      "60000/60000 [==============================] - 4s 71us/step - loss: 0.1317 - val_loss: 0.1292\n",
      "Epoch 23/50\n",
      "60000/60000 [==============================] - 4s 69us/step - loss: 0.1298 - val_loss: 0.1273\n",
      "Epoch 24/50\n",
      "60000/60000 [==============================] - 4s 70us/step - loss: 0.1279 - val_loss: 0.1255\n",
      "Epoch 25/50\n",
      "60000/60000 [==============================] - 4s 70us/step - loss: 0.1262 - val_loss: 0.1237\n",
      "Epoch 26/50\n",
      "60000/60000 [==============================] - 4s 73us/step - loss: 0.1244 - val_loss: 0.1221\n",
      "Epoch 27/50\n",
      "60000/60000 [==============================] - 5s 83us/step - loss: 0.1228 - val_loss: 0.1204\n",
      "Epoch 28/50\n",
      "60000/60000 [==============================] - 4s 74us/step - loss: 0.1212 - val_loss: 0.1189\n",
      "Epoch 29/50\n",
      "60000/60000 [==============================] - 5s 78us/step - loss: 0.1197 - val_loss: 0.1174\n",
      "Epoch 30/50\n",
      "60000/60000 [==============================] - 5s 76us/step - loss: 0.1183 - val_loss: 0.1160\n",
      "Epoch 31/50\n",
      "60000/60000 [==============================] - 4s 73us/step - loss: 0.1170 - val_loss: 0.1147\n",
      "Epoch 32/50\n",
      "60000/60000 [==============================] - 4s 73us/step - loss: 0.1157 - val_loss: 0.1134\n",
      "Epoch 33/50\n",
      "60000/60000 [==============================] - 4s 71us/step - loss: 0.1145 - val_loss: 0.1123\n",
      "Epoch 34/50\n",
      "60000/60000 [==============================] - 4s 72us/step - loss: 0.1135 - val_loss: 0.1113\n",
      "Epoch 35/50\n",
      "60000/60000 [==============================] - 4s 71us/step - loss: 0.1124 - val_loss: 0.1103\n",
      "Epoch 36/50\n",
      "60000/60000 [==============================] - 4s 74us/step - loss: 0.1115 - val_loss: 0.1094\n",
      "Epoch 37/50\n",
      "60000/60000 [==============================] - 5s 76us/step - loss: 0.1106 - val_loss: 0.1086\n",
      "Epoch 38/50\n",
      "60000/60000 [==============================] - 4s 75us/step - loss: 0.1098 - val_loss: 0.1077\n",
      "Epoch 39/50\n",
      "60000/60000 [==============================] - 4s 74us/step - loss: 0.1090 - val_loss: 0.1070\n",
      "Epoch 40/50\n",
      "60000/60000 [==============================] - 4s 69us/step - loss: 0.1083 - val_loss: 0.1063\n",
      "Epoch 41/50\n",
      "60000/60000 [==============================] - 4s 72us/step - loss: 0.1076 - val_loss: 0.1057\n",
      "Epoch 42/50\n",
      "60000/60000 [==============================] - 4s 69us/step - loss: 0.1070 - val_loss: 0.1051\n",
      "Epoch 43/50\n",
      "60000/60000 [==============================] - 4s 71us/step - loss: 0.1064 - val_loss: 0.1045\n",
      "Epoch 44/50\n",
      "60000/60000 [==============================] - 4s 70us/step - loss: 0.1059 - val_loss: 0.1040\n",
      "Epoch 45/50\n",
      "60000/60000 [==============================] - 4s 68us/step - loss: 0.1054 - val_loss: 0.1035\n",
      "Epoch 46/50\n",
      "60000/60000 [==============================] - 4s 70us/step - loss: 0.1049 - val_loss: 0.1030\n",
      "Epoch 47/50\n",
      "60000/60000 [==============================] - 4s 71us/step - loss: 0.1044 - val_loss: 0.1026\n",
      "Epoch 48/50\n",
      "60000/60000 [==============================] - 4s 69us/step - loss: 0.1040 - val_loss: 0.1021\n",
      "Epoch 49/50\n",
      "60000/60000 [==============================] - 4s 70us/step - loss: 0.1036 - val_loss: 0.1017\n",
      "Epoch 50/50\n",
      "60000/60000 [==============================] - 4s 70us/step - loss: 0.1032 - val_loss: 0.1014\n"
     ]
    },
    {
     "data": {
      "text/plain": [
       "<keras.callbacks.History at 0x22789e1d518>"
      ]
     },
     "execution_count": 139,
     "metadata": {},
     "output_type": "execute_result"
    }
   ],
   "source": [
    "autoencoder = load('models/autoencoder.h5')\n",
    "# autoencoder.fit(x_train, x_train,\n",
    "#                 epochs=epochs,\n",
    "#                 batch_size=batch_size,\n",
    "# #                 shuffle=True,\n",
    "#                 validation_data=(x_val, x_val),\n",
    "#                 callbacks=[TensorBoard(log_dir='/tmp/autoencoder')])"
   ]
  },
  {
   "cell_type": "code",
   "execution_count": 140,
   "metadata": {
    "collapsed": true,
    "scrolled": false
   },
   "outputs": [],
   "source": [
    "# autoencoder.save('models/autoencoder.h5')"
   ]
  },
  {
   "cell_type": "code",
   "execution_count": null,
   "metadata": {
    "scrolled": false
   },
   "outputs": [],
   "source": [
    "score = autoencoder.evaluate(x_val, x_val, verbose=0)\n",
    "print(score)"
   ]
  },
  {
   "cell_type": "markdown",
   "metadata": {},
   "source": [
    "After 50 epochs, the autoencoder seems to reach a stable train/test loss value of about {{score}}. We can try to visualize the reconstructed inputs and the encoded representations. We will use Matplotlib."
   ]
  },
  {
   "cell_type": "code",
   "execution_count": null,
   "metadata": {
    "collapsed": true,
    "scrolled": false
   },
   "outputs": [],
   "source": [
    "encoded_imgs = encoder.predict(x_val)\n",
    "decoded_imgs = decoder.predict(encoded_imgs)"
   ]
  },
  {
   "cell_type": "code",
   "execution_count": null,
   "metadata": {
    "scrolled": true
   },
   "outputs": [],
   "source": [
    "n = 10\n",
    "plt.figure(figsize=(20, 4))\n",
    "for i in range(n):\n",
    "    # display original\n",
    "    ax = plt.subplot(2, n, i + 1)\n",
    "    plt.imshow(x_val[i].reshape(28, 28))\n",
    "    plt.gray()\n",
    "    ax.get_xaxis().set_visible(False)\n",
    "    ax.get_yaxis().set_visible(False)\n",
    "    \n",
    "    # display reconstruction\n",
    "    ax = plt.subplot(2, n, i + 1 + n)\n",
    "    plt.imshow(decoded_imgs[i].reshape(28, 28))\n",
    "    plt.gray()\n",
    "    ax.get_xaxis().set_visible(False)\n",
    "    ax.get_yaxis().set_visible(False)\n",
    "plt.show()"
   ]
  },
  {
   "cell_type": "code",
   "execution_count": null,
   "metadata": {
    "scrolled": true
   },
   "outputs": [],
   "source": [
    "encoded_imgs[0]"
   ]
  },
  {
   "cell_type": "code",
   "execution_count": null,
   "metadata": {
    "scrolled": false
   },
   "outputs": [],
   "source": [
    "encoded_imgs[1]"
   ]
  },
  {
   "cell_type": "code",
   "execution_count": null,
   "metadata": {
    "scrolled": false
   },
   "outputs": [],
   "source": [
    "encoded_imgs[17]"
   ]
  },
  {
   "cell_type": "markdown",
   "metadata": {},
   "source": [
    "Some Neurons are always 0. Further investigation?"
   ]
  },
  {
   "cell_type": "markdown",
   "metadata": {},
   "source": [
    "# Stacked Autoencoder"
   ]
  },
  {
   "cell_type": "code",
   "execution_count": null,
   "metadata": {
    "collapsed": true,
    "scrolled": false
   },
   "outputs": [],
   "source": [
    "######## constants for stacked autoencoder ############\n",
    "input_dim = 784\n",
    "encoding_dim1 = 128\n",
    "encoding_dim2 = 64\n",
    "encoding_dim3 = 32\n",
    "decoding_dim1 = 64\n",
    "decoding_dim2 = 128\n",
    "decoding_dim3 = input_dim\n",
    "epochs = 100\n",
    "batch_size = 256"
   ]
  },
  {
   "cell_type": "code",
   "execution_count": null,
   "metadata": {
    "scrolled": false
   },
   "outputs": [],
   "source": [
    "input_img = Input(shape=(input_dim,))\n",
    "encoded = Dense(encoding_dim1, activation='relu')(input_img)\n",
    "encoded = Dense(encoding_dim2, activation='relu')(encoded)\n",
    "encoded = Dense(encoding_dim3, activation='relu')(encoded)\n",
    "\n",
    "decoded = Dense(decoding_dim1, activation='relu')(encoded)\n",
    "decoded = Dense(decoding_dim2, activation='relu')(decoded)\n",
    "decoded = Dense(decoding_dim3, activation='sigmoid')(decoded)"
   ]
  },
  {
   "cell_type": "code",
   "execution_count": 111,
   "metadata": {
    "scrolled": false
   },
   "outputs": [
    {
     "name": "stdout",
     "output_type": "stream",
     "text": [
      "_________________________________________________________________\n",
      "Layer (type)                 Output Shape              Param #   \n",
      "=================================================================\n",
      "input_8 (InputLayer)         (None, 784)               0         \n",
      "_________________________________________________________________\n",
      "dense_20 (Dense)             (None, 128)               100480    \n",
      "_________________________________________________________________\n",
      "dense_21 (Dense)             (None, 64)                8256      \n",
      "_________________________________________________________________\n",
      "dense_22 (Dense)             (None, 32)                2080      \n",
      "_________________________________________________________________\n",
      "dense_23 (Dense)             (None, 64)                2112      \n",
      "_________________________________________________________________\n",
      "dense_24 (Dense)             (None, 128)               8320      \n",
      "_________________________________________________________________\n",
      "dense_25 (Dense)             (None, 784)               101136    \n",
      "=================================================================\n",
      "Total params: 222,384\n",
      "Trainable params: 222,384\n",
      "Non-trainable params: 0\n",
      "_________________________________________________________________\n"
     ]
    }
   ],
   "source": [
    "stacked_autoencoder = Model(input_img, decoded)\n",
    "stacked_autoencoder.compile(optimizer='adadelta', loss='binary_crossentropy')\n",
    "stacked_autoencoder.summary()"
   ]
  },
  {
   "cell_type": "code",
   "execution_count": null,
   "metadata": {
    "scrolled": true
   },
   "outputs": [],
   "source": [
    "stacked_autoencoder = load('models/stacked_autoencoder.h5')\n",
    "# stacked_autoencoder.fit(x_train, x_train,\n",
    "#                 epochs=epochs,\n",
    "#                 batch_size=batch_size,\n",
    "# #                 shuffle=True,\n",
    "#                 validation_data=(x_val, x_val))"
   ]
  },
  {
   "cell_type": "code",
   "execution_count": 126,
   "metadata": {
    "collapsed": true,
    "scrolled": false
   },
   "outputs": [],
   "source": [
    "# stacked_autoencoder.save('models/stacked_autoencoder.h5')"
   ]
  },
  {
   "cell_type": "code",
   "execution_count": 114,
   "metadata": {
    "scrolled": false
   },
   "outputs": [
    {
     "name": "stdout",
     "output_type": "stream",
     "text": [
      "0.0999240664959\n"
     ]
    }
   ],
   "source": [
    "score = stacked_autoencoder.evaluate(x_val, x_val, verbose=0)\n",
    "print(score)"
   ]
  },
  {
   "cell_type": "code",
   "execution_count": 115,
   "metadata": {
    "collapsed": true,
    "scrolled": false
   },
   "outputs": [],
   "source": [
    "encoded_imgs = encoder.predict(x_val)\n",
    "decoded_imgs = decoder.predict(encoded_imgs)"
   ]
  },
  {
   "cell_type": "code",
   "execution_count": 116,
   "metadata": {
    "scrolled": false
   },
   "outputs": [
    {
     "data": {
      "image/png": "[encoded data removed]",
      "text/plain": [
       "<matplotlib.figure.Figure at 0x2278a230748>"
      ]
     },
     "metadata": {},
     "output_type": "display_data"
    }
   ],
   "source": [
    "n = 10  # how many digits we will display\n",
    "plt.figure(figsize=(20, 4))\n",
    "for i in range(n):\n",
    "    # display original\n",
    "    ax = plt.subplot(2, n, i + 1)\n",
    "    plt.imshow(x_val[i].reshape(28, 28))\n",
    "    plt.gray()\n",
    "    ax.get_xaxis().set_visible(False)\n",
    "    ax.get_yaxis().set_visible(False)\n",
    "\n",
    "    # display reconstruction\n",
    "    ax = plt.subplot(2, n, i + 1 + n)\n",
    "    plt.imshow(decoded_imgs[i].reshape(28, 28))\n",
    "    plt.gray()\n",
    "    ax.get_xaxis().set_visible(False)\n",
    "    ax.get_yaxis().set_visible(False)\n",
    "plt.show()"
   ]
  },
  {
   "cell_type": "markdown",
   "metadata": {},
   "source": [
    "# Denoising Data"
   ]
  },
  {
   "cell_type": "code",
   "execution_count": 117,
   "metadata": {
    "collapsed": true,
    "scrolled": false
   },
   "outputs": [],
   "source": [
    "noise_factor = 0.5"
   ]
  },
  {
   "cell_type": "code",
   "execution_count": 118,
   "metadata": {
    "collapsed": true,
    "scrolled": true
   },
   "outputs": [],
   "source": [
    "x_train_noisy = x_train + noise_factor * np.random.normal(loc=0.0, scale=1.0, size=x_train.shape) \n",
    "x_val_noisy = x_val + noise_factor * np.random.normal(loc=0.0, scale=1.0, size=x_val.shape) \n",
    "\n",
    "# re-normalization by clipping to the intervall (0,1)\n",
    "x_train_noisy = np.clip(x_train_noisy, 0., 1.)\n",
    "x_val_noisy = np.clip(x_val_noisy, 0., 1.)"
   ]
  },
  {
   "cell_type": "code",
   "execution_count": 120,
   "metadata": {
    "scrolled": true
   },
   "outputs": [
    {
     "data": {
      "image/png": "[encoded data removed]",
      "text/plain": [
       "<matplotlib.figure.Figure at 0x227895b6ef0>"
      ]
     },
     "metadata": {},
     "output_type": "display_data"
    }
   ],
   "source": [
    "n = 10\n",
    "plt.figure(figsize=(20, 2))\n",
    "for i in range(n):\n",
    "    ax = plt.subplot(1, n, i + 1)\n",
    "    plt.imshow(x_val_noisy[i].reshape(28, 28))\n",
    "    plt.gray()\n",
    "    ax.get_xaxis().set_visible(False)\n",
    "    ax.get_yaxis().set_visible(False)\n",
    "plt.show()"
   ]
  },
  {
   "cell_type": "markdown",
   "metadata": {},
   "source": [
    "Stick with the stack"
   ]
  },
  {
   "cell_type": "code",
   "execution_count": 121,
   "metadata": {
    "scrolled": true
   },
   "outputs": [
    {
     "name": "stdout",
     "output_type": "stream",
     "text": [
      "_________________________________________________________________\n",
      "Layer (type)                 Output Shape              Param #   \n",
      "=================================================================\n",
      "input_8 (InputLayer)         (None, 784)               0         \n",
      "_________________________________________________________________\n",
      "dense_20 (Dense)             (None, 128)               100480    \n",
      "_________________________________________________________________\n",
      "dense_21 (Dense)             (None, 64)                8256      \n",
      "_________________________________________________________________\n",
      "dense_22 (Dense)             (None, 32)                2080      \n",
      "_________________________________________________________________\n",
      "dense_23 (Dense)             (None, 64)                2112      \n",
      "_________________________________________________________________\n",
      "dense_24 (Dense)             (None, 128)               8320      \n",
      "_________________________________________________________________\n",
      "dense_25 (Dense)             (None, 784)               101136    \n",
      "=================================================================\n",
      "Total params: 222,384\n",
      "Trainable params: 222,384\n",
      "Non-trainable params: 0\n",
      "_________________________________________________________________\n"
     ]
    }
   ],
   "source": [
    "denoising_autoencoder = Model(input_img, decoded)\n",
    "denoising_autoencoder.compile(optimizer='adadelta', loss='binary_crossentropy')\n",
    "denoising_autoencoder.summary()"
   ]
  },
  {
   "cell_type": "markdown",
   "metadata": {},
   "source": [
    "### Train or load a stacked denoising autoencoder"
   ]
  },
  {
   "cell_type": "code",
   "execution_count": 122,
   "metadata": {
    "scrolled": true
   },
   "outputs": [
    {
     "name": "stdout",
     "output_type": "stream",
     "text": [
      "Train on 60000 samples, validate on 10000 samples\n",
      "Epoch 1/100\n",
      "60000/60000 [==============================] - 7s 121us/step - loss: 0.1430 - val_loss: 0.1364\n",
      "Epoch 2/100\n",
      "60000/60000 [==============================] - 7s 117us/step - loss: 0.1347 - val_loss: 0.1339\n",
      "Epoch 3/100\n",
      "60000/60000 [==============================] - 7s 117us/step - loss: 0.1318 - val_loss: 0.1322\n",
      "Epoch 4/100\n",
      "60000/60000 [==============================] - 7s 117us/step - loss: 0.1301 - val_loss: 0.1283\n",
      "Epoch 5/100\n",
      "60000/60000 [==============================] - 7s 118us/step - loss: 0.1288 - val_loss: 0.1271\n",
      "Epoch 6/100\n",
      "60000/60000 [==============================] - 7s 119us/step - loss: 0.1277 - val_loss: 0.1268\n",
      "Epoch 7/100\n",
      "60000/60000 [==============================] - 7s 120us/step - loss: 0.1271 - val_loss: 0.1261\n",
      "Epoch 8/100\n",
      "60000/60000 [==============================] - 7s 121us/step - loss: 0.1265 - val_loss: 0.1254\n",
      "Epoch 9/100\n",
      "60000/60000 [==============================] - 7s 125us/step - loss: 0.1259 - val_loss: 0.1253\n",
      "Epoch 10/100\n",
      "60000/60000 [==============================] - 7s 122us/step - loss: 0.1255 - val_loss: 0.1245\n",
      "Epoch 11/100\n",
      "60000/60000 [==============================] - 7s 122us/step - loss: 0.1250 - val_loss: 0.1242\n",
      "Epoch 12/100\n",
      "60000/60000 [==============================] - 8s 127us/step - loss: 0.1249 - val_loss: 0.1244\n",
      "Epoch 13/100\n",
      "60000/60000 [==============================] - 8s 126us/step - loss: 0.1242 - val_loss: 0.1242\n",
      "Epoch 14/100\n",
      "60000/60000 [==============================] - 7s 121us/step - loss: 0.1241 - val_loss: 0.1244\n",
      "Epoch 15/100\n",
      "60000/60000 [==============================] - 7s 119us/step - loss: 0.1238 - val_loss: 0.1254\n",
      "Epoch 16/100\n",
      "60000/60000 [==============================] - 7s 118us/step - loss: 0.1235 - val_loss: 0.1231\n",
      "Epoch 17/100\n",
      "60000/60000 [==============================] - 7s 119us/step - loss: 0.1233 - val_loss: 0.1250\n",
      "Epoch 18/100\n",
      "60000/60000 [==============================] - 7s 118us/step - loss: 0.1229 - val_loss: 0.1243\n",
      "Epoch 19/100\n",
      "60000/60000 [==============================] - 7s 117us/step - loss: 0.1227 - val_loss: 0.1230\n",
      "Epoch 20/100\n",
      "60000/60000 [==============================] - 7s 118us/step - loss: 0.1226 - val_loss: 0.1221\n",
      "Epoch 21/100\n",
      "60000/60000 [==============================] - 7s 119us/step - loss: 0.1222 - val_loss: 0.1225\n",
      "Epoch 22/100\n",
      "60000/60000 [==============================] - 7s 118us/step - loss: 0.1222 - val_loss: 0.1231\n",
      "Epoch 23/100\n",
      "60000/60000 [==============================] - 7s 118us/step - loss: 0.1220 - val_loss: 0.1237\n",
      "Epoch 24/100\n",
      "60000/60000 [==============================] - 7s 119us/step - loss: 0.1218 - val_loss: 0.1224\n",
      "Epoch 25/100\n",
      "60000/60000 [==============================] - 7s 120us/step - loss: 0.1217 - val_loss: 0.1246\n",
      "Epoch 26/100\n",
      "60000/60000 [==============================] - 7s 118us/step - loss: 0.1215 - val_loss: 0.1216\n",
      "Epoch 27/100\n",
      "60000/60000 [==============================] - 7s 117us/step - loss: 0.1214 - val_loss: 0.1230\n",
      "Epoch 28/100\n",
      "60000/60000 [==============================] - 7s 120us/step - loss: 0.1212 - val_loss: 0.1217\n",
      "Epoch 29/100\n",
      "60000/60000 [==============================] - 7s 119us/step - loss: 0.1210 - val_loss: 0.1212\n",
      "Epoch 30/100\n",
      "60000/60000 [==============================] - 7s 118us/step - loss: 0.1209 - val_loss: 0.1215\n",
      "Epoch 31/100\n",
      "60000/60000 [==============================] - 7s 120us/step - loss: 0.1208 - val_loss: 0.1217\n",
      "Epoch 32/100\n",
      "60000/60000 [==============================] - 7s 117us/step - loss: 0.1207 - val_loss: 0.1216\n",
      "Epoch 33/100\n",
      "60000/60000 [==============================] - 7s 121us/step - loss: 0.1204 - val_loss: 0.1210\n",
      "Epoch 34/100\n",
      "60000/60000 [==============================] - 7s 118us/step - loss: 0.1203 - val_loss: 0.1214\n",
      "Epoch 35/100\n",
      "60000/60000 [==============================] - 7s 116us/step - loss: 0.1202 - val_loss: 0.1208\n",
      "Epoch 36/100\n",
      "60000/60000 [==============================] - 7s 117us/step - loss: 0.1201 - val_loss: 0.1208\n",
      "Epoch 37/100\n",
      "60000/60000 [==============================] - 7s 116us/step - loss: 0.1199 - val_loss: 0.1204\n",
      "Epoch 38/100\n",
      "60000/60000 [==============================] - 7s 116us/step - loss: 0.1198 - val_loss: 0.1231\n",
      "Epoch 39/100\n",
      "60000/60000 [==============================] - 7s 118us/step - loss: 0.1197 - val_loss: 0.1205\n",
      "Epoch 40/100\n",
      "60000/60000 [==============================] - 7s 118us/step - loss: 0.1197 - val_loss: 0.1205\n",
      "Epoch 41/100\n",
      "60000/60000 [==============================] - 7s 117us/step - loss: 0.1195 - val_loss: 0.1203\n",
      "Epoch 42/100\n",
      "60000/60000 [==============================] - 7s 117us/step - loss: 0.1193 - val_loss: 0.1202\n",
      "Epoch 43/100\n",
      "60000/60000 [==============================] - 7s 118us/step - loss: 0.1191 - val_loss: 0.1215\n",
      "Epoch 44/100\n",
      "60000/60000 [==============================] - 7s 121us/step - loss: 0.1191 - val_loss: 0.1204\n",
      "Epoch 45/100\n",
      "60000/60000 [==============================] - 7s 118us/step - loss: 0.1191 - val_loss: 0.1199\n",
      "Epoch 46/100\n",
      "60000/60000 [==============================] - 7s 121us/step - loss: 0.1188 - val_loss: 0.1206\n",
      "Epoch 47/100\n",
      "60000/60000 [==============================] - 7s 118us/step - loss: 0.1188 - val_loss: 0.1197\n",
      "Epoch 48/100\n",
      "60000/60000 [==============================] - 7s 120us/step - loss: 0.1186 - val_loss: 0.1209\n",
      "Epoch 49/100\n",
      "60000/60000 [==============================] - 7s 116us/step - loss: 0.1186 - val_loss: 0.1203\n",
      "Epoch 50/100\n",
      "60000/60000 [==============================] - 7s 122us/step - loss: 0.1186 - val_loss: 0.1209\n",
      "Epoch 51/100\n",
      "60000/60000 [==============================] - 7s 119us/step - loss: 0.1184 - val_loss: 0.1200\n",
      "Epoch 52/100\n",
      "60000/60000 [==============================] - 7s 116us/step - loss: 0.1183 - val_loss: 0.1195\n",
      "Epoch 53/100\n",
      "60000/60000 [==============================] - 7s 116us/step - loss: 0.1182 - val_loss: 0.1195\n",
      "Epoch 54/100\n",
      "60000/60000 [==============================] - 7s 119us/step - loss: 0.1180 - val_loss: 0.1200\n",
      "Epoch 55/100\n",
      "60000/60000 [==============================] - 7s 119us/step - loss: 0.1181 - val_loss: 0.1190\n",
      "Epoch 56/100\n",
      "60000/60000 [==============================] - 7s 118us/step - loss: 0.1179 - val_loss: 0.1205\n",
      "Epoch 57/100\n",
      "60000/60000 [==============================] - 7s 116us/step - loss: 0.1178 - val_loss: 0.1196\n",
      "Epoch 58/100\n",
      "60000/60000 [==============================] - 7s 118us/step - loss: 0.1177 - val_loss: 0.1186\n",
      "Epoch 59/100\n",
      "60000/60000 [==============================] - 7s 118us/step - loss: 0.1176 - val_loss: 0.1196\n",
      "Epoch 60/100\n",
      "60000/60000 [==============================] - 7s 116us/step - loss: 0.1175 - val_loss: 0.1198\n",
      "Epoch 61/100\n",
      "60000/60000 [==============================] - 7s 117us/step - loss: 0.1174 - val_loss: 0.1193\n",
      "Epoch 62/100\n",
      "60000/60000 [==============================] - 7s 118us/step - loss: 0.1174 - val_loss: 0.1188\n",
      "Epoch 63/100\n",
      "60000/60000 [==============================] - 7s 116us/step - loss: 0.1173 - val_loss: 0.1194\n",
      "Epoch 64/100\n",
      "60000/60000 [==============================] - 7s 115us/step - loss: 0.1171 - val_loss: 0.1195\n",
      "Epoch 65/100\n",
      "60000/60000 [==============================] - 7s 119us/step - loss: 0.1170 - val_loss: 0.1193\n",
      "Epoch 66/100\n",
      "60000/60000 [==============================] - 7s 116us/step - loss: 0.1170 - val_loss: 0.1185\n",
      "Epoch 67/100\n",
      "60000/60000 [==============================] - 7s 118us/step - loss: 0.1169 - val_loss: 0.1188\n",
      "Epoch 68/100\n",
      "60000/60000 [==============================] - 7s 120us/step - loss: 0.1170 - val_loss: 0.1192\n",
      "Epoch 69/100\n",
      "60000/60000 [==============================] - 7s 115us/step - loss: 0.1168 - val_loss: 0.1194\n",
      "Epoch 70/100\n",
      "60000/60000 [==============================] - 7s 115us/step - loss: 0.1167 - val_loss: 0.1189\n",
      "Epoch 71/100\n",
      "60000/60000 [==============================] - 7s 117us/step - loss: 0.1167 - val_loss: 0.1186\n",
      "Epoch 72/100\n",
      "60000/60000 [==============================] - 7s 116us/step - loss: 0.1165 - val_loss: 0.1192\n",
      "Epoch 73/100\n",
      "60000/60000 [==============================] - 7s 115us/step - loss: 0.1167 - val_loss: 0.1187\n",
      "Epoch 74/100\n",
      "60000/60000 [==============================] - 7s 116us/step - loss: 0.1163 - val_loss: 0.1182\n",
      "Epoch 75/100\n",
      "60000/60000 [==============================] - 8s 125us/step - loss: 0.1163 - val_loss: 0.1181\n",
      "Epoch 76/100\n"
     ]
    },
    {
     "name": "stdout",
     "output_type": "stream",
     "text": [
      "60000/60000 [==============================] - 7s 121us/step - loss: 0.1164 - val_loss: 0.1186\n",
      "Epoch 77/100\n",
      "60000/60000 [==============================] - 7s 114us/step - loss: 0.1162 - val_loss: 0.1178\n",
      "Epoch 78/100\n",
      "60000/60000 [==============================] - 7s 122us/step - loss: 0.1162 - val_loss: 0.1193\n",
      "Epoch 79/100\n",
      "60000/60000 [==============================] - 8s 131us/step - loss: 0.1160 - val_loss: 0.1175\n",
      "Epoch 80/100\n",
      "60000/60000 [==============================] - 8s 126us/step - loss: 0.1160 - val_loss: 0.1186\n",
      "Epoch 81/100\n",
      "60000/60000 [==============================] - 6s 105us/step - loss: 0.1158 - val_loss: 0.1181\n",
      "Epoch 82/100\n",
      "60000/60000 [==============================] - 6s 105us/step - loss: 0.1159 - val_loss: 0.1173\n",
      "Epoch 83/100\n",
      "60000/60000 [==============================] - 6s 101us/step - loss: 0.1158 - val_loss: 0.1193\n",
      "Epoch 84/100\n",
      "60000/60000 [==============================] - 6s 102us/step - loss: 0.1156 - val_loss: 0.1176\n",
      "Epoch 85/100\n",
      "60000/60000 [==============================] - 6s 101us/step - loss: 0.1157 - val_loss: 0.1199\n",
      "Epoch 86/100\n",
      "60000/60000 [==============================] - 6s 104us/step - loss: 0.1155 - val_loss: 0.1175\n",
      "Epoch 87/100\n",
      "60000/60000 [==============================] - 6s 102us/step - loss: 0.1155 - val_loss: 0.1186\n",
      "Epoch 88/100\n",
      "60000/60000 [==============================] - 6s 101us/step - loss: 0.1154 - val_loss: 0.1172\n",
      "Epoch 89/100\n",
      "60000/60000 [==============================] - 6s 104us/step - loss: 0.1153 - val_loss: 0.1172\n",
      "Epoch 90/100\n",
      "60000/60000 [==============================] - 6s 108us/step - loss: 0.1154 - val_loss: 0.1172\n",
      "Epoch 91/100\n",
      "60000/60000 [==============================] - 7s 110us/step - loss: 0.1152 - val_loss: 0.1181\n",
      "Epoch 92/100\n",
      "60000/60000 [==============================] - 6s 102us/step - loss: 0.1152 - val_loss: 0.1189\n",
      "Epoch 93/100\n",
      "60000/60000 [==============================] - 6s 100us/step - loss: 0.1150 - val_loss: 0.1175\n",
      "Epoch 94/100\n",
      "60000/60000 [==============================] - 6s 101us/step - loss: 0.1151 - val_loss: 0.1171\n",
      "Epoch 95/100\n",
      "60000/60000 [==============================] - 6s 101us/step - loss: 0.1150 - val_loss: 0.1174\n",
      "Epoch 96/100\n",
      "60000/60000 [==============================] - 6s 101us/step - loss: 0.1149 - val_loss: 0.1168\n",
      "Epoch 97/100\n",
      "60000/60000 [==============================] - 6s 102us/step - loss: 0.1149 - val_loss: 0.1165\n",
      "Epoch 98/100\n",
      "60000/60000 [==============================] - 6s 101us/step - loss: 0.1148 - val_loss: 0.1173\n",
      "Epoch 99/100\n",
      "60000/60000 [==============================] - 7s 121us/step - loss: 0.1147 - val_loss: 0.1175\n",
      "Epoch 100/100\n",
      "60000/60000 [==============================] - 7s 114us/step - loss: 0.1146 - val_loss: 0.1172\n"
     ]
    },
    {
     "data": {
      "text/plain": [
       "<keras.callbacks.History at 0x2278a720c18>"
      ]
     },
     "execution_count": 122,
     "metadata": {},
     "output_type": "execute_result"
    }
   ],
   "source": [
    "denoising_autoencoder = load_model('models/denoising_autoencoder.h5')\n",
    "# denoising_autoencoder.fit(x_train_noisy, x_train,\n",
    "#                 epochs=epochs,\n",
    "#                 batch_size=batch_size,\n",
    "# #                 shuffle=True,\n",
    "#                 validation_data=(x_val_noisy, x_val),\n",
    "#                 callbacks=[TensorBoard(log_dir='/tmp/autoencoder')])"
   ]
  },
  {
   "cell_type": "code",
   "execution_count": 127,
   "metadata": {
    "scrolled": false
   },
   "outputs": [],
   "source": [
    "## save trained model\n",
    "# denoising_autoencoder.save('models/denoising_autoencoder.h5')"
   ]
  },
  {
   "cell_type": "code",
   "execution_count": 129,
   "metadata": {
    "collapsed": true,
    "scrolled": true
   },
   "outputs": [],
   "source": [
    "encoded_imgs = encoder.predict(x_val_noisy)\n",
    "decoded_imgs = decoder.predict(encoded_imgs)"
   ]
  },
  {
   "cell_type": "code",
   "execution_count": 130,
   "metadata": {
    "scrolled": true
   },
   "outputs": [
    {
     "data": {
      "image/png": "[encoded data removed]",
      "text/plain": [
       "<matplotlib.figure.Figure at 0x22795d4d518>"
      ]
     },
     "metadata": {},
     "output_type": "display_data"
    }
   ],
   "source": [
    "n = 10  # how many digits we will display\n",
    "plt.figure(figsize=(20, 4))\n",
    "for i in range(n):\n",
    "    # display original\n",
    "    ax = plt.subplot(2, n, i + 1)\n",
    "    plt.imshow(x_val[i].reshape(28, 28))\n",
    "    plt.gray()\n",
    "    ax.get_xaxis().set_visible(False)\n",
    "    ax.get_yaxis().set_visible(False)\n",
    "\n",
    "    # display reconstruction\n",
    "    ax = plt.subplot(2, n, i + 1 + n)\n",
    "    plt.imshow(decoded_imgs[i].reshape(28, 28))\n",
    "    plt.gray()\n",
    "    ax.get_xaxis().set_visible(False)\n",
    "    ax.get_yaxis().set_visible(False)\n",
    "plt.show()"
   ]
  },
  {
   "cell_type": "markdown",
   "metadata": {},
   "source": [
    "# Train Neural Net to recognize MNIST digits"
   ]
  },
  {
   "cell_type": "code",
   "execution_count": 154,
   "metadata": {
    "collapsed": true
   },
   "outputs": [],
   "source": [
    "# constants\n",
    "batch_size = 128\n",
    "num_classes = 10\n",
    "epochs = 20\n",
    "hidden1_dim = 512\n",
    "hidden2_dim = 512"
   ]
  },
  {
   "cell_type": "markdown",
   "metadata": {},
   "source": [
    "## Preprocess input data"
   ]
  },
  {
   "cell_type": "code",
   "execution_count": 165,
   "metadata": {
    "scrolled": false
   },
   "outputs": [
    {
     "ename": "MemoryError",
     "evalue": "",
     "output_type": "error",
     "traceback": [
      "\u001b[1;31m---------------------------------------------------------------------------\u001b[0m",
      "\u001b[1;31mMemoryError\u001b[0m                               Traceback (most recent call last)",
      "\u001b[1;32m<ipython-input-165-9fceda452094>\u001b[0m in \u001b[0;36m<module>\u001b[1;34m()\u001b[0m\n\u001b[1;32m----> 1\u001b[1;33m \u001b[0my_train\u001b[0m \u001b[1;33m=\u001b[0m \u001b[0mkeras\u001b[0m\u001b[1;33m.\u001b[0m\u001b[0mutils\u001b[0m\u001b[1;33m.\u001b[0m\u001b[0mto_categorical\u001b[0m\u001b[1;33m(\u001b[0m\u001b[0my_train\u001b[0m\u001b[1;33m,\u001b[0m \u001b[0mnum_classes\u001b[0m\u001b[1;33m)\u001b[0m\u001b[1;33m\u001b[0m\u001b[0m\n\u001b[0m\u001b[0;32m      2\u001b[0m \u001b[0my_val\u001b[0m \u001b[1;33m=\u001b[0m \u001b[0mkeras\u001b[0m\u001b[1;33m.\u001b[0m\u001b[0mutils\u001b[0m\u001b[1;33m.\u001b[0m\u001b[0mto_categorical\u001b[0m\u001b[1;33m(\u001b[0m\u001b[0my_val\u001b[0m\u001b[1;33m,\u001b[0m \u001b[0mnum_classes\u001b[0m\u001b[1;33m)\u001b[0m\u001b[1;33m\u001b[0m\u001b[0m\n\u001b[0;32m      3\u001b[0m \u001b[0mprint\u001b[0m\u001b[1;33m(\u001b[0m\u001b[0my_train\u001b[0m\u001b[1;33m[\u001b[0m\u001b[1;36m0\u001b[0m\u001b[1;33m]\u001b[0m\u001b[1;33m)\u001b[0m\u001b[1;33m\u001b[0m\u001b[0m\n",
      "\u001b[1;32mC:\\ProgramData\\Anaconda3\\lib\\site-packages\\keras\\utils\\np_utils.py\u001b[0m in \u001b[0;36mto_categorical\u001b[1;34m(y, num_classes)\u001b[0m\n\u001b[0;32m     26\u001b[0m         \u001b[0mnum_classes\u001b[0m \u001b[1;33m=\u001b[0m \u001b[0mnp\u001b[0m\u001b[1;33m.\u001b[0m\u001b[0mmax\u001b[0m\u001b[1;33m(\u001b[0m\u001b[0my\u001b[0m\u001b[1;33m)\u001b[0m \u001b[1;33m+\u001b[0m \u001b[1;36m1\u001b[0m\u001b[1;33m\u001b[0m\u001b[0m\n\u001b[0;32m     27\u001b[0m     \u001b[0mn\u001b[0m \u001b[1;33m=\u001b[0m \u001b[0my\u001b[0m\u001b[1;33m.\u001b[0m\u001b[0mshape\u001b[0m\u001b[1;33m[\u001b[0m\u001b[1;36m0\u001b[0m\u001b[1;33m]\u001b[0m\u001b[1;33m\u001b[0m\u001b[0m\n\u001b[1;32m---> 28\u001b[1;33m     \u001b[0mcategorical\u001b[0m \u001b[1;33m=\u001b[0m \u001b[0mnp\u001b[0m\u001b[1;33m.\u001b[0m\u001b[0mzeros\u001b[0m\u001b[1;33m(\u001b[0m\u001b[1;33m(\u001b[0m\u001b[0mn\u001b[0m\u001b[1;33m,\u001b[0m \u001b[0mnum_classes\u001b[0m\u001b[1;33m)\u001b[0m\u001b[1;33m)\u001b[0m\u001b[1;33m\u001b[0m\u001b[0m\n\u001b[0m\u001b[0;32m     29\u001b[0m     \u001b[0mcategorical\u001b[0m\u001b[1;33m[\u001b[0m\u001b[0mnp\u001b[0m\u001b[1;33m.\u001b[0m\u001b[0marange\u001b[0m\u001b[1;33m(\u001b[0m\u001b[0mn\u001b[0m\u001b[1;33m)\u001b[0m\u001b[1;33m,\u001b[0m \u001b[0my\u001b[0m\u001b[1;33m]\u001b[0m \u001b[1;33m=\u001b[0m \u001b[1;36m1\u001b[0m\u001b[1;33m\u001b[0m\u001b[0m\n\u001b[0;32m     30\u001b[0m     \u001b[0moutput_shape\u001b[0m \u001b[1;33m=\u001b[0m \u001b[0minput_shape\u001b[0m \u001b[1;33m+\u001b[0m \u001b[1;33m(\u001b[0m\u001b[0mnum_classes\u001b[0m\u001b[1;33m,\u001b[0m\u001b[1;33m)\u001b[0m\u001b[1;33m\u001b[0m\u001b[0m\n",
      "\u001b[1;31mMemoryError\u001b[0m: "
     ]
    }
   ],
   "source": [
    "y_train = keras.utils.to_categorical(y_train, num_classes)\n",
    "y_val = keras.utils.to_categorical(y_val, num_classes)\n",
    "print(y_train[0])"
   ]
  },
  {
   "cell_type": "code",
   "execution_count": 155,
   "metadata": {
    "scrolled": false
   },
   "outputs": [],
   "source": [
    "model = Sequential()\n",
    "model.add(Dense(hidden1_dim, activation='relu', input_shape=(input_dim,)))\n",
    "model.add(Dropout(0.2))\n",
    "model.add(Dense(hidden2_dim, activation='relu'))\n",
    "model.add(Dropout(0.2))\n",
    "model.add(Dense(num_classes, activation='softmax'))"
   ]
  },
  {
   "cell_type": "code",
   "execution_count": 149,
   "metadata": {
    "scrolled": false
   },
   "outputs": [
    {
     "name": "stdout",
     "output_type": "stream",
     "text": [
      "_________________________________________________________________\n",
      "Layer (type)                 Output Shape              Param #   \n",
      "=================================================================\n",
      "dense_32 (Dense)             (None, 512)               401920    \n",
      "_________________________________________________________________\n",
      "dropout_10 (Dropout)         (None, 512)               0         \n",
      "_________________________________________________________________\n",
      "dense_33 (Dense)             (None, 512)               262656    \n",
      "_________________________________________________________________\n",
      "dropout_11 (Dropout)         (None, 512)               0         \n",
      "_________________________________________________________________\n",
      "dense_34 (Dense)             (None, 10)                5130      \n",
      "=================================================================\n",
      "Total params: 669,706\n",
      "Trainable params: 669,706\n",
      "Non-trainable params: 0\n",
      "_________________________________________________________________\n"
     ]
    }
   ],
   "source": [
    "model.summary()"
   ]
  },
  {
   "cell_type": "code",
   "execution_count": 156,
   "metadata": {
    "collapsed": true,
    "scrolled": false
   },
   "outputs": [],
   "source": [
    "model.compile(loss='categorical_crossentropy',\n",
    "              optimizer=RMSprop(),\n",
    "              metrics=['accuracy'])"
   ]
  },
  {
   "cell_type": "markdown",
   "metadata": {},
   "source": [
    "### Train or load Model"
   ]
  },
  {
   "cell_type": "code",
   "execution_count": 159,
   "metadata": {
    "scrolled": false
   },
   "outputs": [
    {
     "ename": "ValueError",
     "evalue": "Error when checking target: expected dense_37 to have shape (None, 10) but got array with shape (60000, 1)",
     "output_type": "error",
     "traceback": [
      "\u001b[1;31m---------------------------------------------------------------------------\u001b[0m",
      "\u001b[1;31mValueError\u001b[0m                                Traceback (most recent call last)",
      "\u001b[1;32m<ipython-input-159-0369ce908141>\u001b[0m in \u001b[0;36m<module>\u001b[1;34m()\u001b[0m\n\u001b[0;32m      3\u001b[0m           \u001b[0mepochs\u001b[0m\u001b[1;33m=\u001b[0m\u001b[0mepochs\u001b[0m\u001b[1;33m,\u001b[0m\u001b[1;33m\u001b[0m\u001b[0m\n\u001b[0;32m      4\u001b[0m           \u001b[0mverbose\u001b[0m\u001b[1;33m=\u001b[0m\u001b[1;36m1\u001b[0m\u001b[1;33m,\u001b[0m\u001b[1;33m\u001b[0m\u001b[0m\n\u001b[1;32m----> 5\u001b[1;33m           validation_data=(x_val, y_val))\n\u001b[0m",
      "\u001b[1;32mC:\\ProgramData\\Anaconda3\\lib\\site-packages\\keras\\models.py\u001b[0m in \u001b[0;36mfit\u001b[1;34m(self, x, y, batch_size, epochs, verbose, callbacks, validation_split, validation_data, shuffle, class_weight, sample_weight, initial_epoch, steps_per_epoch, validation_steps, **kwargs)\u001b[0m\n\u001b[0;32m    958\u001b[0m                               \u001b[0minitial_epoch\u001b[0m\u001b[1;33m=\u001b[0m\u001b[0minitial_epoch\u001b[0m\u001b[1;33m,\u001b[0m\u001b[1;33m\u001b[0m\u001b[0m\n\u001b[0;32m    959\u001b[0m                               \u001b[0msteps_per_epoch\u001b[0m\u001b[1;33m=\u001b[0m\u001b[0msteps_per_epoch\u001b[0m\u001b[1;33m,\u001b[0m\u001b[1;33m\u001b[0m\u001b[0m\n\u001b[1;32m--> 960\u001b[1;33m                               validation_steps=validation_steps)\n\u001b[0m\u001b[0;32m    961\u001b[0m \u001b[1;33m\u001b[0m\u001b[0m\n\u001b[0;32m    962\u001b[0m     def evaluate(self, x, y, batch_size=32, verbose=1,\n",
      "\u001b[1;32mC:\\ProgramData\\Anaconda3\\lib\\site-packages\\keras\\engine\\training.py\u001b[0m in \u001b[0;36mfit\u001b[1;34m(self, x, y, batch_size, epochs, verbose, callbacks, validation_split, validation_data, shuffle, class_weight, sample_weight, initial_epoch, steps_per_epoch, validation_steps, **kwargs)\u001b[0m\n\u001b[0;32m   1572\u001b[0m             \u001b[0mclass_weight\u001b[0m\u001b[1;33m=\u001b[0m\u001b[0mclass_weight\u001b[0m\u001b[1;33m,\u001b[0m\u001b[1;33m\u001b[0m\u001b[0m\n\u001b[0;32m   1573\u001b[0m             \u001b[0mcheck_batch_axis\u001b[0m\u001b[1;33m=\u001b[0m\u001b[1;32mFalse\u001b[0m\u001b[1;33m,\u001b[0m\u001b[1;33m\u001b[0m\u001b[0m\n\u001b[1;32m-> 1574\u001b[1;33m             batch_size=batch_size)\n\u001b[0m\u001b[0;32m   1575\u001b[0m         \u001b[1;31m# Prepare validation data.\u001b[0m\u001b[1;33m\u001b[0m\u001b[1;33m\u001b[0m\u001b[0m\n\u001b[0;32m   1576\u001b[0m         \u001b[0mdo_validation\u001b[0m \u001b[1;33m=\u001b[0m \u001b[1;32mFalse\u001b[0m\u001b[1;33m\u001b[0m\u001b[0m\n",
      "\u001b[1;32mC:\\ProgramData\\Anaconda3\\lib\\site-packages\\keras\\engine\\training.py\u001b[0m in \u001b[0;36m_standardize_user_data\u001b[1;34m(self, x, y, sample_weight, class_weight, check_batch_axis, batch_size)\u001b[0m\n\u001b[0;32m   1409\u001b[0m                                     \u001b[0moutput_shapes\u001b[0m\u001b[1;33m,\u001b[0m\u001b[1;33m\u001b[0m\u001b[0m\n\u001b[0;32m   1410\u001b[0m                                     \u001b[0mcheck_batch_axis\u001b[0m\u001b[1;33m=\u001b[0m\u001b[1;32mFalse\u001b[0m\u001b[1;33m,\u001b[0m\u001b[1;33m\u001b[0m\u001b[0m\n\u001b[1;32m-> 1411\u001b[1;33m                                     exception_prefix='target')\n\u001b[0m\u001b[0;32m   1412\u001b[0m         sample_weights = _standardize_sample_weights(sample_weight,\n\u001b[0;32m   1413\u001b[0m                                                      self._feed_output_names)\n",
      "\u001b[1;32mC:\\ProgramData\\Anaconda3\\lib\\site-packages\\keras\\engine\\training.py\u001b[0m in \u001b[0;36m_standardize_input_data\u001b[1;34m(data, names, shapes, check_batch_axis, exception_prefix)\u001b[0m\n\u001b[0;32m    151\u001b[0m                             \u001b[1;34m' to have shape '\u001b[0m \u001b[1;33m+\u001b[0m \u001b[0mstr\u001b[0m\u001b[1;33m(\u001b[0m\u001b[0mshapes\u001b[0m\u001b[1;33m[\u001b[0m\u001b[0mi\u001b[0m\u001b[1;33m]\u001b[0m\u001b[1;33m)\u001b[0m \u001b[1;33m+\u001b[0m\u001b[1;33m\u001b[0m\u001b[0m\n\u001b[0;32m    152\u001b[0m                             \u001b[1;34m' but got array with shape '\u001b[0m \u001b[1;33m+\u001b[0m\u001b[1;33m\u001b[0m\u001b[0m\n\u001b[1;32m--> 153\u001b[1;33m                             str(array.shape))\n\u001b[0m\u001b[0;32m    154\u001b[0m     \u001b[1;32mreturn\u001b[0m \u001b[0marrays\u001b[0m\u001b[1;33m\u001b[0m\u001b[0m\n\u001b[0;32m    155\u001b[0m \u001b[1;33m\u001b[0m\u001b[0m\n",
      "\u001b[1;31mValueError\u001b[0m: Error when checking target: expected dense_37 to have shape (None, 10) but got array with shape (60000, 1)"
     ]
    }
   ],
   "source": [
    "model.fit(x_train, y_train, \n",
    "          batch_size=batch_size,\n",
    "          epochs=epochs,\n",
    "          verbose=1,\n",
    "          validation_data=(x_val, y_val))"
   ]
  },
  {
   "cell_type": "code",
   "execution_count": null,
   "metadata": {
    "scrolled": false
   },
   "outputs": [],
   "source": [
    "score = model.evaluate(X_val, Y_val, verbose=0)\n",
    "print('Test loss:', score[0])\n",
    "print('Test accuracy:', score[1])"
   ]
  },
  {
   "cell_type": "markdown",
   "metadata": {},
   "source": [
    "# Additional Information and Footage"
   ]
  },
  {
   "cell_type": "markdown",
   "metadata": {},
   "source": [
    "## Cross Entropy"
   ]
  },
  {
   "cell_type": "markdown",
   "metadata": {},
   "source": [
    "![Cross Entropy](images\\2017-12-03 10_42_19-Machine Learning_ Should I use a categorical cross entropy or binary cross entro.png)"
   ]
  },
  {
   "cell_type": "markdown",
   "metadata": {},
   "source": [
    "## Batch Size"
   ]
  },
  {
   "cell_type": "markdown",
   "metadata": {},
   "source": [
    "Batch size defines number of samples that going to be propagated through the network.\n",
    "\n",
    "For instance, let's say you have 1050 training samples and you want to set up batch_size equal to 100. Algorithm takes first 100 samples (from 1st to 100th) from the training dataset and trains network. Next it takes second 100 samples (from 101st to 200th) and train network again. We can keep doing this procedure until we will propagate through the networks all samples. The problem usually happens with the last set of samples. In our example we've used 1050 which is not divisible by 100 without remainder. The simplest solution is just to get final 50 samples and train the network.\n",
    "\n",
    "Advantages:\n",
    "\n",
    "* It requires less memory. Since you train network using less number of samples the overall training procedure requires less memory. It's especially important in case if you are not able to fit dataset in memory.\n",
    "* Typically networks trains faster with mini-batches. That's because we update weights after each propagation. In our example we've propagated 11 batches (10 of them had 100 samples and 1 had 50 samples) and after each of them we've updated network's parameters. If we used all samples during propagation we would make only 1 update for the network's parameter.\n",
    "\n",
    "Disadvantages:\n",
    "\n",
    "* The smaller the batch the less accurate estimate of the gradient. In the figure below you can see that mini-batch (green color) gradient's direction fluctuates compare to the full batch (blue color)."
   ]
  },
  {
   "cell_type": "markdown",
   "metadata": {},
   "source": [
    "![https://stats.stackexchange.com/questions/153531/what-is-batch-size-in-neural-network](images\\lU3sx.png)"
   ]
  },
  {
   "cell_type": "code",
   "execution_count": null,
   "metadata": {
    "collapsed": true,
    "scrolled": false
   },
   "outputs": [],
   "source": []
  },
  {
   "cell_type": "code",
   "execution_count": null,
   "metadata": {
    "collapsed": true,
    "scrolled": false
   },
   "outputs": [],
   "source": []
  }
 ],
 "metadata": {
  "kernelspec": {
   "display_name": "Python 3",
   "language": "python",
   "name": "python3"
  },
  "language_info": {
   "codemirror_mode": {
    "name": "ipython",
    "version": 3
   },
   "file_extension": ".py",
   "mimetype": "text/x-python",
   "name": "python",
   "nbconvert_exporter": "python",
   "pygments_lexer": "ipython3",
   "version": "3.6.1"
  }
 },
 "nbformat": 4,
 "nbformat_minor": 2
}
