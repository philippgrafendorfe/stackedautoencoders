{
 "cells": [
  {
   "cell_type": "raw",
   "metadata": {},
   "source": [
    "<script>\n",
    "  function code_toggle() {\n",
    "    if (code_shown){\n",
    "      $('div.input').hide('500');\n",
    "      $('#toggleButton').val('Show Code')\n",
    "    } else {\n",
    "      $('div.input').show('500');\n",
    "      $('#toggleButton').val('Hide Code')\n",
    "    }\n",
    "    code_shown = !code_shown\n",
    "  }\n",
    "\n",
    "  $( document ).ready(function(){\n",
    "    code_shown=false;\n",
    "    $('div.input').hide()\n",
    "  });\n",
    "</script>\n",
    "<form action=\"javascript:code_toggle()\"><input type=\"submit\" id=\"toggleButton\" value=\"Show Code\"></form>"
   ]
  },
  {
   "cell_type": "markdown",
   "metadata": {},
   "source": [
    "# Title of Database: Wall-Following navigation task with mobile robot SCITOS-G5"
   ]
  },
  {
   "cell_type": "markdown",
   "metadata": {},
   "source": [
    "The data were collected as the SCITOS G5 navigates through the room following the wall in a clockwise\n",
    "direction, for 4 rounds. To navigate, the robot uses 24 ultrasound sensors arranged circularly around its \"waist\". \n",
    "The numbering of the ultrasound sensors starts at the front of the robot and increases in clockwise direction."
   ]
  },
  {
   "cell_type": "code",
   "execution_count": 23,
   "metadata": {
    "scrolled": true
   },
   "outputs": [],
   "source": [
    "# modules\n",
    "from keras.layers import Input, Dense, Dropout\n",
    "from keras.models import Model\n",
    "from keras.datasets import mnist\n",
    "from keras.models import Sequential, load_model\n",
    "from keras.optimizers import RMSprop\n",
    "from keras.callbacks import TensorBoard\n",
    "from __future__ import print_function\n",
    "from keras.utils import plot_model\n",
    "from IPython.display import SVG\n",
    "from keras.utils.vis_utils import model_to_dot\n",
    "from sklearn import preprocessing\n",
    "from keras import layers\n",
    "from keras import initializers\n",
    "from matplotlib import axes\n",
    "from matplotlib import rc\n",
    "\n",
    "import keras\n",
    "import matplotlib.pyplot as plt\n",
    "import numpy as np\n",
    "import math\n",
    "import pydot\n",
    "import graphviz\n",
    "import pandas as pd\n",
    "import IPython"
   ]
  },
  {
   "cell_type": "code",
   "execution_count": 24,
   "metadata": {
    "collapsed": true
   },
   "outputs": [],
   "source": [
    "%matplotlib inline\n",
    "font = {'family' : 'monospace',\n",
    "        'weight' : 'bold',\n",
    "        'size'   : 20}\n",
    "\n",
    "rc('font', **font)"
   ]
  },
  {
   "cell_type": "markdown",
   "metadata": {},
   "source": [
    "## Import and basic data inspection"
   ]
  },
  {
   "cell_type": "code",
   "execution_count": 25,
   "metadata": {
    "collapsed": true,
    "scrolled": true
   },
   "outputs": [],
   "source": [
    "# import\n",
    "data_raw = pd.read_csv('data/sensor_readings_24.csv', sep=\",\", header=None)\n",
    "data = data_raw.copy()"
   ]
  },
  {
   "cell_type": "markdown",
   "metadata": {},
   "source": [
    "The dataframe consists of only positive values and the classes are encoded as strings in the variable with index `24`"
   ]
  },
  {
   "cell_type": "code",
   "execution_count": 26,
   "metadata": {},
   "outputs": [
    {
     "data": {
      "text/html": [
       "<div>\n",
       "<style>\n",
       "    .dataframe thead tr:only-child th {\n",
       "        text-align: right;\n",
       "    }\n",
       "\n",
       "    .dataframe thead th {\n",
       "        text-align: left;\n",
       "    }\n",
       "\n",
       "    .dataframe tbody tr th {\n",
       "        vertical-align: top;\n",
       "    }\n",
       "</style>\n",
       "<table border=\"1\" class=\"dataframe\">\n",
       "  <thead>\n",
       "    <tr style=\"text-align: right;\">\n",
       "      <th></th>\n",
       "      <th>0</th>\n",
       "      <th>1</th>\n",
       "      <th>2</th>\n",
       "      <th>3</th>\n",
       "      <th>4</th>\n",
       "      <th>5</th>\n",
       "      <th>6</th>\n",
       "      <th>7</th>\n",
       "      <th>8</th>\n",
       "      <th>9</th>\n",
       "      <th>...</th>\n",
       "      <th>15</th>\n",
       "      <th>16</th>\n",
       "      <th>17</th>\n",
       "      <th>18</th>\n",
       "      <th>19</th>\n",
       "      <th>20</th>\n",
       "      <th>21</th>\n",
       "      <th>22</th>\n",
       "      <th>23</th>\n",
       "      <th>24</th>\n",
       "    </tr>\n",
       "  </thead>\n",
       "  <tbody>\n",
       "    <tr>\n",
       "      <th>0</th>\n",
       "      <td>0.438</td>\n",
       "      <td>0.498</td>\n",
       "      <td>3.625</td>\n",
       "      <td>3.645</td>\n",
       "      <td>5.0</td>\n",
       "      <td>2.918</td>\n",
       "      <td>5.0</td>\n",
       "      <td>2.351</td>\n",
       "      <td>2.332</td>\n",
       "      <td>2.643</td>\n",
       "      <td>...</td>\n",
       "      <td>0.593</td>\n",
       "      <td>0.502</td>\n",
       "      <td>0.493</td>\n",
       "      <td>0.504</td>\n",
       "      <td>0.445</td>\n",
       "      <td>0.431</td>\n",
       "      <td>0.444</td>\n",
       "      <td>0.440</td>\n",
       "      <td>0.429</td>\n",
       "      <td>Slight-Right-Turn</td>\n",
       "    </tr>\n",
       "    <tr>\n",
       "      <th>1</th>\n",
       "      <td>0.438</td>\n",
       "      <td>0.498</td>\n",
       "      <td>3.625</td>\n",
       "      <td>3.648</td>\n",
       "      <td>5.0</td>\n",
       "      <td>2.918</td>\n",
       "      <td>5.0</td>\n",
       "      <td>2.637</td>\n",
       "      <td>2.332</td>\n",
       "      <td>2.649</td>\n",
       "      <td>...</td>\n",
       "      <td>0.592</td>\n",
       "      <td>0.502</td>\n",
       "      <td>0.493</td>\n",
       "      <td>0.504</td>\n",
       "      <td>0.449</td>\n",
       "      <td>0.431</td>\n",
       "      <td>0.444</td>\n",
       "      <td>0.443</td>\n",
       "      <td>0.429</td>\n",
       "      <td>Slight-Right-Turn</td>\n",
       "    </tr>\n",
       "    <tr>\n",
       "      <th>2</th>\n",
       "      <td>0.438</td>\n",
       "      <td>0.498</td>\n",
       "      <td>3.625</td>\n",
       "      <td>3.629</td>\n",
       "      <td>5.0</td>\n",
       "      <td>2.918</td>\n",
       "      <td>5.0</td>\n",
       "      <td>2.637</td>\n",
       "      <td>2.334</td>\n",
       "      <td>2.643</td>\n",
       "      <td>...</td>\n",
       "      <td>0.593</td>\n",
       "      <td>0.502</td>\n",
       "      <td>0.493</td>\n",
       "      <td>0.504</td>\n",
       "      <td>0.449</td>\n",
       "      <td>0.431</td>\n",
       "      <td>0.444</td>\n",
       "      <td>0.446</td>\n",
       "      <td>0.429</td>\n",
       "      <td>Slight-Right-Turn</td>\n",
       "    </tr>\n",
       "    <tr>\n",
       "      <th>3</th>\n",
       "      <td>0.437</td>\n",
       "      <td>0.501</td>\n",
       "      <td>3.625</td>\n",
       "      <td>3.626</td>\n",
       "      <td>5.0</td>\n",
       "      <td>2.918</td>\n",
       "      <td>5.0</td>\n",
       "      <td>2.353</td>\n",
       "      <td>2.334</td>\n",
       "      <td>2.642</td>\n",
       "      <td>...</td>\n",
       "      <td>0.593</td>\n",
       "      <td>0.502</td>\n",
       "      <td>0.493</td>\n",
       "      <td>0.504</td>\n",
       "      <td>0.449</td>\n",
       "      <td>0.431</td>\n",
       "      <td>0.444</td>\n",
       "      <td>0.444</td>\n",
       "      <td>0.429</td>\n",
       "      <td>Slight-Right-Turn</td>\n",
       "    </tr>\n",
       "    <tr>\n",
       "      <th>4</th>\n",
       "      <td>0.438</td>\n",
       "      <td>0.498</td>\n",
       "      <td>3.626</td>\n",
       "      <td>3.629</td>\n",
       "      <td>5.0</td>\n",
       "      <td>2.918</td>\n",
       "      <td>5.0</td>\n",
       "      <td>2.640</td>\n",
       "      <td>2.334</td>\n",
       "      <td>2.639</td>\n",
       "      <td>...</td>\n",
       "      <td>0.592</td>\n",
       "      <td>0.502</td>\n",
       "      <td>0.493</td>\n",
       "      <td>0.504</td>\n",
       "      <td>0.449</td>\n",
       "      <td>0.431</td>\n",
       "      <td>0.444</td>\n",
       "      <td>0.441</td>\n",
       "      <td>0.429</td>\n",
       "      <td>Slight-Right-Turn</td>\n",
       "    </tr>\n",
       "  </tbody>\n",
       "</table>\n",
       "<p>5 rows × 25 columns</p>\n",
       "</div>"
      ],
      "text/plain": [
       "      0      1      2      3    4      5    6      7      8      9   \\\n",
       "0  0.438  0.498  3.625  3.645  5.0  2.918  5.0  2.351  2.332  2.643   \n",
       "1  0.438  0.498  3.625  3.648  5.0  2.918  5.0  2.637  2.332  2.649   \n",
       "2  0.438  0.498  3.625  3.629  5.0  2.918  5.0  2.637  2.334  2.643   \n",
       "3  0.437  0.501  3.625  3.626  5.0  2.918  5.0  2.353  2.334  2.642   \n",
       "4  0.438  0.498  3.626  3.629  5.0  2.918  5.0  2.640  2.334  2.639   \n",
       "\n",
       "         ...             15     16     17     18     19     20     21     22  \\\n",
       "0        ...          0.593  0.502  0.493  0.504  0.445  0.431  0.444  0.440   \n",
       "1        ...          0.592  0.502  0.493  0.504  0.449  0.431  0.444  0.443   \n",
       "2        ...          0.593  0.502  0.493  0.504  0.449  0.431  0.444  0.446   \n",
       "3        ...          0.593  0.502  0.493  0.504  0.449  0.431  0.444  0.444   \n",
       "4        ...          0.592  0.502  0.493  0.504  0.449  0.431  0.444  0.441   \n",
       "\n",
       "      23                 24  \n",
       "0  0.429  Slight-Right-Turn  \n",
       "1  0.429  Slight-Right-Turn  \n",
       "2  0.429  Slight-Right-Turn  \n",
       "3  0.429  Slight-Right-Turn  \n",
       "4  0.429  Slight-Right-Turn  \n",
       "\n",
       "[5 rows x 25 columns]"
      ]
     },
     "execution_count": 26,
     "metadata": {},
     "output_type": "execute_result"
    }
   ],
   "source": [
    "data.head()"
   ]
  },
  {
   "cell_type": "markdown",
   "metadata": {},
   "source": [
    "Whats the distribution of the classes?"
   ]
  },
  {
   "cell_type": "code",
   "execution_count": 27,
   "metadata": {},
   "outputs": [
    {
     "data": {
      "text/html": [
       "<div>\n",
       "<style>\n",
       "    .dataframe thead tr:only-child th {\n",
       "        text-align: right;\n",
       "    }\n",
       "\n",
       "    .dataframe thead th {\n",
       "        text-align: left;\n",
       "    }\n",
       "\n",
       "    .dataframe tbody tr th {\n",
       "        vertical-align: top;\n",
       "    }\n",
       "</style>\n",
       "<table border=\"1\" class=\"dataframe\">\n",
       "  <thead>\n",
       "    <tr style=\"text-align: right;\">\n",
       "      <th>col_0</th>\n",
       "      <th>frequency</th>\n",
       "    </tr>\n",
       "    <tr>\n",
       "      <th>Class/Direction</th>\n",
       "      <th></th>\n",
       "    </tr>\n",
       "  </thead>\n",
       "  <tbody>\n",
       "    <tr>\n",
       "      <th>Move-Forward</th>\n",
       "      <td>0.404142</td>\n",
       "    </tr>\n",
       "    <tr>\n",
       "      <th>Sharp-Right-Turn</th>\n",
       "      <td>0.384348</td>\n",
       "    </tr>\n",
       "    <tr>\n",
       "      <th>Slight-Left-Turn</th>\n",
       "      <td>0.060117</td>\n",
       "    </tr>\n",
       "    <tr>\n",
       "      <th>Slight-Right-Turn</th>\n",
       "      <td>0.151393</td>\n",
       "    </tr>\n",
       "  </tbody>\n",
       "</table>\n",
       "</div>"
      ],
      "text/plain": [
       "col_0              frequency\n",
       "Class/Direction             \n",
       "Move-Forward        0.404142\n",
       "Sharp-Right-Turn    0.384348\n",
       "Slight-Left-Turn    0.060117\n",
       "Slight-Right-Turn   0.151393"
      ]
     },
     "execution_count": 27,
     "metadata": {},
     "output_type": "execute_result"
    }
   ],
   "source": [
    "df_tab = data_raw\n",
    "df_tab[24] = df_tab[24].astype('category')\n",
    "tab = pd.crosstab(index=df_tab[24], columns=\"frequency\")\n",
    "tab.index.name = 'Class/Direction'\n",
    "tab/tab.sum()"
   ]
  },
  {
   "cell_type": "markdown",
   "metadata": {},
   "source": [
    "The `Move_Forward` and the `Sharp-Right-Turn` Class combine nearly 80% of all observated classes. So it might happen, that the accuracy may still be high with around 75% although most of the features are eliminated."
   ]
  },
  {
   "cell_type": "markdown",
   "metadata": {},
   "source": [
    "## Preprocessing"
   ]
  },
  {
   "cell_type": "markdown",
   "metadata": {},
   "source": [
    "**0. Mapping integer values to the classes.**"
   ]
  },
  {
   "cell_type": "code",
   "execution_count": 28,
   "metadata": {
    "collapsed": true
   },
   "outputs": [],
   "source": [
    "mapping = {key: value for (key, value) in zip(data[24].unique(), range(len(data[24].unique())))}\n",
    "data.replace({24:mapping}, inplace=True)"
   ]
  },
  {
   "cell_type": "code",
   "execution_count": 29,
   "metadata": {},
   "outputs": [
    {
     "data": {
      "text/plain": [
       "array([0, 1, 2, 3], dtype=int64)"
      ]
     },
     "execution_count": 29,
     "metadata": {},
     "output_type": "execute_result"
    }
   ],
   "source": [
    "data[24].unique()"
   ]
  },
  {
   "cell_type": "markdown",
   "metadata": {},
   "source": [
    "**1. Take a random sample of 90% of the rows from the dataframe. To ensure reproducability the `random_state` variable is set. The other 10% are placed aside for validation after training. The last column is the class column and is stored in the y variables respectively.**"
   ]
  },
  {
   "cell_type": "code",
   "execution_count": 30,
   "metadata": {
    "collapsed": true
   },
   "outputs": [],
   "source": [
    "data_train = data.sample(frac=0.9, random_state=42)\n",
    "data_val = data.drop(data_train.index)\n",
    "\n",
    "df_x_train = data_train.iloc[:,:-1]\n",
    "df_y_train = data_train.iloc[:,-1]\n",
    "\n",
    "df_x_val = data_val.iloc[:,:-1]\n",
    "df_y_val = data_val.iloc[:,-1]"
   ]
  },
  {
   "cell_type": "markdown",
   "metadata": {},
   "source": [
    "**2. Normalization between 0 and 1**"
   ]
  },
  {
   "cell_type": "code",
   "execution_count": 31,
   "metadata": {
    "collapsed": true,
    "scrolled": true
   },
   "outputs": [],
   "source": [
    "x_train = df_x_train.values\n",
    "x_train = (x_train - x_train.min()) / (x_train.max() - x_train.min())\n",
    "y_train = df_y_train.values\n",
    "\n",
    "x_val = df_x_val.values\n",
    "x_val = (x_val - x_val.min()) / (x_val.max() - x_val.min())\n",
    "y_val = df_y_val.values"
   ]
  },
  {
   "cell_type": "markdown",
   "metadata": {},
   "source": [
    "**3. Make useful categorical variables out of the single column data by one-hot encoding it.**"
   ]
  },
  {
   "cell_type": "code",
   "execution_count": 32,
   "metadata": {
    "collapsed": true,
    "scrolled": true
   },
   "outputs": [],
   "source": [
    "y_train = keras.utils.to_categorical(y_train, 4)\n",
    "y_val = keras.utils.to_categorical(y_val, 4)"
   ]
  },
  {
   "cell_type": "markdown",
   "metadata": {},
   "source": [
    "** 4. Set Global Parameters**"
   ]
  },
  {
   "cell_type": "code",
   "execution_count": 33,
   "metadata": {
    "collapsed": true
   },
   "outputs": [],
   "source": [
    "epochsize = 150\n",
    "batchsize = 24\n",
    "shuffle = False\n",
    "# Boolean (whether to shuffle the training data before each epoch) or str (for 'batch'). \n",
    "# shuffle only works with sequential models and might slightly improve the result.\n",
    "dropout = 0.1\n",
    "num_classes = 4"
   ]
  },
  {
   "cell_type": "markdown",
   "metadata": {},
   "source": [
    "## Train Neural Net"
   ]
  },
  {
   "cell_type": "markdown",
   "metadata": {},
   "source": [
    "*Due to a tight schedule we will not perform any cross validation. So it might happen that our accuracy estimators lack a little bit in potential of generalization. We shall live with that. Another setup of experiments would be, that we loop over some different dataframes samples up in the preprocessing steps and repeat all the steps below to finally average the results.*"
   ]
  },
  {
   "cell_type": "markdown",
   "metadata": {},
   "source": [
    "The dimension of the hidden layers are set arbitrarily but some runs have shown that 30 is a good number. The `input_dim` Variable is set to 24 because initially there are 24 features. The aim is to build the best possible neural net."
   ]
  },
  {
   "cell_type": "markdown",
   "metadata": {},
   "source": [
    "#### Optimizer"
   ]
  },
  {
   "cell_type": "markdown",
   "metadata": {},
   "source": [
    "RMSprop is a mini batch gradient descent algorithm which divides the gradient by a running average of the learning rate. More information: http://www.cs.toronto.edu/~tijmen/csc321/slides/lecture_slides_lec6.pdf"
   ]
  },
  {
   "cell_type": "markdown",
   "metadata": {},
   "source": [
    "The weights are initialized by a normal distribution with mean 0 and standard deviation of 0.05."
   ]
  },
  {
   "cell_type": "code",
   "execution_count": 34,
   "metadata": {
    "collapsed": true,
    "scrolled": true
   },
   "outputs": [],
   "source": [
    "# constants\n",
    "input_dim = x_train.shape[1]\n",
    "hidden1_dim = 30\n",
    "hidden2_dim = 30"
   ]
  },
  {
   "cell_type": "code",
   "execution_count": 41,
   "metadata": {
    "collapsed": true
   },
   "outputs": [],
   "source": [
    "model = Sequential()\n",
    "model.add(Dense(hidden1_dim, activation='relu', input_shape=(input_dim,), kernel_initializer='normal'))\n",
    "model.add(Dropout(dropout))\n",
    "model.add(Dense(hidden2_dim, activation='relu', kernel_initializer='normal'))\n",
    "model.add(Dropout(dropout))\n",
    "model.add(Dense(num_classes, activation='softmax', kernel_initializer='normal'))\n",
    "\n",
    "model.compile(loss='categorical_crossentropy',\n",
    "              optimizer=RMSprop(),\n",
    "              metrics=['accuracy'])"
   ]
  },
  {
   "cell_type": "code",
   "execution_count": 36,
   "metadata": {
    "collapsed": true
   },
   "outputs": [],
   "source": [
    "plot_model(model, to_file='images/robo1_nn.png', show_shapes=True, show_layer_names=True)"
   ]
  },
  {
   "cell_type": "code",
   "execution_count": 37,
   "metadata": {},
   "outputs": [
    {
     "data": {
      "image/png": "[encoded data removed]",
      "text/plain": [
       "<IPython.core.display.Image object>"
      ]
     },
     "execution_count": 37,
     "metadata": {},
     "output_type": "execute_result"
    }
   ],
   "source": [
    "IPython.display.Image(\"images/robo1_nn.png\")"
   ]
  },
  {
   "cell_type": "code",
   "execution_count": 42,
   "metadata": {
    "scrolled": true
   },
   "outputs": [
    {
     "name": "stdout",
     "output_type": "stream",
     "text": [
      "546/546 [==============================] - 0s 51us/step\n",
      "0.943223443223\n"
     ]
    }
   ],
   "source": [
    "model.fit(x_train, y_train, \n",
    "          batch_size=batchsize,\n",
    "          epochs=epochsize,\n",
    "          verbose=0,\n",
    "          shuffle=shuffle,\n",
    "          validation_split=0.1)\n",
    "score = model.evaluate(x_val, y_val)[1]\n",
    "print(score)"
   ]
  },
  {
   "cell_type": "markdown",
   "metadata": {},
   "source": [
    "#### Comparison"
   ]
  },
  {
   "cell_type": "markdown",
   "metadata": {},
   "source": [
    "The following data is from a paper published in March 2017. You can find that here: https://www.ncbi.nlm.nih.gov/pmc/articles/PMC5375835/"
   ]
  },
  {
   "cell_type": "code",
   "execution_count": 207,
   "metadata": {},
   "outputs": [
    {
     "data": {
      "image/png": "[encoded data removed]",
      "text/plain": [
       "<IPython.core.display.Image object>"
      ]
     },
     "execution_count": 207,
     "metadata": {},
     "output_type": "execute_result"
    }
   ],
   "source": [
    "IPython.display.Image(\"images/2018-01-25 18_44_01-PubMed Central, Table 2_ Sensors (Basel). 2017 Mar; 17(3)_ 549. Published online.png\")"
   ]
  },
  {
   "cell_type": "markdown",
   "metadata": {},
   "source": [
    "One can easily see that our results are better."
   ]
  },
  {
   "cell_type": "markdown",
   "metadata": {},
   "source": [
    "## Dimensionality Reduction with Single Hidden Layer Autoencoder"
   ]
  },
  {
   "cell_type": "code",
   "execution_count": 287,
   "metadata": {
    "collapsed": true
   },
   "outputs": [],
   "source": [
    "encoder_dim = 8\n",
    "hidden1_dim = 20\n",
    "hidden2_dim = 20"
   ]
  },
  {
   "cell_type": "code",
   "execution_count": 300,
   "metadata": {
    "collapsed": true
   },
   "outputs": [],
   "source": [
    "main_input = Input(shape=(input_dim,), dtype='float32', name='main_input')\n",
    "\n",
    "encoding_layer = Dense(encoder_dim, activation='relu', kernel_initializer='normal')\n",
    "encoding_layer_output = encoding_layer(main_input)\n",
    "decoding_layer_output = Dense(input_dim\n",
    "                              ,activation='sigmoid'\n",
    "                              ,name='decoder_output'\n",
    "                              ,kernel_initializer='normal')(encoding_layer_output)\n",
    "\n",
    "x = Dense(hidden1_dim, activation='relu', kernel_initializer='normal')(encoding_layer_output)\n",
    "x = Dense(hidden2_dim, activation='relu', kernel_initializer='normal')(x)\n",
    "\n",
    "classifier_output = Dense(num_classes\n",
    "                          ,activation='softmax'\n",
    "                          ,name='main_output'\n",
    "                          ,kernel_initializer='normal')(x)\n",
    "\n",
    "auto_classifier = Model(inputs=main_input, outputs=[classifier_output, decoding_layer_output])\n",
    "\n",
    "auto_classifier.compile(optimizer=RMSprop(),\n",
    "                        loss={'main_output': 'categorical_crossentropy', 'decoder_output': 'mean_squared_error'},\n",
    "                        loss_weights={'main_output': 1., 'decoder_output': 1.},\n",
    "                        metrics=['accuracy'])"
   ]
  },
  {
   "cell_type": "code",
   "execution_count": 289,
   "metadata": {
    "collapsed": true
   },
   "outputs": [],
   "source": [
    "plot_model(auto_classifier, to_file='images/robo4_auto_class_LR.png', show_shapes=True, show_layer_names=True)"
   ]
  },
  {
   "cell_type": "code",
   "execution_count": 290,
   "metadata": {},
   "outputs": [
    {
     "data": {
      "image/png": "[encoded data removed]",
      "text/plain": [
       "<IPython.core.display.Image object>"
      ]
     },
     "execution_count": 290,
     "metadata": {},
     "output_type": "execute_result"
    }
   ],
   "source": [
    "IPython.display.Image(\"images/robo4_auto_class_LR.png\")"
   ]
  },
  {
   "cell_type": "code",
   "execution_count": 301,
   "metadata": {},
   "outputs": [
    {
     "name": "stdout",
     "output_type": "stream",
     "text": [
      "546/546 [==============================] - 0s 188us/step\n",
      "0.901098901099\n"
     ]
    }
   ],
   "source": [
    "auto_classifier.fit({'main_input': x_train},\n",
    "                    {'main_output': y_train, 'decoder_output': x_train},\n",
    "                    epochs=epochsize, \n",
    "                    batch_size=batchsize,\n",
    "                    shuffle=shuffle,\n",
    "                    validation_split=0.05,\n",
    "                    verbose=0)\n",
    "\n",
    "score = auto_classifier.evaluate(x=x_val, y=[y_val, x_val], verbose=1)\n",
    "print(score[3])"
   ]
  },
  {
   "cell_type": "code",
   "execution_count": 302,
   "metadata": {},
   "outputs": [
    {
     "data": {
      "image/png": "[encoded data removed]",
      "text/plain": [
       "<matplotlib.figure.Figure at 0x221eaf16208>"
      ]
     },
     "metadata": {},
     "output_type": "display_data"
    }
   ],
   "source": [
    "fig = plt.figure(figsize=(20,10))\n",
    "plt.plot(auto_classifier.history.history['val_main_output_acc'])\n",
    "plt.plot(auto_classifier.history.history['main_output_acc'])\n",
    "plt.axhline(y=score[3], c=\"red\")\n",
    "plt.text(0, score[3], \"test: \" + str(round(score[3], 4)), fontdict=font)\n",
    "plt.title('model accuracy for ' + str(round(input_dim/encoder_dim, 2)) +  ' x compression with single layer autoencoder')\n",
    "plt.ylabel('accuracy')\n",
    "plt.xlabel('epochs')\n",
    "plt.legend(['train', 'valid'], loc='lower right')\n",
    "plt.show()"
   ]
  },
  {
   "cell_type": "markdown",
   "metadata": {},
   "source": [
    "## Dimensionality reduction with stacked (multi hidden layer) autoencoder"
   ]
  },
  {
   "cell_type": "code",
   "execution_count": 303,
   "metadata": {
    "collapsed": true
   },
   "outputs": [],
   "source": [
    "encoder_dim1 = 16\n",
    "encoder_dim2 = 8\n",
    "decoder_dim1 = 16\n",
    "hidden1_dim = 20\n",
    "hidden2_dim = 20"
   ]
  },
  {
   "cell_type": "code",
   "execution_count": 304,
   "metadata": {
    "collapsed": true
   },
   "outputs": [],
   "source": [
    "main_input = Input(shape=(input_dim,), dtype='float32', name='main_input')\n",
    "\n",
    "encoding_layer1 = Dense(encoder_dim1, activation='relu', kernel_initializer='normal')(main_input)\n",
    "encoding_layer2 = Dense(encoder_dim2, activation='relu', kernel_initializer='normal')(encoding_layer1)\n",
    "\n",
    "decoding_layer1 = Dense(decoder_dim1\n",
    "                        ,activation='relu'\n",
    "                        ,kernel_initializer='normal')(encoding_layer2)\n",
    "decoding_layer2 = Dense(input_dim\n",
    "                        ,activation='sigmoid'\n",
    "                        ,name='decoder_output'\n",
    "                        ,kernel_initializer='normal')(decoding_layer1)\n",
    "\n",
    "x = Dense(hidden1_dim, activation='relu', kernel_initializer='normal')(encoding_layer2)\n",
    "x = Dense(hidden2_dim, activation='relu', kernel_initializer='normal')(x)\n",
    "\n",
    "classifier_output = Dense(num_classes\n",
    "                          ,activation='softmax'\n",
    "                          ,name='main_output'\n",
    "                          ,kernel_initializer='normal')(x)\n",
    "\n",
    "stacked_auto_classifier = Model(inputs=main_input, outputs=[classifier_output, decoding_layer2])\n",
    "\n",
    "stacked_auto_classifier.compile(optimizer=RMSprop(),\n",
    "                        loss={'main_output': 'categorical_crossentropy', 'decoder_output': 'mean_squared_error'},\n",
    "                        loss_weights={'main_output': 1., 'decoder_output': 1.},\n",
    "                        metrics=['accuracy'])"
   ]
  },
  {
   "cell_type": "code",
   "execution_count": 295,
   "metadata": {
    "collapsed": true
   },
   "outputs": [],
   "source": [
    "plot_model(stacked_auto_classifier, to_file='images/stacked__auto_class.png', show_shapes=True, show_layer_names=True)"
   ]
  },
  {
   "cell_type": "code",
   "execution_count": 296,
   "metadata": {},
   "outputs": [
    {
     "data": {
      "image/png": "[encoded data removed]",
      "text/plain": [
       "<IPython.core.display.Image object>"
      ]
     },
     "execution_count": 296,
     "metadata": {},
     "output_type": "execute_result"
    }
   ],
   "source": [
    "IPython.display.Image(\"images/stacked__auto_class.png\")"
   ]
  },
  {
   "cell_type": "code",
   "execution_count": 305,
   "metadata": {},
   "outputs": [
    {
     "name": "stdout",
     "output_type": "stream",
     "text": [
      "546/546 [==============================] - 0s 193us/step\n",
      "0.90293040293\n"
     ]
    }
   ],
   "source": [
    "stacked_auto_classifier.fit({'main_input': x_train},\n",
    "                            {'main_output': y_train, 'decoder_output': x_train},\n",
    "                            epochs=epochsize, \n",
    "                            batch_size=batchsize,\n",
    "                            shuffle=shuffle,\n",
    "                            validation_split=0.05,\n",
    "                            verbose=0)\n",
    "\n",
    "score = stacked_auto_classifier.evaluate(x=x_val, y=[y_val, x_val], verbose=1)\n",
    "print(score[3])"
   ]
  },
  {
   "cell_type": "code",
   "execution_count": 306,
   "metadata": {},
   "outputs": [
    {
     "data": {
      "image/png": "[encoded data removed]",
      "text/plain": [
       "<matplotlib.figure.Figure at 0x221ed6177f0>"
      ]
     },
     "metadata": {},
     "output_type": "display_data"
    }
   ],
   "source": [
    "fig = plt.figure(figsize=(20,10))\n",
    "plt.plot(stacked_auto_classifier.history.history['val_main_output_acc'])\n",
    "plt.plot(stacked_auto_classifier.history.history['main_output_acc'])\n",
    "plt.axhline(y=score[3], c=\"red\")\n",
    "plt.text(0, score[3], \"test: \" + str(round(score[3], 4)), fontdict=font)\n",
    "plt.title('model accuracy for ' + str(round(input_dim/encoder_dim, 2)) +  ' x compression with stacked autoencoder')\n",
    "plt.ylabel('accuracy')\n",
    "plt.xlabel('epochs')\n",
    "plt.legend(['train', 'valid'], loc='lower right')\n",
    "plt.show()"
   ]
  },
  {
   "cell_type": "markdown",
   "metadata": {},
   "source": [
    "## Whats the best dimensionality reduction with single autoencoder?"
   ]
  },
  {
   "cell_type": "code",
   "execution_count": 21,
   "metadata": {
    "collapsed": true
   },
   "outputs": [],
   "source": [
    "# the initial coding dimension s.t. there is no feature selection at the beginning\n",
    "encoding_dim = 24\n",
    "# dimension of the neural net layer1\n",
    "hidden1_dim = int(encoding_dim*1.5)\n",
    "# dimension of the second neural net layer\n",
    "hidden2_dim = int(encoding_dim*1.5)\n",
    "result3 = {'encoding_dim': []\n",
    "           ,'auto_classifier_acc': []}"
   ]
  },
  {
   "cell_type": "code",
   "execution_count": null,
   "metadata": {
    "collapsed": true
   },
   "outputs": [],
   "source": [
    "while encoding_dim > 0:\n",
    "    main_input = Input(shape=(input_dim,), dtype='float32', name='main_input')\n",
    "\n",
    "    encoding_layer = Dense(encoding_dim, activation='relu', name='encoder', kernel_initializer='normal')\n",
    "    encoding_layer_output = encoding_layer(main_input)\n",
    "    decoding_layer_output = Dense(input_dim, activation='sigmoid'\n",
    "                                  ,name='decoder_output'\n",
    "                                  ,kernel_initializer='normal')(encoding_layer_output)\n",
    "\n",
    "    x = Dense(30, activation='relu', kernel_initializer='normal')(encoding_layer_output)\n",
    "    x = Dense(30, activation='relu', kernel_initializer='normal')(x)\n",
    "\n",
    "    classifier_output = Dense(num_classes, activation='softmax', name='main_output', kernel_initializer='normal')(x)\n",
    "\n",
    "    auto_classifier = Model(inputs=main_input, outputs=[classifier_output, decoding_layer_output])\n",
    "\n",
    "    auto_classifier.compile(optimizer=RMSprop(),\n",
    "                            loss={'main_output': 'categorical_crossentropy', 'decoder_output': 'mean_squared_error'},\n",
    "                            loss_weights={'main_output': 1., 'decoder_output': 1.},\n",
    "                            metrics=['accuracy'])\n",
    "\n",
    "    auto_classifier.fit({'main_input': x_train},\n",
    "                        {'main_output': y_train, 'decoder_output': x_train},\n",
    "                        epochs=epochsize, \n",
    "                        batch_size=batchsize,\n",
    "                        shuffle=shuffle,\n",
    "                        validation_split=0.05,\n",
    "                        verbose=0)\n",
    "\n",
    "    accuracy = auto_classifier.evaluate(x=x_val, y=[y_val, x_val], verbose=1)[3]\n",
    "    result3['encoding_dim'].append(encoding_dim)\n",
    "    result3['auto_classifier_acc'].append(accuracy)\n",
    "\n",
    "    encoding_dim -=1\n",
    "#     hidden1_dim = int(encoding_dim*1.5)\n",
    "#     hidden2_dim = int(encoding_dim*1.5)\n",
    "    print(result3)"
   ]
  },
  {
   "cell_type": "code",
   "execution_count": 43,
   "metadata": {},
   "outputs": [
    {
     "data": {
      "text/html": [
       "<div>\n",
       "<style>\n",
       "    .dataframe thead tr:only-child th {\n",
       "        text-align: right;\n",
       "    }\n",
       "\n",
       "    .dataframe thead th {\n",
       "        text-align: left;\n",
       "    }\n",
       "\n",
       "    .dataframe tbody tr th {\n",
       "        vertical-align: top;\n",
       "    }\n",
       "</style>\n",
       "<table border=\"1\" class=\"dataframe\">\n",
       "  <thead>\n",
       "    <tr style=\"text-align: right;\">\n",
       "      <th></th>\n",
       "      <th>auto_classifier_acc</th>\n",
       "      <th>encoding_dim</th>\n",
       "      <th>neural_net_acc</th>\n",
       "    </tr>\n",
       "  </thead>\n",
       "  <tbody>\n",
       "    <tr>\n",
       "      <th>0</th>\n",
       "      <td>0.945055</td>\n",
       "      <td>24</td>\n",
       "      <td>0.94322</td>\n",
       "    </tr>\n",
       "    <tr>\n",
       "      <th>1</th>\n",
       "      <td>0.934066</td>\n",
       "      <td>23</td>\n",
       "      <td>0.94322</td>\n",
       "    </tr>\n",
       "    <tr>\n",
       "      <th>2</th>\n",
       "      <td>0.941392</td>\n",
       "      <td>22</td>\n",
       "      <td>0.94322</td>\n",
       "    </tr>\n",
       "    <tr>\n",
       "      <th>3</th>\n",
       "      <td>0.932234</td>\n",
       "      <td>21</td>\n",
       "      <td>0.94322</td>\n",
       "    </tr>\n",
       "    <tr>\n",
       "      <th>4</th>\n",
       "      <td>0.935897</td>\n",
       "      <td>20</td>\n",
       "      <td>0.94322</td>\n",
       "    </tr>\n",
       "    <tr>\n",
       "      <th>5</th>\n",
       "      <td>0.930403</td>\n",
       "      <td>19</td>\n",
       "      <td>0.94322</td>\n",
       "    </tr>\n",
       "    <tr>\n",
       "      <th>6</th>\n",
       "      <td>0.941392</td>\n",
       "      <td>18</td>\n",
       "      <td>0.94322</td>\n",
       "    </tr>\n",
       "    <tr>\n",
       "      <th>7</th>\n",
       "      <td>0.921245</td>\n",
       "      <td>17</td>\n",
       "      <td>0.94322</td>\n",
       "    </tr>\n",
       "    <tr>\n",
       "      <th>8</th>\n",
       "      <td>0.937729</td>\n",
       "      <td>16</td>\n",
       "      <td>0.94322</td>\n",
       "    </tr>\n",
       "    <tr>\n",
       "      <th>9</th>\n",
       "      <td>0.921245</td>\n",
       "      <td>15</td>\n",
       "      <td>0.94322</td>\n",
       "    </tr>\n",
       "    <tr>\n",
       "      <th>10</th>\n",
       "      <td>0.919414</td>\n",
       "      <td>14</td>\n",
       "      <td>0.94322</td>\n",
       "    </tr>\n",
       "    <tr>\n",
       "      <th>11</th>\n",
       "      <td>0.919414</td>\n",
       "      <td>13</td>\n",
       "      <td>0.94322</td>\n",
       "    </tr>\n",
       "    <tr>\n",
       "      <th>12</th>\n",
       "      <td>0.899267</td>\n",
       "      <td>12</td>\n",
       "      <td>0.94322</td>\n",
       "    </tr>\n",
       "    <tr>\n",
       "      <th>13</th>\n",
       "      <td>0.904762</td>\n",
       "      <td>11</td>\n",
       "      <td>0.94322</td>\n",
       "    </tr>\n",
       "    <tr>\n",
       "      <th>14</th>\n",
       "      <td>0.930403</td>\n",
       "      <td>10</td>\n",
       "      <td>0.94322</td>\n",
       "    </tr>\n",
       "    <tr>\n",
       "      <th>15</th>\n",
       "      <td>0.906593</td>\n",
       "      <td>9</td>\n",
       "      <td>0.94322</td>\n",
       "    </tr>\n",
       "    <tr>\n",
       "      <th>16</th>\n",
       "      <td>0.902930</td>\n",
       "      <td>8</td>\n",
       "      <td>0.94322</td>\n",
       "    </tr>\n",
       "    <tr>\n",
       "      <th>17</th>\n",
       "      <td>0.923077</td>\n",
       "      <td>7</td>\n",
       "      <td>0.94322</td>\n",
       "    </tr>\n",
       "    <tr>\n",
       "      <th>18</th>\n",
       "      <td>0.899267</td>\n",
       "      <td>6</td>\n",
       "      <td>0.94322</td>\n",
       "    </tr>\n",
       "    <tr>\n",
       "      <th>19</th>\n",
       "      <td>0.902930</td>\n",
       "      <td>5</td>\n",
       "      <td>0.94322</td>\n",
       "    </tr>\n",
       "    <tr>\n",
       "      <th>20</th>\n",
       "      <td>0.868132</td>\n",
       "      <td>4</td>\n",
       "      <td>0.94322</td>\n",
       "    </tr>\n",
       "    <tr>\n",
       "      <th>21</th>\n",
       "      <td>0.855311</td>\n",
       "      <td>3</td>\n",
       "      <td>0.94322</td>\n",
       "    </tr>\n",
       "    <tr>\n",
       "      <th>22</th>\n",
       "      <td>0.763736</td>\n",
       "      <td>2</td>\n",
       "      <td>0.94322</td>\n",
       "    </tr>\n",
       "    <tr>\n",
       "      <th>23</th>\n",
       "      <td>0.642857</td>\n",
       "      <td>1</td>\n",
       "      <td>0.94322</td>\n",
       "    </tr>\n",
       "  </tbody>\n",
       "</table>\n",
       "</div>"
      ],
      "text/plain": [
       "    auto_classifier_acc  encoding_dim  neural_net_acc\n",
       "0              0.945055            24         0.94322\n",
       "1              0.934066            23         0.94322\n",
       "2              0.941392            22         0.94322\n",
       "3              0.932234            21         0.94322\n",
       "4              0.935897            20         0.94322\n",
       "5              0.930403            19         0.94322\n",
       "6              0.941392            18         0.94322\n",
       "7              0.921245            17         0.94322\n",
       "8              0.937729            16         0.94322\n",
       "9              0.921245            15         0.94322\n",
       "10             0.919414            14         0.94322\n",
       "11             0.919414            13         0.94322\n",
       "12             0.899267            12         0.94322\n",
       "13             0.904762            11         0.94322\n",
       "14             0.930403            10         0.94322\n",
       "15             0.906593             9         0.94322\n",
       "16             0.902930             8         0.94322\n",
       "17             0.923077             7         0.94322\n",
       "18             0.899267             6         0.94322\n",
       "19             0.902930             5         0.94322\n",
       "20             0.868132             4         0.94322\n",
       "21             0.855311             3         0.94322\n",
       "22             0.763736             2         0.94322\n",
       "23             0.642857             1         0.94322"
      ]
     },
     "execution_count": 43,
     "metadata": {},
     "output_type": "execute_result"
    }
   ],
   "source": [
    "result_df = pd.DataFrame(result3)\n",
    "result_df['neural_net_acc'] = 0.94322\n",
    "result_df"
   ]
  },
  {
   "cell_type": "code",
   "execution_count": 58,
   "metadata": {},
   "outputs": [
    {
     "data": {
      "text/plain": [
       "(0.6, 1)"
      ]
     },
     "execution_count": 58,
     "metadata": {},
     "output_type": "execute_result"
    },
    {
     "data": {
      "image/png": "[encoded data removed]",
      "text/plain": [
       "<matplotlib.figure.Figure at 0x22d4b0aa8d0>"
      ]
     },
     "metadata": {},
     "output_type": "display_data"
    }
   ],
   "source": [
    "fig = plt.figure(figsize=(20,10))\n",
    "plt.bar(result_df['encoding_dim'], result_df['auto_classifier_acc'])\n",
    "plt.axhline(y=result_df['neural_net_acc'][0], c=\"red\")\n",
    "plt.text(0, result_df['neural_net_acc'][0], \"best neural net: \" + str(round(result_df['neural_net_acc'][0], 4))\n",
    "         ,fontdict=font)\n",
    "plt.title('model accuracy for different encoding dimensions')\n",
    "plt.ylabel('accuracy')\n",
    "plt.xlabel('dimension')\n",
    "plt.ylim(0.6, 1)"
   ]
  },
  {
   "cell_type": "markdown",
   "metadata": {},
   "source": [
    "# Experimental are (not for presentation)"
   ]
  },
  {
   "cell_type": "markdown",
   "metadata": {},
   "source": [
    "The indices of the extracted features are:"
   ]
  },
  {
   "cell_type": "code",
   "execution_count": 185,
   "metadata": {},
   "outputs": [
    {
     "name": "stdout",
     "output_type": "stream",
     "text": [
      "[12, 6, 20, 0, 5, 1, 17, 2, 23, 22, 21, 8, 3]\n"
     ]
    }
   ],
   "source": [
    "encoding_weights = encoding_layer.get_weights()\n",
    "sum_of_weights = {index: item.sum() for (index, item) in enumerate(encoding_weights[0])}\n",
    "\n",
    "weights = sum_of_weights\n",
    "features = []\n",
    "for i in range(encoder_dim1):\n",
    "    max_key = max(weights, key=lambda key: weights[key])\n",
    "    features.append(max_key)\n",
    "    del weights[max_key]\n",
    "    \n",
    "print(features)"
   ]
  },
  {
   "cell_type": "markdown",
   "metadata": {},
   "source": [
    "## Check the neural net performance with new selected features"
   ]
  },
  {
   "cell_type": "code",
   "execution_count": 180,
   "metadata": {
    "collapsed": true
   },
   "outputs": [],
   "source": [
    "x_train_selected = np.array([x[features] for x in x_train])\n",
    "x_val_selected = np.array([x[features] for x in x_val])"
   ]
  },
  {
   "cell_type": "code",
   "execution_count": 182,
   "metadata": {
    "collapsed": true
   },
   "outputs": [],
   "source": [
    "input_dim = x_train_selected.shape[1]\n",
    "hidden1_dim = 26\n",
    "hidden2_dim = 26"
   ]
  },
  {
   "cell_type": "code",
   "execution_count": 183,
   "metadata": {},
   "outputs": [
    {
     "name": "stdout",
     "output_type": "stream",
     "text": [
      "546/546 [==============================] - 0s 100us/step\n",
      "[0.81135531135531136]\n",
      "546/546 [==============================] - 0s 110us/step\n",
      "[0.81135531135531136, 0.79853479853479858]\n",
      "546/546 [==============================] - 0s 110us/step\n",
      "[0.81135531135531136, 0.79853479853479858, 0.78388278388278387]\n",
      "0.797924297924\n"
     ]
    }
   ],
   "source": [
    "result3 = []\n",
    "\n",
    "for i in range(1,4):\n",
    "    model_new = Sequential()\n",
    "    model_new.add(Dense(hidden1_dim, activation='relu', input_shape=(input_dim,)))\n",
    "    model_new.add(Dense(hidden2_dim, activation='relu'))\n",
    "    model_new.add(Dense(num_classes, activation='softmax'))\n",
    "\n",
    "    model_new.compile(loss='categorical_crossentropy',\n",
    "                  optimizer=RMSprop(),\n",
    "                  metrics=['accuracy'])\n",
    "\n",
    "    model_new.fit(x_train_selected, y_train, \n",
    "              batch_size=batchsize,\n",
    "              epochs=epochsize,\n",
    "              verbose=0,\n",
    "              shuffle=shuffle,\n",
    "              validation_split=0.1)\n",
    "    score = model_new.evaluate(x_val_selected, y_val)[1]\n",
    "    result3.append(score)\n",
    "    print(result3)\n",
    "print(np.mean(result3))"
   ]
  },
  {
   "cell_type": "markdown",
   "metadata": {},
   "source": [
    "## Finding good features"
   ]
  },
  {
   "cell_type": "markdown",
   "metadata": {},
   "source": [
    "\"Is there a good number of features for the Robo- Dataset?\" For that we create a loop over some numbers (i.e. dimension of hidden layer from the single autoencoder) and get the respective result."
   ]
  },
  {
   "cell_type": "markdown",
   "metadata": {},
   "source": [
    "The architecture within those loops is quite special. For that we recommend to have a look at the neural net visualization below."
   ]
  },
  {
   "cell_type": "markdown",
   "metadata": {},
   "source": [
    "#### The parameters for the ensemble training"
   ]
  },
  {
   "cell_type": "code",
   "execution_count": 200,
   "metadata": {
    "collapsed": true
   },
   "outputs": [],
   "source": [
    "# the initial coding dimension s.t. there is no feature selection at the beginning\n",
    "encoding_dim = 24\n",
    "# dimension of the neural net layer1\n",
    "hidden1_dim = 30\n",
    "# dimension of the second neural net layer\n",
    "hidden2_dim = 30\n",
    "epoch_size = 150\n",
    "batch_size = 24\n",
    "shuffle = False\n",
    "result2 = {'encoding_dim/features': []\n",
    "           ,'compression_level': []\n",
    "           ,'auto_classifier_acc': []\n",
    "           ,'selected_classifier_acc': []\n",
    "           ,'features': []}"
   ]
  },
  {
   "cell_type": "markdown",
   "metadata": {},
   "source": [
    "The idea is:\n",
    "- reduce the number of features `encoding_dim` iteratively by training an auto_classifier network\n",
    "- after training, the weights of the first layer are analyzed.\n",
    "- therefore sum up the weights for each input node and take the `encoding_dim` number as new features\n",
    "- test the new features with the pre- defined neural net and see which selection is best."
   ]
  },
  {
   "cell_type": "code",
   "execution_count": null,
   "metadata": {
    "collapsed": true,
    "scrolled": true
   },
   "outputs": [],
   "source": [
    "while encoding_dim > 0:\n",
    "    main_input = Input(shape=(input_dim,), dtype='float32', name='main_input')\n",
    "\n",
    "    encoding_layer = Dense(encoding_dim, activation='relu', name='encoder', kernel_initializer='normal')\n",
    "    encoding_layer_output = encoding_layer(main_input)\n",
    "    decoding_layer_output = Dense(input_dim, activation='sigmoid'\n",
    "                                  ,name='decoder_output'\n",
    "                                  ,kernel_initializer='normal')(encoding_layer_output)\n",
    "\n",
    "    x = Dense(hidden1_dim, activation='relu', kernel_initializer='normal')(encoding_layer_output)\n",
    "    x = Dense(hidden2_dim, activation='relu', kernel_initializer='normal')(x)\n",
    "\n",
    "    classifier_output = Dense(num_classes, activation='softmax', name='main_output', kernel_initializer='normal')(x)\n",
    "\n",
    "    auto_classifier = Model(inputs=main_input, outputs=[classifier_output, decoding_layer_output])\n",
    "\n",
    "    auto_classifier.compile(optimizer=RMSprop(),\n",
    "                            loss={'main_output': 'categorical_crossentropy', 'decoder_output': 'mean_squared_error'},\n",
    "                            loss_weights={'main_output': 1., 'decoder_output': 1.},\n",
    "                            metrics=['accuracy'])\n",
    "\n",
    "    auto_classifier.fit({'main_input': x_train},\n",
    "                        {'main_output': y_train, 'decoder_output': x_train},\n",
    "                        epochs=epoch_size, \n",
    "                        batch_size=batch_size,\n",
    "                        shuffle=shuffle,\n",
    "                        validation_split=0.1,\n",
    "                        verbose=0)\n",
    "\n",
    "    accuracy = auto_classifier.evaluate(x=x_val, y=[y_val, x_val], verbose=1)[3]\n",
    "    result2['encoding_dim/features'].append(encoding_dim)\n",
    "    result2['compression_level'].append(1 - encoding_dim/24)\n",
    "    result2['auto_classifier_acc'].append(accuracy)\n",
    "\n",
    "    encoding_weights = encoding_layer.get_weights()\n",
    "    sum_of_weights = {index: item.sum() for (index, item) in enumerate(encoding_weights[0])}\n",
    "\n",
    "    weights = sum_of_weights\n",
    "    features = []\n",
    "    for i in range(encoding_dim):\n",
    "        max_key = max(weights, key=lambda key: weights[key])\n",
    "        features.append(max_key)\n",
    "        del weights[max_key]\n",
    "    \n",
    "    result2['features'].append(features)\n",
    "    x_train_selected = np.array([x[features] for x in x_train])\n",
    "    x_val_selected = np.array([x[features] for x in x_val])\n",
    "\n",
    "    input_dim_new = x_train_selected.shape[1]\n",
    "    \n",
    "    accuracy_list = []\n",
    "    for i in range(1):\n",
    "        model_new = Sequential()\n",
    "        model_new.add(Dense(hidden1_dim, activation='relu', input_shape=(input_dim_new,), kernel_initializer='normal'))\n",
    "        model_new.add(Dense(hidden2_dim, activation='relu', kernel_initializer='normal'))\n",
    "        model_new.add(Dense(num_classes, activation='softmax', kernel_initializer='normal'))\n",
    "\n",
    "        model_new.compile(loss='categorical_crossentropy',\n",
    "                      optimizer=RMSprop(),\n",
    "                      metrics=['accuracy'])\n",
    "\n",
    "        model_new.fit(x_train_selected, y_train, \n",
    "                  batch_size=batch_size,\n",
    "                  epochs=epoch_size,\n",
    "                  verbose=0,\n",
    "                  shuffle=shuffle,\n",
    "                  validation_split=0.1)\n",
    "        score = model_new.evaluate(x_val_selected, y_val)[1]\n",
    "        accuracy_list.append(score)\n",
    "\n",
    "    result2['selected_classifier_acc'].append(np.mean(accuracy_list))\n",
    "    encoding_dim -=1\n",
    "    print(result2)"
   ]
  },
  {
   "cell_type": "markdown",
   "metadata": {},
   "source": [
    "#### Summary"
   ]
  },
  {
   "cell_type": "code",
   "execution_count": 149,
   "metadata": {},
   "outputs": [
    {
     "name": "stdout",
     "output_type": "stream",
     "text": [
      "__________________________________________________________________________________________________\n",
      "Layer (type)                    Output Shape         Param #     Connected to                     \n",
      "==================================================================================================\n",
      "main_input (InputLayer)         (None, 24)           0                                            \n",
      "__________________________________________________________________________________________________\n",
      "dense_622 (Dense)               (None, 13)           325         main_input[0][0]                 \n",
      "__________________________________________________________________________________________________\n",
      "dense_623 (Dense)               (None, 30)           420         dense_622[0][0]                  \n",
      "__________________________________________________________________________________________________\n",
      "dense_624 (Dense)               (None, 30)           930         dense_623[0][0]                  \n",
      "__________________________________________________________________________________________________\n",
      "main_output (Dense)             (None, 4)            124         dense_624[0][0]                  \n",
      "__________________________________________________________________________________________________\n",
      "decoder_output (Dense)          (None, 24)           336         dense_622[0][0]                  \n",
      "==================================================================================================\n",
      "Total params: 2,135\n",
      "Trainable params: 2,135\n",
      "Non-trainable params: 0\n",
      "__________________________________________________________________________________________________\n"
     ]
    }
   ],
   "source": [
    "auto_classifier.summary()"
   ]
  },
  {
   "cell_type": "markdown",
   "metadata": {},
   "source": [
    "#### Architecture"
   ]
  },
  {
   "cell_type": "code",
   "execution_count": 150,
   "metadata": {
    "collapsed": true
   },
   "outputs": [],
   "source": [
    "plot_model(auto_classifier, to_file='images/robo2_auto_class_LR.png', show_shapes=True, show_layer_names=True, rankdir='LR')"
   ]
  },
  {
   "cell_type": "code",
   "execution_count": 210,
   "metadata": {},
   "outputs": [
    {
     "data": {
      "image/png": "[encoded data removed]",
      "text/plain": [
       "<IPython.core.display.Image object>"
      ]
     },
     "execution_count": 210,
     "metadata": {},
     "output_type": "execute_result"
    }
   ],
   "source": [
    "IPython.display.Image(\"images/robo2_auto_class_LR.png\")"
   ]
  },
  {
   "cell_type": "markdown",
   "metadata": {},
   "source": [
    "### Results"
   ]
  },
  {
   "cell_type": "code",
   "execution_count": 202,
   "metadata": {},
   "outputs": [
    {
     "data": {
      "text/html": [
       "<div>\n",
       "<style>\n",
       "    .dataframe thead tr:only-child th {\n",
       "        text-align: right;\n",
       "    }\n",
       "\n",
       "    .dataframe thead th {\n",
       "        text-align: left;\n",
       "    }\n",
       "\n",
       "    .dataframe tbody tr th {\n",
       "        vertical-align: top;\n",
       "    }\n",
       "</style>\n",
       "<table border=\"1\" class=\"dataframe\">\n",
       "  <thead>\n",
       "    <tr style=\"text-align: right;\">\n",
       "      <th></th>\n",
       "      <th>auto_classifier_acc</th>\n",
       "      <th>compression_level</th>\n",
       "      <th>encoding_dim/features</th>\n",
       "      <th>features</th>\n",
       "      <th>selected_classifier_acc</th>\n",
       "      <th>neural_net_acc</th>\n",
       "    </tr>\n",
       "  </thead>\n",
       "  <tbody>\n",
       "    <tr>\n",
       "      <th>0</th>\n",
       "      <td>0.915751</td>\n",
       "      <td>0.000000</td>\n",
       "      <td>24</td>\n",
       "      <td>[12, 10, 8, 6, 1, 20, 4, 3, 5, 22, 21, 7, 9, 1...</td>\n",
       "      <td>0.932234</td>\n",
       "      <td>0.949939</td>\n",
       "    </tr>\n",
       "    <tr>\n",
       "      <th>1</th>\n",
       "      <td>0.943223</td>\n",
       "      <td>0.041667</td>\n",
       "      <td>23</td>\n",
       "      <td>[12, 8, 20, 7, 11, 6, 10, 15, 4, 21, 22, 1, 5,...</td>\n",
       "      <td>0.924908</td>\n",
       "      <td>0.949939</td>\n",
       "    </tr>\n",
       "    <tr>\n",
       "      <th>2</th>\n",
       "      <td>0.924908</td>\n",
       "      <td>0.083333</td>\n",
       "      <td>22</td>\n",
       "      <td>[8, 12, 6, 20, 1, 21, 7, 2, 4, 5, 3, 10, 9, 22...</td>\n",
       "      <td>0.919414</td>\n",
       "      <td>0.949939</td>\n",
       "    </tr>\n",
       "    <tr>\n",
       "      <th>3</th>\n",
       "      <td>0.904762</td>\n",
       "      <td>0.125000</td>\n",
       "      <td>21</td>\n",
       "      <td>[20, 8, 12, 2, 6, 3, 5, 1, 10, 13, 21, 4, 7, 0...</td>\n",
       "      <td>0.853480</td>\n",
       "      <td>0.949939</td>\n",
       "    </tr>\n",
       "    <tr>\n",
       "      <th>4</th>\n",
       "      <td>0.921245</td>\n",
       "      <td>0.166667</td>\n",
       "      <td>20</td>\n",
       "      <td>[12, 8, 4, 6, 10, 5, 3, 21, 9, 2, 7, 1, 22, 20...</td>\n",
       "      <td>0.888278</td>\n",
       "      <td>0.949939</td>\n",
       "    </tr>\n",
       "    <tr>\n",
       "      <th>5</th>\n",
       "      <td>0.921245</td>\n",
       "      <td>0.208333</td>\n",
       "      <td>19</td>\n",
       "      <td>[12, 8, 4, 6, 2, 5, 7, 21, 1, 3, 20, 9, 22, 10...</td>\n",
       "      <td>0.836996</td>\n",
       "      <td>0.949939</td>\n",
       "    </tr>\n",
       "    <tr>\n",
       "      <th>6</th>\n",
       "      <td>0.913919</td>\n",
       "      <td>0.250000</td>\n",
       "      <td>18</td>\n",
       "      <td>[8, 12, 6, 1, 2, 5, 7, 4, 3, 10, 9, 21, 0, 20,...</td>\n",
       "      <td>0.804029</td>\n",
       "      <td>0.949939</td>\n",
       "    </tr>\n",
       "    <tr>\n",
       "      <th>7</th>\n",
       "      <td>0.902930</td>\n",
       "      <td>0.291667</td>\n",
       "      <td>17</td>\n",
       "      <td>[8, 12, 4, 6, 3, 2, 20, 5, 1, 11, 21, 15, 7, 1...</td>\n",
       "      <td>0.796703</td>\n",
       "      <td>0.949939</td>\n",
       "    </tr>\n",
       "    <tr>\n",
       "      <th>8</th>\n",
       "      <td>0.937729</td>\n",
       "      <td>0.333333</td>\n",
       "      <td>16</td>\n",
       "      <td>[8, 12, 1, 6, 2, 4, 3, 7, 9, 10, 20, 22, 5, 15...</td>\n",
       "      <td>0.802198</td>\n",
       "      <td>0.949939</td>\n",
       "    </tr>\n",
       "    <tr>\n",
       "      <th>9</th>\n",
       "      <td>0.917582</td>\n",
       "      <td>0.375000</td>\n",
       "      <td>15</td>\n",
       "      <td>[4, 22, 8, 6, 1, 3, 10, 0, 2, 20, 5, 9, 12, 7,...</td>\n",
       "      <td>0.804029</td>\n",
       "      <td>0.949939</td>\n",
       "    </tr>\n",
       "    <tr>\n",
       "      <th>10</th>\n",
       "      <td>0.932234</td>\n",
       "      <td>0.416667</td>\n",
       "      <td>14</td>\n",
       "      <td>[8, 12, 6, 4, 9, 10, 3, 20, 1, 5, 2, 7, 21, 15]</td>\n",
       "      <td>0.811355</td>\n",
       "      <td>0.949939</td>\n",
       "    </tr>\n",
       "    <tr>\n",
       "      <th>11</th>\n",
       "      <td>0.919414</td>\n",
       "      <td>0.458333</td>\n",
       "      <td>13</td>\n",
       "      <td>[4, 0, 8, 6, 22, 3, 2, 5, 12, 23, 9, 1, 10]</td>\n",
       "      <td>0.805861</td>\n",
       "      <td>0.949939</td>\n",
       "    </tr>\n",
       "    <tr>\n",
       "      <th>12</th>\n",
       "      <td>0.932234</td>\n",
       "      <td>0.500000</td>\n",
       "      <td>12</td>\n",
       "      <td>[12, 8, 6, 5, 2, 3, 4, 7, 1, 20, 13, 10]</td>\n",
       "      <td>0.818681</td>\n",
       "      <td>0.949939</td>\n",
       "    </tr>\n",
       "    <tr>\n",
       "      <th>13</th>\n",
       "      <td>0.915751</td>\n",
       "      <td>0.541667</td>\n",
       "      <td>11</td>\n",
       "      <td>[2, 11, 12, 5, 8, 3, 6, 4, 20, 9, 1]</td>\n",
       "      <td>0.776557</td>\n",
       "      <td>0.949939</td>\n",
       "    </tr>\n",
       "    <tr>\n",
       "      <th>14</th>\n",
       "      <td>0.904762</td>\n",
       "      <td>0.583333</td>\n",
       "      <td>10</td>\n",
       "      <td>[12, 8, 6, 10, 3, 4, 1, 5, 11, 15]</td>\n",
       "      <td>0.761905</td>\n",
       "      <td>0.949939</td>\n",
       "    </tr>\n",
       "    <tr>\n",
       "      <th>15</th>\n",
       "      <td>0.928571</td>\n",
       "      <td>0.625000</td>\n",
       "      <td>9</td>\n",
       "      <td>[8, 4, 9, 6, 7, 12, 10, 1, 3]</td>\n",
       "      <td>0.752747</td>\n",
       "      <td>0.949939</td>\n",
       "    </tr>\n",
       "    <tr>\n",
       "      <th>16</th>\n",
       "      <td>0.919414</td>\n",
       "      <td>0.666667</td>\n",
       "      <td>8</td>\n",
       "      <td>[10, 8, 2, 3, 4, 11, 6, 5]</td>\n",
       "      <td>0.778388</td>\n",
       "      <td>0.949939</td>\n",
       "    </tr>\n",
       "    <tr>\n",
       "      <th>17</th>\n",
       "      <td>0.899267</td>\n",
       "      <td>0.708333</td>\n",
       "      <td>7</td>\n",
       "      <td>[8, 6, 7, 9, 5, 3, 12]</td>\n",
       "      <td>0.769231</td>\n",
       "      <td>0.949939</td>\n",
       "    </tr>\n",
       "    <tr>\n",
       "      <th>18</th>\n",
       "      <td>0.897436</td>\n",
       "      <td>0.750000</td>\n",
       "      <td>6</td>\n",
       "      <td>[6, 11, 10, 3, 8, 2]</td>\n",
       "      <td>0.745421</td>\n",
       "      <td>0.949939</td>\n",
       "    </tr>\n",
       "    <tr>\n",
       "      <th>19</th>\n",
       "      <td>0.862637</td>\n",
       "      <td>0.791667</td>\n",
       "      <td>5</td>\n",
       "      <td>[14, 4, 2, 10, 11]</td>\n",
       "      <td>0.846154</td>\n",
       "      <td>0.949939</td>\n",
       "    </tr>\n",
       "    <tr>\n",
       "      <th>20</th>\n",
       "      <td>0.862637</td>\n",
       "      <td>0.833333</td>\n",
       "      <td>4</td>\n",
       "      <td>[14, 13, 0, 10]</td>\n",
       "      <td>0.829670</td>\n",
       "      <td>0.949939</td>\n",
       "    </tr>\n",
       "    <tr>\n",
       "      <th>21</th>\n",
       "      <td>0.802198</td>\n",
       "      <td>0.875000</td>\n",
       "      <td>3</td>\n",
       "      <td>[14, 2, 4]</td>\n",
       "      <td>0.734432</td>\n",
       "      <td>0.949939</td>\n",
       "    </tr>\n",
       "    <tr>\n",
       "      <th>22</th>\n",
       "      <td>0.787546</td>\n",
       "      <td>0.916667</td>\n",
       "      <td>2</td>\n",
       "      <td>[14, 13]</td>\n",
       "      <td>0.741758</td>\n",
       "      <td>0.949939</td>\n",
       "    </tr>\n",
       "    <tr>\n",
       "      <th>23</th>\n",
       "      <td>0.686813</td>\n",
       "      <td>0.958333</td>\n",
       "      <td>1</td>\n",
       "      <td>[14]</td>\n",
       "      <td>0.663004</td>\n",
       "      <td>0.949939</td>\n",
       "    </tr>\n",
       "  </tbody>\n",
       "</table>\n",
       "</div>"
      ],
      "text/plain": [
       "    auto_classifier_acc  compression_level  encoding_dim/features  \\\n",
       "0              0.915751           0.000000                     24   \n",
       "1              0.943223           0.041667                     23   \n",
       "2              0.924908           0.083333                     22   \n",
       "3              0.904762           0.125000                     21   \n",
       "4              0.921245           0.166667                     20   \n",
       "5              0.921245           0.208333                     19   \n",
       "6              0.913919           0.250000                     18   \n",
       "7              0.902930           0.291667                     17   \n",
       "8              0.937729           0.333333                     16   \n",
       "9              0.917582           0.375000                     15   \n",
       "10             0.932234           0.416667                     14   \n",
       "11             0.919414           0.458333                     13   \n",
       "12             0.932234           0.500000                     12   \n",
       "13             0.915751           0.541667                     11   \n",
       "14             0.904762           0.583333                     10   \n",
       "15             0.928571           0.625000                      9   \n",
       "16             0.919414           0.666667                      8   \n",
       "17             0.899267           0.708333                      7   \n",
       "18             0.897436           0.750000                      6   \n",
       "19             0.862637           0.791667                      5   \n",
       "20             0.862637           0.833333                      4   \n",
       "21             0.802198           0.875000                      3   \n",
       "22             0.787546           0.916667                      2   \n",
       "23             0.686813           0.958333                      1   \n",
       "\n",
       "                                             features  \\\n",
       "0   [12, 10, 8, 6, 1, 20, 4, 3, 5, 22, 21, 7, 9, 1...   \n",
       "1   [12, 8, 20, 7, 11, 6, 10, 15, 4, 21, 22, 1, 5,...   \n",
       "2   [8, 12, 6, 20, 1, 21, 7, 2, 4, 5, 3, 10, 9, 22...   \n",
       "3   [20, 8, 12, 2, 6, 3, 5, 1, 10, 13, 21, 4, 7, 0...   \n",
       "4   [12, 8, 4, 6, 10, 5, 3, 21, 9, 2, 7, 1, 22, 20...   \n",
       "5   [12, 8, 4, 6, 2, 5, 7, 21, 1, 3, 20, 9, 22, 10...   \n",
       "6   [8, 12, 6, 1, 2, 5, 7, 4, 3, 10, 9, 21, 0, 20,...   \n",
       "7   [8, 12, 4, 6, 3, 2, 20, 5, 1, 11, 21, 15, 7, 1...   \n",
       "8   [8, 12, 1, 6, 2, 4, 3, 7, 9, 10, 20, 22, 5, 15...   \n",
       "9   [4, 22, 8, 6, 1, 3, 10, 0, 2, 20, 5, 9, 12, 7,...   \n",
       "10    [8, 12, 6, 4, 9, 10, 3, 20, 1, 5, 2, 7, 21, 15]   \n",
       "11        [4, 0, 8, 6, 22, 3, 2, 5, 12, 23, 9, 1, 10]   \n",
       "12           [12, 8, 6, 5, 2, 3, 4, 7, 1, 20, 13, 10]   \n",
       "13               [2, 11, 12, 5, 8, 3, 6, 4, 20, 9, 1]   \n",
       "14                 [12, 8, 6, 10, 3, 4, 1, 5, 11, 15]   \n",
       "15                      [8, 4, 9, 6, 7, 12, 10, 1, 3]   \n",
       "16                         [10, 8, 2, 3, 4, 11, 6, 5]   \n",
       "17                             [8, 6, 7, 9, 5, 3, 12]   \n",
       "18                               [6, 11, 10, 3, 8, 2]   \n",
       "19                                 [14, 4, 2, 10, 11]   \n",
       "20                                    [14, 13, 0, 10]   \n",
       "21                                         [14, 2, 4]   \n",
       "22                                           [14, 13]   \n",
       "23                                               [14]   \n",
       "\n",
       "    selected_classifier_acc  neural_net_acc  \n",
       "0                  0.932234        0.949939  \n",
       "1                  0.924908        0.949939  \n",
       "2                  0.919414        0.949939  \n",
       "3                  0.853480        0.949939  \n",
       "4                  0.888278        0.949939  \n",
       "5                  0.836996        0.949939  \n",
       "6                  0.804029        0.949939  \n",
       "7                  0.796703        0.949939  \n",
       "8                  0.802198        0.949939  \n",
       "9                  0.804029        0.949939  \n",
       "10                 0.811355        0.949939  \n",
       "11                 0.805861        0.949939  \n",
       "12                 0.818681        0.949939  \n",
       "13                 0.776557        0.949939  \n",
       "14                 0.761905        0.949939  \n",
       "15                 0.752747        0.949939  \n",
       "16                 0.778388        0.949939  \n",
       "17                 0.769231        0.949939  \n",
       "18                 0.745421        0.949939  \n",
       "19                 0.846154        0.949939  \n",
       "20                 0.829670        0.949939  \n",
       "21                 0.734432        0.949939  \n",
       "22                 0.741758        0.949939  \n",
       "23                 0.663004        0.949939  "
      ]
     },
     "execution_count": 202,
     "metadata": {},
     "output_type": "execute_result"
    }
   ],
   "source": [
    "result_df = pd.DataFrame(result2)\n",
    "result_df['neural_net_acc'] = 0.949938949939\n",
    "result_df"
   ]
  },
  {
   "cell_type": "code",
   "execution_count": 48,
   "metadata": {
    "collapsed": true
   },
   "outputs": [],
   "source": [
    "result_df.to_csv('results/robo_results.csv')"
   ]
  },
  {
   "cell_type": "code",
   "execution_count": 204,
   "metadata": {},
   "outputs": [
    {
     "data": {
      "text/plain": [
       "<matplotlib.axes._subplots.AxesSubplot at 0x221a8d090f0>"
      ]
     },
     "execution_count": 204,
     "metadata": {},
     "output_type": "execute_result"
    },
    {
     "data": {
      "image/png": "[encoded data removed]",
      "text/plain": [
       "<matplotlib.figure.Figure at 0x221a8d09668>"
      ]
     },
     "metadata": {},
     "output_type": "display_data"
    }
   ],
   "source": [
    "result_df.plot(x='encoding_dim/features', y=['selected_classifier_acc', 'neural_net_acc'], kind='bar', figsize=(20,10))"
   ]
  },
  {
   "cell_type": "markdown",
   "metadata": {},
   "source": [
    "Obviously the procedure yields the best performance for 13 features. That corresponds to a compression of about 45%.\n",
    "To go a little bit deeper we analyze the confusion matrix of the 13- feature version of the Neural Net."
   ]
  }
 ],
 "metadata": {
  "kernelspec": {
   "display_name": "Python 3",
   "language": "python",
   "name": "python3"
  },
  "language_info": {
   "codemirror_mode": {
    "name": "ipython",
    "version": 3
   },
   "file_extension": ".py",
   "mimetype": "text/x-python",
   "name": "python",
   "nbconvert_exporter": "python",
   "pygments_lexer": "ipython3",
   "version": "3.6.1"
  }
 },
 "nbformat": 4,
 "nbformat_minor": 2
}
