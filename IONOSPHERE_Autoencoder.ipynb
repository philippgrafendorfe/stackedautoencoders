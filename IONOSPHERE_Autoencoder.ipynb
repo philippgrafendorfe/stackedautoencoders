{
 "cells": [
  {
   "cell_type": "raw",
   "metadata": {},
   "source": [
    "<script>\n",
    "  function code_toggle() {\n",
    "    if (code_shown){\n",
    "      $('div.input').hide('500');\n",
    "      $('#toggleButton').val('Show Code')\n",
    "    } else {\n",
    "      $('div.input').show('500');\n",
    "      $('#toggleButton').val('Hide Code')\n",
    "    }\n",
    "    code_shown = !code_shown\n",
    "  }\n",
    "\n",
    "  $( document ).ready(function(){\n",
    "    code_shown=false;\n",
    "    $('div.input').hide()\n",
    "  });\n",
    "</script>\n",
    "<form action=\"javascript:code_toggle()\"><input type=\"submit\" id=\"toggleButton\" value=\"Show Code\"></form>"
   ]
  },
  {
   "cell_type": "code",
   "execution_count": 1,
   "metadata": {
    "scrolled": true
   },
   "outputs": [
    {
     "name": "stderr",
     "output_type": "stream",
     "text": [
      "Using TensorFlow backend.\n"
     ]
    }
   ],
   "source": [
    "from keras.layers import Input, Dense, Dropout, Concatenate, Add\n",
    "from keras.models import Model\n",
    "from keras.datasets import mnist\n",
    "from keras.models import Sequential, load_model\n",
    "from keras.optimizers import RMSprop\n",
    "from keras.callbacks import TensorBoard\n",
    "from __future__ import print_function\n",
    "from keras.utils import plot_model\n",
    "from IPython.display import SVG\n",
    "from keras.utils.vis_utils import model_to_dot\n",
    "from sklearn import preprocessing\n",
    "from keras import layers\n",
    "from keras import initializers\n",
    "from matplotlib import axes\n",
    "from matplotlib import rc\n",
    "\n",
    "import keras\n",
    "import matplotlib.pyplot as plt\n",
    "import numpy as np\n",
    "import math\n",
    "import pydot\n",
    "import graphviz\n",
    "import pandas as pd\n",
    "import IPython"
   ]
  },
  {
   "cell_type": "code",
   "execution_count": 2,
   "metadata": {
    "scrolled": false
   },
   "outputs": [],
   "source": [
    "%matplotlib inline\n",
    "font = {'family' : 'monospace',\n",
    "        'weight' : 'bold',\n",
    "        'size'   : 20}\n",
    "\n",
    "rc('font', **font)\n",
    "\n",
    "seed=42"
   ]
  },
  {
   "cell_type": "markdown",
   "metadata": {},
   "source": [
    "# Data Set Information"
   ]
  },
  {
   "cell_type": "markdown",
   "metadata": {},
   "source": [
    "This radar data was collected by a system in Goose Bay, Labrador. This system consists of a phased array of 16 high-frequency antennas with a total transmitted power on the order of 6.4 kilowatts. See the paper for more details. The targets were free electrons in the ionosphere. \"Good\" radar returns are those showing evidence of some type of structure in the ionosphere. \"Bad\" returns are those that do not; their signals pass through the ionosphere. \n",
    "\n",
    "Received signals were processed using an autocorrelation function whose arguments are the time of a pulse and the pulse number. There were 17 pulse numbers for the Goose Bay system. Instances in this databse are described by 2 attributes per pulse number, corresponding to the complex values returned by the function resulting from the complex electromagnetic signal."
   ]
  },
  {
   "cell_type": "markdown",
   "metadata": {},
   "source": [
    "## Attribute Information"
   ]
  },
  {
   "cell_type": "markdown",
   "metadata": {},
   "source": [
    "- All 34 are continuous \n",
    "- The 35th attribute is either \"good\" or \"bad\" according to the definition summarized above. This is a binary classification task. \n",
    "- https://archive.ics.uci.edu/ml/machine-learning-databases/ionosphere/ionosphere.names"
   ]
  },
  {
   "cell_type": "markdown",
   "metadata": {},
   "source": [
    "## Data Import and preprocessing"
   ]
  },
  {
   "cell_type": "code",
   "execution_count": 3,
   "metadata": {
    "collapsed": true,
    "scrolled": true
   },
   "outputs": [],
   "source": [
    "# data = np.genfromtxt(\"data/ionosphere.data\")"
   ]
  },
  {
   "cell_type": "code",
   "execution_count": 4,
   "metadata": {
    "scrolled": false
   },
   "outputs": [
    {
     "data": {
      "text/html": [
       "<div>\n",
       "<style>\n",
       "    .dataframe thead tr:only-child th {\n",
       "        text-align: right;\n",
       "    }\n",
       "\n",
       "    .dataframe thead th {\n",
       "        text-align: left;\n",
       "    }\n",
       "\n",
       "    .dataframe tbody tr th {\n",
       "        vertical-align: top;\n",
       "    }\n",
       "</style>\n",
       "<table border=\"1\" class=\"dataframe\">\n",
       "  <thead>\n",
       "    <tr style=\"text-align: right;\">\n",
       "      <th></th>\n",
       "      <th>0</th>\n",
       "      <th>1</th>\n",
       "      <th>2</th>\n",
       "      <th>3</th>\n",
       "      <th>4</th>\n",
       "      <th>5</th>\n",
       "      <th>6</th>\n",
       "      <th>7</th>\n",
       "      <th>8</th>\n",
       "      <th>9</th>\n",
       "      <th>...</th>\n",
       "      <th>25</th>\n",
       "      <th>26</th>\n",
       "      <th>27</th>\n",
       "      <th>28</th>\n",
       "      <th>29</th>\n",
       "      <th>30</th>\n",
       "      <th>31</th>\n",
       "      <th>32</th>\n",
       "      <th>33</th>\n",
       "      <th>34</th>\n",
       "    </tr>\n",
       "  </thead>\n",
       "  <tbody>\n",
       "    <tr>\n",
       "      <th>0</th>\n",
       "      <td>1</td>\n",
       "      <td>0</td>\n",
       "      <td>0.99539</td>\n",
       "      <td>-0.05889</td>\n",
       "      <td>0.85243</td>\n",
       "      <td>0.02306</td>\n",
       "      <td>0.83398</td>\n",
       "      <td>-0.37708</td>\n",
       "      <td>1.00000</td>\n",
       "      <td>0.03760</td>\n",
       "      <td>...</td>\n",
       "      <td>-0.51171</td>\n",
       "      <td>0.41078</td>\n",
       "      <td>-0.46168</td>\n",
       "      <td>0.21266</td>\n",
       "      <td>-0.34090</td>\n",
       "      <td>0.42267</td>\n",
       "      <td>-0.54487</td>\n",
       "      <td>0.18641</td>\n",
       "      <td>-0.45300</td>\n",
       "      <td>g</td>\n",
       "    </tr>\n",
       "    <tr>\n",
       "      <th>1</th>\n",
       "      <td>1</td>\n",
       "      <td>0</td>\n",
       "      <td>1.00000</td>\n",
       "      <td>-0.18829</td>\n",
       "      <td>0.93035</td>\n",
       "      <td>-0.36156</td>\n",
       "      <td>-0.10868</td>\n",
       "      <td>-0.93597</td>\n",
       "      <td>1.00000</td>\n",
       "      <td>-0.04549</td>\n",
       "      <td>...</td>\n",
       "      <td>-0.26569</td>\n",
       "      <td>-0.20468</td>\n",
       "      <td>-0.18401</td>\n",
       "      <td>-0.19040</td>\n",
       "      <td>-0.11593</td>\n",
       "      <td>-0.16626</td>\n",
       "      <td>-0.06288</td>\n",
       "      <td>-0.13738</td>\n",
       "      <td>-0.02447</td>\n",
       "      <td>b</td>\n",
       "    </tr>\n",
       "    <tr>\n",
       "      <th>2</th>\n",
       "      <td>1</td>\n",
       "      <td>0</td>\n",
       "      <td>1.00000</td>\n",
       "      <td>-0.03365</td>\n",
       "      <td>1.00000</td>\n",
       "      <td>0.00485</td>\n",
       "      <td>1.00000</td>\n",
       "      <td>-0.12062</td>\n",
       "      <td>0.88965</td>\n",
       "      <td>0.01198</td>\n",
       "      <td>...</td>\n",
       "      <td>-0.40220</td>\n",
       "      <td>0.58984</td>\n",
       "      <td>-0.22145</td>\n",
       "      <td>0.43100</td>\n",
       "      <td>-0.17365</td>\n",
       "      <td>0.60436</td>\n",
       "      <td>-0.24180</td>\n",
       "      <td>0.56045</td>\n",
       "      <td>-0.38238</td>\n",
       "      <td>g</td>\n",
       "    </tr>\n",
       "    <tr>\n",
       "      <th>3</th>\n",
       "      <td>1</td>\n",
       "      <td>0</td>\n",
       "      <td>1.00000</td>\n",
       "      <td>-0.45161</td>\n",
       "      <td>1.00000</td>\n",
       "      <td>1.00000</td>\n",
       "      <td>0.71216</td>\n",
       "      <td>-1.00000</td>\n",
       "      <td>0.00000</td>\n",
       "      <td>0.00000</td>\n",
       "      <td>...</td>\n",
       "      <td>0.90695</td>\n",
       "      <td>0.51613</td>\n",
       "      <td>1.00000</td>\n",
       "      <td>1.00000</td>\n",
       "      <td>-0.20099</td>\n",
       "      <td>0.25682</td>\n",
       "      <td>1.00000</td>\n",
       "      <td>-0.32382</td>\n",
       "      <td>1.00000</td>\n",
       "      <td>b</td>\n",
       "    </tr>\n",
       "    <tr>\n",
       "      <th>4</th>\n",
       "      <td>1</td>\n",
       "      <td>0</td>\n",
       "      <td>1.00000</td>\n",
       "      <td>-0.02401</td>\n",
       "      <td>0.94140</td>\n",
       "      <td>0.06531</td>\n",
       "      <td>0.92106</td>\n",
       "      <td>-0.23255</td>\n",
       "      <td>0.77152</td>\n",
       "      <td>-0.16399</td>\n",
       "      <td>...</td>\n",
       "      <td>-0.65158</td>\n",
       "      <td>0.13290</td>\n",
       "      <td>-0.53206</td>\n",
       "      <td>0.02431</td>\n",
       "      <td>-0.62197</td>\n",
       "      <td>-0.05707</td>\n",
       "      <td>-0.59573</td>\n",
       "      <td>-0.04608</td>\n",
       "      <td>-0.65697</td>\n",
       "      <td>g</td>\n",
       "    </tr>\n",
       "  </tbody>\n",
       "</table>\n",
       "<p>5 rows × 35 columns</p>\n",
       "</div>"
      ],
      "text/plain": [
       "   0   1        2        3        4        5        6        7        8   \\\n",
       "0   1   0  0.99539 -0.05889  0.85243  0.02306  0.83398 -0.37708  1.00000   \n",
       "1   1   0  1.00000 -0.18829  0.93035 -0.36156 -0.10868 -0.93597  1.00000   \n",
       "2   1   0  1.00000 -0.03365  1.00000  0.00485  1.00000 -0.12062  0.88965   \n",
       "3   1   0  1.00000 -0.45161  1.00000  1.00000  0.71216 -1.00000  0.00000   \n",
       "4   1   0  1.00000 -0.02401  0.94140  0.06531  0.92106 -0.23255  0.77152   \n",
       "\n",
       "        9  ...       25       26       27       28       29       30       31  \\\n",
       "0  0.03760 ... -0.51171  0.41078 -0.46168  0.21266 -0.34090  0.42267 -0.54487   \n",
       "1 -0.04549 ... -0.26569 -0.20468 -0.18401 -0.19040 -0.11593 -0.16626 -0.06288   \n",
       "2  0.01198 ... -0.40220  0.58984 -0.22145  0.43100 -0.17365  0.60436 -0.24180   \n",
       "3  0.00000 ...  0.90695  0.51613  1.00000  1.00000 -0.20099  0.25682  1.00000   \n",
       "4 -0.16399 ... -0.65158  0.13290 -0.53206  0.02431 -0.62197 -0.05707 -0.59573   \n",
       "\n",
       "        32       33  34  \n",
       "0  0.18641 -0.45300   g  \n",
       "1 -0.13738 -0.02447   b  \n",
       "2  0.56045 -0.38238   g  \n",
       "3 -0.32382  1.00000   b  \n",
       "4 -0.04608 -0.65697   g  \n",
       "\n",
       "[5 rows x 35 columns]"
      ]
     },
     "execution_count": 4,
     "metadata": {},
     "output_type": "execute_result"
    }
   ],
   "source": [
    "data = pd.read_csv('data/ionosphere.data', sep=\",\", header=None)\n",
    "data.head()"
   ]
  },
  {
   "cell_type": "code",
   "execution_count": 5,
   "metadata": {
    "scrolled": false
   },
   "outputs": [
    {
     "data": {
      "text/html": [
       "<div>\n",
       "<style>\n",
       "    .dataframe thead tr:only-child th {\n",
       "        text-align: right;\n",
       "    }\n",
       "\n",
       "    .dataframe thead th {\n",
       "        text-align: left;\n",
       "    }\n",
       "\n",
       "    .dataframe tbody tr th {\n",
       "        vertical-align: top;\n",
       "    }\n",
       "</style>\n",
       "<table border=\"1\" class=\"dataframe\">\n",
       "  <thead>\n",
       "    <tr style=\"text-align: right;\">\n",
       "      <th></th>\n",
       "      <th>0</th>\n",
       "      <th>1</th>\n",
       "      <th>2</th>\n",
       "      <th>3</th>\n",
       "      <th>4</th>\n",
       "      <th>5</th>\n",
       "      <th>6</th>\n",
       "      <th>7</th>\n",
       "      <th>8</th>\n",
       "      <th>9</th>\n",
       "      <th>...</th>\n",
       "      <th>24</th>\n",
       "      <th>25</th>\n",
       "      <th>26</th>\n",
       "      <th>27</th>\n",
       "      <th>28</th>\n",
       "      <th>29</th>\n",
       "      <th>30</th>\n",
       "      <th>31</th>\n",
       "      <th>32</th>\n",
       "      <th>33</th>\n",
       "    </tr>\n",
       "  </thead>\n",
       "  <tbody>\n",
       "    <tr>\n",
       "      <th>count</th>\n",
       "      <td>351.000000</td>\n",
       "      <td>351.0</td>\n",
       "      <td>351.000000</td>\n",
       "      <td>351.000000</td>\n",
       "      <td>351.000000</td>\n",
       "      <td>351.000000</td>\n",
       "      <td>351.000000</td>\n",
       "      <td>351.000000</td>\n",
       "      <td>351.000000</td>\n",
       "      <td>351.000000</td>\n",
       "      <td>...</td>\n",
       "      <td>351.000000</td>\n",
       "      <td>351.000000</td>\n",
       "      <td>351.000000</td>\n",
       "      <td>351.000000</td>\n",
       "      <td>351.000000</td>\n",
       "      <td>351.000000</td>\n",
       "      <td>351.000000</td>\n",
       "      <td>351.000000</td>\n",
       "      <td>351.000000</td>\n",
       "      <td>351.000000</td>\n",
       "    </tr>\n",
       "    <tr>\n",
       "      <th>mean</th>\n",
       "      <td>0.891738</td>\n",
       "      <td>0.0</td>\n",
       "      <td>0.641342</td>\n",
       "      <td>0.044372</td>\n",
       "      <td>0.601068</td>\n",
       "      <td>0.115889</td>\n",
       "      <td>0.550095</td>\n",
       "      <td>0.119360</td>\n",
       "      <td>0.511848</td>\n",
       "      <td>0.181345</td>\n",
       "      <td>...</td>\n",
       "      <td>0.396135</td>\n",
       "      <td>-0.071187</td>\n",
       "      <td>0.541641</td>\n",
       "      <td>-0.069538</td>\n",
       "      <td>0.378445</td>\n",
       "      <td>-0.027907</td>\n",
       "      <td>0.352514</td>\n",
       "      <td>-0.003794</td>\n",
       "      <td>0.349364</td>\n",
       "      <td>0.014480</td>\n",
       "    </tr>\n",
       "    <tr>\n",
       "      <th>std</th>\n",
       "      <td>0.311155</td>\n",
       "      <td>0.0</td>\n",
       "      <td>0.497708</td>\n",
       "      <td>0.441435</td>\n",
       "      <td>0.519862</td>\n",
       "      <td>0.460810</td>\n",
       "      <td>0.492654</td>\n",
       "      <td>0.520750</td>\n",
       "      <td>0.507066</td>\n",
       "      <td>0.483851</td>\n",
       "      <td>...</td>\n",
       "      <td>0.578451</td>\n",
       "      <td>0.508495</td>\n",
       "      <td>0.516205</td>\n",
       "      <td>0.550025</td>\n",
       "      <td>0.575886</td>\n",
       "      <td>0.507974</td>\n",
       "      <td>0.571483</td>\n",
       "      <td>0.513574</td>\n",
       "      <td>0.522663</td>\n",
       "      <td>0.468337</td>\n",
       "    </tr>\n",
       "    <tr>\n",
       "      <th>min</th>\n",
       "      <td>0.000000</td>\n",
       "      <td>0.0</td>\n",
       "      <td>-1.000000</td>\n",
       "      <td>-1.000000</td>\n",
       "      <td>-1.000000</td>\n",
       "      <td>-1.000000</td>\n",
       "      <td>-1.000000</td>\n",
       "      <td>-1.000000</td>\n",
       "      <td>-1.000000</td>\n",
       "      <td>-1.000000</td>\n",
       "      <td>...</td>\n",
       "      <td>-1.000000</td>\n",
       "      <td>-1.000000</td>\n",
       "      <td>-1.000000</td>\n",
       "      <td>-1.000000</td>\n",
       "      <td>-1.000000</td>\n",
       "      <td>-1.000000</td>\n",
       "      <td>-1.000000</td>\n",
       "      <td>-1.000000</td>\n",
       "      <td>-1.000000</td>\n",
       "      <td>-1.000000</td>\n",
       "    </tr>\n",
       "    <tr>\n",
       "      <th>25%</th>\n",
       "      <td>1.000000</td>\n",
       "      <td>0.0</td>\n",
       "      <td>0.472135</td>\n",
       "      <td>-0.064735</td>\n",
       "      <td>0.412660</td>\n",
       "      <td>-0.024795</td>\n",
       "      <td>0.211310</td>\n",
       "      <td>-0.054840</td>\n",
       "      <td>0.087110</td>\n",
       "      <td>-0.048075</td>\n",
       "      <td>...</td>\n",
       "      <td>0.000000</td>\n",
       "      <td>-0.332390</td>\n",
       "      <td>0.286435</td>\n",
       "      <td>-0.443165</td>\n",
       "      <td>0.000000</td>\n",
       "      <td>-0.236885</td>\n",
       "      <td>0.000000</td>\n",
       "      <td>-0.242595</td>\n",
       "      <td>0.000000</td>\n",
       "      <td>-0.165350</td>\n",
       "    </tr>\n",
       "    <tr>\n",
       "      <th>50%</th>\n",
       "      <td>1.000000</td>\n",
       "      <td>0.0</td>\n",
       "      <td>0.871110</td>\n",
       "      <td>0.016310</td>\n",
       "      <td>0.809200</td>\n",
       "      <td>0.022800</td>\n",
       "      <td>0.728730</td>\n",
       "      <td>0.014710</td>\n",
       "      <td>0.684210</td>\n",
       "      <td>0.018290</td>\n",
       "      <td>...</td>\n",
       "      <td>0.553890</td>\n",
       "      <td>-0.015050</td>\n",
       "      <td>0.708240</td>\n",
       "      <td>-0.017690</td>\n",
       "      <td>0.496640</td>\n",
       "      <td>0.000000</td>\n",
       "      <td>0.442770</td>\n",
       "      <td>0.000000</td>\n",
       "      <td>0.409560</td>\n",
       "      <td>0.000000</td>\n",
       "    </tr>\n",
       "    <tr>\n",
       "      <th>75%</th>\n",
       "      <td>1.000000</td>\n",
       "      <td>0.0</td>\n",
       "      <td>1.000000</td>\n",
       "      <td>0.194185</td>\n",
       "      <td>1.000000</td>\n",
       "      <td>0.334655</td>\n",
       "      <td>0.969240</td>\n",
       "      <td>0.445675</td>\n",
       "      <td>0.953240</td>\n",
       "      <td>0.534195</td>\n",
       "      <td>...</td>\n",
       "      <td>0.905240</td>\n",
       "      <td>0.156765</td>\n",
       "      <td>0.999945</td>\n",
       "      <td>0.153535</td>\n",
       "      <td>0.883465</td>\n",
       "      <td>0.154075</td>\n",
       "      <td>0.857620</td>\n",
       "      <td>0.200120</td>\n",
       "      <td>0.813765</td>\n",
       "      <td>0.171660</td>\n",
       "    </tr>\n",
       "    <tr>\n",
       "      <th>max</th>\n",
       "      <td>1.000000</td>\n",
       "      <td>0.0</td>\n",
       "      <td>1.000000</td>\n",
       "      <td>1.000000</td>\n",
       "      <td>1.000000</td>\n",
       "      <td>1.000000</td>\n",
       "      <td>1.000000</td>\n",
       "      <td>1.000000</td>\n",
       "      <td>1.000000</td>\n",
       "      <td>1.000000</td>\n",
       "      <td>...</td>\n",
       "      <td>1.000000</td>\n",
       "      <td>1.000000</td>\n",
       "      <td>1.000000</td>\n",
       "      <td>1.000000</td>\n",
       "      <td>1.000000</td>\n",
       "      <td>1.000000</td>\n",
       "      <td>1.000000</td>\n",
       "      <td>1.000000</td>\n",
       "      <td>1.000000</td>\n",
       "      <td>1.000000</td>\n",
       "    </tr>\n",
       "  </tbody>\n",
       "</table>\n",
       "<p>8 rows × 34 columns</p>\n",
       "</div>"
      ],
      "text/plain": [
       "               0      1           2           3           4           5   \\\n",
       "count  351.000000  351.0  351.000000  351.000000  351.000000  351.000000   \n",
       "mean     0.891738    0.0    0.641342    0.044372    0.601068    0.115889   \n",
       "std      0.311155    0.0    0.497708    0.441435    0.519862    0.460810   \n",
       "min      0.000000    0.0   -1.000000   -1.000000   -1.000000   -1.000000   \n",
       "25%      1.000000    0.0    0.472135   -0.064735    0.412660   -0.024795   \n",
       "50%      1.000000    0.0    0.871110    0.016310    0.809200    0.022800   \n",
       "75%      1.000000    0.0    1.000000    0.194185    1.000000    0.334655   \n",
       "max      1.000000    0.0    1.000000    1.000000    1.000000    1.000000   \n",
       "\n",
       "               6           7           8           9      ...              24  \\\n",
       "count  351.000000  351.000000  351.000000  351.000000     ...      351.000000   \n",
       "mean     0.550095    0.119360    0.511848    0.181345     ...        0.396135   \n",
       "std      0.492654    0.520750    0.507066    0.483851     ...        0.578451   \n",
       "min     -1.000000   -1.000000   -1.000000   -1.000000     ...       -1.000000   \n",
       "25%      0.211310   -0.054840    0.087110   -0.048075     ...        0.000000   \n",
       "50%      0.728730    0.014710    0.684210    0.018290     ...        0.553890   \n",
       "75%      0.969240    0.445675    0.953240    0.534195     ...        0.905240   \n",
       "max      1.000000    1.000000    1.000000    1.000000     ...        1.000000   \n",
       "\n",
       "               25          26          27          28          29          30  \\\n",
       "count  351.000000  351.000000  351.000000  351.000000  351.000000  351.000000   \n",
       "mean    -0.071187    0.541641   -0.069538    0.378445   -0.027907    0.352514   \n",
       "std      0.508495    0.516205    0.550025    0.575886    0.507974    0.571483   \n",
       "min     -1.000000   -1.000000   -1.000000   -1.000000   -1.000000   -1.000000   \n",
       "25%     -0.332390    0.286435   -0.443165    0.000000   -0.236885    0.000000   \n",
       "50%     -0.015050    0.708240   -0.017690    0.496640    0.000000    0.442770   \n",
       "75%      0.156765    0.999945    0.153535    0.883465    0.154075    0.857620   \n",
       "max      1.000000    1.000000    1.000000    1.000000    1.000000    1.000000   \n",
       "\n",
       "               31          32          33  \n",
       "count  351.000000  351.000000  351.000000  \n",
       "mean    -0.003794    0.349364    0.014480  \n",
       "std      0.513574    0.522663    0.468337  \n",
       "min     -1.000000   -1.000000   -1.000000  \n",
       "25%     -0.242595    0.000000   -0.165350  \n",
       "50%      0.000000    0.409560    0.000000  \n",
       "75%      0.200120    0.813765    0.171660  \n",
       "max      1.000000    1.000000    1.000000  \n",
       "\n",
       "[8 rows x 34 columns]"
      ]
     },
     "execution_count": 5,
     "metadata": {},
     "output_type": "execute_result"
    }
   ],
   "source": [
    "data.describe()"
   ]
  },
  {
   "cell_type": "markdown",
   "metadata": {},
   "source": [
    "This is a very small dataset."
   ]
  },
  {
   "cell_type": "code",
   "execution_count": 6,
   "metadata": {
    "scrolled": false
   },
   "outputs": [
    {
     "data": {
      "text/html": [
       "<div>\n",
       "<style>\n",
       "    .dataframe thead tr:only-child th {\n",
       "        text-align: right;\n",
       "    }\n",
       "\n",
       "    .dataframe thead th {\n",
       "        text-align: left;\n",
       "    }\n",
       "\n",
       "    .dataframe tbody tr th {\n",
       "        vertical-align: top;\n",
       "    }\n",
       "</style>\n",
       "<table border=\"1\" class=\"dataframe\">\n",
       "  <thead>\n",
       "    <tr style=\"text-align: right;\">\n",
       "      <th>col_0</th>\n",
       "      <th>frequency</th>\n",
       "    </tr>\n",
       "    <tr>\n",
       "      <th>Class/Direction</th>\n",
       "      <th></th>\n",
       "    </tr>\n",
       "  </thead>\n",
       "  <tbody>\n",
       "    <tr>\n",
       "      <th>b</th>\n",
       "      <td>0.358974</td>\n",
       "    </tr>\n",
       "    <tr>\n",
       "      <th>g</th>\n",
       "      <td>0.641026</td>\n",
       "    </tr>\n",
       "  </tbody>\n",
       "</table>\n",
       "</div>"
      ],
      "text/plain": [
       "col_0            frequency\n",
       "Class/Direction           \n",
       "b                 0.358974\n",
       "g                 0.641026"
      ]
     },
     "execution_count": 6,
     "metadata": {},
     "output_type": "execute_result"
    }
   ],
   "source": [
    "df_tab = data\n",
    "df_tab[34] = df_tab[34].astype('category')\n",
    "tab = pd.crosstab(index=df_tab[34], columns=\"frequency\")\n",
    "tab.index.name = 'Class/Direction'\n",
    "tab/tab.sum()"
   ]
  },
  {
   "cell_type": "code",
   "execution_count": 7,
   "metadata": {
    "scrolled": false
   },
   "outputs": [],
   "source": [
    "data.drop(data.columns[1], inplace=True, axis=1)\n",
    "data[34] = [1 if e is \"g\" else 0 for e in data[34]]"
   ]
  },
  {
   "cell_type": "code",
   "execution_count": 8,
   "metadata": {
    "collapsed": true,
    "scrolled": false
   },
   "outputs": [],
   "source": [
    "# sample the dataframe\n",
    "data_train = data.sample(frac=0.9, random_state=seed)\n",
    "data_valid = data.drop(data_train.index)"
   ]
  },
  {
   "cell_type": "code",
   "execution_count": 9,
   "metadata": {
    "collapsed": true,
    "scrolled": true
   },
   "outputs": [],
   "source": [
    "df_x_train = data_train.iloc[:,:-1]\n",
    "df_x_train = df_x_train.transform(lambda x: (x - x.min()) / (x.max() - x.min()))\n",
    "df_y_train = data_train.iloc[:,-1]\n",
    "\n",
    "df_x_valid = data_valid.iloc[:,:-1]\n",
    "df_x_valid = df_x_valid.transform(lambda x: (x - x.min()) / (x.max() - x.min()))\n",
    "df_y_valid = data_valid.iloc[:,-1]"
   ]
  },
  {
   "cell_type": "code",
   "execution_count": 10,
   "metadata": {
    "scrolled": false
   },
   "outputs": [
    {
     "data": {
      "text/html": [
       "<div>\n",
       "<style>\n",
       "    .dataframe thead tr:only-child th {\n",
       "        text-align: right;\n",
       "    }\n",
       "\n",
       "    .dataframe thead th {\n",
       "        text-align: left;\n",
       "    }\n",
       "\n",
       "    .dataframe tbody tr th {\n",
       "        vertical-align: top;\n",
       "    }\n",
       "</style>\n",
       "<table border=\"1\" class=\"dataframe\">\n",
       "  <thead>\n",
       "    <tr style=\"text-align: right;\">\n",
       "      <th></th>\n",
       "      <th>0</th>\n",
       "      <th>2</th>\n",
       "      <th>3</th>\n",
       "      <th>4</th>\n",
       "      <th>5</th>\n",
       "      <th>6</th>\n",
       "      <th>7</th>\n",
       "      <th>8</th>\n",
       "      <th>9</th>\n",
       "      <th>10</th>\n",
       "      <th>...</th>\n",
       "      <th>24</th>\n",
       "      <th>25</th>\n",
       "      <th>26</th>\n",
       "      <th>27</th>\n",
       "      <th>28</th>\n",
       "      <th>29</th>\n",
       "      <th>30</th>\n",
       "      <th>31</th>\n",
       "      <th>32</th>\n",
       "      <th>33</th>\n",
       "    </tr>\n",
       "  </thead>\n",
       "  <tbody>\n",
       "    <tr>\n",
       "      <th>count</th>\n",
       "      <td>316.000000</td>\n",
       "      <td>316.000000</td>\n",
       "      <td>316.000000</td>\n",
       "      <td>316.000000</td>\n",
       "      <td>316.000000</td>\n",
       "      <td>316.000000</td>\n",
       "      <td>316.000000</td>\n",
       "      <td>316.000000</td>\n",
       "      <td>316.000000</td>\n",
       "      <td>316.000000</td>\n",
       "      <td>...</td>\n",
       "      <td>316.000000</td>\n",
       "      <td>316.000000</td>\n",
       "      <td>316.000000</td>\n",
       "      <td>316.000000</td>\n",
       "      <td>316.000000</td>\n",
       "      <td>316.000000</td>\n",
       "      <td>316.000000</td>\n",
       "      <td>316.000000</td>\n",
       "      <td>316.000000</td>\n",
       "      <td>316.000000</td>\n",
       "    </tr>\n",
       "    <tr>\n",
       "      <th>mean</th>\n",
       "      <td>0.895570</td>\n",
       "      <td>0.817784</td>\n",
       "      <td>0.522094</td>\n",
       "      <td>0.796498</td>\n",
       "      <td>0.563261</td>\n",
       "      <td>0.773132</td>\n",
       "      <td>0.562843</td>\n",
       "      <td>0.755772</td>\n",
       "      <td>0.596871</td>\n",
       "      <td>0.729752</td>\n",
       "      <td>...</td>\n",
       "      <td>0.688157</td>\n",
       "      <td>0.465685</td>\n",
       "      <td>0.759911</td>\n",
       "      <td>0.465155</td>\n",
       "      <td>0.682221</td>\n",
       "      <td>0.488292</td>\n",
       "      <td>0.665222</td>\n",
       "      <td>0.494916</td>\n",
       "      <td>0.662627</td>\n",
       "      <td>0.507965</td>\n",
       "    </tr>\n",
       "    <tr>\n",
       "      <th>std</th>\n",
       "      <td>0.306303</td>\n",
       "      <td>0.251818</td>\n",
       "      <td>0.222290</td>\n",
       "      <td>0.262939</td>\n",
       "      <td>0.233777</td>\n",
       "      <td>0.246856</td>\n",
       "      <td>0.266824</td>\n",
       "      <td>0.249016</td>\n",
       "      <td>0.243454</td>\n",
       "      <td>0.286458</td>\n",
       "      <td>...</td>\n",
       "      <td>0.292496</td>\n",
       "      <td>0.258101</td>\n",
       "      <td>0.262799</td>\n",
       "      <td>0.278669</td>\n",
       "      <td>0.288899</td>\n",
       "      <td>0.257573</td>\n",
       "      <td>0.288393</td>\n",
       "      <td>0.260966</td>\n",
       "      <td>0.261653</td>\n",
       "      <td>0.234951</td>\n",
       "    </tr>\n",
       "    <tr>\n",
       "      <th>min</th>\n",
       "      <td>0.000000</td>\n",
       "      <td>0.000000</td>\n",
       "      <td>0.000000</td>\n",
       "      <td>0.000000</td>\n",
       "      <td>0.000000</td>\n",
       "      <td>0.000000</td>\n",
       "      <td>0.000000</td>\n",
       "      <td>0.000000</td>\n",
       "      <td>0.000000</td>\n",
       "      <td>0.000000</td>\n",
       "      <td>...</td>\n",
       "      <td>0.000000</td>\n",
       "      <td>0.000000</td>\n",
       "      <td>0.000000</td>\n",
       "      <td>0.000000</td>\n",
       "      <td>0.000000</td>\n",
       "      <td>0.000000</td>\n",
       "      <td>0.000000</td>\n",
       "      <td>0.000000</td>\n",
       "      <td>0.000000</td>\n",
       "      <td>0.000000</td>\n",
       "    </tr>\n",
       "    <tr>\n",
       "      <th>25%</th>\n",
       "      <td>1.000000</td>\n",
       "      <td>0.726011</td>\n",
       "      <td>0.464336</td>\n",
       "      <td>0.700079</td>\n",
       "      <td>0.488350</td>\n",
       "      <td>0.613897</td>\n",
       "      <td>0.471016</td>\n",
       "      <td>0.542396</td>\n",
       "      <td>0.476426</td>\n",
       "      <td>0.504012</td>\n",
       "      <td>...</td>\n",
       "      <td>0.500000</td>\n",
       "      <td>0.321889</td>\n",
       "      <td>0.628716</td>\n",
       "      <td>0.263979</td>\n",
       "      <td>0.500000</td>\n",
       "      <td>0.380319</td>\n",
       "      <td>0.500000</td>\n",
       "      <td>0.376049</td>\n",
       "      <td>0.500000</td>\n",
       "      <td>0.422180</td>\n",
       "    </tr>\n",
       "    <tr>\n",
       "      <th>50%</th>\n",
       "      <td>1.000000</td>\n",
       "      <td>0.936722</td>\n",
       "      <td>0.510012</td>\n",
       "      <td>0.902620</td>\n",
       "      <td>0.514775</td>\n",
       "      <td>0.863272</td>\n",
       "      <td>0.510335</td>\n",
       "      <td>0.834157</td>\n",
       "      <td>0.512105</td>\n",
       "      <td>0.824230</td>\n",
       "      <td>...</td>\n",
       "      <td>0.759008</td>\n",
       "      <td>0.492542</td>\n",
       "      <td>0.837063</td>\n",
       "      <td>0.489053</td>\n",
       "      <td>0.731227</td>\n",
       "      <td>0.500000</td>\n",
       "      <td>0.710308</td>\n",
       "      <td>0.500000</td>\n",
       "      <td>0.690685</td>\n",
       "      <td>0.500000</td>\n",
       "    </tr>\n",
       "    <tr>\n",
       "      <th>75%</th>\n",
       "      <td>1.000000</td>\n",
       "      <td>1.000000</td>\n",
       "      <td>0.606244</td>\n",
       "      <td>1.000000</td>\n",
       "      <td>0.678753</td>\n",
       "      <td>0.984088</td>\n",
       "      <td>0.745698</td>\n",
       "      <td>0.977925</td>\n",
       "      <td>0.793609</td>\n",
       "      <td>0.981344</td>\n",
       "      <td>...</td>\n",
       "      <td>0.948491</td>\n",
       "      <td>0.581852</td>\n",
       "      <td>0.999959</td>\n",
       "      <td>0.581416</td>\n",
       "      <td>0.942238</td>\n",
       "      <td>0.582359</td>\n",
       "      <td>0.920661</td>\n",
       "      <td>0.601942</td>\n",
       "      <td>0.887807</td>\n",
       "      <td>0.589070</td>\n",
       "    </tr>\n",
       "    <tr>\n",
       "      <th>max</th>\n",
       "      <td>1.000000</td>\n",
       "      <td>1.000000</td>\n",
       "      <td>1.000000</td>\n",
       "      <td>1.000000</td>\n",
       "      <td>1.000000</td>\n",
       "      <td>1.000000</td>\n",
       "      <td>1.000000</td>\n",
       "      <td>1.000000</td>\n",
       "      <td>1.000000</td>\n",
       "      <td>1.000000</td>\n",
       "      <td>...</td>\n",
       "      <td>1.000000</td>\n",
       "      <td>1.000000</td>\n",
       "      <td>1.000000</td>\n",
       "      <td>1.000000</td>\n",
       "      <td>1.000000</td>\n",
       "      <td>1.000000</td>\n",
       "      <td>1.000000</td>\n",
       "      <td>1.000000</td>\n",
       "      <td>1.000000</td>\n",
       "      <td>1.000000</td>\n",
       "    </tr>\n",
       "  </tbody>\n",
       "</table>\n",
       "<p>8 rows × 33 columns</p>\n",
       "</div>"
      ],
      "text/plain": [
       "               0           2           3           4           5           6   \\\n",
       "count  316.000000  316.000000  316.000000  316.000000  316.000000  316.000000   \n",
       "mean     0.895570    0.817784    0.522094    0.796498    0.563261    0.773132   \n",
       "std      0.306303    0.251818    0.222290    0.262939    0.233777    0.246856   \n",
       "min      0.000000    0.000000    0.000000    0.000000    0.000000    0.000000   \n",
       "25%      1.000000    0.726011    0.464336    0.700079    0.488350    0.613897   \n",
       "50%      1.000000    0.936722    0.510012    0.902620    0.514775    0.863272   \n",
       "75%      1.000000    1.000000    0.606244    1.000000    0.678753    0.984088   \n",
       "max      1.000000    1.000000    1.000000    1.000000    1.000000    1.000000   \n",
       "\n",
       "               7           8           9           10     ...              24  \\\n",
       "count  316.000000  316.000000  316.000000  316.000000     ...      316.000000   \n",
       "mean     0.562843    0.755772    0.596871    0.729752     ...        0.688157   \n",
       "std      0.266824    0.249016    0.243454    0.286458     ...        0.292496   \n",
       "min      0.000000    0.000000    0.000000    0.000000     ...        0.000000   \n",
       "25%      0.471016    0.542396    0.476426    0.504012     ...        0.500000   \n",
       "50%      0.510335    0.834157    0.512105    0.824230     ...        0.759008   \n",
       "75%      0.745698    0.977925    0.793609    0.981344     ...        0.948491   \n",
       "max      1.000000    1.000000    1.000000    1.000000     ...        1.000000   \n",
       "\n",
       "               25          26          27          28          29          30  \\\n",
       "count  316.000000  316.000000  316.000000  316.000000  316.000000  316.000000   \n",
       "mean     0.465685    0.759911    0.465155    0.682221    0.488292    0.665222   \n",
       "std      0.258101    0.262799    0.278669    0.288899    0.257573    0.288393   \n",
       "min      0.000000    0.000000    0.000000    0.000000    0.000000    0.000000   \n",
       "25%      0.321889    0.628716    0.263979    0.500000    0.380319    0.500000   \n",
       "50%      0.492542    0.837063    0.489053    0.731227    0.500000    0.710308   \n",
       "75%      0.581852    0.999959    0.581416    0.942238    0.582359    0.920661   \n",
       "max      1.000000    1.000000    1.000000    1.000000    1.000000    1.000000   \n",
       "\n",
       "               31          32          33  \n",
       "count  316.000000  316.000000  316.000000  \n",
       "mean     0.494916    0.662627    0.507965  \n",
       "std      0.260966    0.261653    0.234951  \n",
       "min      0.000000    0.000000    0.000000  \n",
       "25%      0.376049    0.500000    0.422180  \n",
       "50%      0.500000    0.690685    0.500000  \n",
       "75%      0.601942    0.887807    0.589070  \n",
       "max      1.000000    1.000000    1.000000  \n",
       "\n",
       "[8 rows x 33 columns]"
      ]
     },
     "execution_count": 10,
     "metadata": {},
     "output_type": "execute_result"
    }
   ],
   "source": [
    "df_x_train.describe()"
   ]
  },
  {
   "cell_type": "code",
   "execution_count": 11,
   "metadata": {
    "scrolled": false
   },
   "outputs": [
    {
     "data": {
      "text/plain": [
       "0.6360759493670886"
      ]
     },
     "execution_count": 11,
     "metadata": {},
     "output_type": "execute_result"
    }
   ],
   "source": [
    "df_y_train.sum()/len(df_y_train)"
   ]
  },
  {
   "cell_type": "markdown",
   "metadata": {},
   "source": [
    "About 63% of all observations are *good*."
   ]
  },
  {
   "cell_type": "markdown",
   "metadata": {},
   "source": [
    "## preprocessing"
   ]
  },
  {
   "cell_type": "code",
   "execution_count": 12,
   "metadata": {
    "collapsed": true,
    "scrolled": true
   },
   "outputs": [],
   "source": [
    "x_train = np.array(df_x_train.as_matrix())\n",
    "y_train = np.array(pd.DataFrame(df_y_train).as_matrix())\n",
    "\n",
    "x_val = np.array(df_x_valid.as_matrix())\n",
    "y_val = np.array(pd.DataFrame(df_y_valid).as_matrix())\n",
    "y_eval = y_val\n",
    "\n",
    "y_train = keras.utils.to_categorical(y_train, 2)\n",
    "y_val = keras.utils.to_categorical(y_val, 2)"
   ]
  },
  {
   "cell_type": "markdown",
   "metadata": {},
   "source": [
    "### Set Global Parameters"
   ]
  },
  {
   "cell_type": "code",
   "execution_count": 13,
   "metadata": {
    "collapsed": true,
    "scrolled": false
   },
   "outputs": [],
   "source": [
    "epochsize = 60\n",
    "batchsize = 4\n",
    "shuffle = False\n",
    "dropout = 0.1\n",
    "num_classes = 2\n",
    "input_dim = x_train.shape[1]\n",
    "hidden1_dim = 40\n",
    "hidden2_dim = 40\n",
    "# weights = keras.initializers.RandomNormal(mean=0.0, stddev=0.05, seed=42)"
   ]
  },
  {
   "cell_type": "markdown",
   "metadata": {},
   "source": [
    "## Train Classifier"
   ]
  },
  {
   "cell_type": "markdown",
   "metadata": {},
   "source": [
    "The goal is to get a very accurate classifier."
   ]
  },
  {
   "cell_type": "code",
   "execution_count": 14,
   "metadata": {
    "scrolled": false
   },
   "outputs": [],
   "source": [
    "input_data = Input(shape=(input_dim,), dtype='float32', name='main_input')\n",
    "hidden_layer1 = Dense(hidden1_dim\n",
    "                      , activation='relu'\n",
    "                      , input_shape=(input_dim,)\n",
    "#                       , kernel_initializer=weights\n",
    "                     )(input_data)\n",
    "dropout1 = Dropout(dropout)(hidden_layer1)\n",
    "hidden_layer2 = Dense(hidden2_dim\n",
    "                      , activation='relu'\n",
    "                      , input_shape=(input_dim,)\n",
    "#                       , kernel_initializer=weights\n",
    "                     )(dropout1)\n",
    "dropout2 = Dropout(dropout)(hidden_layer2)\n",
    "output_layer = Dense(num_classes\n",
    "                     , activation='sigmoid'\n",
    "#                      , kernel_initializer=weights\n",
    "                    )(dropout2)\n",
    "\n",
    "model = Model(inputs=input_data, outputs=output_layer)\n",
    "\n",
    "model.compile(loss='binary_crossentropy',\n",
    "              optimizer=RMSprop(),\n",
    "              metrics=['accuracy'])"
   ]
  },
  {
   "cell_type": "code",
   "execution_count": 15,
   "metadata": {
    "collapsed": true,
    "scrolled": false
   },
   "outputs": [],
   "source": [
    "plot_model(model, to_file='images/ionosphere_nn.png', show_shapes=True, show_layer_names=True)"
   ]
  },
  {
   "cell_type": "code",
   "execution_count": 16,
   "metadata": {
    "scrolled": false
   },
   "outputs": [
    {
     "data": {
      "image/png": "[encoded data removed]",
      "text/plain": [
       "<IPython.core.display.Image object>"
      ]
     },
     "execution_count": 16,
     "metadata": {},
     "output_type": "execute_result"
    }
   ],
   "source": [
    "IPython.display.Image(\"images/ionosphere_nn.png\")"
   ]
  },
  {
   "cell_type": "code",
   "execution_count": 17,
   "metadata": {
    "scrolled": false
   },
   "outputs": [
    {
     "name": "stdout",
     "output_type": "stream",
     "text": [
      "35/35 [==============================] - 0s 86us/step\n",
      "0.857142857143\n"
     ]
    }
   ],
   "source": [
    "model.fit(x_train, y_train, \n",
    "          batch_size=batchsize,\n",
    "          epochs=epochsize,\n",
    "          verbose=0,\n",
    "          shuffle=shuffle,\n",
    "          validation_split=0.05)\n",
    "nn_score = model.evaluate(x_val, y_val)[1]\n",
    "print(nn_score)"
   ]
  },
  {
   "cell_type": "code",
   "execution_count": 28,
   "metadata": {
    "scrolled": false
   },
   "outputs": [
    {
     "data": {
      "image/png": "[encoded data removed]",
      "text/plain": [
       "<matplotlib.figure.Figure at 0x22eb2d39668>"
      ]
     },
     "metadata": {},
     "output_type": "display_data"
    }
   ],
   "source": [
    "fig = plt.figure(figsize=(20,10))\n",
    "plt.plot(model.history.history['val_acc'])\n",
    "plt.plot(model.history.history['acc'])\n",
    "plt.axhline(y=nn_score, c=\"red\")\n",
    "plt.text(0, nn_score, \"test: \" + str(round(nn_score, 4)), fontdict=font)\n",
    "plt.title('model accuracy for neural net with 2 hidden layers')\n",
    "plt.ylabel('accuracy')\n",
    "plt.xlabel('epochs')\n",
    "plt.legend(['valid', 'train'], loc='lower right')\n",
    "plt.show()"
   ]
  },
  {
   "cell_type": "code",
   "execution_count": 19,
   "metadata": {
    "collapsed": true,
    "scrolled": false
   },
   "outputs": [],
   "source": [
    "import itertools\n",
    "\n",
    "from sklearn.model_selection import train_test_split\n",
    "from sklearn.metrics import confusion_matrix\n",
    "\n",
    "def plot_confusion_matrix(cm, classes,\n",
    "                          normalize=False,\n",
    "                          title='Confusion matrix',\n",
    "                          cmap=plt.cm.Blues):\n",
    "    \"\"\"\n",
    "    This function prints and plots the confusion matrix.\n",
    "    Normalization can be applied by setting `normalize=True`.\n",
    "    \"\"\"\n",
    "    if normalize:\n",
    "        cm = cm.astype('float') / cm.sum(axis=1)[:, np.newaxis]\n",
    "        print(\"Normalized confusion matrix\")\n",
    "    else:\n",
    "        print('Confusion matrix, without normalization')\n",
    "\n",
    "    print(cm)\n",
    "\n",
    "    plt.imshow(cm, interpolation='nearest', cmap=cmap)\n",
    "    plt.title(title)\n",
    "    plt.colorbar()\n",
    "    tick_marks = np.arange(len(classes))\n",
    "    plt.xticks(tick_marks, classes, rotation=45)\n",
    "    plt.yticks(tick_marks, classes)\n",
    "\n",
    "    fmt = '.2f' if normalize else 'd'\n",
    "    thresh = cm.max() / 2.\n",
    "    for i, j in itertools.product(range(cm.shape[0]), range(cm.shape[1])):\n",
    "        plt.text(j, i, format(cm[i, j], fmt),\n",
    "                 horizontalalignment=\"center\",\n",
    "                 color=\"white\" if cm[i, j] > thresh else \"black\")\n",
    "\n",
    "    plt.tight_layout()\n",
    "    plt.ylabel('True label')\n",
    "    plt.xlabel('Predicted label')"
   ]
  },
  {
   "cell_type": "code",
   "execution_count": 20,
   "metadata": {
    "scrolled": false
   },
   "outputs": [],
   "source": [
    "# Compute confusion matrix\n",
    "cnf_matrix = confusion_matrix(y_eval, model.predict(x_val).argmax(axis=-1))\n",
    "np.set_printoptions(precision=2)"
   ]
  },
  {
   "cell_type": "code",
   "execution_count": 21,
   "metadata": {
    "scrolled": false
   },
   "outputs": [
    {
     "name": "stdout",
     "output_type": "stream",
     "text": [
      "Confusion matrix, without normalization\n",
      "[[10  1]\n",
      " [ 4 20]]\n"
     ]
    },
    {
     "data": {
      "image/png": "[encoded data removed]",
      "text/plain": [
       "<matplotlib.figure.Figure at 0x22e8443c240>"
      ]
     },
     "metadata": {},
     "output_type": "display_data"
    }
   ],
   "source": [
    "# Plot non-normalized confusion matrix\n",
    "plt.figure(figsize=(16,8))\n",
    "plot_confusion_matrix(cnf_matrix, classes=['bad', 'good'],\n",
    "                      title='Confusion matrix, without normalization')"
   ]
  },
  {
   "cell_type": "code",
   "execution_count": 22,
   "metadata": {
    "scrolled": false
   },
   "outputs": [
    {
     "name": "stdout",
     "output_type": "stream",
     "text": [
      "Normalized confusion matrix\n",
      "[[ 0.91  0.09]\n",
      " [ 0.17  0.83]]\n"
     ]
    },
    {
     "data": {
      "image/png": "[encoded data removed]",
      "text/plain": [
       "<matplotlib.figure.Figure at 0x22e8443c860>"
      ]
     },
     "metadata": {},
     "output_type": "display_data"
    }
   ],
   "source": [
    "# Plot normalized confusion matrix\n",
    "plt.figure(figsize=(16,8))\n",
    "plot_confusion_matrix(cnf_matrix, classes=['bad', 'good'], normalize=True,\n",
    "                      title='Normalized confusion matrix')"
   ]
  },
  {
   "cell_type": "markdown",
   "metadata": {},
   "source": [
    "## Whats the best dimensionality reduction with single autoencoder?"
   ]
  },
  {
   "cell_type": "code",
   "execution_count": 23,
   "metadata": {
    "collapsed": true,
    "scrolled": false
   },
   "outputs": [],
   "source": [
    "# the initial coding dimension s.t. there is no dim reduction at the beginning\n",
    "encoding_dim = input_dim\n",
    "result = {'encoding_dim': [], 'auto_classifier_acc': []}"
   ]
  },
  {
   "cell_type": "code",
   "execution_count": 24,
   "metadata": {
    "scrolled": true
   },
   "outputs": [
    {
     "name": "stdout",
     "output_type": "stream",
     "text": [
      "35/35 [==============================] - 0s 100us/step\n",
      "{'encoding_dim': [33], 'auto_classifier_acc': [0.8571428571428571]}\n",
      "35/35 [==============================] - 0s 100us/step\n",
      "{'encoding_dim': [33, 32], 'auto_classifier_acc': [0.8571428571428571, 0.88571428571428568]}\n",
      "35/35 [==============================] - 0s 129us/step\n",
      "{'encoding_dim': [33, 32, 31], 'auto_classifier_acc': [0.8571428571428571, 0.88571428571428568, 0.94285714285714284]}\n",
      "35/35 [==============================] - 0s 115us/step\n",
      "{'encoding_dim': [33, 32, 31, 30], 'auto_classifier_acc': [0.8571428571428571, 0.88571428571428568, 0.94285714285714284, 0.88571428571428568]}\n",
      "35/35 [==============================] - 0s 143us/step\n",
      "{'encoding_dim': [33, 32, 31, 30, 29], 'auto_classifier_acc': [0.8571428571428571, 0.88571428571428568, 0.94285714285714284, 0.88571428571428568, 0.94285714285714284]}\n",
      "35/35 [==============================] - 0s 129us/step\n",
      "{'encoding_dim': [33, 32, 31, 30, 29, 28], 'auto_classifier_acc': [0.8571428571428571, 0.88571428571428568, 0.94285714285714284, 0.88571428571428568, 0.94285714285714284, 0.91428571428571426]}\n",
      "35/35 [==============================] - 0s 143us/step\n",
      "{'encoding_dim': [33, 32, 31, 30, 29, 28, 27], 'auto_classifier_acc': [0.8571428571428571, 0.88571428571428568, 0.94285714285714284, 0.88571428571428568, 0.94285714285714284, 0.91428571428571426, 0.91428571428571426]}\n",
      "35/35 [==============================] - 0s 129us/step\n",
      "{'encoding_dim': [33, 32, 31, 30, 29, 28, 27, 26], 'auto_classifier_acc': [0.8571428571428571, 0.88571428571428568, 0.94285714285714284, 0.88571428571428568, 0.94285714285714284, 0.91428571428571426, 0.91428571428571426, 0.91428571428571426]}\n",
      "35/35 [==============================] - 0s 143us/step\n",
      "{'encoding_dim': [33, 32, 31, 30, 29, 28, 27, 26, 25], 'auto_classifier_acc': [0.8571428571428571, 0.88571428571428568, 0.94285714285714284, 0.88571428571428568, 0.94285714285714284, 0.91428571428571426, 0.91428571428571426, 0.91428571428571426, 0.97142857142857142]}\n",
      "35/35 [==============================] - 0s 129us/step\n",
      "{'encoding_dim': [33, 32, 31, 30, 29, 28, 27, 26, 25, 24], 'auto_classifier_acc': [0.8571428571428571, 0.88571428571428568, 0.94285714285714284, 0.88571428571428568, 0.94285714285714284, 0.91428571428571426, 0.91428571428571426, 0.91428571428571426, 0.97142857142857142, 0.91428571428571426]}\n",
      "35/35 [==============================] - 0s 115us/step\n",
      "{'encoding_dim': [33, 32, 31, 30, 29, 28, 27, 26, 25, 24, 23], 'auto_classifier_acc': [0.8571428571428571, 0.88571428571428568, 0.94285714285714284, 0.88571428571428568, 0.94285714285714284, 0.91428571428571426, 0.91428571428571426, 0.91428571428571426, 0.97142857142857142, 0.91428571428571426, 0.88571428571428568]}\n",
      "35/35 [==============================] - 0s 115us/step\n",
      "{'encoding_dim': [33, 32, 31, 30, 29, 28, 27, 26, 25, 24, 23, 22], 'auto_classifier_acc': [0.8571428571428571, 0.88571428571428568, 0.94285714285714284, 0.88571428571428568, 0.94285714285714284, 0.91428571428571426, 0.91428571428571426, 0.91428571428571426, 0.97142857142857142, 0.91428571428571426, 0.88571428571428568, 0.90000000000000002]}\n",
      "35/35 [==============================] - 0s 100us/step\n",
      "{'encoding_dim': [33, 32, 31, 30, 29, 28, 27, 26, 25, 24, 23, 22, 21], 'auto_classifier_acc': [0.8571428571428571, 0.88571428571428568, 0.94285714285714284, 0.88571428571428568, 0.94285714285714284, 0.91428571428571426, 0.91428571428571426, 0.91428571428571426, 0.97142857142857142, 0.91428571428571426, 0.88571428571428568, 0.90000000000000002, 0.88571428571428568]}\n",
      "35/35 [==============================] - 0s 129us/step\n",
      "{'encoding_dim': [33, 32, 31, 30, 29, 28, 27, 26, 25, 24, 23, 22, 21, 20], 'auto_classifier_acc': [0.8571428571428571, 0.88571428571428568, 0.94285714285714284, 0.88571428571428568, 0.94285714285714284, 0.91428571428571426, 0.91428571428571426, 0.91428571428571426, 0.97142857142857142, 0.91428571428571426, 0.88571428571428568, 0.90000000000000002, 0.88571428571428568, 0.88571428571428568]}\n",
      "35/35 [==============================] - 0s 114us/step\n",
      "{'encoding_dim': [33, 32, 31, 30, 29, 28, 27, 26, 25, 24, 23, 22, 21, 20, 19], 'auto_classifier_acc': [0.8571428571428571, 0.88571428571428568, 0.94285714285714284, 0.88571428571428568, 0.94285714285714284, 0.91428571428571426, 0.91428571428571426, 0.91428571428571426, 0.97142857142857142, 0.91428571428571426, 0.88571428571428568, 0.90000000000000002, 0.88571428571428568, 0.88571428571428568, 0.8571428571428571]}\n",
      "35/35 [==============================] - 0s 100us/step\n",
      "{'encoding_dim': [33, 32, 31, 30, 29, 28, 27, 26, 25, 24, 23, 22, 21, 20, 19, 18], 'auto_classifier_acc': [0.8571428571428571, 0.88571428571428568, 0.94285714285714284, 0.88571428571428568, 0.94285714285714284, 0.91428571428571426, 0.91428571428571426, 0.91428571428571426, 0.97142857142857142, 0.91428571428571426, 0.88571428571428568, 0.90000000000000002, 0.88571428571428568, 0.88571428571428568, 0.8571428571428571, 0.91428571428571426]}\n",
      "35/35 [==============================] - 0s 329us/step\n",
      "{'encoding_dim': [33, 32, 31, 30, 29, 28, 27, 26, 25, 24, 23, 22, 21, 20, 19, 18, 17], 'auto_classifier_acc': [0.8571428571428571, 0.88571428571428568, 0.94285714285714284, 0.88571428571428568, 0.94285714285714284, 0.91428571428571426, 0.91428571428571426, 0.91428571428571426, 0.97142857142857142, 0.91428571428571426, 0.88571428571428568, 0.90000000000000002, 0.88571428571428568, 0.88571428571428568, 0.8571428571428571, 0.91428571428571426, 0.8571428571428571]}\n",
      "35/35 [==============================] - 0s 115us/step\n",
      "{'encoding_dim': [33, 32, 31, 30, 29, 28, 27, 26, 25, 24, 23, 22, 21, 20, 19, 18, 17, 16], 'auto_classifier_acc': [0.8571428571428571, 0.88571428571428568, 0.94285714285714284, 0.88571428571428568, 0.94285714285714284, 0.91428571428571426, 0.91428571428571426, 0.91428571428571426, 0.97142857142857142, 0.91428571428571426, 0.88571428571428568, 0.90000000000000002, 0.88571428571428568, 0.88571428571428568, 0.8571428571428571, 0.91428571428571426, 0.8571428571428571, 0.88571428571428568]}\n",
      "35/35 [==============================] - 0s 100us/step\n",
      "{'encoding_dim': [33, 32, 31, 30, 29, 28, 27, 26, 25, 24, 23, 22, 21, 20, 19, 18, 17, 16, 15], 'auto_classifier_acc': [0.8571428571428571, 0.88571428571428568, 0.94285714285714284, 0.88571428571428568, 0.94285714285714284, 0.91428571428571426, 0.91428571428571426, 0.91428571428571426, 0.97142857142857142, 0.91428571428571426, 0.88571428571428568, 0.90000000000000002, 0.88571428571428568, 0.88571428571428568, 0.8571428571428571, 0.91428571428571426, 0.8571428571428571, 0.88571428571428568, 0.94285714285714284]}\n",
      "35/35 [==============================] - 0s 114us/step\n",
      "{'encoding_dim': [33, 32, 31, 30, 29, 28, 27, 26, 25, 24, 23, 22, 21, 20, 19, 18, 17, 16, 15, 14], 'auto_classifier_acc': [0.8571428571428571, 0.88571428571428568, 0.94285714285714284, 0.88571428571428568, 0.94285714285714284, 0.91428571428571426, 0.91428571428571426, 0.91428571428571426, 0.97142857142857142, 0.91428571428571426, 0.88571428571428568, 0.90000000000000002, 0.88571428571428568, 0.88571428571428568, 0.8571428571428571, 0.91428571428571426, 0.8571428571428571, 0.88571428571428568, 0.94285714285714284, 0.94285714285714284]}\n",
      "35/35 [==============================] - 0s 115us/step\n",
      "{'encoding_dim': [33, 32, 31, 30, 29, 28, 27, 26, 25, 24, 23, 22, 21, 20, 19, 18, 17, 16, 15, 14, 13], 'auto_classifier_acc': [0.8571428571428571, 0.88571428571428568, 0.94285714285714284, 0.88571428571428568, 0.94285714285714284, 0.91428571428571426, 0.91428571428571426, 0.91428571428571426, 0.97142857142857142, 0.91428571428571426, 0.88571428571428568, 0.90000000000000002, 0.88571428571428568, 0.88571428571428568, 0.8571428571428571, 0.91428571428571426, 0.8571428571428571, 0.88571428571428568, 0.94285714285714284, 0.94285714285714284, 0.88571428571428568]}\n",
      "35/35 [==============================] - 0s 115us/step\n",
      "{'encoding_dim': [33, 32, 31, 30, 29, 28, 27, 26, 25, 24, 23, 22, 21, 20, 19, 18, 17, 16, 15, 14, 13, 12], 'auto_classifier_acc': [0.8571428571428571, 0.88571428571428568, 0.94285714285714284, 0.88571428571428568, 0.94285714285714284, 0.91428571428571426, 0.91428571428571426, 0.91428571428571426, 0.97142857142857142, 0.91428571428571426, 0.88571428571428568, 0.90000000000000002, 0.88571428571428568, 0.88571428571428568, 0.8571428571428571, 0.91428571428571426, 0.8571428571428571, 0.88571428571428568, 0.94285714285714284, 0.94285714285714284, 0.88571428571428568, 0.94285714285714284]}\n"
     ]
    },
    {
     "name": "stdout",
     "output_type": "stream",
     "text": [
      "35/35 [==============================] - 0s 115us/step\n",
      "{'encoding_dim': [33, 32, 31, 30, 29, 28, 27, 26, 25, 24, 23, 22, 21, 20, 19, 18, 17, 16, 15, 14, 13, 12, 11], 'auto_classifier_acc': [0.8571428571428571, 0.88571428571428568, 0.94285714285714284, 0.88571428571428568, 0.94285714285714284, 0.91428571428571426, 0.91428571428571426, 0.91428571428571426, 0.97142857142857142, 0.91428571428571426, 0.88571428571428568, 0.90000000000000002, 0.88571428571428568, 0.88571428571428568, 0.8571428571428571, 0.91428571428571426, 0.8571428571428571, 0.88571428571428568, 0.94285714285714284, 0.94285714285714284, 0.88571428571428568, 0.94285714285714284, 0.91428571428571426]}\n",
      "35/35 [==============================] - 0s 157us/step\n",
      "{'encoding_dim': [33, 32, 31, 30, 29, 28, 27, 26, 25, 24, 23, 22, 21, 20, 19, 18, 17, 16, 15, 14, 13, 12, 11, 10], 'auto_classifier_acc': [0.8571428571428571, 0.88571428571428568, 0.94285714285714284, 0.88571428571428568, 0.94285714285714284, 0.91428571428571426, 0.91428571428571426, 0.91428571428571426, 0.97142857142857142, 0.91428571428571426, 0.88571428571428568, 0.90000000000000002, 0.88571428571428568, 0.88571428571428568, 0.8571428571428571, 0.91428571428571426, 0.8571428571428571, 0.88571428571428568, 0.94285714285714284, 0.94285714285714284, 0.88571428571428568, 0.94285714285714284, 0.91428571428571426, 0.88571428571428568]}\n",
      "35/35 [==============================] - 0s 129us/step\n",
      "{'encoding_dim': [33, 32, 31, 30, 29, 28, 27, 26, 25, 24, 23, 22, 21, 20, 19, 18, 17, 16, 15, 14, 13, 12, 11, 10, 9], 'auto_classifier_acc': [0.8571428571428571, 0.88571428571428568, 0.94285714285714284, 0.88571428571428568, 0.94285714285714284, 0.91428571428571426, 0.91428571428571426, 0.91428571428571426, 0.97142857142857142, 0.91428571428571426, 0.88571428571428568, 0.90000000000000002, 0.88571428571428568, 0.88571428571428568, 0.8571428571428571, 0.91428571428571426, 0.8571428571428571, 0.88571428571428568, 0.94285714285714284, 0.94285714285714284, 0.88571428571428568, 0.94285714285714284, 0.91428571428571426, 0.88571428571428568, 0.91428571428571426]}\n",
      "35/35 [==============================] - 0s 129us/step\n",
      "{'encoding_dim': [33, 32, 31, 30, 29, 28, 27, 26, 25, 24, 23, 22, 21, 20, 19, 18, 17, 16, 15, 14, 13, 12, 11, 10, 9, 8], 'auto_classifier_acc': [0.8571428571428571, 0.88571428571428568, 0.94285714285714284, 0.88571428571428568, 0.94285714285714284, 0.91428571428571426, 0.91428571428571426, 0.91428571428571426, 0.97142857142857142, 0.91428571428571426, 0.88571428571428568, 0.90000000000000002, 0.88571428571428568, 0.88571428571428568, 0.8571428571428571, 0.91428571428571426, 0.8571428571428571, 0.88571428571428568, 0.94285714285714284, 0.94285714285714284, 0.88571428571428568, 0.94285714285714284, 0.91428571428571426, 0.88571428571428568, 0.91428571428571426, 0.87142857142857144]}\n",
      "35/35 [==============================] - 0s 115us/step\n",
      "{'encoding_dim': [33, 32, 31, 30, 29, 28, 27, 26, 25, 24, 23, 22, 21, 20, 19, 18, 17, 16, 15, 14, 13, 12, 11, 10, 9, 8, 7], 'auto_classifier_acc': [0.8571428571428571, 0.88571428571428568, 0.94285714285714284, 0.88571428571428568, 0.94285714285714284, 0.91428571428571426, 0.91428571428571426, 0.91428571428571426, 0.97142857142857142, 0.91428571428571426, 0.88571428571428568, 0.90000000000000002, 0.88571428571428568, 0.88571428571428568, 0.8571428571428571, 0.91428571428571426, 0.8571428571428571, 0.88571428571428568, 0.94285714285714284, 0.94285714285714284, 0.88571428571428568, 0.94285714285714284, 0.91428571428571426, 0.88571428571428568, 0.91428571428571426, 0.87142857142857144, 0.8571428571428571]}\n",
      "35/35 [==============================] - 0s 115us/step\n",
      "{'encoding_dim': [33, 32, 31, 30, 29, 28, 27, 26, 25, 24, 23, 22, 21, 20, 19, 18, 17, 16, 15, 14, 13, 12, 11, 10, 9, 8, 7, 6], 'auto_classifier_acc': [0.8571428571428571, 0.88571428571428568, 0.94285714285714284, 0.88571428571428568, 0.94285714285714284, 0.91428571428571426, 0.91428571428571426, 0.91428571428571426, 0.97142857142857142, 0.91428571428571426, 0.88571428571428568, 0.90000000000000002, 0.88571428571428568, 0.88571428571428568, 0.8571428571428571, 0.91428571428571426, 0.8571428571428571, 0.88571428571428568, 0.94285714285714284, 0.94285714285714284, 0.88571428571428568, 0.94285714285714284, 0.91428571428571426, 0.88571428571428568, 0.91428571428571426, 0.87142857142857144, 0.8571428571428571, 0.88571428571428568]}\n",
      "35/35 [==============================] - 0s 157us/step\n",
      "{'encoding_dim': [33, 32, 31, 30, 29, 28, 27, 26, 25, 24, 23, 22, 21, 20, 19, 18, 17, 16, 15, 14, 13, 12, 11, 10, 9, 8, 7, 6, 5], 'auto_classifier_acc': [0.8571428571428571, 0.88571428571428568, 0.94285714285714284, 0.88571428571428568, 0.94285714285714284, 0.91428571428571426, 0.91428571428571426, 0.91428571428571426, 0.97142857142857142, 0.91428571428571426, 0.88571428571428568, 0.90000000000000002, 0.88571428571428568, 0.88571428571428568, 0.8571428571428571, 0.91428571428571426, 0.8571428571428571, 0.88571428571428568, 0.94285714285714284, 0.94285714285714284, 0.88571428571428568, 0.94285714285714284, 0.91428571428571426, 0.88571428571428568, 0.91428571428571426, 0.87142857142857144, 0.8571428571428571, 0.88571428571428568, 0.8571428571428571]}\n",
      "35/35 [==============================] - 0s 100us/step\n",
      "{'encoding_dim': [33, 32, 31, 30, 29, 28, 27, 26, 25, 24, 23, 22, 21, 20, 19, 18, 17, 16, 15, 14, 13, 12, 11, 10, 9, 8, 7, 6, 5, 4], 'auto_classifier_acc': [0.8571428571428571, 0.88571428571428568, 0.94285714285714284, 0.88571428571428568, 0.94285714285714284, 0.91428571428571426, 0.91428571428571426, 0.91428571428571426, 0.97142857142857142, 0.91428571428571426, 0.88571428571428568, 0.90000000000000002, 0.88571428571428568, 0.88571428571428568, 0.8571428571428571, 0.91428571428571426, 0.8571428571428571, 0.88571428571428568, 0.94285714285714284, 0.94285714285714284, 0.88571428571428568, 0.94285714285714284, 0.91428571428571426, 0.88571428571428568, 0.91428571428571426, 0.87142857142857144, 0.8571428571428571, 0.88571428571428568, 0.8571428571428571, 0.82857142857142863]}\n",
      "35/35 [==============================] - 0s 129us/step\n",
      "{'encoding_dim': [33, 32, 31, 30, 29, 28, 27, 26, 25, 24, 23, 22, 21, 20, 19, 18, 17, 16, 15, 14, 13, 12, 11, 10, 9, 8, 7, 6, 5, 4, 3], 'auto_classifier_acc': [0.8571428571428571, 0.88571428571428568, 0.94285714285714284, 0.88571428571428568, 0.94285714285714284, 0.91428571428571426, 0.91428571428571426, 0.91428571428571426, 0.97142857142857142, 0.91428571428571426, 0.88571428571428568, 0.90000000000000002, 0.88571428571428568, 0.88571428571428568, 0.8571428571428571, 0.91428571428571426, 0.8571428571428571, 0.88571428571428568, 0.94285714285714284, 0.94285714285714284, 0.88571428571428568, 0.94285714285714284, 0.91428571428571426, 0.88571428571428568, 0.91428571428571426, 0.87142857142857144, 0.8571428571428571, 0.88571428571428568, 0.8571428571428571, 0.82857142857142863, 0.91428571428571426]}\n",
      "35/35 [==============================] - 0s 143us/step\n",
      "{'encoding_dim': [33, 32, 31, 30, 29, 28, 27, 26, 25, 24, 23, 22, 21, 20, 19, 18, 17, 16, 15, 14, 13, 12, 11, 10, 9, 8, 7, 6, 5, 4, 3, 2], 'auto_classifier_acc': [0.8571428571428571, 0.88571428571428568, 0.94285714285714284, 0.88571428571428568, 0.94285714285714284, 0.91428571428571426, 0.91428571428571426, 0.91428571428571426, 0.97142857142857142, 0.91428571428571426, 0.88571428571428568, 0.90000000000000002, 0.88571428571428568, 0.88571428571428568, 0.8571428571428571, 0.91428571428571426, 0.8571428571428571, 0.88571428571428568, 0.94285714285714284, 0.94285714285714284, 0.88571428571428568, 0.94285714285714284, 0.91428571428571426, 0.88571428571428568, 0.91428571428571426, 0.87142857142857144, 0.8571428571428571, 0.88571428571428568, 0.8571428571428571, 0.82857142857142863, 0.91428571428571426, 0.68571428571428572]}\n",
      "35/35 [==============================] - 0s 143us/step\n",
      "{'encoding_dim': [33, 32, 31, 30, 29, 28, 27, 26, 25, 24, 23, 22, 21, 20, 19, 18, 17, 16, 15, 14, 13, 12, 11, 10, 9, 8, 7, 6, 5, 4, 3, 2, 1], 'auto_classifier_acc': [0.8571428571428571, 0.88571428571428568, 0.94285714285714284, 0.88571428571428568, 0.94285714285714284, 0.91428571428571426, 0.91428571428571426, 0.91428571428571426, 0.97142857142857142, 0.91428571428571426, 0.88571428571428568, 0.90000000000000002, 0.88571428571428568, 0.88571428571428568, 0.8571428571428571, 0.91428571428571426, 0.8571428571428571, 0.88571428571428568, 0.94285714285714284, 0.94285714285714284, 0.88571428571428568, 0.94285714285714284, 0.91428571428571426, 0.88571428571428568, 0.91428571428571426, 0.87142857142857144, 0.8571428571428571, 0.88571428571428568, 0.8571428571428571, 0.82857142857142863, 0.91428571428571426, 0.68571428571428572, 0.88571428571428568]}\n"
     ]
    }
   ],
   "source": [
    "while encoding_dim > 0:\n",
    "    main_input = Input(shape=(input_dim,), dtype='float32', name='main_input')\n",
    "\n",
    "    encoding_layer = Dense(encoding_dim\n",
    "                           , activation='relu'\n",
    "                           , name='encoder'\n",
    "#                            , kernel_initializer='normal'\n",
    "                          )\n",
    "    encoding_layer_output = encoding_layer(main_input)\n",
    "    decoding_layer_output = Dense(input_dim, activation='sigmoid'\n",
    "                                  ,name='decoder_output'\n",
    "#                                   ,kernel_initializer='normal'\n",
    "                                 )(encoding_layer_output)\n",
    "\n",
    "    x = Dense(hidden1_dim\n",
    "              , activation='relu'\n",
    "#               , kernel_initializer=weights\n",
    "             )(encoding_layer_output)\n",
    "    x = Dropout(dropout)(x)\n",
    "    x = Dense(hidden2_dim\n",
    "              , activation='relu'\n",
    "#               , kernel_initializer=weights\n",
    "             )(x)\n",
    "    x = Dropout(dropout)(x)\n",
    "\n",
    "    classifier_output = Dense(num_classes\n",
    "                              , activation='sigmoid'\n",
    "                              , name='main_output'\n",
    "#                               , kernel_initializer=weights\n",
    "                             )(x)\n",
    "\n",
    "    auto_classifier = Model(inputs=main_input, outputs=[classifier_output, decoding_layer_output])\n",
    "\n",
    "    auto_classifier.compile(optimizer=RMSprop(),\n",
    "                            loss={'main_output': 'binary_crossentropy', 'decoder_output': 'mean_squared_error'},\n",
    "                            loss_weights={'main_output': .2, 'decoder_output': .8},\n",
    "                            metrics=['accuracy'])\n",
    "\n",
    "    auto_classifier.fit({'main_input': x_train},\n",
    "                        {'main_output': y_train, 'decoder_output': x_train},\n",
    "                        epochs=epochsize, \n",
    "                        batch_size=batchsize,\n",
    "                        shuffle=shuffle,\n",
    "                        validation_split=0.05,\n",
    "                        verbose=0)\n",
    "\n",
    "    accuracy = auto_classifier.evaluate(x=x_val, y=[y_val, x_val], verbose=1)[3]\n",
    "    result['encoding_dim'].append(encoding_dim)\n",
    "    result['auto_classifier_acc'].append(accuracy)\n",
    "    \n",
    "    encoding_dim -=1\n",
    "    print(result)"
   ]
  },
  {
   "cell_type": "code",
   "execution_count": 25,
   "metadata": {
    "scrolled": false
   },
   "outputs": [
    {
     "data": {
      "text/html": [
       "<div>\n",
       "<style>\n",
       "    .dataframe thead tr:only-child th {\n",
       "        text-align: right;\n",
       "    }\n",
       "\n",
       "    .dataframe thead th {\n",
       "        text-align: left;\n",
       "    }\n",
       "\n",
       "    .dataframe tbody tr th {\n",
       "        vertical-align: top;\n",
       "    }\n",
       "</style>\n",
       "<table border=\"1\" class=\"dataframe\">\n",
       "  <thead>\n",
       "    <tr style=\"text-align: right;\">\n",
       "      <th></th>\n",
       "      <th>auto_classifier_acc</th>\n",
       "      <th>encoding_dim</th>\n",
       "      <th>neural_net_acc</th>\n",
       "    </tr>\n",
       "  </thead>\n",
       "  <tbody>\n",
       "    <tr>\n",
       "      <th>0</th>\n",
       "      <td>0.857143</td>\n",
       "      <td>33</td>\n",
       "      <td>0.857143</td>\n",
       "    </tr>\n",
       "    <tr>\n",
       "      <th>1</th>\n",
       "      <td>0.885714</td>\n",
       "      <td>32</td>\n",
       "      <td>0.857143</td>\n",
       "    </tr>\n",
       "    <tr>\n",
       "      <th>2</th>\n",
       "      <td>0.942857</td>\n",
       "      <td>31</td>\n",
       "      <td>0.857143</td>\n",
       "    </tr>\n",
       "    <tr>\n",
       "      <th>3</th>\n",
       "      <td>0.885714</td>\n",
       "      <td>30</td>\n",
       "      <td>0.857143</td>\n",
       "    </tr>\n",
       "    <tr>\n",
       "      <th>4</th>\n",
       "      <td>0.942857</td>\n",
       "      <td>29</td>\n",
       "      <td>0.857143</td>\n",
       "    </tr>\n",
       "  </tbody>\n",
       "</table>\n",
       "</div>"
      ],
      "text/plain": [
       "   auto_classifier_acc  encoding_dim  neural_net_acc\n",
       "0             0.857143            33        0.857143\n",
       "1             0.885714            32        0.857143\n",
       "2             0.942857            31        0.857143\n",
       "3             0.885714            30        0.857143\n",
       "4             0.942857            29        0.857143"
      ]
     },
     "execution_count": 25,
     "metadata": {},
     "output_type": "execute_result"
    }
   ],
   "source": [
    "result_df = pd.DataFrame(result)\n",
    "result_df['neural_net_acc'] = nn_score\n",
    "result_df.head()"
   ]
  },
  {
   "cell_type": "code",
   "execution_count": 26,
   "metadata": {
    "scrolled": false
   },
   "outputs": [
    {
     "data": {
      "text/plain": [
       "(0.6, 1)"
      ]
     },
     "execution_count": 26,
     "metadata": {},
     "output_type": "execute_result"
    },
    {
     "data": {
      "image/png": "[encoded data removed]",
      "text/plain": [
       "<matplotlib.figure.Figure at 0x22e845bcac8>"
      ]
     },
     "metadata": {},
     "output_type": "display_data"
    }
   ],
   "source": [
    "fig = plt.figure(figsize=(20,10))\n",
    "plt.bar(result_df['encoding_dim'], result_df['auto_classifier_acc'])\n",
    "plt.axhline(y=result_df['neural_net_acc'][0], c=\"red\")\n",
    "plt.text(0, result_df['neural_net_acc'][0], \"best neural net: \" + str(round(result_df['neural_net_acc'][0], 4))\n",
    "         ,fontdict=font)\n",
    "plt.title('model accuracy for different encoding dimensions')\n",
    "plt.ylabel('accuracy')\n",
    "plt.xlabel('dimension')\n",
    "plt.ylim(0.6, 1)"
   ]
  },
  {
   "cell_type": "markdown",
   "metadata": {},
   "source": [
    "The result is implausible. This might be due to a very small number ob observations."
   ]
  }
 ],
 "metadata": {
  "kernelspec": {
   "display_name": "Python 3",
   "language": "python",
   "name": "python3"
  },
  "language_info": {
   "codemirror_mode": {
    "name": "ipython",
    "version": 3
   },
   "file_extension": ".py",
   "mimetype": "text/x-python",
   "name": "python",
   "nbconvert_exporter": "python",
   "pygments_lexer": "ipython3",
   "version": "3.6.1"
  }
 },
 "nbformat": 4,
 "nbformat_minor": 2
}
