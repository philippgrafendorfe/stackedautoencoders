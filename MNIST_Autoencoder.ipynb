{
 "cells": [
  {
   "cell_type": "markdown",
   "metadata": {},
   "source": [
    "# One layer autoencoder"
   ]
  },
  {
   "cell_type": "markdown",
   "metadata": {},
   "source": [
    "Using keras module with compression to 32 floats."
   ]
  },
  {
   "cell_type": "code",
   "execution_count": 1,
   "metadata": {
    "scrolled": false
   },
   "outputs": [
    {
     "name": "stderr",
     "output_type": "stream",
     "text": [
      "Using TensorFlow backend.\n"
     ]
    }
   ],
   "source": [
    "from keras.layers import Input, Dense\n",
    "from keras.models import Model\n",
    "\n",
    "# this is the size of our encoded representations\n",
    "encoding_dim = 32  # 32 floats -> compression of factor 24.5, assuming the input is 784 floats\n",
    "\n",
    "# this is our input placeholder\n",
    "input_img = Input(shape=(784,))\n",
    "# \"encoded\" is the encoded representation of the input, the dense function corresponds to our \"regular\" neural net, where every input\n",
    "# neuron is connected to every output neuron\n",
    "encoded = Dense(encoding_dim, activation='relu')(input_img)\n",
    "# \"decoded\" is the lossy reconstruction of the input\n",
    "decoded = Dense(784, activation='sigmoid')(encoded)\n",
    "\n",
    "# this model maps an input to its reconstruction\n",
    "autoencoder = Model(input_img, decoded)"
   ]
  },
  {
   "cell_type": "markdown",
   "metadata": {},
   "source": [
    "Encoder Model:"
   ]
  },
  {
   "cell_type": "code",
   "execution_count": 2,
   "metadata": {
    "collapsed": true,
    "scrolled": false
   },
   "outputs": [],
   "source": [
    "# this model maps an input to its encoded representation\n",
    "encoder = Model(input_img, encoded)"
   ]
  },
  {
   "cell_type": "markdown",
   "metadata": {},
   "source": [
    "Decoder Model:"
   ]
  },
  {
   "cell_type": "code",
   "execution_count": 3,
   "metadata": {
    "collapsed": true,
    "scrolled": false
   },
   "outputs": [],
   "source": [
    "# create a placeholder for an encoded (32-dimensional) input\n",
    "encoded_input = Input(shape=(encoding_dim,))\n",
    "# retrieve the last layer of the autoencoder model\n",
    "decoder_layer = autoencoder.layers[-1]\n",
    "# create the decoder model\n",
    "decoder = Model(encoded_input, decoder_layer(encoded_input))"
   ]
  },
  {
   "cell_type": "markdown",
   "metadata": {},
   "source": [
    "Now let's train our autoencoder to reconstruct MNIST digits.\n",
    "\n",
    "First, we'll configure our model to use a per-pixel binary crossentropy loss, and the Adadelta optimizer:"
   ]
  },
  {
   "cell_type": "markdown",
   "metadata": {},
   "source": [
    "Binary Cross Entropy = Binomial Cross Entropy = Special Case of Multinomial Cross Entropy "
   ]
  },
  {
   "cell_type": "markdown",
   "metadata": {},
   "source": [
    "The adadelta optimizer paper is stored in the docs folder of the repo."
   ]
  },
  {
   "cell_type": "markdown",
   "metadata": {},
   "source": [
    "![Cross Entropy](images\\2017-12-03 10_42_19-Machine Learning_ Should I use a categorical cross entropy or binary cross entro.png)"
   ]
  },
  {
   "cell_type": "code",
   "execution_count": 4,
   "metadata": {
    "collapsed": true,
    "scrolled": false
   },
   "outputs": [],
   "source": [
    "autoencoder.compile(optimizer='adadelta', loss='binary_crossentropy')"
   ]
  },
  {
   "cell_type": "markdown",
   "metadata": {},
   "source": [
    "Let's prepare our input data. We're using MNIST digits, and we're discarding the labels (since we're only interested in encoding/decoding the input images)."
   ]
  },
  {
   "cell_type": "markdown",
   "metadata": {},
   "source": [
    "We use a validation dataset to tune hyperparameters."
   ]
  },
  {
   "cell_type": "code",
   "execution_count": 5,
   "metadata": {
    "collapsed": true,
    "scrolled": false
   },
   "outputs": [],
   "source": [
    "from keras.datasets import mnist\n",
    "import numpy as np\n",
    "(x_train, _), (x_val, _) = mnist.load_data()"
   ]
  },
  {
   "cell_type": "markdown",
   "metadata": {},
   "source": [
    "Best practice is to keep some data for testing."
   ]
  },
  {
   "cell_type": "code",
   "execution_count": 6,
   "metadata": {
    "collapsed": true,
    "scrolled": true
   },
   "outputs": [],
   "source": [
    "# x_test = x_val[:2000]"
   ]
  },
  {
   "cell_type": "code",
   "execution_count": 7,
   "metadata": {
    "collapsed": true,
    "scrolled": false
   },
   "outputs": [],
   "source": [
    "# x_val = x_val[2000:10001]"
   ]
  },
  {
   "cell_type": "markdown",
   "metadata": {},
   "source": [
    "We will normalize all values between 0 and 1 and we will flatten the 28x28 images into vectors of size 784."
   ]
  },
  {
   "cell_type": "code",
   "execution_count": 8,
   "metadata": {
    "scrolled": false
   },
   "outputs": [
    {
     "name": "stdout",
     "output_type": "stream",
     "text": [
      "(60000, 784)\n",
      "(10000, 784)\n"
     ]
    }
   ],
   "source": [
    "x_train = x_train.astype('float32') / 255.\n",
    "x_val = x_val.astype('float32') / 255.\n",
    "# x_test = x_test.astype('float32') / 255\n",
    "x_train = x_train.reshape((len(x_train), np.prod(x_train.shape[1:])))\n",
    "x_val = x_val.reshape((len(x_val), np.prod(x_val.shape[1:])))\n",
    "# x_test = x_test.reshape((len(x_test), np.prod(x_test.shape[1:])))\n",
    "print(x_train.shape)\n",
    "print(x_val.shape)\n",
    "# print(x_test.shape)"
   ]
  },
  {
   "cell_type": "markdown",
   "metadata": {},
   "source": [
    "Now let's train our autoencoder for 50 epochs. open up tensor board with `tensorboard --logdir=/tmp/autoencoder` in command line."
   ]
  },
  {
   "cell_type": "code",
   "execution_count": 9,
   "metadata": {
    "scrolled": true
   },
   "outputs": [
    {
     "name": "stdout",
     "output_type": "stream",
     "text": [
      "Train on 60000 samples, validate on 10000 samples\n",
      "Epoch 1/50\n",
      "60000/60000 [==============================] - 4s 72us/step - loss: 0.3786 - val_loss: 0.2731\n",
      "Epoch 2/50\n",
      "60000/60000 [==============================] - 4s 70us/step - loss: 0.2663 - val_loss: 0.2563\n",
      "Epoch 3/50\n",
      "60000/60000 [==============================] - 4s 67us/step - loss: 0.2463 - val_loss: 0.2340\n",
      "Epoch 4/50\n",
      "60000/60000 [==============================] - 4s 71us/step - loss: 0.2259 - val_loss: 0.2155\n",
      "Epoch 5/50\n",
      "60000/60000 [==============================] - 4s 68us/step - loss: 0.2101 - val_loss: 0.2021\n",
      "Epoch 6/50\n",
      "60000/60000 [==============================] - 4s 71us/step - loss: 0.1985 - val_loss: 0.1920\n",
      "Epoch 7/50\n",
      "60000/60000 [==============================] - 5s 80us/step - loss: 0.1895 - val_loss: 0.1842\n",
      "Epoch 8/50\n",
      "60000/60000 [==============================] - 4s 74us/step - loss: 0.1823 - val_loss: 0.1776\n",
      "Epoch 9/50\n",
      "60000/60000 [==============================] - 5s 75us/step - loss: 0.1762 - val_loss: 0.1719\n",
      "Epoch 10/50\n",
      "60000/60000 [==============================] - 4s 68us/step - loss: 0.1708 - val_loss: 0.1669\n",
      "Epoch 11/50\n",
      "60000/60000 [==============================] - 4s 68us/step - loss: 0.1660 - val_loss: 0.1624\n",
      "Epoch 12/50\n",
      "60000/60000 [==============================] - 4s 69us/step - loss: 0.1617 - val_loss: 0.1582\n",
      "Epoch 13/50\n",
      "60000/60000 [==============================] - 4s 68us/step - loss: 0.1577 - val_loss: 0.1545\n",
      "Epoch 14/50\n",
      "60000/60000 [==============================] - 4s 67us/step - loss: 0.1541 - val_loss: 0.1510\n",
      "Epoch 15/50\n",
      "60000/60000 [==============================] - 4s 70us/step - loss: 0.1507 - val_loss: 0.1478\n",
      "Epoch 16/50\n",
      "60000/60000 [==============================] - 4s 67us/step - loss: 0.1476 - val_loss: 0.1447\n",
      "Epoch 17/50\n",
      "60000/60000 [==============================] - 4s 67us/step - loss: 0.1447 - val_loss: 0.1420\n",
      "Epoch 18/50\n",
      "60000/60000 [==============================] - 4s 66us/step - loss: 0.1420 - val_loss: 0.1393\n",
      "Epoch 19/50\n",
      "60000/60000 [==============================] - 4s 67us/step - loss: 0.1395 - val_loss: 0.1370\n",
      "Epoch 20/50\n",
      "60000/60000 [==============================] - 4s 67us/step - loss: 0.1372 - val_loss: 0.1347\n",
      "Epoch 21/50\n",
      "60000/60000 [==============================] - 4s 66us/step - loss: 0.1350 - val_loss: 0.1326\n",
      "Epoch 22/50\n",
      "60000/60000 [==============================] - 4s 66us/step - loss: 0.1329 - val_loss: 0.1306\n",
      "Epoch 23/50\n",
      "60000/60000 [==============================] - 4s 66us/step - loss: 0.1309 - val_loss: 0.1285\n",
      "Epoch 24/50\n",
      "60000/60000 [==============================] - 4s 67us/step - loss: 0.1290 - val_loss: 0.1267\n",
      "Epoch 25/50\n",
      "60000/60000 [==============================] - 4s 72us/step - loss: 0.1272 - val_loss: 0.1248\n",
      "Epoch 26/50\n",
      "60000/60000 [==============================] - 4s 70us/step - loss: 0.1254 - val_loss: 0.1231\n",
      "Epoch 27/50\n",
      "60000/60000 [==============================] - 4s 65us/step - loss: 0.1237 - val_loss: 0.1214\n",
      "Epoch 28/50\n",
      "60000/60000 [==============================] - 5s 81us/step - loss: 0.1221 - val_loss: 0.1198\n",
      "Epoch 29/50\n",
      "60000/60000 [==============================] - 4s 66us/step - loss: 0.1205 - val_loss: 0.1182\n",
      "Epoch 30/50\n",
      "60000/60000 [==============================] - 4s 67us/step - loss: 0.1190 - val_loss: 0.1168\n",
      "Epoch 31/50\n",
      "60000/60000 [==============================] - 4s 66us/step - loss: 0.1176 - val_loss: 0.1155\n",
      "Epoch 32/50\n",
      "60000/60000 [==============================] - 4s 66us/step - loss: 0.1163 - val_loss: 0.1142\n",
      "Epoch 33/50\n",
      "60000/60000 [==============================] - 4s 65us/step - loss: 0.1150 - val_loss: 0.1129\n",
      "Epoch 34/50\n",
      "60000/60000 [==============================] - 4s 65us/step - loss: 0.1139 - val_loss: 0.1118\n",
      "Epoch 35/50\n",
      "60000/60000 [==============================] - 4s 65us/step - loss: 0.1128 - val_loss: 0.1107\n",
      "Epoch 36/50\n",
      "60000/60000 [==============================] - 4s 65us/step - loss: 0.1118 - val_loss: 0.1097\n",
      "Epoch 37/50\n",
      "60000/60000 [==============================] - 4s 65us/step - loss: 0.1108 - val_loss: 0.1088\n",
      "Epoch 38/50\n",
      "60000/60000 [==============================] - 4s 66us/step - loss: 0.1099 - val_loss: 0.1080\n",
      "Epoch 39/50\n",
      "60000/60000 [==============================] - 4s 66us/step - loss: 0.1091 - val_loss: 0.1071\n",
      "Epoch 40/50\n",
      "60000/60000 [==============================] - 4s 65us/step - loss: 0.1083 - val_loss: 0.1064\n",
      "Epoch 41/50\n",
      "60000/60000 [==============================] - 4s 66us/step - loss: 0.1076 - val_loss: 0.1057\n",
      "Epoch 42/50\n",
      "60000/60000 [==============================] - 4s 66us/step - loss: 0.1069 - val_loss: 0.1050\n",
      "Epoch 43/50\n",
      "60000/60000 [==============================] - 4s 66us/step - loss: 0.1063 - val_loss: 0.1044\n",
      "Epoch 44/50\n",
      "60000/60000 [==============================] - 4s 66us/step - loss: 0.1057 - val_loss: 0.1038\n",
      "Epoch 45/50\n",
      "60000/60000 [==============================] - 4s 66us/step - loss: 0.1051 - val_loss: 0.1033\n",
      "Epoch 46/50\n",
      "60000/60000 [==============================] - 4s 66us/step - loss: 0.1046 - val_loss: 0.1028\n",
      "Epoch 47/50\n",
      "60000/60000 [==============================] - 4s 66us/step - loss: 0.1041 - val_loss: 0.1023\n",
      "Epoch 48/50\n",
      "60000/60000 [==============================] - 4s 66us/step - loss: 0.1037 - val_loss: 0.1019\n",
      "Epoch 49/50\n",
      "60000/60000 [==============================] - 4s 66us/step - loss: 0.1033 - val_loss: 0.1015\n",
      "Epoch 50/50\n",
      "60000/60000 [==============================] - 4s 66us/step - loss: 0.1029 - val_loss: 0.1011\n"
     ]
    },
    {
     "data": {
      "text/plain": [
       "<keras.callbacks.History at 0x1dbd5d81ef0>"
      ]
     },
     "execution_count": 9,
     "metadata": {},
     "output_type": "execute_result"
    }
   ],
   "source": [
    "from keras.callbacks import TensorBoard\n",
    "\n",
    "autoencoder.fit(x_train, x_train,\n",
    "                epochs=50,\n",
    "                batch_size=256,\n",
    "                shuffle=True,\n",
    "                validation_data=(x_val, x_val),\n",
    "                callbacks=[TensorBoard(log_dir='/tmp/autoencoder')])"
   ]
  },
  {
   "cell_type": "markdown",
   "metadata": {},
   "source": [
    "### batchsize"
   ]
  },
  {
   "cell_type": "markdown",
   "metadata": {},
   "source": [
    "Batch size defines number of samples that going to be propagated through the network.\n",
    "\n",
    "For instance, let's say you have 1050 training samples and you want to set up batch_size equal to 100. Algorithm takes first 100 samples (from 1st to 100th) from the training dataset and trains network. Next it takes second 100 samples (from 101st to 200th) and train network again. We can keep doing this procedure until we will propagate through the networks all samples. The problem usually happens with the last set of samples. In our example we've used 1050 which is not divisible by 100 without remainder. The simplest solution is just to get final 50 samples and train the network.\n",
    "\n",
    "Advantages:\n",
    "\n",
    "* It requires less memory. Since you train network using less number of samples the overall training procedure requires less memory. It's especially important in case if you are not able to fit dataset in memory.\n",
    "* Typically networks trains faster with mini-batches. That's because we update weights after each propagation. In our example we've propagated 11 batches (10 of them had 100 samples and 1 had 50 samples) and after each of them we've updated network's parameters. If we used all samples during propagation we would make only 1 update for the network's parameter.\n",
    "\n",
    "Disadvantages:\n",
    "\n",
    "* The smaller the batch the less accurate estimate of the gradient. In the figure below you can see that mini-batch (green color) gradient's direction fluctuates compare to the full batch (blue color)."
   ]
  },
  {
   "cell_type": "markdown",
   "metadata": {},
   "source": [
    "![https://stats.stackexchange.com/questions/153531/what-is-batch-size-in-neural-network](images\\lU3sx.png)"
   ]
  },
  {
   "cell_type": "markdown",
   "metadata": {},
   "source": [
    "After 50 epochs, the autoencoder seems to reach a stable train/test loss value of about 0.10. We can try to visualize the reconstructed inputs and the encoded representations. We will use Matplotlib."
   ]
  },
  {
   "cell_type": "code",
   "execution_count": 10,
   "metadata": {
    "collapsed": true,
    "scrolled": true
   },
   "outputs": [],
   "source": [
    "# encode and decode some digits\n",
    "# note that we take them from the *test* set\n",
    "encoded_imgs = encoder.predict(x_val)\n",
    "decoded_imgs = decoder.predict(encoded_imgs)"
   ]
  },
  {
   "cell_type": "code",
   "execution_count": 11,
   "metadata": {
    "scrolled": false
   },
   "outputs": [
    {
     "data": {
      "image/png": "[encoded data removed]",
      "text/plain": [
       "<matplotlib.figure.Figure at 0x1dbd8738b00>"
      ]
     },
     "metadata": {},
     "output_type": "display_data"
    }
   ],
   "source": [
    "# use Matplotlib (don't ask)\n",
    "import matplotlib.pyplot as plt\n",
    "\n",
    "n = 10  # how many digits we will display\n",
    "plt.figure(figsize=(20, 4))\n",
    "for i in range(n):\n",
    "    # display original\n",
    "    ax = plt.subplot(2, n, i + 1)\n",
    "    plt.imshow(x_val[i].reshape(28, 28))\n",
    "    plt.gray()\n",
    "    ax.get_xaxis().set_visible(False)\n",
    "    ax.get_yaxis().set_visible(False)\n",
    "    \n",
    "    # encoded respresentation\n",
    "#     ax = plt.subplot(2, n, i + 1 + n)\n",
    "#     plt.imshow(encoded_imgs[i].reshape(6, 6))\n",
    "#     plt.gray()\n",
    "#     ax.get_xaxis().set_visible(False)\n",
    "#     ax.get_yaxis().set_visible(False)\n",
    "\n",
    "    # display reconstruction\n",
    "    ax = plt.subplot(2, n, i + 1 + n)\n",
    "    plt.imshow(decoded_imgs[i].reshape(28, 28))\n",
    "    plt.gray()\n",
    "    ax.get_xaxis().set_visible(False)\n",
    "    ax.get_yaxis().set_visible(False)\n",
    "plt.show()"
   ]
  },
  {
   "cell_type": "code",
   "execution_count": 12,
   "metadata": {
    "scrolled": false
   },
   "outputs": [
    {
     "data": {
      "text/plain": [
       "array([  0.698888  ,   3.25230885,   6.86422396,   4.63279915,\n",
       "         7.78813744,   8.7075119 ,   0.82695365,   4.68716764,\n",
       "         5.22506905,   2.78032088,  15.13985062,   3.27541447,\n",
       "         3.03736138,   4.36152601,   2.39354134,   5.88554764,\n",
       "        10.81248474,  11.3058548 ,  13.16264343,   3.72177529,\n",
       "         4.88094759,   3.82862711,   9.59315014,   4.4199419 ,\n",
       "         4.74569845,   4.34726954,   6.88422298,   2.40307426,\n",
       "         7.83422613,   0.88472939,   4.40892124,   1.4649471 ], dtype=float32)"
      ]
     },
     "execution_count": 12,
     "metadata": {},
     "output_type": "execute_result"
    }
   ],
   "source": [
    "encoded_imgs[0]"
   ]
  },
  {
   "cell_type": "markdown",
   "metadata": {},
   "source": [
    "# Stacked Autoencoder"
   ]
  },
  {
   "cell_type": "code",
   "execution_count": 13,
   "metadata": {
    "collapsed": true,
    "scrolled": true
   },
   "outputs": [],
   "source": [
    "input_img = Input(shape=(784,))\n",
    "encoded = Dense(128, activation='relu')(input_img)\n",
    "encoded = Dense(64, activation='relu')(encoded)\n",
    "encoded = Dense(32, activation='relu')(encoded)\n",
    "\n",
    "decoded = Dense(64, activation='relu')(encoded)\n",
    "decoded = Dense(128, activation='relu')(decoded)\n",
    "decoded = Dense(784, activation='sigmoid')(decoded)"
   ]
  },
  {
   "cell_type": "code",
   "execution_count": 14,
   "metadata": {
    "scrolled": true
   },
   "outputs": [
    {
     "name": "stdout",
     "output_type": "stream",
     "text": [
      "Train on 60000 samples, validate on 10000 samples\n",
      "Epoch 1/100\n",
      "60000/60000 [==============================] - 7s 111us/step - loss: 0.3413 - val_loss: 0.2616\n",
      "Epoch 2/100\n",
      "60000/60000 [==============================] - 6s 106us/step - loss: 0.2543 - val_loss: 0.2443\n",
      "Epoch 3/100\n",
      "60000/60000 [==============================] - 7s 112us/step - loss: 0.2339 - val_loss: 0.2185\n",
      "Epoch 4/100\n",
      "60000/60000 [==============================] - 6s 104us/step - loss: 0.2119 - val_loss: 0.2060\n",
      "Epoch 5/100\n",
      "60000/60000 [==============================] - 6s 103us/step - loss: 0.2022 - val_loss: 0.1962\n",
      "Epoch 6/100\n",
      "60000/60000 [==============================] - 6s 99us/step - loss: 0.1923 - val_loss: 0.1854\n",
      "Epoch 7/100\n",
      "60000/60000 [==============================] - 6s 99us/step - loss: 0.1818 - val_loss: 0.1761\n",
      "Epoch 8/100\n",
      "60000/60000 [==============================] - 6s 98us/step - loss: 0.1747 - val_loss: 0.1723\n",
      "Epoch 9/100\n",
      "60000/60000 [==============================] - 6s 98us/step - loss: 0.1685 - val_loss: 0.1651\n",
      "Epoch 10/100\n",
      "60000/60000 [==============================] - 6s 98us/step - loss: 0.1636 - val_loss: 0.1609\n",
      "Epoch 11/100\n",
      "60000/60000 [==============================] - 6s 98us/step - loss: 0.1597 - val_loss: 0.1556\n",
      "Epoch 12/100\n",
      "60000/60000 [==============================] - 6s 99us/step - loss: 0.1561 - val_loss: 0.1529\n",
      "Epoch 13/100\n",
      "60000/60000 [==============================] - 6s 99us/step - loss: 0.1532 - val_loss: 0.1498\n",
      "Epoch 14/100\n",
      "60000/60000 [==============================] - 6s 101us/step - loss: 0.1505 - val_loss: 0.1483\n",
      "Epoch 15/100\n",
      "60000/60000 [==============================] - 6s 100us/step - loss: 0.1478 - val_loss: 0.1450\n",
      "Epoch 16/100\n",
      "60000/60000 [==============================] - 6s 99us/step - loss: 0.1455 - val_loss: 0.1433\n",
      "Epoch 17/100\n",
      "60000/60000 [==============================] - 6s 100us/step - loss: 0.1433 - val_loss: 0.1415\n",
      "Epoch 18/100\n",
      "60000/60000 [==============================] - 6s 99us/step - loss: 0.1414 - val_loss: 0.1385\n",
      "Epoch 19/100\n",
      "60000/60000 [==============================] - 6s 99us/step - loss: 0.1392 - val_loss: 0.1366\n",
      "Epoch 20/100\n",
      "60000/60000 [==============================] - 6s 99us/step - loss: 0.1375 - val_loss: 0.1358\n",
      "Epoch 21/100\n",
      "60000/60000 [==============================] - 6s 99us/step - loss: 0.1355 - val_loss: 0.1330\n",
      "Epoch 22/100\n",
      "60000/60000 [==============================] - 6s 99us/step - loss: 0.1339 - val_loss: 0.1329\n",
      "Epoch 23/100\n",
      "60000/60000 [==============================] - 7s 108us/step - loss: 0.1325 - val_loss: 0.1306\n",
      "Epoch 24/100\n",
      "60000/60000 [==============================] - 6s 100us/step - loss: 0.1313 - val_loss: 0.1300\n",
      "Epoch 25/100\n",
      "60000/60000 [==============================] - 6s 100us/step - loss: 0.1301 - val_loss: 0.1278\n",
      "Epoch 26/100\n",
      "60000/60000 [==============================] - 6s 100us/step - loss: 0.1292 - val_loss: 0.1267\n",
      "Epoch 27/100\n",
      "60000/60000 [==============================] - 6s 102us/step - loss: 0.1282 - val_loss: 0.1257\n",
      "Epoch 28/100\n",
      "60000/60000 [==============================] - 6s 100us/step - loss: 0.1271 - val_loss: 0.1265\n",
      "Epoch 29/100\n",
      "60000/60000 [==============================] - 6s 100us/step - loss: 0.1263 - val_loss: 0.1254\n",
      "Epoch 30/100\n",
      "60000/60000 [==============================] - 6s 100us/step - loss: 0.1255 - val_loss: 0.1234\n",
      "Epoch 31/100\n",
      "60000/60000 [==============================] - 6s 100us/step - loss: 0.1248 - val_loss: 0.1227\n",
      "Epoch 32/100\n",
      "60000/60000 [==============================] - 6s 100us/step - loss: 0.1240 - val_loss: 0.1224\n",
      "Epoch 33/100\n",
      "60000/60000 [==============================] - 6s 101us/step - loss: 0.1232 - val_loss: 0.1207\n",
      "Epoch 34/100\n",
      "60000/60000 [==============================] - 6s 100us/step - loss: 0.1225 - val_loss: 0.1202\n",
      "Epoch 35/100\n",
      "60000/60000 [==============================] - 6s 101us/step - loss: 0.1218 - val_loss: 0.1197\n",
      "Epoch 36/100\n",
      "60000/60000 [==============================] - 7s 109us/step - loss: 0.1213 - val_loss: 0.1195\n",
      "Epoch 37/100\n",
      "60000/60000 [==============================] - 7s 109us/step - loss: 0.1205 - val_loss: 0.1193\n",
      "Epoch 38/100\n",
      "60000/60000 [==============================] - 6s 100us/step - loss: 0.1199 - val_loss: 0.1182\n",
      "Epoch 39/100\n",
      "60000/60000 [==============================] - 6s 102us/step - loss: 0.1195 - val_loss: 0.1187\n",
      "Epoch 40/100\n",
      "60000/60000 [==============================] - 6s 100us/step - loss: 0.1190 - val_loss: 0.1179\n",
      "Epoch 41/100\n",
      "60000/60000 [==============================] - 6s 101us/step - loss: 0.1185 - val_loss: 0.1169\n",
      "Epoch 42/100\n",
      "60000/60000 [==============================] - 6s 103us/step - loss: 0.1181 - val_loss: 0.1158\n",
      "Epoch 43/100\n",
      "60000/60000 [==============================] - 6s 105us/step - loss: 0.1175 - val_loss: 0.1167\n",
      "Epoch 44/100\n",
      "60000/60000 [==============================] - 6s 101us/step - loss: 0.1172 - val_loss: 0.1158\n",
      "Epoch 45/100\n",
      "60000/60000 [==============================] - 6s 101us/step - loss: 0.1166 - val_loss: 0.1162\n",
      "Epoch 46/100\n",
      "60000/60000 [==============================] - 6s 101us/step - loss: 0.1162 - val_loss: 0.1147\n",
      "Epoch 47/100\n",
      "60000/60000 [==============================] - 6s 101us/step - loss: 0.1157 - val_loss: 0.1146\n",
      "Epoch 48/100\n",
      "60000/60000 [==============================] - 6s 100us/step - loss: 0.1154 - val_loss: 0.1134\n",
      "Epoch 49/100\n",
      "60000/60000 [==============================] - 6s 100us/step - loss: 0.1149 - val_loss: 0.1138\n",
      "Epoch 50/100\n",
      "60000/60000 [==============================] - 6s 101us/step - loss: 0.1146 - val_loss: 0.1132\n",
      "Epoch 51/100\n",
      "60000/60000 [==============================] - 6s 102us/step - loss: 0.1141 - val_loss: 0.1138\n",
      "Epoch 52/100\n",
      "60000/60000 [==============================] - 6s 102us/step - loss: 0.1137 - val_loss: 0.1127\n",
      "Epoch 53/100\n",
      "60000/60000 [==============================] - 6s 101us/step - loss: 0.1132 - val_loss: 0.1125\n",
      "Epoch 54/100\n",
      "60000/60000 [==============================] - 6s 101us/step - loss: 0.1129 - val_loss: 0.1119\n",
      "Epoch 55/100\n",
      "60000/60000 [==============================] - 6s 100us/step - loss: 0.1123 - val_loss: 0.1104\n",
      "Epoch 56/100\n",
      "60000/60000 [==============================] - 6s 99us/step - loss: 0.1120 - val_loss: 0.1111\n",
      "Epoch 57/100\n",
      "60000/60000 [==============================] - 6s 101us/step - loss: 0.1117 - val_loss: 0.1111\n",
      "Epoch 58/100\n",
      "60000/60000 [==============================] - 6s 99us/step - loss: 0.1110 - val_loss: 0.1103\n",
      "Epoch 59/100\n",
      "60000/60000 [==============================] - 6s 100us/step - loss: 0.1108 - val_loss: 0.1084\n",
      "Epoch 60/100\n",
      "60000/60000 [==============================] - 6s 100us/step - loss: 0.1102 - val_loss: 0.1083\n",
      "Epoch 61/100\n",
      "60000/60000 [==============================] - 6s 100us/step - loss: 0.1099 - val_loss: 0.1096\n",
      "Epoch 62/100\n",
      "60000/60000 [==============================] - 6s 103us/step - loss: 0.1094 - val_loss: 0.1084\n",
      "Epoch 63/100\n",
      "60000/60000 [==============================] - 6s 105us/step - loss: 0.1091 - val_loss: 0.1073\n",
      "Epoch 64/100\n",
      "60000/60000 [==============================] - 6s 101us/step - loss: 0.1085 - val_loss: 0.1070\n",
      "Epoch 65/100\n",
      "60000/60000 [==============================] - 6s 99us/step - loss: 0.1081 - val_loss: 0.1074\n",
      "Epoch 66/100\n",
      "60000/60000 [==============================] - 6s 99us/step - loss: 0.1078 - val_loss: 0.1075\n",
      "Epoch 67/100\n",
      "60000/60000 [==============================] - 6s 98us/step - loss: 0.1073 - val_loss: 0.1063\n",
      "Epoch 68/100\n",
      "60000/60000 [==============================] - 6s 99us/step - loss: 0.1070 - val_loss: 0.1059\n",
      "Epoch 69/100\n",
      "60000/60000 [==============================] - 6s 98us/step - loss: 0.1069 - val_loss: 0.1051\n",
      "Epoch 70/100\n",
      "60000/60000 [==============================] - 6s 99us/step - loss: 0.1064 - val_loss: 0.1055\n",
      "Epoch 71/100\n",
      "60000/60000 [==============================] - 6s 99us/step - loss: 0.1063 - val_loss: 0.1047\n",
      "Epoch 72/100\n",
      "60000/60000 [==============================] - 6s 99us/step - loss: 0.1060 - val_loss: 0.1048\n",
      "Epoch 73/100\n",
      "60000/60000 [==============================] - 6s 99us/step - loss: 0.1056 - val_loss: 0.1047\n",
      "Epoch 74/100\n",
      "60000/60000 [==============================] - 6s 100us/step - loss: 0.1054 - val_loss: 0.1032\n",
      "Epoch 75/100\n",
      "60000/60000 [==============================] - 6s 99us/step - loss: 0.1052 - val_loss: 0.1047\n",
      "Epoch 76/100\n"
     ]
    },
    {
     "name": "stdout",
     "output_type": "stream",
     "text": [
      "60000/60000 [==============================] - 6s 97us/step - loss: 0.1051 - val_loss: 0.1035\n",
      "Epoch 77/100\n",
      "60000/60000 [==============================] - 6s 98us/step - loss: 0.1048 - val_loss: 0.1039\n",
      "Epoch 78/100\n",
      "60000/60000 [==============================] - 6s 97us/step - loss: 0.1045 - val_loss: 0.1038\n",
      "Epoch 79/100\n",
      "60000/60000 [==============================] - 6s 98us/step - loss: 0.1043 - val_loss: 0.1040\n",
      "Epoch 80/100\n",
      "60000/60000 [==============================] - 6s 97us/step - loss: 0.1042 - val_loss: 0.1040\n",
      "Epoch 81/100\n",
      "60000/60000 [==============================] - 6s 98us/step - loss: 0.1040 - val_loss: 0.1036\n",
      "Epoch 82/100\n",
      "60000/60000 [==============================] - 6s 99us/step - loss: 0.1038 - val_loss: 0.1036\n",
      "Epoch 83/100\n",
      "60000/60000 [==============================] - 6s 104us/step - loss: 0.1035 - val_loss: 0.1023\n",
      "Epoch 84/100\n",
      "60000/60000 [==============================] - 6s 104us/step - loss: 0.1033 - val_loss: 0.1022\n",
      "Epoch 85/100\n",
      "60000/60000 [==============================] - 6s 106us/step - loss: 0.1031 - val_loss: 0.1026\n",
      "Epoch 86/100\n",
      "60000/60000 [==============================] - 6s 99us/step - loss: 0.1030 - val_loss: 0.1021\n",
      "Epoch 87/100\n",
      "60000/60000 [==============================] - 6s 99us/step - loss: 0.1028 - val_loss: 0.1023\n",
      "Epoch 88/100\n",
      "60000/60000 [==============================] - 6s 98us/step - loss: 0.1025 - val_loss: 0.1008\n",
      "Epoch 89/100\n",
      "60000/60000 [==============================] - 6s 98us/step - loss: 0.1024 - val_loss: 0.1008\n",
      "Epoch 90/100\n",
      "60000/60000 [==============================] - 6s 98us/step - loss: 0.1021 - val_loss: 0.1008\n",
      "Epoch 91/100\n",
      "60000/60000 [==============================] - 6s 98us/step - loss: 0.1020 - val_loss: 0.1006\n",
      "Epoch 92/100\n",
      "60000/60000 [==============================] - 6s 98us/step - loss: 0.1018 - val_loss: 0.1000\n",
      "Epoch 93/100\n",
      "60000/60000 [==============================] - 6s 98us/step - loss: 0.1017 - val_loss: 0.1005\n",
      "Epoch 94/100\n",
      "60000/60000 [==============================] - 6s 97us/step - loss: 0.1014 - val_loss: 0.1010\n",
      "Epoch 95/100\n",
      "60000/60000 [==============================] - 6s 98us/step - loss: 0.1014 - val_loss: 0.1000\n",
      "Epoch 96/100\n",
      "60000/60000 [==============================] - 6s 98us/step - loss: 0.1012 - val_loss: 0.1008\n",
      "Epoch 97/100\n",
      "60000/60000 [==============================] - 6s 97us/step - loss: 0.1010 - val_loss: 0.0998\n",
      "Epoch 98/100\n",
      "60000/60000 [==============================] - 6s 98us/step - loss: 0.1009 - val_loss: 0.0999\n",
      "Epoch 99/100\n",
      "60000/60000 [==============================] - 6s 98us/step - loss: 0.1006 - val_loss: 0.0997\n",
      "Epoch 100/100\n",
      "60000/60000 [==============================] - 6s 98us/step - loss: 0.1005 - val_loss: 0.0991\n"
     ]
    },
    {
     "data": {
      "text/plain": [
       "<keras.callbacks.History at 0x1dbde06aef0>"
      ]
     },
     "execution_count": 14,
     "metadata": {},
     "output_type": "execute_result"
    }
   ],
   "source": [
    "autoencoder = Model(input_img, decoded)\n",
    "autoencoder.compile(optimizer='adadelta', loss='binary_crossentropy')\n",
    "\n",
    "autoencoder.fit(x_train, x_train,\n",
    "                epochs=100,\n",
    "                batch_size=256,\n",
    "                shuffle=True,\n",
    "                validation_data=(x_val, x_val))"
   ]
  },
  {
   "cell_type": "code",
   "execution_count": 15,
   "metadata": {
    "collapsed": true,
    "scrolled": true
   },
   "outputs": [],
   "source": [
    "encoded_imgs = encoder.predict(x_val)\n",
    "decoded_imgs = decoder.predict(encoded_imgs)"
   ]
  },
  {
   "cell_type": "code",
   "execution_count": 18,
   "metadata": {
    "scrolled": true
   },
   "outputs": [
    {
     "data": {
      "image/png": "[encoded data removed]",
      "text/plain": [
       "<matplotlib.figure.Figure at 0x1dbd91c0cf8>"
      ]
     },
     "metadata": {},
     "output_type": "display_data"
    }
   ],
   "source": [
    "n = 10  # how many digits we will display\n",
    "plt.figure(figsize=(20, 4))\n",
    "for i in range(n):\n",
    "    # display original\n",
    "    ax = plt.subplot(2, n, i + 1)\n",
    "    plt.imshow(x_val[i].reshape(28, 28))\n",
    "    plt.gray()\n",
    "    ax.get_xaxis().set_visible(False)\n",
    "    ax.get_yaxis().set_visible(False)\n",
    "\n",
    "    # display reconstruction\n",
    "    ax = plt.subplot(2, n, i + 1 + n)\n",
    "    plt.imshow(decoded_imgs[i].reshape(28, 28))\n",
    "    plt.gray()\n",
    "    ax.get_xaxis().set_visible(False)\n",
    "    ax.get_yaxis().set_visible(False)\n",
    "plt.show()"
   ]
  },
  {
   "cell_type": "markdown",
   "metadata": {},
   "source": [
    "# Denoising Data"
   ]
  },
  {
   "cell_type": "code",
   "execution_count": null,
   "metadata": {
    "collapsed": true
   },
   "outputs": [],
   "source": [
    "(x_train, _), (x_val, _) = mnist.load_data()\n",
    "\n",
    "x_train = x_train.astype('float32') / 255.\n",
    "x_val = x_val.astype('float32') / 255.\n",
    "x_train = np.reshape(x_train, (len(x_train), 28, 28, 1))  # adapt this if using `channels_first` image data format\n",
    "x_val = np.reshape(x_val, (len(x_val), 28, 28, 1)) \n",
    "\n",
    "noise_factor = 0.5\n",
    "x_train_noisy = x_train + noise_factor * np.random.normal(loc=0.0, scale=1.0, size=x_train.shape) \n",
    "x_val_noisy = x_val + noise_factor * np.random.normal(loc=0.0, scale=1.0, size=x_val.shape) \n",
    "\n",
    "x_train_noisy = np.clip(x_train_noisy, 0., 1.)\n",
    "x_val_noisy = np.clip(x_val_noisy, 0., 1.)"
   ]
  },
  {
   "cell_type": "code",
   "execution_count": null,
   "metadata": {},
   "outputs": [],
   "source": [
    "n = 10\n",
    "plt.figure(figsize=(20, 2))\n",
    "for i in range(n):\n",
    "    ax = plt.subplot(1, n, i + 1)\n",
    "    plt.imshow(x_val_noisy[i].reshape(28, 28))\n",
    "    plt.gray()\n",
    "    ax.get_xaxis().set_visible(False)\n",
    "    ax.get_yaxis().set_visible(False)\n",
    "plt.show()"
   ]
  },
  {
   "cell_type": "markdown",
   "metadata": {},
   "source": [
    "Stick with the stack"
   ]
  },
  {
   "cell_type": "code",
   "execution_count": null,
   "metadata": {},
   "outputs": [],
   "source": [
    "from keras.callbacks import TensorBoard\n",
    "\n",
    "autoencoder = Model(input_img, decoded)\n",
    "autoencoder.compile(optimizer='adadelta', loss='binary_crossentropy')\n",
    "\n",
    "autoencoder.fit(x_train_noisy, x_train,\n",
    "                epochs=100,\n",
    "                batch_size=256,\n",
    "                shuffle=True,\n",
    "                validation_data=(x_val_noisy, x_val),\n",
    "                callbacks=[TensorBoard(log_dir='/tmp/autoencoder')])"
   ]
  }
 ],
 "metadata": {
  "kernelspec": {
   "display_name": "Python 3",
   "language": "python",
   "name": "python3"
  },
  "language_info": {
   "codemirror_mode": {
    "name": "ipython",
    "version": 3
   },
   "file_extension": ".py",
   "mimetype": "text/x-python",
   "name": "python",
   "nbconvert_exporter": "python",
   "pygments_lexer": "ipython3",
   "version": "3.6.1"
  }
 },
 "nbformat": 4,
 "nbformat_minor": 2
}
