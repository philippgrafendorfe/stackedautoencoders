{
 "cells": [
  {
   "cell_type": "markdown",
   "metadata": {},
   "source": [
    "## Modules"
   ]
  },
  {
   "cell_type": "code",
   "execution_count": 149,
   "metadata": {
    "scrolled": false
   },
   "outputs": [],
   "source": [
    "from keras.layers import Input, Dense, Dropout\n",
    "from keras.models import Model\n",
    "from keras.datasets import mnist\n",
    "from keras.models import Sequential, load_model\n",
    "from keras.optimizers import RMSprop\n",
    "from keras.callbacks import TensorBoard\n",
    "from __future__ import print_function\n",
    "\n",
    "import keras\n",
    "import matplotlib.pyplot as plt\n",
    "import numpy as np\n",
    "import math"
   ]
  },
  {
   "cell_type": "markdown",
   "metadata": {},
   "source": [
    "# Single layer autoencoder"
   ]
  },
  {
   "cell_type": "markdown",
   "metadata": {},
   "source": [
    "## Data import and preprocessing"
   ]
  },
  {
   "cell_type": "markdown",
   "metadata": {},
   "source": [
    "All data is normalized and serialized into a vector."
   ]
  },
  {
   "cell_type": "code",
   "execution_count": 150,
   "metadata": {
    "scrolled": false
   },
   "outputs": [
    {
     "name": "stdout",
     "output_type": "stream",
     "text": [
      "(60000, 784)\n",
      "(10000, 784)\n"
     ]
    }
   ],
   "source": [
    "(x_train, y_train), (x_val, y_val) = mnist.load_data()\n",
    "\n",
    "x_train = x_train.astype('float32') / 255.\n",
    "x_val = x_val.astype('float32') / 255.\n",
    "\n",
    "x_train = x_train.reshape((len(x_train), np.prod(x_train.shape[1:])))\n",
    "x_val = x_val.reshape((len(x_val), np.prod(x_val.shape[1:])))\n",
    "\n",
    "print(x_train.shape)\n",
    "print(x_val.shape)"
   ]
  },
  {
   "cell_type": "markdown",
   "metadata": {},
   "source": [
    "## Model Definitions"
   ]
  },
  {
   "cell_type": "markdown",
   "metadata": {},
   "source": [
    "Using keras module with compression to 32 floats."
   ]
  },
  {
   "cell_type": "code",
   "execution_count": 151,
   "metadata": {
    "collapsed": true,
    "scrolled": false
   },
   "outputs": [],
   "source": [
    "######## constants for autoencoder ############\n",
    "# this is the size of our encoded representations\n",
    "encoding_dim = 36\n",
    "input_dim = 784\n",
    "epochs = 50\n",
    "batch_size = 256"
   ]
  },
  {
   "cell_type": "code",
   "execution_count": 152,
   "metadata": {
    "collapsed": true,
    "scrolled": true
   },
   "outputs": [],
   "source": [
    "# input placeholder\n",
    "input_img = Input(shape=(input_dim,))\n",
    "encoded = Dense(encoding_dim, activation='relu')(input_img)\n",
    "decoded = Dense(input_dim, activation='sigmoid')(encoded)\n",
    "\n",
    "single_autoencoder = Model(input_img, decoded)"
   ]
  },
  {
   "cell_type": "markdown",
   "metadata": {},
   "source": [
    "Encoder Model:"
   ]
  },
  {
   "cell_type": "code",
   "execution_count": 153,
   "metadata": {
    "collapsed": true,
    "scrolled": true
   },
   "outputs": [],
   "source": [
    "# this model maps an input to its encoded representation\n",
    "single_encoder = Model(input_img, encoded)"
   ]
  },
  {
   "cell_type": "markdown",
   "metadata": {},
   "source": [
    "Decoder Model:"
   ]
  },
  {
   "cell_type": "code",
   "execution_count": 154,
   "metadata": {
    "collapsed": true,
    "scrolled": true
   },
   "outputs": [],
   "source": [
    "encoded_input = Input(shape=(encoding_dim,))\n",
    "# retrieve the last layer of the autoencoder model\n",
    "decoder_layer = single_autoencoder.layers[-1]\n",
    "# create the decoder model\n",
    "single_decoder = Model(encoded_input, decoder_layer(encoded_input))"
   ]
  },
  {
   "cell_type": "markdown",
   "metadata": {},
   "source": [
    "First, we'll configure our model to use a per-pixel binary crossentropy loss, and the Adadelta optimizer:"
   ]
  },
  {
   "cell_type": "markdown",
   "metadata": {},
   "source": [
    "Binary Cross Entropy = Binomial Cross Entropy = Special Case of Multinomial Cross Entropy "
   ]
  },
  {
   "cell_type": "code",
   "execution_count": 155,
   "metadata": {
    "collapsed": true,
    "scrolled": true
   },
   "outputs": [],
   "source": [
    "single_autoencoder.compile(optimizer='adadelta', loss='binary_crossentropy')"
   ]
  },
  {
   "cell_type": "code",
   "execution_count": 156,
   "metadata": {
    "scrolled": false
   },
   "outputs": [
    {
     "name": "stdout",
     "output_type": "stream",
     "text": [
      "_________________________________________________________________\n",
      "Layer (type)                 Output Shape              Param #   \n",
      "=================================================================\n",
      "input_17 (InputLayer)        (None, 784)               0         \n",
      "_________________________________________________________________\n",
      "dense_20 (Dense)             (None, 36)                28260     \n",
      "_________________________________________________________________\n",
      "dense_21 (Dense)             (None, 784)               29008     \n",
      "=================================================================\n",
      "Total params: 57,268\n",
      "Trainable params: 57,268\n",
      "Non-trainable params: 0\n",
      "_________________________________________________________________\n"
     ]
    }
   ],
   "source": [
    "single_autoencoder.summary()"
   ]
  },
  {
   "cell_type": "markdown",
   "metadata": {},
   "source": [
    "### Train or load single autoencoder model"
   ]
  },
  {
   "cell_type": "code",
   "execution_count": 157,
   "metadata": {
    "scrolled": true
   },
   "outputs": [
    {
     "name": "stdout",
     "output_type": "stream",
     "text": [
      "Train on 60000 samples, validate on 10000 samples\n",
      "Epoch 1/50\n",
      "60000/60000 [==============================] - 5s 77us/step - loss: 0.3715 - val_loss: 0.2733\n",
      "Epoch 2/50\n",
      "60000/60000 [==============================] - 5s 77us/step - loss: 0.2668 - val_loss: 0.2574\n",
      "Epoch 3/50\n",
      "60000/60000 [==============================] - 5s 76us/step - loss: 0.2476 - val_loss: 0.2356\n",
      "Epoch 4/50\n",
      "60000/60000 [==============================] - 4s 71us/step - loss: 0.2275 - val_loss: 0.2173\n",
      "Epoch 5/50\n",
      "60000/60000 [==============================] - 4s 72us/step - loss: 0.2118 - val_loss: 0.2037\n",
      "Epoch 6/50\n",
      "60000/60000 [==============================] - 4s 71us/step - loss: 0.1998 - val_loss: 0.1932\n",
      "Epoch 7/50\n",
      "60000/60000 [==============================] - 4s 71us/step - loss: 0.1906 - val_loss: 0.1851\n",
      "Epoch 8/50\n",
      "60000/60000 [==============================] - 4s 75us/step - loss: 0.1831 - val_loss: 0.1784\n",
      "Epoch 9/50\n",
      "60000/60000 [==============================] - 5s 82us/step - loss: 0.1769 - val_loss: 0.1725\n",
      "Epoch 10/50\n",
      "60000/60000 [==============================] - 5s 81us/step - loss: 0.1714 - val_loss: 0.1673\n",
      "Epoch 11/50\n",
      "60000/60000 [==============================] - 4s 72us/step - loss: 0.1665 - val_loss: 0.1627\n",
      "Epoch 12/50\n",
      "60000/60000 [==============================] - 5s 76us/step - loss: 0.1621 - val_loss: 0.1584\n",
      "Epoch 13/50\n",
      "60000/60000 [==============================] - 5s 81us/step - loss: 0.1580 - val_loss: 0.1547\n",
      "Epoch 14/50\n",
      "60000/60000 [==============================] - 5s 79us/step - loss: 0.1543 - val_loss: 0.1510\n",
      "Epoch 15/50\n",
      "60000/60000 [==============================] - 5s 79us/step - loss: 0.1509 - val_loss: 0.1477\n",
      "Epoch 16/50\n",
      "60000/60000 [==============================] - 5s 80us/step - loss: 0.1477 - val_loss: 0.1446\n",
      "Epoch 17/50\n",
      "60000/60000 [==============================] - 5s 78us/step - loss: 0.1448 - val_loss: 0.1418\n",
      "Epoch 18/50\n",
      "60000/60000 [==============================] - 5s 79us/step - loss: 0.1420 - val_loss: 0.1391\n",
      "Epoch 19/50\n",
      "60000/60000 [==============================] - 5s 79us/step - loss: 0.1394 - val_loss: 0.1365\n",
      "Epoch 20/50\n",
      "60000/60000 [==============================] - 5s 79us/step - loss: 0.1369 - val_loss: 0.1342\n",
      "Epoch 21/50\n",
      "60000/60000 [==============================] - 5s 80us/step - loss: 0.1346 - val_loss: 0.1319\n",
      "Epoch 22/50\n",
      "60000/60000 [==============================] - 5s 78us/step - loss: 0.1324 - val_loss: 0.1298\n",
      "Epoch 23/50\n",
      "60000/60000 [==============================] - 5s 79us/step - loss: 0.1304 - val_loss: 0.1279\n",
      "Epoch 24/50\n",
      "60000/60000 [==============================] - 5s 78us/step - loss: 0.1284 - val_loss: 0.1260\n",
      "Epoch 25/50\n",
      "60000/60000 [==============================] - 5s 80us/step - loss: 0.1266 - val_loss: 0.1241\n",
      "Epoch 26/50\n",
      "60000/60000 [==============================] - 5s 87us/step - loss: 0.1248 - val_loss: 0.1224\n",
      "Epoch 27/50\n",
      "60000/60000 [==============================] - 5s 79us/step - loss: 0.1231 - val_loss: 0.1207\n",
      "Epoch 28/50\n",
      "60000/60000 [==============================] - 5s 76us/step - loss: 0.1215 - val_loss: 0.1192\n",
      "Epoch 29/50\n",
      "60000/60000 [==============================] - 5s 78us/step - loss: 0.1200 - val_loss: 0.1178\n",
      "Epoch 30/50\n",
      "60000/60000 [==============================] - 5s 78us/step - loss: 0.1186 - val_loss: 0.1163\n",
      "Epoch 31/50\n",
      "60000/60000 [==============================] - 5s 77us/step - loss: 0.1172 - val_loss: 0.1150\n",
      "Epoch 32/50\n",
      "60000/60000 [==============================] - 5s 75us/step - loss: 0.1160 - val_loss: 0.1138\n",
      "Epoch 33/50\n",
      "60000/60000 [==============================] - 5s 77us/step - loss: 0.1148 - val_loss: 0.1126\n",
      "Epoch 34/50\n",
      "60000/60000 [==============================] - 5s 76us/step - loss: 0.1136 - val_loss: 0.1115\n",
      "Epoch 35/50\n",
      "60000/60000 [==============================] - 5s 78us/step - loss: 0.1125 - val_loss: 0.1104\n",
      "Epoch 36/50\n",
      "60000/60000 [==============================] - 4s 74us/step - loss: 0.1115 - val_loss: 0.1094\n",
      "Epoch 37/50\n",
      "60000/60000 [==============================] - 4s 75us/step - loss: 0.1105 - val_loss: 0.1085\n",
      "Epoch 38/50\n",
      "60000/60000 [==============================] - 4s 74us/step - loss: 0.1096 - val_loss: 0.1076\n",
      "Epoch 39/50\n",
      "60000/60000 [==============================] - 4s 75us/step - loss: 0.1088 - val_loss: 0.1068\n",
      "Epoch 40/50\n",
      "60000/60000 [==============================] - 4s 74us/step - loss: 0.1080 - val_loss: 0.1060\n",
      "Epoch 41/50\n",
      "60000/60000 [==============================] - 4s 73us/step - loss: 0.1072 - val_loss: 0.1052\n",
      "Epoch 42/50\n",
      "60000/60000 [==============================] - 4s 74us/step - loss: 0.1065 - val_loss: 0.1046\n",
      "Epoch 43/50\n",
      "60000/60000 [==============================] - 4s 74us/step - loss: 0.1058 - val_loss: 0.1039\n",
      "Epoch 44/50\n",
      "60000/60000 [==============================] - 5s 76us/step - loss: 0.1052 - val_loss: 0.1033\n",
      "Epoch 45/50\n",
      "60000/60000 [==============================] - 5s 75us/step - loss: 0.1046 - val_loss: 0.1027\n",
      "Epoch 46/50\n",
      "60000/60000 [==============================] - 5s 76us/step - loss: 0.1040 - val_loss: 0.1021\n",
      "Epoch 47/50\n",
      "60000/60000 [==============================] - 5s 79us/step - loss: 0.1035 - val_loss: 0.1016\n",
      "Epoch 48/50\n",
      "60000/60000 [==============================] - 4s 74us/step - loss: 0.1030 - val_loss: 0.1012\n",
      "Epoch 49/50\n",
      "60000/60000 [==============================] - 5s 78us/step - loss: 0.1025 - val_loss: 0.1007\n",
      "Epoch 50/50\n",
      "60000/60000 [==============================] - 5s 78us/step - loss: 0.1020 - val_loss: 0.1003\n"
     ]
    },
    {
     "data": {
      "text/plain": [
       "<keras.callbacks.History at 0x1c54586b4a8>"
      ]
     },
     "execution_count": 157,
     "metadata": {},
     "output_type": "execute_result"
    }
   ],
   "source": [
    "# single_autoencoder = keras.models.load_model('models/single_autoencoder.h5')\n",
    "single_autoencoder.fit(x_train, x_train,\n",
    "                epochs=epochs,\n",
    "                batch_size=batch_size,\n",
    "                shuffle=True,\n",
    "                validation_data=(x_val, x_val),\n",
    "                callbacks=[TensorBoard(log_dir='/tmp/autoencoder')])"
   ]
  },
  {
   "cell_type": "markdown",
   "metadata": {},
   "source": [
    "### Save Models"
   ]
  },
  {
   "cell_type": "code",
   "execution_count": 196,
   "metadata": {
    "collapsed": true,
    "scrolled": false
   },
   "outputs": [],
   "source": [
    "# single_autoencoder.save('models/single_autoencoder.h5')"
   ]
  },
  {
   "cell_type": "code",
   "execution_count": 160,
   "metadata": {
    "scrolled": false
   },
   "outputs": [
    {
     "name": "stdout",
     "output_type": "stream",
     "text": [
      "0.100285962236\n"
     ]
    }
   ],
   "source": [
    "score = single_autoencoder.evaluate(x_val, x_val, verbose=0)\n",
    "print(score)"
   ]
  },
  {
   "cell_type": "markdown",
   "metadata": {},
   "source": [
    "After 50 epochs, the autoencoder seems to reach a stable train/test loss value of about {{score}}. We can try to visualize the reconstructed inputs and the encoded representations. We will use Matplotlib."
   ]
  },
  {
   "cell_type": "code",
   "execution_count": 161,
   "metadata": {
    "scrolled": false
   },
   "outputs": [],
   "source": [
    "encoded_imgs = single_encoder.predict(x_val)\n",
    "# decoded_imgs = single_decoder.predict(encoded_imgs)\n",
    "decoded_imgs = single_autoencoder.predict(x_val)"
   ]
  },
  {
   "cell_type": "code",
   "execution_count": 162,
   "metadata": {
    "scrolled": true
   },
   "outputs": [
    {
     "data": {
      "image/png": "[encoded data removed]",
      "text/plain": [
       "<matplotlib.figure.Figure at 0x1c53909ccc0>"
      ]
     },
     "metadata": {},
     "output_type": "display_data"
    }
   ],
   "source": [
    "n = 10\n",
    "plt.figure(figsize=(20, 6))\n",
    "for i in range(n):\n",
    "    # display original\n",
    "    ax = plt.subplot(2, n, i + 1)\n",
    "    plt.imshow(x_val[i].reshape(28, 28))\n",
    "    plt.gray()\n",
    "    ax.get_xaxis().set_visible(False)\n",
    "    ax.get_yaxis().set_visible(False)\n",
    "    \n",
    "    # display reconstruction\n",
    "    ax = plt.subplot(2, n, i + 1 + n)\n",
    "    plt.imshow(decoded_imgs[i].reshape(28, 28))\n",
    "    plt.gray()\n",
    "    ax.get_xaxis().set_visible(False)\n",
    "    ax.get_yaxis().set_visible(False)\n",
    "plt.show()"
   ]
  },
  {
   "cell_type": "markdown",
   "metadata": {},
   "source": [
    "The following code only works if the encoder is compiled during this session"
   ]
  },
  {
   "cell_type": "code",
   "execution_count": 163,
   "metadata": {
    "scrolled": false
   },
   "outputs": [
    {
     "data": {
      "image/png": "[encoded data removed]",
      "text/plain": [
       "<matplotlib.figure.Figure at 0x1c53909c6a0>"
      ]
     },
     "metadata": {},
     "output_type": "display_data"
    }
   ],
   "source": [
    "n = 10\n",
    "plt.figure(figsize=(40, 10))\n",
    "for i in range(n):  \n",
    "    # display encoded\n",
    "    ax = plt.subplot(2, n, i + 1)\n",
    "    plt.imshow(encoded_imgs[i].reshape(6, 6))\n",
    "    plt.gray()\n",
    "    ax.get_xaxis().set_visible(False)\n",
    "    ax.get_yaxis().set_visible(False)\n",
    "\n",
    "plt.show()"
   ]
  },
  {
   "cell_type": "markdown",
   "metadata": {},
   "source": [
    "Some Neurons are always 0. Further investigation?"
   ]
  },
  {
   "cell_type": "markdown",
   "metadata": {},
   "source": [
    "# Stacked Autoencoder"
   ]
  },
  {
   "cell_type": "code",
   "execution_count": 164,
   "metadata": {
    "collapsed": true,
    "scrolled": false
   },
   "outputs": [],
   "source": [
    "######## constants for stacked autoencoder ############\n",
    "input_dim = 784\n",
    "encoding_dim1 = 128\n",
    "encoding_dim2 = 64\n",
    "encoding_dim3 = 32\n",
    "decoding_dim1 = 64\n",
    "decoding_dim2 = 128\n",
    "decoding_dim3 = input_dim\n",
    "epochs = 100\n",
    "batch_size = 256"
   ]
  },
  {
   "cell_type": "code",
   "execution_count": 165,
   "metadata": {
    "collapsed": true,
    "scrolled": false
   },
   "outputs": [],
   "source": [
    "input_img = Input(shape=(input_dim,))\n",
    "encoded = Dense(encoding_dim1, activation='relu')(input_img)\n",
    "encoded = Dense(encoding_dim2, activation='relu')(encoded)\n",
    "encoded = Dense(encoding_dim3, activation='relu')(encoded)\n",
    "\n",
    "decoded = Dense(decoding_dim1, activation='relu')(encoded)\n",
    "decoded = Dense(decoding_dim2, activation='relu')(decoded)\n",
    "decoded = Dense(decoding_dim3, activation='sigmoid')(decoded)"
   ]
  },
  {
   "cell_type": "code",
   "execution_count": 166,
   "metadata": {
    "scrolled": false
   },
   "outputs": [
    {
     "name": "stdout",
     "output_type": "stream",
     "text": [
      "_________________________________________________________________\n",
      "Layer (type)                 Output Shape              Param #   \n",
      "=================================================================\n",
      "input_19 (InputLayer)        (None, 784)               0         \n",
      "_________________________________________________________________\n",
      "dense_22 (Dense)             (None, 128)               100480    \n",
      "_________________________________________________________________\n",
      "dense_23 (Dense)             (None, 64)                8256      \n",
      "_________________________________________________________________\n",
      "dense_24 (Dense)             (None, 32)                2080      \n",
      "_________________________________________________________________\n",
      "dense_25 (Dense)             (None, 64)                2112      \n",
      "_________________________________________________________________\n",
      "dense_26 (Dense)             (None, 128)               8320      \n",
      "_________________________________________________________________\n",
      "dense_27 (Dense)             (None, 784)               101136    \n",
      "=================================================================\n",
      "Total params: 222,384\n",
      "Trainable params: 222,384\n",
      "Non-trainable params: 0\n",
      "_________________________________________________________________\n"
     ]
    }
   ],
   "source": [
    "stacked_autoencoder = Model(input_img, decoded)\n",
    "stacked_autoencoder.compile(optimizer='adadelta', loss='binary_crossentropy')\n",
    "stacked_autoencoder.summary()"
   ]
  },
  {
   "cell_type": "code",
   "execution_count": 167,
   "metadata": {
    "scrolled": true
   },
   "outputs": [
    {
     "name": "stdout",
     "output_type": "stream",
     "text": [
      "Train on 60000 samples, validate on 10000 samples\n",
      "Epoch 1/100\n",
      "60000/60000 [==============================] - 8s 133us/step - loss: 0.3401 - val_loss: 0.2632\n",
      "Epoch 2/100\n",
      "60000/60000 [==============================] - 6s 106us/step - loss: 0.2558 - val_loss: 0.2465\n",
      "Epoch 3/100\n",
      "60000/60000 [==============================] - 6s 106us/step - loss: 0.2358 - val_loss: 0.2247\n",
      "Epoch 4/100\n",
      "60000/60000 [==============================] - 6s 106us/step - loss: 0.2180 - val_loss: 0.2079\n",
      "Epoch 5/100\n",
      "60000/60000 [==============================] - 6s 106us/step - loss: 0.2037 - val_loss: 0.1957\n",
      "Epoch 6/100\n",
      "60000/60000 [==============================] - 6s 106us/step - loss: 0.1901 - val_loss: 0.1825\n",
      "Epoch 7/100\n",
      "60000/60000 [==============================] - 6s 108us/step - loss: 0.1803 - val_loss: 0.1748\n",
      "Epoch 8/100\n",
      "60000/60000 [==============================] - 6s 107us/step - loss: 0.1747 - val_loss: 0.1708\n",
      "Epoch 9/100\n",
      "60000/60000 [==============================] - 6s 106us/step - loss: 0.1695 - val_loss: 0.1647\n",
      "Epoch 10/100\n",
      "60000/60000 [==============================] - 6s 107us/step - loss: 0.1643 - val_loss: 0.1599\n",
      "Epoch 11/100\n",
      "60000/60000 [==============================] - 6s 106us/step - loss: 0.1598 - val_loss: 0.1557\n",
      "Epoch 12/100\n",
      "60000/60000 [==============================] - 6s 105us/step - loss: 0.1555 - val_loss: 0.1540\n",
      "Epoch 13/100\n",
      "60000/60000 [==============================] - 6s 104us/step - loss: 0.1521 - val_loss: 0.1492\n",
      "Epoch 14/100\n",
      "60000/60000 [==============================] - 6s 104us/step - loss: 0.1493 - val_loss: 0.1484\n",
      "Epoch 15/100\n",
      "60000/60000 [==============================] - 6s 105us/step - loss: 0.1466 - val_loss: 0.1436\n",
      "Epoch 16/100\n",
      "60000/60000 [==============================] - 6s 105us/step - loss: 0.1443 - val_loss: 0.1418\n",
      "Epoch 17/100\n",
      "60000/60000 [==============================] - 6s 104us/step - loss: 0.1425 - val_loss: 0.1406\n",
      "Epoch 18/100\n",
      "60000/60000 [==============================] - 6s 104us/step - loss: 0.1410 - val_loss: 0.1395\n",
      "Epoch 19/100\n",
      "60000/60000 [==============================] - 6s 106us/step - loss: 0.1396 - val_loss: 0.1376\n",
      "Epoch 20/100\n",
      "60000/60000 [==============================] - 7s 115us/step - loss: 0.1385 - val_loss: 0.1377\n",
      "Epoch 21/100\n",
      "60000/60000 [==============================] - 6s 105us/step - loss: 0.1372 - val_loss: 0.1352\n",
      "Epoch 22/100\n",
      "60000/60000 [==============================] - 6s 103us/step - loss: 0.1358 - val_loss: 0.1332\n",
      "Epoch 23/100\n",
      "60000/60000 [==============================] - 6s 103us/step - loss: 0.1348 - val_loss: 0.1331\n",
      "Epoch 24/100\n",
      "60000/60000 [==============================] - 6s 102us/step - loss: 0.1334 - val_loss: 0.1311\n",
      "Epoch 25/100\n",
      "60000/60000 [==============================] - 6s 102us/step - loss: 0.1323 - val_loss: 0.1306\n",
      "Epoch 26/100\n",
      "60000/60000 [==============================] - 6s 102us/step - loss: 0.1310 - val_loss: 0.1288\n",
      "Epoch 27/100\n",
      "60000/60000 [==============================] - 6s 102us/step - loss: 0.1298 - val_loss: 0.1280\n",
      "Epoch 28/100\n",
      "60000/60000 [==============================] - 6s 103us/step - loss: 0.1288 - val_loss: 0.1280\n",
      "Epoch 29/100\n",
      "60000/60000 [==============================] - 6s 103us/step - loss: 0.1279 - val_loss: 0.1263\n",
      "Epoch 30/100\n",
      "60000/60000 [==============================] - 6s 104us/step - loss: 0.1267 - val_loss: 0.1255\n",
      "Epoch 31/100\n",
      "60000/60000 [==============================] - 6s 101us/step - loss: 0.1258 - val_loss: 0.1240\n",
      "Epoch 32/100\n",
      "60000/60000 [==============================] - 6s 102us/step - loss: 0.1249 - val_loss: 0.1239\n",
      "Epoch 33/100\n",
      "60000/60000 [==============================] - 6s 103us/step - loss: 0.1240 - val_loss: 0.1220\n",
      "Epoch 34/100\n",
      "60000/60000 [==============================] - 6s 102us/step - loss: 0.1230 - val_loss: 0.1209\n",
      "Epoch 35/100\n",
      "60000/60000 [==============================] - 6s 102us/step - loss: 0.1224 - val_loss: 0.1206\n",
      "Epoch 36/100\n",
      "60000/60000 [==============================] - 6s 102us/step - loss: 0.1216 - val_loss: 0.1204\n",
      "Epoch 37/100\n",
      "60000/60000 [==============================] - 6s 107us/step - loss: 0.1210 - val_loss: 0.1197\n",
      "Epoch 38/100\n",
      "60000/60000 [==============================] - 6s 103us/step - loss: 0.1202 - val_loss: 0.1179\n",
      "Epoch 39/100\n",
      "60000/60000 [==============================] - 7s 112us/step - loss: 0.1195 - val_loss: 0.1179\n",
      "Epoch 40/100\n",
      "60000/60000 [==============================] - 6s 103us/step - loss: 0.1188 - val_loss: 0.1167\n",
      "Epoch 41/100\n",
      "60000/60000 [==============================] - 6s 101us/step - loss: 0.1182 - val_loss: 0.1164\n",
      "Epoch 42/100\n",
      "60000/60000 [==============================] - 6s 101us/step - loss: 0.1174 - val_loss: 0.1150\n",
      "Epoch 43/100\n",
      "60000/60000 [==============================] - 6s 101us/step - loss: 0.1165 - val_loss: 0.1152\n",
      "Epoch 44/100\n",
      "60000/60000 [==============================] - 6s 101us/step - loss: 0.1161 - val_loss: 0.1138\n",
      "Epoch 45/100\n",
      "60000/60000 [==============================] - 6s 103us/step - loss: 0.1153 - val_loss: 0.1126\n",
      "Epoch 46/100\n",
      "60000/60000 [==============================] - 6s 101us/step - loss: 0.1147 - val_loss: 0.1128\n",
      "Epoch 47/100\n",
      "60000/60000 [==============================] - 6s 101us/step - loss: 0.1142 - val_loss: 0.1125\n",
      "Epoch 48/100\n",
      "60000/60000 [==============================] - 6s 101us/step - loss: 0.1136 - val_loss: 0.1127\n",
      "Epoch 49/100\n",
      "60000/60000 [==============================] - 6s 102us/step - loss: 0.1133 - val_loss: 0.1113\n",
      "Epoch 50/100\n",
      "60000/60000 [==============================] - 6s 101us/step - loss: 0.1127 - val_loss: 0.1112\n",
      "Epoch 51/100\n",
      "60000/60000 [==============================] - 6s 101us/step - loss: 0.1123 - val_loss: 0.1103\n",
      "Epoch 52/100\n",
      "60000/60000 [==============================] - 6s 101us/step - loss: 0.1120 - val_loss: 0.1114\n",
      "Epoch 53/100\n",
      "60000/60000 [==============================] - 6s 102us/step - loss: 0.1116 - val_loss: 0.1107\n",
      "Epoch 54/100\n",
      "60000/60000 [==============================] - 6s 102us/step - loss: 0.1112 - val_loss: 0.1096\n",
      "Epoch 55/100\n",
      "60000/60000 [==============================] - 6s 103us/step - loss: 0.1108 - val_loss: 0.1084\n",
      "Epoch 56/100\n",
      "60000/60000 [==============================] - 6s 106us/step - loss: 0.1104 - val_loss: 0.1091\n",
      "Epoch 57/100\n",
      "60000/60000 [==============================] - 6s 103us/step - loss: 0.1100 - val_loss: 0.1091\n",
      "Epoch 58/100\n",
      "60000/60000 [==============================] - 6s 107us/step - loss: 0.1096 - val_loss: 0.1075\n",
      "Epoch 59/100\n",
      "60000/60000 [==============================] - 6s 106us/step - loss: 0.1093 - val_loss: 0.1084\n",
      "Epoch 60/100\n",
      "60000/60000 [==============================] - 6s 101us/step - loss: 0.1090 - val_loss: 0.1078\n",
      "Epoch 61/100\n",
      "60000/60000 [==============================] - 6s 101us/step - loss: 0.1086 - val_loss: 0.1069\n",
      "Epoch 62/100\n",
      "60000/60000 [==============================] - 6s 101us/step - loss: 0.1082 - val_loss: 0.1070\n",
      "Epoch 63/100\n",
      "60000/60000 [==============================] - 6s 101us/step - loss: 0.1079 - val_loss: 0.1062\n",
      "Epoch 64/100\n",
      "60000/60000 [==============================] - 6s 100us/step - loss: 0.1075 - val_loss: 0.1069\n",
      "Epoch 65/100\n",
      "60000/60000 [==============================] - 6s 100us/step - loss: 0.1072 - val_loss: 0.1061\n",
      "Epoch 66/100\n",
      "60000/60000 [==============================] - 6s 100us/step - loss: 0.1070 - val_loss: 0.1061\n",
      "Epoch 67/100\n",
      "60000/60000 [==============================] - 6s 99us/step - loss: 0.1066 - val_loss: 0.1050\n",
      "Epoch 68/100\n",
      "60000/60000 [==============================] - 6s 100us/step - loss: 0.1063 - val_loss: 0.1055\n",
      "Epoch 69/100\n",
      "60000/60000 [==============================] - 6s 101us/step - loss: 0.1061 - val_loss: 0.1045\n",
      "Epoch 70/100\n",
      "60000/60000 [==============================] - 6s 101us/step - loss: 0.1056 - val_loss: 0.1042\n",
      "Epoch 71/100\n",
      "60000/60000 [==============================] - 6s 100us/step - loss: 0.1056 - val_loss: 0.1043\n",
      "Epoch 72/100\n",
      "60000/60000 [==============================] - 6s 99us/step - loss: 0.1052 - val_loss: 0.1050\n",
      "Epoch 73/100\n",
      "60000/60000 [==============================] - 6s 100us/step - loss: 0.1050 - val_loss: 0.1032\n",
      "Epoch 74/100\n",
      "60000/60000 [==============================] - 6s 100us/step - loss: 0.1046 - val_loss: 0.1035\n",
      "Epoch 75/100\n",
      "60000/60000 [==============================] - 6s 99us/step - loss: 0.1044 - val_loss: 0.1029\n",
      "Epoch 76/100\n"
     ]
    },
    {
     "name": "stdout",
     "output_type": "stream",
     "text": [
      "60000/60000 [==============================] - 6s 103us/step - loss: 0.1043 - val_loss: 0.1031\n",
      "Epoch 77/100\n",
      "60000/60000 [==============================] - 6s 104us/step - loss: 0.1039 - val_loss: 0.1026\n",
      "Epoch 78/100\n",
      "60000/60000 [==============================] - 7s 110us/step - loss: 0.1036 - val_loss: 0.1025\n",
      "Epoch 79/100\n",
      "60000/60000 [==============================] - 7s 110us/step - loss: 0.1034 - val_loss: 0.1025\n",
      "Epoch 80/100\n",
      "60000/60000 [==============================] - 6s 103us/step - loss: 0.1031 - val_loss: 0.1013\n",
      "Epoch 81/100\n",
      "60000/60000 [==============================] - 6s 103us/step - loss: 0.1028 - val_loss: 0.1011\n",
      "Epoch 82/100\n",
      "60000/60000 [==============================] - 6s 103us/step - loss: 0.1028 - val_loss: 0.1022\n",
      "Epoch 83/100\n",
      "60000/60000 [==============================] - 6s 104us/step - loss: 0.1025 - val_loss: 0.1021\n",
      "Epoch 84/100\n",
      "60000/60000 [==============================] - 6s 103us/step - loss: 0.1022 - val_loss: 0.1010\n",
      "Epoch 85/100\n",
      "60000/60000 [==============================] - 6s 103us/step - loss: 0.1021 - val_loss: 0.1019\n",
      "Epoch 86/100\n",
      "60000/60000 [==============================] - 6s 103us/step - loss: 0.1018 - val_loss: 0.1009\n",
      "Epoch 87/100\n",
      "60000/60000 [==============================] - 6s 104us/step - loss: 0.1016 - val_loss: 0.1006\n",
      "Epoch 88/100\n",
      "60000/60000 [==============================] - 6s 104us/step - loss: 0.1013 - val_loss: 0.1004\n",
      "Epoch 89/100\n",
      "60000/60000 [==============================] - 6s 105us/step - loss: 0.1011 - val_loss: 0.1008\n",
      "Epoch 90/100\n",
      "60000/60000 [==============================] - 6s 104us/step - loss: 0.1008 - val_loss: 0.0995\n",
      "Epoch 91/100\n",
      "60000/60000 [==============================] - 6s 103us/step - loss: 0.1007 - val_loss: 0.0995\n",
      "Epoch 92/100\n",
      "60000/60000 [==============================] - 6s 102us/step - loss: 0.1005 - val_loss: 0.0988\n",
      "Epoch 93/100\n",
      "60000/60000 [==============================] - 6s 103us/step - loss: 0.1003 - val_loss: 0.1010\n",
      "Epoch 94/100\n",
      "60000/60000 [==============================] - 6s 104us/step - loss: 0.1001 - val_loss: 0.0989\n",
      "Epoch 95/100\n",
      "60000/60000 [==============================] - 6s 104us/step - loss: 0.1000 - val_loss: 0.0991\n",
      "Epoch 96/100\n",
      "60000/60000 [==============================] - 6s 103us/step - loss: 0.0998 - val_loss: 0.0993\n",
      "Epoch 97/100\n",
      "60000/60000 [==============================] - 7s 109us/step - loss: 0.0997 - val_loss: 0.0999\n",
      "Epoch 98/100\n",
      "60000/60000 [==============================] - 7s 108us/step - loss: 0.0994 - val_loss: 0.0987\n",
      "Epoch 99/100\n",
      "60000/60000 [==============================] - 6s 103us/step - loss: 0.0994 - val_loss: 0.0983\n",
      "Epoch 100/100\n",
      "60000/60000 [==============================] - 6s 102us/step - loss: 0.0991 - val_loss: 0.0978\n"
     ]
    },
    {
     "data": {
      "text/plain": [
       "<keras.callbacks.History at 0x1c54ca25fd0>"
      ]
     },
     "execution_count": 167,
     "metadata": {},
     "output_type": "execute_result"
    }
   ],
   "source": [
    "# stacked_autoencoder = keras.models.load_model('models/stacked_autoencoder.h5')\n",
    "stacked_autoencoder.fit(x_train, x_train,\n",
    "                epochs=epochs,\n",
    "                batch_size=batch_size,\n",
    "                shuffle=True,\n",
    "                validation_data=(x_val, x_val))"
   ]
  },
  {
   "cell_type": "markdown",
   "metadata": {},
   "source": [
    "Save the model"
   ]
  },
  {
   "cell_type": "code",
   "execution_count": 197,
   "metadata": {
    "collapsed": true,
    "scrolled": false
   },
   "outputs": [],
   "source": [
    "# stacked_autoencoder.save('models/stacked_autoencoder.h5')"
   ]
  },
  {
   "cell_type": "code",
   "execution_count": 169,
   "metadata": {
    "scrolled": false
   },
   "outputs": [
    {
     "name": "stdout",
     "output_type": "stream",
     "text": [
      "0.0978399471402\n"
     ]
    }
   ],
   "source": [
    "score = stacked_autoencoder.evaluate(x_val, x_val, verbose=0)\n",
    "print(score)"
   ]
  },
  {
   "cell_type": "code",
   "execution_count": 170,
   "metadata": {
    "collapsed": true,
    "scrolled": false
   },
   "outputs": [],
   "source": [
    "decoded_imgs = stacked_autoencoder.predict(x_val)"
   ]
  },
  {
   "cell_type": "code",
   "execution_count": 171,
   "metadata": {
    "scrolled": false
   },
   "outputs": [
    {
     "data": {
      "image/png": "[encoded data removed]",
      "text/plain": [
       "<matplotlib.figure.Figure at 0x1c54498f9e8>"
      ]
     },
     "metadata": {},
     "output_type": "display_data"
    }
   ],
   "source": [
    "n = 10  # how many digits we will display\n",
    "plt.figure(figsize=(20, 4))\n",
    "for i in range(n):\n",
    "    # display original\n",
    "    ax = plt.subplot(2, n, i + 1)\n",
    "    plt.imshow(x_val[i].reshape(28, 28))\n",
    "    plt.gray()\n",
    "    ax.get_xaxis().set_visible(False)\n",
    "    ax.get_yaxis().set_visible(False)\n",
    "\n",
    "    # display reconstruction\n",
    "    ax = plt.subplot(2, n, i + 1 + n)\n",
    "    plt.imshow(decoded_imgs[i].reshape(28, 28))\n",
    "    plt.gray()\n",
    "    ax.get_xaxis().set_visible(False)\n",
    "    ax.get_yaxis().set_visible(False)\n",
    "plt.show()"
   ]
  },
  {
   "cell_type": "markdown",
   "metadata": {},
   "source": [
    "# Denoising Data"
   ]
  },
  {
   "cell_type": "code",
   "execution_count": 172,
   "metadata": {
    "collapsed": true,
    "scrolled": false
   },
   "outputs": [],
   "source": [
    "noise_factor = 0.5"
   ]
  },
  {
   "cell_type": "code",
   "execution_count": 173,
   "metadata": {
    "collapsed": true,
    "scrolled": true
   },
   "outputs": [],
   "source": [
    "x_train_noisy = x_train + noise_factor * np.random.normal(loc=0.0, scale=1.0, size=x_train.shape) \n",
    "x_val_noisy = x_val + noise_factor * np.random.normal(loc=0.0, scale=1.0, size=x_val.shape) \n",
    "\n",
    "# re-normalization by clipping to the intervall (0,1)\n",
    "x_train_noisy = np.clip(x_train_noisy, 0., 1.)\n",
    "x_val_noisy = np.clip(x_val_noisy, 0., 1.)"
   ]
  },
  {
   "cell_type": "code",
   "execution_count": 174,
   "metadata": {
    "scrolled": true
   },
   "outputs": [
    {
     "data": {
      "image/png": "[encoded data removed]",
      "text/plain": [
       "<matplotlib.figure.Figure at 0x1c544f26da0>"
      ]
     },
     "metadata": {},
     "output_type": "display_data"
    }
   ],
   "source": [
    "n = 10\n",
    "plt.figure(figsize=(20, 2))\n",
    "for i in range(n):\n",
    "    ax = plt.subplot(1, n, i + 1)\n",
    "    plt.imshow(x_val_noisy[i].reshape(28, 28))\n",
    "    plt.gray()\n",
    "    ax.get_xaxis().set_visible(False)\n",
    "    ax.get_yaxis().set_visible(False)\n",
    "plt.show()"
   ]
  },
  {
   "cell_type": "markdown",
   "metadata": {},
   "source": [
    "Stick with the stack"
   ]
  },
  {
   "cell_type": "code",
   "execution_count": 175,
   "metadata": {
    "scrolled": true
   },
   "outputs": [
    {
     "name": "stdout",
     "output_type": "stream",
     "text": [
      "_________________________________________________________________\n",
      "Layer (type)                 Output Shape              Param #   \n",
      "=================================================================\n",
      "input_19 (InputLayer)        (None, 784)               0         \n",
      "_________________________________________________________________\n",
      "dense_22 (Dense)             (None, 128)               100480    \n",
      "_________________________________________________________________\n",
      "dense_23 (Dense)             (None, 64)                8256      \n",
      "_________________________________________________________________\n",
      "dense_24 (Dense)             (None, 32)                2080      \n",
      "_________________________________________________________________\n",
      "dense_25 (Dense)             (None, 64)                2112      \n",
      "_________________________________________________________________\n",
      "dense_26 (Dense)             (None, 128)               8320      \n",
      "_________________________________________________________________\n",
      "dense_27 (Dense)             (None, 784)               101136    \n",
      "=================================================================\n",
      "Total params: 222,384\n",
      "Trainable params: 222,384\n",
      "Non-trainable params: 0\n",
      "_________________________________________________________________\n"
     ]
    }
   ],
   "source": [
    "denoising_autoencoder = Model(input_img, decoded)\n",
    "denoising_autoencoder.compile(optimizer='adadelta', loss='binary_crossentropy')\n",
    "denoising_autoencoder.summary()"
   ]
  },
  {
   "cell_type": "markdown",
   "metadata": {},
   "source": [
    "### Train or load a stacked denoising autoencoder"
   ]
  },
  {
   "cell_type": "code",
   "execution_count": 176,
   "metadata": {
    "scrolled": true
   },
   "outputs": [
    {
     "name": "stdout",
     "output_type": "stream",
     "text": [
      "Train on 60000 samples, validate on 10000 samples\n",
      "Epoch 1/100\n",
      "60000/60000 [==============================] - 7s 117us/step - loss: 0.1428 - val_loss: 0.1360\n",
      "Epoch 2/100\n",
      "60000/60000 [==============================] - 7s 111us/step - loss: 0.1342 - val_loss: 0.1321\n",
      "Epoch 3/100\n",
      "60000/60000 [==============================] - 7s 111us/step - loss: 0.1313 - val_loss: 0.1299\n",
      "Epoch 4/100\n",
      "60000/60000 [==============================] - 7s 111us/step - loss: 0.1296 - val_loss: 0.1282\n",
      "Epoch 5/100\n",
      "60000/60000 [==============================] - 7s 111us/step - loss: 0.1284 - val_loss: 0.1274\n",
      "Epoch 6/100\n",
      "60000/60000 [==============================] - 7s 111us/step - loss: 0.1274 - val_loss: 0.1263\n",
      "Epoch 7/100\n",
      "60000/60000 [==============================] - 7s 110us/step - loss: 0.1267 - val_loss: 0.1279\n",
      "Epoch 8/100\n",
      "60000/60000 [==============================] - 7s 110us/step - loss: 0.1261 - val_loss: 0.1253\n",
      "Epoch 9/100\n",
      "60000/60000 [==============================] - 7s 110us/step - loss: 0.1256 - val_loss: 0.1259\n",
      "Epoch 10/100\n",
      "60000/60000 [==============================] - 7s 110us/step - loss: 0.1250 - val_loss: 0.1242\n",
      "Epoch 11/100\n",
      "60000/60000 [==============================] - 7s 110us/step - loss: 0.1247 - val_loss: 0.1263\n",
      "Epoch 12/100\n",
      "60000/60000 [==============================] - 7s 118us/step - loss: 0.1244 - val_loss: 0.1244\n",
      "Epoch 13/100\n",
      "60000/60000 [==============================] - 7s 115us/step - loss: 0.1239 - val_loss: 0.1234\n",
      "Epoch 14/100\n",
      "60000/60000 [==============================] - 7s 111us/step - loss: 0.1237 - val_loss: 0.1243\n",
      "Epoch 15/100\n",
      "60000/60000 [==============================] - 7s 111us/step - loss: 0.1234 - val_loss: 0.1238\n",
      "Epoch 16/100\n",
      "60000/60000 [==============================] - 7s 110us/step - loss: 0.1232 - val_loss: 0.1235\n",
      "Epoch 17/100\n",
      "60000/60000 [==============================] - 7s 110us/step - loss: 0.1228 - val_loss: 0.1247\n",
      "Epoch 18/100\n",
      "60000/60000 [==============================] - 7s 110us/step - loss: 0.1227 - val_loss: 0.1223\n",
      "Epoch 19/100\n",
      "60000/60000 [==============================] - 7s 110us/step - loss: 0.1224 - val_loss: 0.1231\n",
      "Epoch 20/100\n",
      "60000/60000 [==============================] - 7s 110us/step - loss: 0.1222 - val_loss: 0.1223\n",
      "Epoch 21/100\n",
      "60000/60000 [==============================] - 7s 112us/step - loss: 0.1221 - val_loss: 0.1223\n",
      "Epoch 22/100\n",
      "60000/60000 [==============================] - 7s 110us/step - loss: 0.1219 - val_loss: 0.1234\n",
      "Epoch 23/100\n",
      "60000/60000 [==============================] - 7s 110us/step - loss: 0.1217 - val_loss: 0.1219\n",
      "Epoch 24/100\n",
      "60000/60000 [==============================] - 7s 110us/step - loss: 0.1215 - val_loss: 0.1218\n",
      "Epoch 25/100\n",
      "60000/60000 [==============================] - 7s 110us/step - loss: 0.1215 - val_loss: 0.1220\n",
      "Epoch 26/100\n",
      "60000/60000 [==============================] - 7s 110us/step - loss: 0.1211 - val_loss: 0.1220\n",
      "Epoch 27/100\n",
      "60000/60000 [==============================] - 7s 110us/step - loss: 0.1211 - val_loss: 0.1221\n",
      "Epoch 28/100\n",
      "60000/60000 [==============================] - 7s 110us/step - loss: 0.1209 - val_loss: 0.1215\n",
      "Epoch 29/100\n",
      "60000/60000 [==============================] - 7s 110us/step - loss: 0.1207 - val_loss: 0.1223\n",
      "Epoch 30/100\n",
      "60000/60000 [==============================] - 7s 115us/step - loss: 0.1205 - val_loss: 0.1206\n",
      "Epoch 31/100\n",
      "60000/60000 [==============================] - 7s 115us/step - loss: 0.1205 - val_loss: 0.1201\n",
      "Epoch 32/100\n",
      "60000/60000 [==============================] - 7s 110us/step - loss: 0.1201 - val_loss: 0.1236\n",
      "Epoch 33/100\n",
      "60000/60000 [==============================] - 7s 109us/step - loss: 0.1202 - val_loss: 0.1217\n",
      "Epoch 34/100\n",
      "60000/60000 [==============================] - 7s 109us/step - loss: 0.1200 - val_loss: 0.1204\n",
      "Epoch 35/100\n",
      "60000/60000 [==============================] - 7s 109us/step - loss: 0.1198 - val_loss: 0.1199\n",
      "Epoch 36/100\n",
      "60000/60000 [==============================] - 7s 113us/step - loss: 0.1198 - val_loss: 0.1206\n",
      "Epoch 37/100\n",
      "60000/60000 [==============================] - 7s 109us/step - loss: 0.1197 - val_loss: 0.1204\n",
      "Epoch 38/100\n",
      "60000/60000 [==============================] - 7s 110us/step - loss: 0.1195 - val_loss: 0.1211\n",
      "Epoch 39/100\n",
      "60000/60000 [==============================] - 7s 109us/step - loss: 0.1195 - val_loss: 0.1198\n",
      "Epoch 40/100\n",
      "60000/60000 [==============================] - 7s 110us/step - loss: 0.1192 - val_loss: 0.1206\n",
      "Epoch 41/100\n",
      "60000/60000 [==============================] - 7s 110us/step - loss: 0.1191 - val_loss: 0.1199\n",
      "Epoch 42/100\n",
      "60000/60000 [==============================] - 7s 111us/step - loss: 0.1191 - val_loss: 0.1202\n",
      "Epoch 43/100\n",
      "60000/60000 [==============================] - 7s 109us/step - loss: 0.1189 - val_loss: 0.1205\n",
      "Epoch 44/100\n",
      "60000/60000 [==============================] - 7s 111us/step - loss: 0.1187 - val_loss: 0.1197\n",
      "Epoch 45/100\n",
      "60000/60000 [==============================] - 7s 111us/step - loss: 0.1188 - val_loss: 0.1218\n",
      "Epoch 46/100\n",
      "60000/60000 [==============================] - 7s 111us/step - loss: 0.1185 - val_loss: 0.1204\n",
      "Epoch 47/100\n",
      "60000/60000 [==============================] - 7s 110us/step - loss: 0.1183 - val_loss: 0.1196\n",
      "Epoch 48/100\n",
      "60000/60000 [==============================] - 7s 112us/step - loss: 0.1183 - val_loss: 0.1192\n",
      "Epoch 49/100\n",
      "60000/60000 [==============================] - 7s 113us/step - loss: 0.1182 - val_loss: 0.1208\n",
      "Epoch 50/100\n",
      "60000/60000 [==============================] - 7s 114us/step - loss: 0.1182 - val_loss: 0.1204\n",
      "Epoch 51/100\n",
      "60000/60000 [==============================] - 7s 115us/step - loss: 0.1181 - val_loss: 0.1192\n",
      "Epoch 52/100\n",
      "60000/60000 [==============================] - 7s 113us/step - loss: 0.1179 - val_loss: 0.1191\n",
      "Epoch 53/100\n",
      "60000/60000 [==============================] - 7s 112us/step - loss: 0.1179 - val_loss: 0.1191\n",
      "Epoch 54/100\n",
      "60000/60000 [==============================] - 7s 112us/step - loss: 0.1179 - val_loss: 0.1194\n",
      "Epoch 55/100\n",
      "60000/60000 [==============================] - 7s 111us/step - loss: 0.1176 - val_loss: 0.1200\n",
      "Epoch 56/100\n",
      "60000/60000 [==============================] - 7s 113us/step - loss: 0.1175 - val_loss: 0.1198\n",
      "Epoch 57/100\n",
      "60000/60000 [==============================] - 7s 110us/step - loss: 0.1174 - val_loss: 0.1194\n",
      "Epoch 58/100\n",
      "60000/60000 [==============================] - 7s 109us/step - loss: 0.1173 - val_loss: 0.1197\n",
      "Epoch 59/100\n",
      "60000/60000 [==============================] - 7s 109us/step - loss: 0.1173 - val_loss: 0.1184\n",
      "Epoch 60/100\n",
      "60000/60000 [==============================] - 7s 110us/step - loss: 0.1171 - val_loss: 0.1185\n",
      "Epoch 61/100\n",
      "60000/60000 [==============================] - 6s 108us/step - loss: 0.1171 - val_loss: 0.1191\n",
      "Epoch 62/100\n",
      "60000/60000 [==============================] - 7s 108us/step - loss: 0.1170 - val_loss: 0.1186\n",
      "Epoch 63/100\n",
      "60000/60000 [==============================] - 6s 108us/step - loss: 0.1169 - val_loss: 0.1181\n",
      "Epoch 64/100\n",
      "60000/60000 [==============================] - 7s 110us/step - loss: 0.1168 - val_loss: 0.1189\n",
      "Epoch 65/100\n",
      "60000/60000 [==============================] - 6s 108us/step - loss: 0.1165 - val_loss: 0.1195\n",
      "Epoch 66/100\n",
      "60000/60000 [==============================] - 7s 109us/step - loss: 0.1166 - val_loss: 0.1181\n",
      "Epoch 67/100\n",
      "60000/60000 [==============================] - 7s 117us/step - loss: 0.1165 - val_loss: 0.1181\n",
      "Epoch 68/100\n",
      "60000/60000 [==============================] - 6s 108us/step - loss: 0.1165 - val_loss: 0.1188\n",
      "Epoch 69/100\n",
      "60000/60000 [==============================] - 6s 108us/step - loss: 0.1165 - val_loss: 0.1184\n",
      "Epoch 70/100\n",
      "60000/60000 [==============================] - 6s 108us/step - loss: 0.1162 - val_loss: 0.1194\n",
      "Epoch 71/100\n",
      "60000/60000 [==============================] - 7s 109us/step - loss: 0.1162 - val_loss: 0.1174\n",
      "Epoch 72/100\n",
      "60000/60000 [==============================] - 6s 108us/step - loss: 0.1161 - val_loss: 0.1184\n",
      "Epoch 73/100\n",
      "60000/60000 [==============================] - 7s 108us/step - loss: 0.1161 - val_loss: 0.1181\n",
      "Epoch 74/100\n",
      "60000/60000 [==============================] - 7s 110us/step - loss: 0.1160 - val_loss: 0.1193\n",
      "Epoch 75/100\n",
      "60000/60000 [==============================] - 7s 108us/step - loss: 0.1159 - val_loss: 0.1180\n",
      "Epoch 76/100\n"
     ]
    },
    {
     "name": "stdout",
     "output_type": "stream",
     "text": [
      "60000/60000 [==============================] - 7s 111us/step - loss: 0.1158 - val_loss: 0.1174\n",
      "Epoch 77/100\n",
      "60000/60000 [==============================] - 7s 111us/step - loss: 0.1157 - val_loss: 0.1176\n",
      "Epoch 78/100\n",
      "60000/60000 [==============================] - 7s 111us/step - loss: 0.1158 - val_loss: 0.1173\n",
      "Epoch 79/100\n",
      "60000/60000 [==============================] - 7s 111us/step - loss: 0.1156 - val_loss: 0.1171\n",
      "Epoch 80/100\n",
      "60000/60000 [==============================] - 7s 111us/step - loss: 0.1156 - val_loss: 0.1174\n",
      "Epoch 81/100\n",
      "60000/60000 [==============================] - 7s 111us/step - loss: 0.1155 - val_loss: 0.1179\n",
      "Epoch 82/100\n",
      "60000/60000 [==============================] - 7s 111us/step - loss: 0.1155 - val_loss: 0.1173\n",
      "Epoch 83/100\n",
      "60000/60000 [==============================] - 7s 111us/step - loss: 0.1154 - val_loss: 0.1176\n",
      "Epoch 84/100\n",
      "60000/60000 [==============================] - 7s 111us/step - loss: 0.1153 - val_loss: 0.1169\n",
      "Epoch 85/100\n",
      "60000/60000 [==============================] - 7s 122us/step - loss: 0.1153 - val_loss: 0.1171\n",
      "Epoch 86/100\n",
      "60000/60000 [==============================] - 7s 112us/step - loss: 0.1151 - val_loss: 0.1173\n",
      "Epoch 87/100\n",
      "60000/60000 [==============================] - 7s 112us/step - loss: 0.1151 - val_loss: 0.1175\n",
      "Epoch 88/100\n",
      "60000/60000 [==============================] - 7s 115us/step - loss: 0.1150 - val_loss: 0.1190\n",
      "Epoch 89/100\n",
      "60000/60000 [==============================] - 7s 112us/step - loss: 0.1150 - val_loss: 0.1171\n",
      "Epoch 90/100\n",
      "60000/60000 [==============================] - 7s 112us/step - loss: 0.1149 - val_loss: 0.1172\n",
      "Epoch 91/100\n",
      "60000/60000 [==============================] - 7s 112us/step - loss: 0.1149 - val_loss: 0.1173\n",
      "Epoch 92/100\n",
      "60000/60000 [==============================] - 7s 112us/step - loss: 0.1149 - val_loss: 0.1173\n",
      "Epoch 93/100\n",
      "60000/60000 [==============================] - 7s 112us/step - loss: 0.1147 - val_loss: 0.1165\n",
      "Epoch 94/100\n",
      "60000/60000 [==============================] - 7s 112us/step - loss: 0.1147 - val_loss: 0.1173\n",
      "Epoch 95/100\n",
      "60000/60000 [==============================] - 7s 112us/step - loss: 0.1146 - val_loss: 0.1173\n",
      "Epoch 96/100\n",
      "60000/60000 [==============================] - 7s 113us/step - loss: 0.1145 - val_loss: 0.1167\n",
      "Epoch 97/100\n",
      "60000/60000 [==============================] - 7s 113us/step - loss: 0.1145 - val_loss: 0.1175\n",
      "Epoch 98/100\n",
      "60000/60000 [==============================] - 7s 111us/step - loss: 0.1144 - val_loss: 0.1166\n",
      "Epoch 99/100\n",
      "60000/60000 [==============================] - 7s 112us/step - loss: 0.1144 - val_loss: 0.1168\n",
      "Epoch 100/100\n",
      "60000/60000 [==============================] - 7s 111us/step - loss: 0.1143 - val_loss: 0.1166\n"
     ]
    },
    {
     "data": {
      "text/plain": [
       "<keras.callbacks.History at 0x1c50f1fb940>"
      ]
     },
     "execution_count": 176,
     "metadata": {},
     "output_type": "execute_result"
    }
   ],
   "source": [
    "# denoising_autoencoder = keras.models.load_model('models/denoising_autoencoder.h5')\n",
    "denoising_autoencoder.fit(x_train_noisy, x_train,\n",
    "                epochs=epochs,\n",
    "                batch_size=batch_size,\n",
    "                shuffle=True,\n",
    "                validation_data=(x_val_noisy, x_val),\n",
    "                callbacks=[TensorBoard(log_dir='/tmp/autoencoder')])"
   ]
  },
  {
   "cell_type": "markdown",
   "metadata": {},
   "source": [
    "Save trained model"
   ]
  },
  {
   "cell_type": "code",
   "execution_count": 198,
   "metadata": {
    "collapsed": true,
    "scrolled": false
   },
   "outputs": [],
   "source": [
    "# denoising_autoencoder.save('models/denoising_autoencoder.h5')"
   ]
  },
  {
   "cell_type": "code",
   "execution_count": 178,
   "metadata": {
    "collapsed": true,
    "scrolled": true
   },
   "outputs": [],
   "source": [
    "decoded_imgs = denoising_autoencoder.predict(x_val_noisy)"
   ]
  },
  {
   "cell_type": "code",
   "execution_count": 179,
   "metadata": {
    "scrolled": true
   },
   "outputs": [
    {
     "data": {
      "image/png": "[encoded data removed]",
      "text/plain": [
       "<matplotlib.figure.Figure at 0x1c543adf2b0>"
      ]
     },
     "metadata": {},
     "output_type": "display_data"
    }
   ],
   "source": [
    "n = 10  # how many digits we will display\n",
    "plt.figure(figsize=(20, 4))\n",
    "for i in range(n):\n",
    "    # display original\n",
    "    ax = plt.subplot(2, n, i + 1)\n",
    "    plt.imshow(x_val[i].reshape(28, 28))\n",
    "    plt.gray()\n",
    "    ax.get_xaxis().set_visible(False)\n",
    "    ax.get_yaxis().set_visible(False)\n",
    "\n",
    "    # display reconstruction\n",
    "    ax = plt.subplot(2, n, i + 1 + n)\n",
    "    plt.imshow(decoded_imgs[i].reshape(28, 28))\n",
    "    plt.gray()\n",
    "    ax.get_xaxis().set_visible(False)\n",
    "    ax.get_yaxis().set_visible(False)\n",
    "plt.show()"
   ]
  },
  {
   "cell_type": "markdown",
   "metadata": {},
   "source": [
    "# Train Neural Net to recognize MNIST digits"
   ]
  },
  {
   "cell_type": "code",
   "execution_count": 180,
   "metadata": {
    "collapsed": true,
    "scrolled": false
   },
   "outputs": [],
   "source": [
    "# constants\n",
    "batch_size = 128\n",
    "num_classes = 10\n",
    "epochs = 20\n",
    "hidden1_dim = 512\n",
    "hidden2_dim = 512"
   ]
  },
  {
   "cell_type": "markdown",
   "metadata": {},
   "source": [
    "## Preprocess input data"
   ]
  },
  {
   "cell_type": "code",
   "execution_count": 181,
   "metadata": {
    "scrolled": false
   },
   "outputs": [
    {
     "name": "stdout",
     "output_type": "stream",
     "text": [
      "[ 0.  0.  0.  0.  0.  1.  0.  0.  0.  0.]\n"
     ]
    }
   ],
   "source": [
    "y_train = keras.utils.to_categorical(y_train, num_classes)\n",
    "y_val = keras.utils.to_categorical(y_val, num_classes)\n",
    "print(y_train[0])"
   ]
  },
  {
   "cell_type": "code",
   "execution_count": 182,
   "metadata": {
    "collapsed": true,
    "scrolled": false
   },
   "outputs": [],
   "source": [
    "model = Sequential()\n",
    "model.add(Dense(hidden1_dim, activation='relu', input_shape=(input_dim,)))\n",
    "model.add(Dropout(0.2))\n",
    "model.add(Dense(hidden2_dim, activation='relu'))\n",
    "model.add(Dropout(0.2))\n",
    "model.add(Dense(num_classes, activation='softmax'))"
   ]
  },
  {
   "cell_type": "code",
   "execution_count": 183,
   "metadata": {
    "scrolled": false
   },
   "outputs": [
    {
     "name": "stdout",
     "output_type": "stream",
     "text": [
      "_________________________________________________________________\n",
      "Layer (type)                 Output Shape              Param #   \n",
      "=================================================================\n",
      "dense_28 (Dense)             (None, 512)               401920    \n",
      "_________________________________________________________________\n",
      "dropout_3 (Dropout)          (None, 512)               0         \n",
      "_________________________________________________________________\n",
      "dense_29 (Dense)             (None, 512)               262656    \n",
      "_________________________________________________________________\n",
      "dropout_4 (Dropout)          (None, 512)               0         \n",
      "_________________________________________________________________\n",
      "dense_30 (Dense)             (None, 10)                5130      \n",
      "=================================================================\n",
      "Total params: 669,706\n",
      "Trainable params: 669,706\n",
      "Non-trainable params: 0\n",
      "_________________________________________________________________\n"
     ]
    }
   ],
   "source": [
    "model.summary()"
   ]
  },
  {
   "cell_type": "code",
   "execution_count": 184,
   "metadata": {
    "collapsed": true,
    "scrolled": false
   },
   "outputs": [],
   "source": [
    "model.compile(loss='categorical_crossentropy',\n",
    "              optimizer=RMSprop(),\n",
    "              metrics=['accuracy'])"
   ]
  },
  {
   "cell_type": "markdown",
   "metadata": {},
   "source": [
    "### Train or load Model"
   ]
  },
  {
   "cell_type": "code",
   "execution_count": 185,
   "metadata": {
    "scrolled": false
   },
   "outputs": [
    {
     "name": "stdout",
     "output_type": "stream",
     "text": [
      "Train on 60000 samples, validate on 10000 samples\n",
      "Epoch 1/20\n",
      "60000/60000 [==============================] - 14s 242us/step - loss: 0.2484 - acc: 0.9235 - val_loss: 0.1100 - val_acc: 0.9666\n",
      "Epoch 2/20\n",
      "60000/60000 [==============================] - 13s 223us/step - loss: 0.1029 - acc: 0.9686 - val_loss: 0.0844 - val_acc: 0.9734\n",
      "Epoch 3/20\n",
      "60000/60000 [==============================] - 13s 221us/step - loss: 0.0765 - acc: 0.9774 - val_loss: 0.0737 - val_acc: 0.9800\n",
      "Epoch 4/20\n",
      "60000/60000 [==============================] - 13s 221us/step - loss: 0.0597 - acc: 0.9816 - val_loss: 0.0791 - val_acc: 0.9780\n",
      "Epoch 5/20\n",
      "60000/60000 [==============================] - 13s 221us/step - loss: 0.0517 - acc: 0.9849 - val_loss: 0.0796 - val_acc: 0.9779\n",
      "Epoch 6/20\n",
      "60000/60000 [==============================] - 13s 221us/step - loss: 0.0426 - acc: 0.9867 - val_loss: 0.0783 - val_acc: 0.9805\n",
      "Epoch 7/20\n",
      "60000/60000 [==============================] - 13s 222us/step - loss: 0.0368 - acc: 0.9891 - val_loss: 0.0887 - val_acc: 0.9784\n",
      "Epoch 8/20\n",
      "60000/60000 [==============================] - 13s 221us/step - loss: 0.0366 - acc: 0.9894 - val_loss: 0.0718 - val_acc: 0.9841\n",
      "Epoch 9/20\n",
      "60000/60000 [==============================] - 13s 222us/step - loss: 0.0327 - acc: 0.9903 - val_loss: 0.0757 - val_acc: 0.9828\n",
      "Epoch 10/20\n",
      "60000/60000 [==============================] - 14s 230us/step - loss: 0.0297 - acc: 0.9911 - val_loss: 0.0847 - val_acc: 0.9834\n",
      "Epoch 11/20\n",
      "60000/60000 [==============================] - 14s 226us/step - loss: 0.0269 - acc: 0.9924 - val_loss: 0.0866 - val_acc: 0.9845\n",
      "Epoch 12/20\n",
      "60000/60000 [==============================] - 13s 222us/step - loss: 0.0255 - acc: 0.9928 - val_loss: 0.1002 - val_acc: 0.9810\n",
      "Epoch 13/20\n",
      "60000/60000 [==============================] - 13s 222us/step - loss: 0.0244 - acc: 0.9933 - val_loss: 0.1041 - val_acc: 0.9820\n",
      "Epoch 14/20\n",
      "60000/60000 [==============================] - 13s 223us/step - loss: 0.0206 - acc: 0.9940 - val_loss: 0.0884 - val_acc: 0.9856\n",
      "Epoch 15/20\n",
      "60000/60000 [==============================] - 13s 223us/step - loss: 0.0236 - acc: 0.9938 - val_loss: 0.0974 - val_acc: 0.9836\n",
      "Epoch 16/20\n",
      "60000/60000 [==============================] - 13s 223us/step - loss: 0.0210 - acc: 0.9944 - val_loss: 0.1027 - val_acc: 0.9829\n",
      "Epoch 17/20\n",
      "60000/60000 [==============================] - 13s 223us/step - loss: 0.0200 - acc: 0.9949 - val_loss: 0.0988 - val_acc: 0.9839\n",
      "Epoch 18/20\n",
      "60000/60000 [==============================] - 13s 222us/step - loss: 0.0205 - acc: 0.9945 - val_loss: 0.0832 - val_acc: 0.9856\n",
      "Epoch 19/20\n",
      "60000/60000 [==============================] - 14s 232us/step - loss: 0.0190 - acc: 0.9950 - val_loss: 0.1089 - val_acc: 0.9839\n",
      "Epoch 20/20\n",
      "60000/60000 [==============================] - 13s 224us/step - loss: 0.0190 - acc: 0.9949 - val_loss: 0.1058 - val_acc: 0.9847\n"
     ]
    },
    {
     "data": {
      "text/plain": [
       "<keras.callbacks.History at 0x1c543b68630>"
      ]
     },
     "execution_count": 185,
     "metadata": {},
     "output_type": "execute_result"
    }
   ],
   "source": [
    "# model = keras.models.load_model('models/model.h5')\n",
    "model.fit(x_train, y_train, \n",
    "          batch_size=batch_size,\n",
    "          epochs=epochs,\n",
    "          verbose=1,\n",
    "          validation_data=(x_val, y_val))"
   ]
  },
  {
   "cell_type": "markdown",
   "metadata": {},
   "source": [
    "Save trained model"
   ]
  },
  {
   "cell_type": "code",
   "execution_count": 199,
   "metadata": {
    "collapsed": true
   },
   "outputs": [],
   "source": [
    "# model.save('models/model.h5')"
   ]
  },
  {
   "cell_type": "code",
   "execution_count": 188,
   "metadata": {
    "scrolled": false
   },
   "outputs": [
    {
     "name": "stdout",
     "output_type": "stream",
     "text": [
      "Test loss: 0.105847611373\n",
      "Test accuracy: 0.9847\n"
     ]
    }
   ],
   "source": [
    "score = model.evaluate(x_val, y_val, verbose=0)\n",
    "print('Test loss:', score[0])\n",
    "print('Test accuracy:', score[1])"
   ]
  },
  {
   "cell_type": "markdown",
   "metadata": {},
   "source": [
    "# Compare results"
   ]
  },
  {
   "cell_type": "markdown",
   "metadata": {},
   "source": [
    "## Classification of noisy data"
   ]
  },
  {
   "cell_type": "code",
   "execution_count": 192,
   "metadata": {},
   "outputs": [
    {
     "name": "stdout",
     "output_type": "stream",
     "text": [
      "Test loss: 9.14850905151\n",
      "Test accuracy: 0.3805\n"
     ]
    }
   ],
   "source": [
    "score = model.evaluate(x_val_noisy, y_val, verbose=0)\n",
    "print('Test loss:', score[0])\n",
    "print('Test accuracy:', score[1])"
   ]
  },
  {
   "cell_type": "markdown",
   "metadata": {},
   "source": [
    "## Classification of denoised data"
   ]
  },
  {
   "cell_type": "code",
   "execution_count": 194,
   "metadata": {},
   "outputs": [
    {
     "name": "stdout",
     "output_type": "stream",
     "text": [
      "Test loss: 0.386431885328\n",
      "Test accuracy: 0.9408\n"
     ]
    }
   ],
   "source": [
    "score = model.evaluate(decoded_imgs, y_val, verbose=0)\n",
    "print('Test loss:', score[0])\n",
    "print('Test accuracy:', score[1])"
   ]
  },
  {
   "cell_type": "markdown",
   "metadata": {},
   "source": [
    "# Additional Information and Footage"
   ]
  },
  {
   "cell_type": "markdown",
   "metadata": {},
   "source": [
    "## Cross Entropy"
   ]
  },
  {
   "cell_type": "markdown",
   "metadata": {},
   "source": [
    "![Cross Entropy](images\\2017-12-03 10_42_19-Machine Learning_ Should I use a categorical cross entropy or binary cross entro.png)"
   ]
  },
  {
   "cell_type": "markdown",
   "metadata": {},
   "source": [
    "## Batch Size"
   ]
  },
  {
   "cell_type": "markdown",
   "metadata": {},
   "source": [
    "Batch size defines number of samples that going to be propagated through the network.\n",
    "\n",
    "For instance, let's say you have 1050 training samples and you want to set up batch_size equal to 100. Algorithm takes first 100 samples (from 1st to 100th) from the training dataset and trains network. Next it takes second 100 samples (from 101st to 200th) and train network again. We can keep doing this procedure until we will propagate through the networks all samples. The problem usually happens with the last set of samples. In our example we've used 1050 which is not divisible by 100 without remainder. The simplest solution is just to get final 50 samples and train the network.\n",
    "\n",
    "Advantages:\n",
    "\n",
    "* It requires less memory. Since you train network using less number of samples the overall training procedure requires less memory. It's especially important in case if you are not able to fit dataset in memory.\n",
    "* Typically networks trains faster with mini-batches. That's because we update weights after each propagation. In our example we've propagated 11 batches (10 of them had 100 samples and 1 had 50 samples) and after each of them we've updated network's parameters. If we used all samples during propagation we would make only 1 update for the network's parameter.\n",
    "\n",
    "Disadvantages:\n",
    "\n",
    "* The smaller the batch the less accurate estimate of the gradient. In the figure below you can see that mini-batch (green color) gradient's direction fluctuates compare to the full batch (blue color)."
   ]
  },
  {
   "cell_type": "markdown",
   "metadata": {},
   "source": [
    "![https://stats.stackexchange.com/questions/153531/what-is-batch-size-in-neural-network](images\\lU3sx.png)"
   ]
  }
 ],
 "metadata": {
  "kernelspec": {
   "display_name": "Python 3",
   "language": "python",
   "name": "python3"
  },
  "language_info": {
   "codemirror_mode": {
    "name": "ipython",
    "version": 3
   },
   "file_extension": ".py",
   "mimetype": "text/x-python",
   "name": "python",
   "nbconvert_exporter": "python",
   "pygments_lexer": "ipython3",
   "version": "3.6.1"
  }
 },
 "nbformat": 4,
 "nbformat_minor": 2
}
