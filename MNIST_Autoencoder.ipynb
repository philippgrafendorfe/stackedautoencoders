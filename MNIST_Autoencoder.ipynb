{
 "cells": [
  {
   "cell_type": "markdown",
   "metadata": {},
   "source": [
    "## Modules"
   ]
  },
  {
   "cell_type": "code",
   "execution_count": 2,
   "metadata": {
    "scrolled": true
   },
   "outputs": [
    {
     "name": "stderr",
     "output_type": "stream",
     "text": [
      "Using TensorFlow backend.\n"
     ]
    }
   ],
   "source": [
    "from keras.layers import Input, Dense, Dropout\n",
    "from keras.models import Model\n",
    "from keras.datasets import mnist\n",
    "from keras.models import Sequential, load_model\n",
    "from keras.optimizers import RMSprop\n",
    "from keras.callbacks import TensorBoard\n",
    "from __future__ import print_function\n",
    "from keras.utils import plot_model\n",
    "from IPython.display import SVG\n",
    "from keras.utils.vis_utils import model_to_dot\n",
    "from keras import regularizers\n",
    "\n",
    "import keras\n",
    "import matplotlib.pyplot as plt\n",
    "import numpy as np\n",
    "import math\n",
    "import pydot\n",
    "import graphviz"
   ]
  },
  {
   "cell_type": "markdown",
   "metadata": {},
   "source": [
    "## Global Variables"
   ]
  },
  {
   "cell_type": "markdown",
   "metadata": {},
   "source": [
    "The number of classes, the input dimension and the batch size are constant."
   ]
  },
  {
   "cell_type": "code",
   "execution_count": 10,
   "metadata": {
    "collapsed": true,
    "scrolled": true
   },
   "outputs": [],
   "source": [
    "num_classes = 10\n",
    "input_dim = 784\n",
    "batch_size = 256"
   ]
  },
  {
   "cell_type": "markdown",
   "metadata": {},
   "source": [
    "## Data import and preprocessing"
   ]
  },
  {
   "cell_type": "markdown",
   "metadata": {},
   "source": [
    "All data is normalized and serialized into a vector."
   ]
  },
  {
   "cell_type": "code",
   "execution_count": 8,
   "metadata": {},
   "outputs": [
    {
     "data": {
      "text/plain": [
       "array([5, 0, 4, ..., 5, 6, 8], dtype=uint8)"
      ]
     },
     "execution_count": 8,
     "metadata": {},
     "output_type": "execute_result"
    }
   ],
   "source": [
    "(x_train, y_train), (x_val, y_val) = mnist.load_data()\n",
    "y_train"
   ]
  },
  {
   "cell_type": "code",
   "execution_count": 1,
   "metadata": {
    "scrolled": true
   },
   "outputs": [
    {
     "ename": "NameError",
     "evalue": "name 'mnist' is not defined",
     "output_type": "error",
     "traceback": [
      "\u001b[1;31m---------------------------------------------------------------------------\u001b[0m",
      "\u001b[1;31mNameError\u001b[0m                                 Traceback (most recent call last)",
      "\u001b[1;32m<ipython-input-1-1d307dad1365>\u001b[0m in \u001b[0;36m<module>\u001b[1;34m()\u001b[0m\n\u001b[1;32m----> 1\u001b[1;33m \u001b[1;33m(\u001b[0m\u001b[0mx_train\u001b[0m\u001b[1;33m,\u001b[0m \u001b[0my_train\u001b[0m\u001b[1;33m)\u001b[0m\u001b[1;33m,\u001b[0m \u001b[1;33m(\u001b[0m\u001b[0mx_val\u001b[0m\u001b[1;33m,\u001b[0m \u001b[0my_val\u001b[0m\u001b[1;33m)\u001b[0m \u001b[1;33m=\u001b[0m \u001b[0mmnist\u001b[0m\u001b[1;33m.\u001b[0m\u001b[0mload_data\u001b[0m\u001b[1;33m(\u001b[0m\u001b[1;33m)\u001b[0m\u001b[1;33m\u001b[0m\u001b[0m\n\u001b[0m\u001b[0;32m      2\u001b[0m \u001b[1;33m\u001b[0m\u001b[0m\n\u001b[0;32m      3\u001b[0m \u001b[0mx_train\u001b[0m \u001b[1;33m=\u001b[0m \u001b[0mx_train\u001b[0m\u001b[1;33m.\u001b[0m\u001b[0mastype\u001b[0m\u001b[1;33m(\u001b[0m\u001b[1;34m'float32'\u001b[0m\u001b[1;33m)\u001b[0m \u001b[1;33m/\u001b[0m \u001b[1;36m255.\u001b[0m\u001b[1;33m\u001b[0m\u001b[0m\n\u001b[0;32m      4\u001b[0m \u001b[0mx_val\u001b[0m \u001b[1;33m=\u001b[0m \u001b[0mx_val\u001b[0m\u001b[1;33m.\u001b[0m\u001b[0mastype\u001b[0m\u001b[1;33m(\u001b[0m\u001b[1;34m'float32'\u001b[0m\u001b[1;33m)\u001b[0m \u001b[1;33m/\u001b[0m \u001b[1;36m255.\u001b[0m\u001b[1;33m\u001b[0m\u001b[0m\n\u001b[0;32m      5\u001b[0m \u001b[1;33m\u001b[0m\u001b[0m\n",
      "\u001b[1;31mNameError\u001b[0m: name 'mnist' is not defined"
     ]
    }
   ],
   "source": [
    "(x_train, y_train), (x_val, y_val) = mnist.load_data()\n",
    "\n",
    "x_train = x_train.astype('float32') / 255.\n",
    "x_val = x_val.astype('float32') / 255.\n",
    "\n",
    "x_train = x_train.reshape((len(x_train), np.prod(x_train.shape[1:])))\n",
    "x_val = x_val.reshape((len(x_val), np.prod(x_val.shape[1:])))\n",
    "print(x_train.shape)"
   ]
  },
  {
   "cell_type": "code",
   "execution_count": 13,
   "metadata": {
    "scrolled": true
   },
   "outputs": [
    {
     "data": {
      "text/plain": [
       "(60000, 10, 10, 10)"
      ]
     },
     "execution_count": 13,
     "metadata": {},
     "output_type": "execute_result"
    }
   ],
   "source": [
    "y_train = keras.utils.to_categorical(y_train, num_classes)\n",
    "y_val = keras.utils.to_categorical(y_val, num_classes)"
   ]
  },
  {
   "cell_type": "markdown",
   "metadata": {},
   "source": [
    "# Train Neural Net to recognize MNIST digits"
   ]
  },
  {
   "cell_type": "code",
   "execution_count": 5,
   "metadata": {
    "collapsed": true,
    "scrolled": true
   },
   "outputs": [],
   "source": [
    "# constants\n",
    "hidden1_dim = 512\n",
    "hidden2_dim = 512"
   ]
  },
  {
   "cell_type": "markdown",
   "metadata": {},
   "source": [
    "`Dropout` consists in randomly setting a fraction rate of input units to 0 at each update during training time, which helps prevent overfitting."
   ]
  },
  {
   "cell_type": "code",
   "execution_count": 6,
   "metadata": {
    "collapsed": true,
    "scrolled": true
   },
   "outputs": [],
   "source": [
    "model = Sequential()\n",
    "model.add(Dense(hidden1_dim, activation='relu', input_shape=(input_dim,)))\n",
    "model.add(Dropout(0.2))\n",
    "model.add(Dense(hidden2_dim, activation='relu'))\n",
    "model.add(Dropout(0.2))\n",
    "model.add(Dense(num_classes, activation='softmax'))"
   ]
  },
  {
   "cell_type": "code",
   "execution_count": 7,
   "metadata": {
    "scrolled": true
   },
   "outputs": [
    {
     "name": "stdout",
     "output_type": "stream",
     "text": [
      "_________________________________________________________________\n",
      "Layer (type)                 Output Shape              Param #   \n",
      "=================================================================\n",
      "dense_1 (Dense)              (None, 512)               401920    \n",
      "_________________________________________________________________\n",
      "dropout_1 (Dropout)          (None, 512)               0         \n",
      "_________________________________________________________________\n",
      "dense_2 (Dense)              (None, 512)               262656    \n",
      "_________________________________________________________________\n",
      "dropout_2 (Dropout)          (None, 512)               0         \n",
      "_________________________________________________________________\n",
      "dense_3 (Dense)              (None, 10)                5130      \n",
      "=================================================================\n",
      "Total params: 669,706\n",
      "Trainable params: 669,706\n",
      "Non-trainable params: 0\n",
      "_________________________________________________________________\n"
     ]
    }
   ],
   "source": [
    "model.summary()"
   ]
  },
  {
   "cell_type": "code",
   "execution_count": 8,
   "metadata": {
    "collapsed": true,
    "scrolled": true
   },
   "outputs": [],
   "source": [
    "model.compile(loss='categorical_crossentropy',\n",
    "              optimizer=RMSprop(),\n",
    "              metrics=['accuracy'])"
   ]
  },
  {
   "cell_type": "markdown",
   "metadata": {},
   "source": [
    "### Train or load Model"
   ]
  },
  {
   "cell_type": "code",
   "execution_count": 9,
   "metadata": {
    "collapsed": true,
    "scrolled": true
   },
   "outputs": [],
   "source": [
    "model = keras.models.load_model('models/model.h5')\n",
    "# model.fit(x_train, y_train, \n",
    "#           batch_size=batch_size,\n",
    "#           epochs=20,\n",
    "#           verbose=1,\n",
    "#           validation_data=(x_val, y_val))"
   ]
  },
  {
   "cell_type": "markdown",
   "metadata": {},
   "source": [
    "Save trained model"
   ]
  },
  {
   "cell_type": "code",
   "execution_count": 230,
   "metadata": {
    "collapsed": true,
    "scrolled": true
   },
   "outputs": [],
   "source": [
    "# model.save('models/model.h5')"
   ]
  },
  {
   "cell_type": "code",
   "execution_count": 231,
   "metadata": {
    "collapsed": true,
    "scrolled": true
   },
   "outputs": [],
   "source": [
    "# plot_model(model, to_file='images/mnist_nn.png', show_shapes=True, show_layer_names=True, rankdir='LR')"
   ]
  },
  {
   "cell_type": "markdown",
   "metadata": {},
   "source": [
    "![MNIST Neural Net](images/mnist_nn.png)"
   ]
  },
  {
   "cell_type": "code",
   "execution_count": 10,
   "metadata": {
    "scrolled": true
   },
   "outputs": [
    {
     "name": "stdout",
     "output_type": "stream",
     "text": [
      "Test loss: 0.105847611373\n",
      "Test accuracy: 0.9847\n"
     ]
    }
   ],
   "source": [
    "score = model.evaluate(x_val, y_val, verbose=0)\n",
    "print('Test loss:', score[0])\n",
    "print('Test accuracy:', score[1])"
   ]
  },
  {
   "cell_type": "markdown",
   "metadata": {},
   "source": [
    "# Vanilla autoencoder"
   ]
  },
  {
   "cell_type": "markdown",
   "metadata": {},
   "source": [
    "## Model Definitions"
   ]
  },
  {
   "cell_type": "markdown",
   "metadata": {},
   "source": [
    "Using keras module with compression to 32 floats."
   ]
  },
  {
   "cell_type": "code",
   "execution_count": 11,
   "metadata": {
    "collapsed": true,
    "scrolled": true
   },
   "outputs": [],
   "source": [
    "######## constants for single autoencoder ############\n",
    "encoding_dim = 32"
   ]
  },
  {
   "cell_type": "code",
   "execution_count": 12,
   "metadata": {
    "collapsed": true,
    "scrolled": false
   },
   "outputs": [],
   "source": [
    "# input placeholder\n",
    "input_img = Input(shape=(input_dim,))\n",
    "encoded = Dense(encoding_dim, activation='relu')(input_img)\n",
    "decoded = Dense(input_dim, activation='sigmoid')(encoded)\n",
    "\n",
    "single_autoencoder = Model(input_img, decoded)"
   ]
  },
  {
   "cell_type": "markdown",
   "metadata": {},
   "source": [
    "Encoder Model:"
   ]
  },
  {
   "cell_type": "code",
   "execution_count": 202,
   "metadata": {
    "collapsed": true,
    "scrolled": false
   },
   "outputs": [],
   "source": [
    "# this model maps an input to its encoded representation\n",
    "single_encoder = Model(input_img, encoded)"
   ]
  },
  {
   "cell_type": "markdown",
   "metadata": {},
   "source": [
    "Decoder Model:"
   ]
  },
  {
   "cell_type": "code",
   "execution_count": 203,
   "metadata": {
    "collapsed": true,
    "scrolled": false
   },
   "outputs": [],
   "source": [
    "encoded_input = Input(shape=(encoding_dim,))\n",
    "# retrieve the last layer of the autoencoder model\n",
    "decoder_layer = single_autoencoder.layers[-1]\n",
    "# create the decoder model\n",
    "single_decoder = Model(encoded_input, decoder_layer(encoded_input))"
   ]
  },
  {
   "cell_type": "markdown",
   "metadata": {},
   "source": [
    "First, we'll configure our model to use a per-pixel binary crossentropy loss, and the Adadelta optimizer:"
   ]
  },
  {
   "cell_type": "markdown",
   "metadata": {},
   "source": [
    "Binary Cross Entropy = Binomial Cross Entropy = Special Case of Multinomial Cross Entropy "
   ]
  },
  {
   "cell_type": "code",
   "execution_count": 204,
   "metadata": {
    "collapsed": true,
    "scrolled": false
   },
   "outputs": [],
   "source": [
    "single_autoencoder.compile(optimizer='adadelta', loss='binary_crossentropy')"
   ]
  },
  {
   "cell_type": "code",
   "execution_count": 205,
   "metadata": {
    "scrolled": true
   },
   "outputs": [
    {
     "name": "stdout",
     "output_type": "stream",
     "text": [
      "_________________________________________________________________\n",
      "Layer (type)                 Output Shape              Param #   \n",
      "=================================================================\n",
      "input_18 (InputLayer)        (None, 784)               0         \n",
      "_________________________________________________________________\n",
      "dense_47 (Dense)             (None, 32)                25120     \n",
      "_________________________________________________________________\n",
      "dense_48 (Dense)             (None, 784)               25872     \n",
      "=================================================================\n",
      "Total params: 50,992\n",
      "Trainable params: 50,992\n",
      "Non-trainable params: 0\n",
      "_________________________________________________________________\n"
     ]
    }
   ],
   "source": [
    "single_autoencoder.summary()"
   ]
  },
  {
   "cell_type": "markdown",
   "metadata": {},
   "source": [
    "### Train/load model"
   ]
  },
  {
   "cell_type": "code",
   "execution_count": 13,
   "metadata": {
    "collapsed": true,
    "scrolled": false
   },
   "outputs": [],
   "source": [
    "single_autoencoder = keras.models.load_model('models/single_autoencoder.h5')\n",
    "# single_autoencoder.fit(x_train, x_train, \n",
    "#                        epochs=50,\n",
    "#                        batch_size=batch_size,\n",
    "#                        shuffle=True,\n",
    "# #                        validation_split = 0.2,\n",
    "#                        validation_data=(x_val, x_val),\n",
    "#                        callbacks=[TensorBoard(log_dir='/tmp/autoencoder')])"
   ]
  },
  {
   "cell_type": "markdown",
   "metadata": {},
   "source": [
    "### Save Models"
   ]
  },
  {
   "cell_type": "code",
   "execution_count": 207,
   "metadata": {
    "collapsed": true,
    "scrolled": true
   },
   "outputs": [],
   "source": [
    "# single_autoencoder.save('models/single_autoencoder.h5')"
   ]
  },
  {
   "cell_type": "code",
   "execution_count": 14,
   "metadata": {
    "scrolled": true
   },
   "outputs": [
    {
     "name": "stdout",
     "output_type": "stream",
     "text": [
      "[0.10474408705234528, 0.81231301078796392]\n"
     ]
    }
   ],
   "source": [
    "score = single_autoencoder.evaluate(x_val, x_val, verbose=0)\n",
    "print(score)"
   ]
  },
  {
   "cell_type": "code",
   "execution_count": 209,
   "metadata": {
    "collapsed": true,
    "scrolled": true
   },
   "outputs": [],
   "source": [
    "# plot_model(single_autoencoder, to_file='images/single_autoencoder.png', show_shapes=True, show_layer_names=True, rankdir='LR')"
   ]
  },
  {
   "cell_type": "markdown",
   "metadata": {},
   "source": [
    "![single_autoencoder](images/single_autoencoder.png)"
   ]
  },
  {
   "cell_type": "markdown",
   "metadata": {},
   "source": [
    "After 50 epochs, the autoencoder seems to reach a stable train/test loss value of about {{score}}. We can try to visualize the reconstructed inputs and the encoded representations. We will use Matplotlib."
   ]
  },
  {
   "cell_type": "code",
   "execution_count": 210,
   "metadata": {
    "collapsed": true,
    "scrolled": true
   },
   "outputs": [],
   "source": [
    "encoded_imgs = single_encoder.predict(x_val)\n",
    "# decoded_imgs = single_decoder.predict(encoded_imgs)\n",
    "decoded_imgs = single_autoencoder.predict(x_val)"
   ]
  },
  {
   "cell_type": "code",
   "execution_count": 211,
   "metadata": {
    "scrolled": false
   },
   "outputs": [
    {
     "data": {
      "image/png": "[encoded data removed]",
      "text/plain": [
       "<matplotlib.figure.Figure at 0x1fc0925c518>"
      ]
     },
     "metadata": {},
     "output_type": "display_data"
    }
   ],
   "source": [
    "n = 10\n",
    "plt.figure(figsize=(20, 6))\n",
    "for i in range(n):\n",
    "    # display original\n",
    "    ax = plt.subplot(2, n, i + 1)\n",
    "    plt.imshow(x_val[i].reshape(28, 28))\n",
    "    plt.gray()\n",
    "    ax.get_xaxis().set_visible(False)\n",
    "    ax.get_yaxis().set_visible(False)\n",
    "    \n",
    "    # display reconstruction\n",
    "    ax = plt.subplot(2, n, i + 1 + n)\n",
    "    plt.imshow(decoded_imgs[i].reshape(28, 28))\n",
    "    plt.gray()\n",
    "    ax.get_xaxis().set_visible(False)\n",
    "    ax.get_yaxis().set_visible(False)\n",
    "plt.show()"
   ]
  },
  {
   "cell_type": "markdown",
   "metadata": {},
   "source": [
    "The mean value of all activated neurons in the hidden layer:"
   ]
  },
  {
   "cell_type": "code",
   "execution_count": 212,
   "metadata": {
    "scrolled": false
   },
   "outputs": [
    {
     "data": {
      "text/plain": [
       "0.19829455"
      ]
     },
     "execution_count": 212,
     "metadata": {},
     "output_type": "execute_result"
    }
   ],
   "source": [
    "encoded_imgs.mean()"
   ]
  },
  {
   "cell_type": "markdown",
   "metadata": {},
   "source": [
    "# Train with sparsity constraint on hidden layer"
   ]
  },
  {
   "cell_type": "markdown",
   "metadata": {},
   "source": [
    "So what does all this mean for sparsity? How does the rectifier activation function allow for sparsity in the hidden units? If the hidden units are exposed to a range of input values it makes sense that the rectifier activation function should lead to more ‘real zeros’ as we sweep across possible inputs. In other words, less neurons in our network would activate because of the limitations imposed by the rectifier activation function. https://www.quora.com/What-does-it-mean-that-activation-functions-like-ReLUs-in-NNs-induce-sparsity-in-the-hidden-units"
   ]
  },
  {
   "cell_type": "code",
   "execution_count": 213,
   "metadata": {
    "collapsed": true,
    "scrolled": true
   },
   "outputs": [],
   "source": [
    "input_img = Input(shape=(input_dim,))\n",
    "# add a Dense layer with a L1 activity regularizer\n",
    "encoded = Dense(encoding_dim, activation='relu',\n",
    "                activity_regularizer=regularizers.l1(10e-5))(input_img)\n",
    "decoded = Dense(input_dim, activation='sigmoid')(encoded)\n",
    "\n",
    "sparse_autoencoder = Model(input_img, decoded)\n",
    "\n",
    "sparse_encoder = Model(input_img, encoded)"
   ]
  },
  {
   "cell_type": "code",
   "execution_count": 214,
   "metadata": {
    "collapsed": true,
    "scrolled": true
   },
   "outputs": [],
   "source": [
    "encoded_input = Input(shape=(encoding_dim,))\n",
    "# retrieve the last layer of the autoencoder model\n",
    "decoder_layer = sparse_autoencoder.layers[-1]\n",
    "# create the decoder model\n",
    "sparse_decoder = Model(encoded_input, decoder_layer(encoded_input))"
   ]
  },
  {
   "cell_type": "markdown",
   "metadata": {},
   "source": [
    "Sparse Autoencoder"
   ]
  },
  {
   "cell_type": "code",
   "execution_count": 215,
   "metadata": {
    "collapsed": true,
    "scrolled": true
   },
   "outputs": [],
   "source": [
    "sparse_autoencoder.compile(optimizer='adadelta', loss='binary_crossentropy')"
   ]
  },
  {
   "cell_type": "code",
   "execution_count": 15,
   "metadata": {
    "collapsed": true,
    "scrolled": true
   },
   "outputs": [],
   "source": [
    "sparse_autoencoder = keras.models.load_model('models/sparse_autoencoder.h5')\n",
    "sparse_autoencoder.fit(x_train, x_train, \n",
    "                       epochs=20,\n",
    "                       batch_size=batch_size,\n",
    "                       validation_data=(x_val, x_val),\n",
    "                       callbacks=[TensorBoard(log_dir='/tmp/autoencoder')])"
   ]
  },
  {
   "cell_type": "code",
   "execution_count": 180,
   "metadata": {
    "collapsed": true,
    "scrolled": true
   },
   "outputs": [],
   "source": [
    "# sparse_autoencoder.save('models/sparse_autoencoder.h5')"
   ]
  },
  {
   "cell_type": "code",
   "execution_count": 16,
   "metadata": {
    "scrolled": true
   },
   "outputs": [
    {
     "name": "stdout",
     "output_type": "stream",
     "text": [
      "0.271617044735\n"
     ]
    }
   ],
   "source": [
    "score = sparse_autoencoder.evaluate(x_val, x_val, verbose=0)\n",
    "print(score)"
   ]
  },
  {
   "cell_type": "code",
   "execution_count": 219,
   "metadata": {
    "collapsed": true,
    "scrolled": true
   },
   "outputs": [],
   "source": [
    "encoded_imgs = sparse_encoder.predict(x_val)\n",
    "# decoded_imgs = single_decoder.predict(encoded_imgs)\n",
    "decoded_imgs = sparse_decoder.predict(encoded_imgs)"
   ]
  },
  {
   "cell_type": "code",
   "execution_count": 220,
   "metadata": {
    "scrolled": false
   },
   "outputs": [
    {
     "data": {
      "image/png": "[encoded data removed]",
      "text/plain": [
       "<matplotlib.figure.Figure at 0x1fc01b41358>"
      ]
     },
     "metadata": {},
     "output_type": "display_data"
    }
   ],
   "source": [
    "n = 10\n",
    "plt.figure(figsize=(20, 6))\n",
    "for i in range(n):\n",
    "    # display original\n",
    "    ax = plt.subplot(2, n, i + 1)\n",
    "    plt.imshow(x_val[i].reshape(28, 28))\n",
    "    plt.gray()\n",
    "    ax.get_xaxis().set_visible(False)\n",
    "    ax.get_yaxis().set_visible(False)\n",
    "    \n",
    "    # display reconstruction\n",
    "    ax = plt.subplot(2, n, i + 1 + n)\n",
    "    plt.imshow(decoded_imgs[i].reshape(28, 28))\n",
    "    plt.gray()\n",
    "    ax.get_xaxis().set_visible(False)\n",
    "    ax.get_yaxis().set_visible(False)\n",
    "plt.show()"
   ]
  },
  {
   "cell_type": "code",
   "execution_count": 184,
   "metadata": {
    "scrolled": true
   },
   "outputs": [
    {
     "data": {
      "text/plain": [
       "1.5224896e-06"
      ]
     },
     "execution_count": 184,
     "metadata": {},
     "output_type": "execute_result"
    }
   ],
   "source": [
    "encoded_imgs.mean()"
   ]
  },
  {
   "cell_type": "markdown",
   "metadata": {},
   "source": [
    "## Test the Vanilla Autoencoder with a simple Neural Net"
   ]
  },
  {
   "cell_type": "code",
   "execution_count": 93,
   "metadata": {
    "collapsed": true,
    "scrolled": true
   },
   "outputs": [],
   "source": [
    "single_ae_test_model = Sequential()\n",
    "# single_ae_test_model.add(Dense(16, activation='relu', input_shape=(36,)))\n",
    "# single_ae_test_model.add(Dropout(0.2))\n",
    "single_ae_test_model.add(Dense(num_classes, activation='softmax', input_shape=(encoding_dim,)))"
   ]
  },
  {
   "cell_type": "code",
   "execution_count": 94,
   "metadata": {
    "collapsed": true,
    "scrolled": true
   },
   "outputs": [],
   "source": [
    "single_ae_test_model.compile(loss='categorical_crossentropy',\n",
    "                             optimizer=RMSprop(),\n",
    "                             metrics=['accuracy'])"
   ]
  },
  {
   "cell_type": "code",
   "execution_count": 95,
   "metadata": {
    "scrolled": true
   },
   "outputs": [
    {
     "name": "stdout",
     "output_type": "stream",
     "text": [
      "Train on 60000 samples, validate on 10000 samples\n",
      "Epoch 1/40\n",
      "60000/60000 [==============================] - 1s 19us/step - loss: 2.0940 - acc: 0.3325 - val_loss: 1.9131 - val_acc: 0.4895\n",
      "Epoch 2/40\n",
      "60000/60000 [==============================] - 1s 9us/step - loss: 1.7834 - acc: 0.5378 - val_loss: 1.6415 - val_acc: 0.5859\n",
      "Epoch 3/40\n",
      "60000/60000 [==============================] - 1s 9us/step - loss: 1.5601 - acc: 0.5982 - val_loss: 1.4475 - val_acc: 0.6314\n",
      "Epoch 4/40\n",
      "60000/60000 [==============================] - 1s 10us/step - loss: 1.4011 - acc: 0.6275 - val_loss: 1.3102 - val_acc: 0.6533\n",
      "Epoch 5/40\n",
      "60000/60000 [==============================] - 1s 10us/step - loss: 1.2877 - acc: 0.6452 - val_loss: 1.2109 - val_acc: 0.6667\n",
      "Epoch 6/40\n",
      "60000/60000 [==============================] - 1s 9us/step - loss: 1.2065 - acc: 0.6582 - val_loss: 1.1393 - val_acc: 0.6766\n",
      "Epoch 7/40\n",
      "60000/60000 [==============================] - 1s 8us/step - loss: 1.1468 - acc: 0.6671 - val_loss: 1.0858 - val_acc: 0.6850\n",
      "Epoch 8/40\n",
      "60000/60000 [==============================] - 1s 9us/step - loss: 1.1018 - acc: 0.6738 - val_loss: 1.0460 - val_acc: 0.6897\n",
      "Epoch 9/40\n",
      "60000/60000 [==============================] - 1s 9us/step - loss: 1.0678 - acc: 0.6791 - val_loss: 1.0150 - val_acc: 0.6965\n",
      "Epoch 10/40\n",
      "60000/60000 [==============================] - 1s 8us/step - loss: 1.0413 - acc: 0.6830 - val_loss: 0.9905 - val_acc: 0.6996\n",
      "Epoch 11/40\n",
      "60000/60000 [==============================] - 1s 9us/step - loss: 1.0202 - acc: 0.6865 - val_loss: 0.9712 - val_acc: 0.7027\n",
      "Epoch 12/40\n",
      "60000/60000 [==============================] - 1s 9us/step - loss: 1.0033 - acc: 0.6892 - val_loss: 0.9552 - val_acc: 0.7059\n",
      "Epoch 13/40\n",
      "60000/60000 [==============================] - 1s 9us/step - loss: 0.9895 - acc: 0.6918 - val_loss: 0.9419 - val_acc: 0.7078\n",
      "Epoch 14/40\n",
      "60000/60000 [==============================] - 1s 8us/step - loss: 0.9780 - acc: 0.6941 - val_loss: 0.9308 - val_acc: 0.7090\n",
      "Epoch 15/40\n",
      "60000/60000 [==============================] - 1s 8us/step - loss: 0.9685 - acc: 0.6954 - val_loss: 0.9212 - val_acc: 0.7133\n",
      "Epoch 16/40\n",
      "60000/60000 [==============================] - 0s 8us/step - loss: 0.9604 - acc: 0.6973 - val_loss: 0.9140 - val_acc: 0.7135\n",
      "Epoch 17/40\n",
      "60000/60000 [==============================] - 0s 8us/step - loss: 0.9537 - acc: 0.6980 - val_loss: 0.9066 - val_acc: 0.7153\n",
      "Epoch 18/40\n",
      "60000/60000 [==============================] - 0s 8us/step - loss: 0.9478 - acc: 0.6999 - val_loss: 0.9016 - val_acc: 0.7163\n",
      "Epoch 19/40\n",
      "60000/60000 [==============================] - 0s 8us/step - loss: 0.9427 - acc: 0.7006 - val_loss: 0.8967 - val_acc: 0.7161\n",
      "Epoch 20/40\n",
      "60000/60000 [==============================] - 1s 8us/step - loss: 0.9383 - acc: 0.7013 - val_loss: 0.8919 - val_acc: 0.7179\n",
      "Epoch 21/40\n",
      "60000/60000 [==============================] - 1s 9us/step - loss: 0.9344 - acc: 0.7022 - val_loss: 0.8882 - val_acc: 0.7165\n",
      "Epoch 22/40\n",
      "60000/60000 [==============================] - 1s 9us/step - loss: 0.9309 - acc: 0.7028 - val_loss: 0.8848 - val_acc: 0.7172\n",
      "Epoch 23/40\n",
      "60000/60000 [==============================] - 1s 9us/step - loss: 0.9278 - acc: 0.7039 - val_loss: 0.8817 - val_acc: 0.7171\n",
      "Epoch 24/40\n",
      "60000/60000 [==============================] - 1s 9us/step - loss: 0.9251 - acc: 0.7044 - val_loss: 0.8787 - val_acc: 0.7180\n",
      "Epoch 25/40\n",
      "60000/60000 [==============================] - 1s 9us/step - loss: 0.9226 - acc: 0.7054 - val_loss: 0.8762 - val_acc: 0.7170\n",
      "Epoch 26/40\n",
      "60000/60000 [==============================] - 1s 9us/step - loss: 0.9203 - acc: 0.7054 - val_loss: 0.8741 - val_acc: 0.7177\n",
      "Epoch 27/40\n",
      "60000/60000 [==============================] - 0s 8us/step - loss: 0.9183 - acc: 0.7060 - val_loss: 0.8721 - val_acc: 0.7177\n",
      "Epoch 28/40\n",
      "60000/60000 [==============================] - 0s 8us/step - loss: 0.9165 - acc: 0.7067 - val_loss: 0.8702 - val_acc: 0.7193\n",
      "Epoch 29/40\n",
      "60000/60000 [==============================] - 1s 8us/step - loss: 0.9149 - acc: 0.7073 - val_loss: 0.8684 - val_acc: 0.7199\n",
      "Epoch 30/40\n",
      "60000/60000 [==============================] - 0s 8us/step - loss: 0.9134 - acc: 0.7072 - val_loss: 0.8672 - val_acc: 0.7200\n",
      "Epoch 31/40\n",
      "60000/60000 [==============================] - 0s 8us/step - loss: 0.9120 - acc: 0.7077 - val_loss: 0.8662 - val_acc: 0.7200\n",
      "Epoch 32/40\n",
      "60000/60000 [==============================] - 1s 8us/step - loss: 0.9108 - acc: 0.7084 - val_loss: 0.8643 - val_acc: 0.7201\n",
      "Epoch 33/40\n",
      "60000/60000 [==============================] - 1s 9us/step - loss: 0.9096 - acc: 0.7085 - val_loss: 0.8633 - val_acc: 0.7200\n",
      "Epoch 34/40\n",
      "60000/60000 [==============================] - 1s 9us/step - loss: 0.9085 - acc: 0.7084 - val_loss: 0.8620 - val_acc: 0.7205\n",
      "Epoch 35/40\n",
      "60000/60000 [==============================] - 1s 9us/step - loss: 0.9076 - acc: 0.7090 - val_loss: 0.8612 - val_acc: 0.7202\n",
      "Epoch 36/40\n",
      "60000/60000 [==============================] - 0s 8us/step - loss: 0.9066 - acc: 0.7094 - val_loss: 0.8606 - val_acc: 0.7205\n",
      "Epoch 37/40\n",
      "60000/60000 [==============================] - 0s 8us/step - loss: 0.9058 - acc: 0.7092 - val_loss: 0.8590 - val_acc: 0.7205\n",
      "Epoch 38/40\n",
      "60000/60000 [==============================] - 0s 8us/step - loss: 0.9050 - acc: 0.7094 - val_loss: 0.8586 - val_acc: 0.7205\n",
      "Epoch 39/40\n",
      "60000/60000 [==============================] - 1s 9us/step - loss: 0.9043 - acc: 0.7100 - val_loss: 0.8577 - val_acc: 0.7218\n",
      "Epoch 40/40\n",
      "60000/60000 [==============================] - 0s 8us/step - loss: 0.9035 - acc: 0.7104 - val_loss: 0.8573 - val_acc: 0.7197\n"
     ]
    },
    {
     "data": {
      "text/plain": [
       "<keras.callbacks.History at 0x1fc5800def0>"
      ]
     },
     "execution_count": 95,
     "metadata": {},
     "output_type": "execute_result"
    }
   ],
   "source": [
    "single_ae_test_model = keras.models.load_model('models/single_ae_test_model.h5')\n",
    "# single_ae_test_model.fit(single_encoder.predict(x_train), y_train, \n",
    "#                          batch_size=batch_size,\n",
    "#                          epochs=40,\n",
    "#                          verbose=1,\n",
    "#                          validation_data=(single_encoder.predict(x_val), y_val))"
   ]
  },
  {
   "cell_type": "code",
   "execution_count": 96,
   "metadata": {
    "collapsed": true,
    "scrolled": true
   },
   "outputs": [],
   "source": [
    "single_ae_test_model.save('models/single_ae_test_model.h5')"
   ]
  },
  {
   "cell_type": "code",
   "execution_count": 36,
   "metadata": {
    "scrolled": false
   },
   "outputs": [
    {
     "name": "stdout",
     "output_type": "stream",
     "text": [
      "Test loss: 0.867385588598\n",
      "Test accuracy: 0.7292\n"
     ]
    }
   ],
   "source": [
    "score = single_ae_test_model.evaluate(single_encoder.predict(x_val), y_val, verbose=0)\n",
    "print('Test loss:', score[0])\n",
    "print('Test accuracy:', score[1])"
   ]
  },
  {
   "cell_type": "markdown",
   "metadata": {},
   "source": [
    "## Test the Sparse Autoencoder with a simple Neural Net"
   ]
  },
  {
   "cell_type": "code",
   "execution_count": 185,
   "metadata": {
    "collapsed": true,
    "scrolled": true
   },
   "outputs": [],
   "source": [
    "sparse_ae_test_model = Sequential()\n",
    "# single_ae_test_model.add(Dense(16, activation='relu', input_shape=(36,)))\n",
    "# single_ae_test_model.add(Dropout(0.2))\n",
    "sparse_ae_test_model.add(Dense(num_classes, activation='softmax', input_shape=(encoding_dim,)))"
   ]
  },
  {
   "cell_type": "code",
   "execution_count": 186,
   "metadata": {
    "collapsed": true,
    "scrolled": true
   },
   "outputs": [],
   "source": [
    "sparse_ae_test_model.compile(loss='categorical_crossentropy',\n",
    "                             optimizer=RMSprop(),\n",
    "                             metrics=['accuracy'])"
   ]
  },
  {
   "cell_type": "code",
   "execution_count": 187,
   "metadata": {
    "scrolled": true
   },
   "outputs": [
    {
     "name": "stdout",
     "output_type": "stream",
     "text": [
      "Train on 60000 samples, validate on 10000 samples\n",
      "Epoch 1/40\n",
      "60000/60000 [==============================] - 1s 23us/step - loss: 2.3018 - acc: 0.1112 - val_loss: 2.3012 - val_acc: 0.1135\n",
      "Epoch 2/40\n",
      "60000/60000 [==============================] - 1s 11us/step - loss: 2.3013 - acc: 0.1124 - val_loss: 2.3011 - val_acc: 0.1135\n",
      "Epoch 3/40\n",
      "60000/60000 [==============================] - 1s 11us/step - loss: 2.3012 - acc: 0.1124 - val_loss: 2.3010 - val_acc: 0.1135\n",
      "Epoch 4/40\n",
      "60000/60000 [==============================] - 1s 12us/step - loss: 2.3012 - acc: 0.1124 - val_loss: 2.3010 - val_acc: 0.1135\n",
      "Epoch 5/40\n",
      "60000/60000 [==============================] - 1s 11us/step - loss: 2.3012 - acc: 0.1124 - val_loss: 2.3010 - val_acc: 0.1135\n",
      "Epoch 6/40\n",
      "60000/60000 [==============================] - 1s 12us/step - loss: 2.3012 - acc: 0.1124 - val_loss: 2.3010 - val_acc: 0.1135\n",
      "Epoch 7/40\n",
      "60000/60000 [==============================] - 1s 11us/step - loss: 2.3012 - acc: 0.1124 - val_loss: 2.3010 - val_acc: 0.1135\n",
      "Epoch 8/40\n",
      "60000/60000 [==============================] - 1s 12us/step - loss: 2.3012 - acc: 0.1124 - val_loss: 2.3010 - val_acc: 0.1135\n",
      "Epoch 9/40\n",
      "60000/60000 [==============================] - 1s 12us/step - loss: 2.3012 - acc: 0.1124 - val_loss: 2.3010 - val_acc: 0.1135\n",
      "Epoch 10/40\n",
      "60000/60000 [==============================] - 1s 13us/step - loss: 2.3012 - acc: 0.1124 - val_loss: 2.3011 - val_acc: 0.1135\n",
      "Epoch 11/40\n",
      "60000/60000 [==============================] - 1s 13us/step - loss: 2.3012 - acc: 0.1124 - val_loss: 2.3011 - val_acc: 0.1135\n",
      "Epoch 12/40\n",
      "60000/60000 [==============================] - 1s 13us/step - loss: 2.3012 - acc: 0.1124 - val_loss: 2.3010 - val_acc: 0.1135\n",
      "Epoch 13/40\n",
      "60000/60000 [==============================] - 1s 13us/step - loss: 2.3012 - acc: 0.1124 - val_loss: 2.3010 - val_acc: 0.1135\n",
      "Epoch 14/40\n",
      "60000/60000 [==============================] - 1s 13us/step - loss: 2.3012 - acc: 0.1124 - val_loss: 2.3010 - val_acc: 0.1135\n",
      "Epoch 15/40\n",
      "60000/60000 [==============================] - 1s 13us/step - loss: 2.3012 - acc: 0.1124 - val_loss: 2.3010 - val_acc: 0.1135\n",
      "Epoch 16/40\n",
      "60000/60000 [==============================] - 1s 12us/step - loss: 2.3012 - acc: 0.1124 - val_loss: 2.3010 - val_acc: 0.1135\n",
      "Epoch 17/40\n",
      "60000/60000 [==============================] - 1s 11us/step - loss: 2.3012 - acc: 0.1124 - val_loss: 2.3010 - val_acc: 0.1135\n",
      "Epoch 18/40\n",
      "60000/60000 [==============================] - 1s 12us/step - loss: 2.3012 - acc: 0.1124 - val_loss: 2.3010 - val_acc: 0.1135\n",
      "Epoch 19/40\n",
      "60000/60000 [==============================] - 1s 12us/step - loss: 2.3012 - acc: 0.1124 - val_loss: 2.3010 - val_acc: 0.1135\n",
      "Epoch 20/40\n",
      "60000/60000 [==============================] - 1s 13us/step - loss: 2.3012 - acc: 0.1124 - val_loss: 2.3010 - val_acc: 0.1135\n",
      "Epoch 21/40\n",
      "60000/60000 [==============================] - 1s 13us/step - loss: 2.3012 - acc: 0.1124 - val_loss: 2.3010 - val_acc: 0.1135\n",
      "Epoch 22/40\n",
      "60000/60000 [==============================] - 1s 11us/step - loss: 2.3012 - acc: 0.1124 - val_loss: 2.3010 - val_acc: 0.1135\n",
      "Epoch 23/40\n",
      "60000/60000 [==============================] - 1s 11us/step - loss: 2.3012 - acc: 0.1124 - val_loss: 2.3010 - val_acc: 0.1135\n",
      "Epoch 24/40\n",
      "60000/60000 [==============================] - 1s 11us/step - loss: 2.3012 - acc: 0.1124 - val_loss: 2.3010 - val_acc: 0.1135\n",
      "Epoch 25/40\n",
      "60000/60000 [==============================] - 1s 11us/step - loss: 2.3012 - acc: 0.1124 - val_loss: 2.3010 - val_acc: 0.1135\n",
      "Epoch 26/40\n",
      "60000/60000 [==============================] - 1s 10us/step - loss: 2.3012 - acc: 0.1124 - val_loss: 2.3010 - val_acc: 0.1135\n",
      "Epoch 27/40\n",
      "60000/60000 [==============================] - 1s 11us/step - loss: 2.3012 - acc: 0.1124 - val_loss: 2.3010 - val_acc: 0.1135\n",
      "Epoch 28/40\n",
      "60000/60000 [==============================] - 1s 11us/step - loss: 2.3012 - acc: 0.1124 - val_loss: 2.3010 - val_acc: 0.1135\n",
      "Epoch 29/40\n",
      "60000/60000 [==============================] - 1s 11us/step - loss: 2.3012 - acc: 0.1124 - val_loss: 2.3010 - val_acc: 0.1135\n",
      "Epoch 30/40\n",
      "60000/60000 [==============================] - 1s 11us/step - loss: 2.3012 - acc: 0.1124 - val_loss: 2.3010 - val_acc: 0.1135\n",
      "Epoch 31/40\n",
      "60000/60000 [==============================] - 1s 11us/step - loss: 2.3012 - acc: 0.1124 - val_loss: 2.3010 - val_acc: 0.1135\n",
      "Epoch 32/40\n",
      "60000/60000 [==============================] - 1s 12us/step - loss: 2.3012 - acc: 0.1124 - val_loss: 2.3010 - val_acc: 0.1135\n",
      "Epoch 33/40\n",
      "60000/60000 [==============================] - 1s 12us/step - loss: 2.3012 - acc: 0.1124 - val_loss: 2.3010 - val_acc: 0.1135\n",
      "Epoch 34/40\n",
      "60000/60000 [==============================] - 1s 12us/step - loss: 2.3012 - acc: 0.1124 - val_loss: 2.3011 - val_acc: 0.1135\n",
      "Epoch 35/40\n",
      "60000/60000 [==============================] - 1s 12us/step - loss: 2.3012 - acc: 0.1124 - val_loss: 2.3010 - val_acc: 0.1135\n",
      "Epoch 36/40\n",
      "60000/60000 [==============================] - 1s 11us/step - loss: 2.3012 - acc: 0.1124 - val_loss: 2.3010 - val_acc: 0.1135\n",
      "Epoch 37/40\n",
      "60000/60000 [==============================] - 1s 10us/step - loss: 2.3012 - acc: 0.1124 - val_loss: 2.3010 - val_acc: 0.1135\n",
      "Epoch 38/40\n",
      "60000/60000 [==============================] - 1s 11us/step - loss: 2.3012 - acc: 0.1124 - val_loss: 2.3010 - val_acc: 0.1135\n",
      "Epoch 39/40\n",
      "60000/60000 [==============================] - 1s 11us/step - loss: 2.3012 - acc: 0.1124 - val_loss: 2.3010 - val_acc: 0.1135\n",
      "Epoch 40/40\n",
      "60000/60000 [==============================] - 1s 10us/step - loss: 2.3012 - acc: 0.1124 - val_loss: 2.3009 - val_acc: 0.1135\n"
     ]
    },
    {
     "data": {
      "text/plain": [
       "<keras.callbacks.History at 0x1fc0b181588>"
      ]
     },
     "execution_count": 187,
     "metadata": {},
     "output_type": "execute_result"
    }
   ],
   "source": [
    "# sparse_ae_test_model = keras.models.load_model('models/sparse_ae_test_model.h5')\n",
    "sparse_ae_test_model.fit(sparse_encoder.predict(x_train), y_train, \n",
    "                         batch_size=batch_size,\n",
    "                         epochs=40,\n",
    "                         verbose=1,\n",
    "                         validation_data=(sparse_encoder.predict(x_val), y_val))"
   ]
  },
  {
   "cell_type": "code",
   "execution_count": 96,
   "metadata": {
    "collapsed": true,
    "scrolled": true
   },
   "outputs": [],
   "source": [
    "sparse_ae_test_model.save('models/sparse_ae_test_model.h5')"
   ]
  },
  {
   "cell_type": "code",
   "execution_count": 36,
   "metadata": {
    "scrolled": false
   },
   "outputs": [
    {
     "name": "stdout",
     "output_type": "stream",
     "text": [
      "Test loss: 0.867385588598\n",
      "Test accuracy: 0.7292\n"
     ]
    }
   ],
   "source": [
    "score = sparse_ae_test_model.evaluate(sparse_encoder.predict(x_val), y_val, verbose=0)\n",
    "print('Test loss:', score[0])\n",
    "print('Test accuracy:', score[1])"
   ]
  },
  {
   "cell_type": "markdown",
   "metadata": {},
   "source": [
    "# Stacked Autoencoder"
   ]
  },
  {
   "cell_type": "code",
   "execution_count": 207,
   "metadata": {
    "collapsed": true,
    "scrolled": true
   },
   "outputs": [],
   "source": [
    "######## constants for stacked autoencoder ############\n",
    "encoding_dim1 = 128\n",
    "encoding_dim2 = 64\n",
    "encoding_dim3 = 32\n",
    "decoding_dim1 = 64\n",
    "decoding_dim2 = 128\n",
    "decoding_dim3 = input_dim\n",
    "epochs = 100\n",
    "batch_size = 256"
   ]
  },
  {
   "cell_type": "code",
   "execution_count": 208,
   "metadata": {
    "collapsed": true,
    "scrolled": true
   },
   "outputs": [],
   "source": [
    "input_img = Input(shape=(input_dim,))\n",
    "encoded = Dense(encoding_dim1, activation='relu')(input_img)\n",
    "encoded = Dense(encoding_dim2, activation='relu')(encoded)\n",
    "encoded = Dense(encoding_dim3, activation='relu')(encoded)\n",
    "\n",
    "decoded = Dense(decoding_dim1, activation='relu')(encoded)\n",
    "decoded = Dense(decoding_dim2, activation='relu')(decoded)\n",
    "decoded = Dense(decoding_dim3, activation='sigmoid')(decoded)"
   ]
  },
  {
   "cell_type": "code",
   "execution_count": 209,
   "metadata": {
    "scrolled": true
   },
   "outputs": [
    {
     "name": "stdout",
     "output_type": "stream",
     "text": [
      "_________________________________________________________________\n",
      "Layer (type)                 Output Shape              Param #   \n",
      "=================================================================\n",
      "input_12 (InputLayer)        (None, 784)               0         \n",
      "_________________________________________________________________\n",
      "dense_52 (Dense)             (None, 128)               100480    \n",
      "_________________________________________________________________\n",
      "dense_53 (Dense)             (None, 64)                8256      \n",
      "_________________________________________________________________\n",
      "dense_54 (Dense)             (None, 32)                2080      \n",
      "_________________________________________________________________\n",
      "dense_55 (Dense)             (None, 64)                2112      \n",
      "_________________________________________________________________\n",
      "dense_56 (Dense)             (None, 128)               8320      \n",
      "_________________________________________________________________\n",
      "dense_57 (Dense)             (None, 784)               101136    \n",
      "=================================================================\n",
      "Total params: 222,384\n",
      "Trainable params: 222,384\n",
      "Non-trainable params: 0\n",
      "_________________________________________________________________\n"
     ]
    }
   ],
   "source": [
    "stacked_autoencoder = Model(input_img, decoded)\n",
    "stacked_autoencoder.compile(optimizer='adadelta', loss='binary_crossentropy')\n",
    "stacked_autoencoder.summary()"
   ]
  },
  {
   "cell_type": "code",
   "execution_count": 210,
   "metadata": {
    "collapsed": true,
    "scrolled": false
   },
   "outputs": [],
   "source": [
    "stacked_autoencoder = keras.models.load_model('models/stacked_autoencoder.h5')\n",
    "# stacked_autoencoder.fit(x_train, x_train,\n",
    "#                 epochs=epochs,\n",
    "#                 batch_size=batch_size,\n",
    "#                 shuffle=True,\n",
    "#                 validation_data=(x_val, x_val))"
   ]
  },
  {
   "cell_type": "markdown",
   "metadata": {},
   "source": [
    "Save the model"
   ]
  },
  {
   "cell_type": "code",
   "execution_count": 211,
   "metadata": {
    "collapsed": true,
    "scrolled": true
   },
   "outputs": [],
   "source": [
    "# stacked_autoencoder.save('models/stacked_autoencoder.h5')"
   ]
  },
  {
   "cell_type": "code",
   "execution_count": 212,
   "metadata": {
    "scrolled": true
   },
   "outputs": [
    {
     "name": "stdout",
     "output_type": "stream",
     "text": [
      "0.11782884047\n"
     ]
    }
   ],
   "source": [
    "score = stacked_autoencoder.evaluate(x_val, x_val, verbose=0)\n",
    "print(score)"
   ]
  },
  {
   "cell_type": "code",
   "execution_count": 213,
   "metadata": {
    "collapsed": true,
    "scrolled": true
   },
   "outputs": [],
   "source": [
    "# plot_model(stacked_autoencoder, to_file='images/stacked_autoencoder.png', show_shapes=True, show_layer_names=True, rankdir='LR')"
   ]
  },
  {
   "cell_type": "markdown",
   "metadata": {},
   "source": [
    "![stacked_autoencoder](images/stacked_autoencoder.png)"
   ]
  },
  {
   "cell_type": "code",
   "execution_count": 214,
   "metadata": {
    "collapsed": true,
    "scrolled": true
   },
   "outputs": [],
   "source": [
    "decoded_imgs = stacked_autoencoder.predict(x_val)"
   ]
  },
  {
   "cell_type": "code",
   "execution_count": 215,
   "metadata": {
    "scrolled": true
   },
   "outputs": [
    {
     "data": {
      "image/png": "[encoded data removed]",
      "text/plain": [
       "<matplotlib.figure.Figure at 0x25e1b821710>"
      ]
     },
     "metadata": {},
     "output_type": "display_data"
    }
   ],
   "source": [
    "n = 10  # how many digits we will display\n",
    "plt.figure(figsize=(20, 4))\n",
    "for i in range(n):\n",
    "    # display original\n",
    "    ax = plt.subplot(2, n, i + 1)\n",
    "    plt.imshow(x_val[i].reshape(28, 28))\n",
    "    plt.gray()\n",
    "    ax.get_xaxis().set_visible(False)\n",
    "    ax.get_yaxis().set_visible(False)\n",
    "\n",
    "    # display reconstruction\n",
    "    ax = plt.subplot(2, n, i + 1 + n)\n",
    "    plt.imshow(decoded_imgs[i].reshape(28, 28))\n",
    "    plt.gray()\n",
    "    ax.get_xaxis().set_visible(False)\n",
    "    ax.get_yaxis().set_visible(False)\n",
    "plt.show()"
   ]
  },
  {
   "cell_type": "markdown",
   "metadata": {},
   "source": [
    "# Denoising Data"
   ]
  },
  {
   "cell_type": "code",
   "execution_count": 216,
   "metadata": {
    "collapsed": true,
    "scrolled": true
   },
   "outputs": [],
   "source": [
    "noise_factor = 0.5"
   ]
  },
  {
   "cell_type": "code",
   "execution_count": 217,
   "metadata": {
    "collapsed": true,
    "scrolled": false
   },
   "outputs": [],
   "source": [
    "x_train_noisy = x_train + noise_factor * np.random.normal(loc=0.0, scale=1.0, size=x_train.shape) \n",
    "x_val_noisy = x_val + noise_factor * np.random.normal(loc=0.0, scale=1.0, size=x_val.shape) \n",
    "\n",
    "# re-normalization by clipping to the intervall (0,1)\n",
    "x_train_noisy = np.clip(x_train_noisy, 0., 1.)\n",
    "x_val_noisy = np.clip(x_val_noisy, 0., 1.)"
   ]
  },
  {
   "cell_type": "code",
   "execution_count": 218,
   "metadata": {
    "scrolled": false
   },
   "outputs": [
    {
     "data": {
      "image/png": "[encoded data removed]",
      "text/plain": [
       "<matplotlib.figure.Figure at 0x25e1b76c128>"
      ]
     },
     "metadata": {},
     "output_type": "display_data"
    }
   ],
   "source": [
    "n = 10\n",
    "plt.figure(figsize=(20, 2))\n",
    "for i in range(n):\n",
    "    ax = plt.subplot(1, n, i + 1)\n",
    "    plt.imshow(x_val_noisy[i].reshape(28, 28))\n",
    "    plt.gray()\n",
    "    ax.get_xaxis().set_visible(False)\n",
    "    ax.get_yaxis().set_visible(False)\n",
    "plt.show()"
   ]
  },
  {
   "cell_type": "markdown",
   "metadata": {},
   "source": [
    "Stick with the stack"
   ]
  },
  {
   "cell_type": "code",
   "execution_count": 219,
   "metadata": {
    "scrolled": false
   },
   "outputs": [
    {
     "name": "stdout",
     "output_type": "stream",
     "text": [
      "_________________________________________________________________\n",
      "Layer (type)                 Output Shape              Param #   \n",
      "=================================================================\n",
      "input_12 (InputLayer)        (None, 784)               0         \n",
      "_________________________________________________________________\n",
      "dense_52 (Dense)             (None, 128)               100480    \n",
      "_________________________________________________________________\n",
      "dense_53 (Dense)             (None, 64)                8256      \n",
      "_________________________________________________________________\n",
      "dense_54 (Dense)             (None, 32)                2080      \n",
      "_________________________________________________________________\n",
      "dense_55 (Dense)             (None, 64)                2112      \n",
      "_________________________________________________________________\n",
      "dense_56 (Dense)             (None, 128)               8320      \n",
      "_________________________________________________________________\n",
      "dense_57 (Dense)             (None, 784)               101136    \n",
      "=================================================================\n",
      "Total params: 222,384\n",
      "Trainable params: 222,384\n",
      "Non-trainable params: 0\n",
      "_________________________________________________________________\n"
     ]
    }
   ],
   "source": [
    "denoising_autoencoder = Model(input_img, decoded)\n",
    "denoising_autoencoder.compile(optimizer='adadelta', loss='binary_crossentropy')\n",
    "denoising_autoencoder.summary()"
   ]
  },
  {
   "cell_type": "markdown",
   "metadata": {},
   "source": [
    "### Train or load a stacked denoising autoencoder"
   ]
  },
  {
   "cell_type": "code",
   "execution_count": 220,
   "metadata": {
    "collapsed": true,
    "scrolled": false
   },
   "outputs": [],
   "source": [
    "denoising_autoencoder = keras.models.load_model('models/denoising_autoencoder.h5')\n",
    "# denoising_autoencoder.fit(x_train_noisy, x_train,\n",
    "#                 epochs=epochs,\n",
    "#                 batch_size=batch_size,\n",
    "#                 shuffle=True,\n",
    "#                 validation_data=(x_val_noisy, x_val),\n",
    "#                 callbacks=[TensorBoard(log_dir='/tmp/autoencoder')])"
   ]
  },
  {
   "cell_type": "markdown",
   "metadata": {},
   "source": [
    "Save trained model"
   ]
  },
  {
   "cell_type": "code",
   "execution_count": 221,
   "metadata": {
    "collapsed": true,
    "scrolled": true
   },
   "outputs": [],
   "source": [
    "# denoising_autoencoder.save('models/denoising_autoencoder.h5')"
   ]
  },
  {
   "cell_type": "code",
   "execution_count": 222,
   "metadata": {
    "collapsed": true,
    "scrolled": false
   },
   "outputs": [],
   "source": [
    "decoded_imgs = denoising_autoencoder.predict(x_val_noisy)"
   ]
  },
  {
   "cell_type": "code",
   "execution_count": 223,
   "metadata": {
    "scrolled": false
   },
   "outputs": [
    {
     "data": {
      "image/png": "[encoded data removed]",
      "text/plain": [
       "<matplotlib.figure.Figure at 0x25e14a2a908>"
      ]
     },
     "metadata": {},
     "output_type": "display_data"
    }
   ],
   "source": [
    "n = 10  # how many digits we will display\n",
    "plt.figure(figsize=(20, 4))\n",
    "for i in range(n):\n",
    "    # display original\n",
    "    ax = plt.subplot(2, n, i + 1)\n",
    "    plt.imshow(x_val[i].reshape(28, 28))\n",
    "    plt.gray()\n",
    "    ax.get_xaxis().set_visible(False)\n",
    "    ax.get_yaxis().set_visible(False)\n",
    "\n",
    "    # display reconstruction\n",
    "    ax = plt.subplot(2, n, i + 1 + n)\n",
    "    plt.imshow(decoded_imgs[i].reshape(28, 28))\n",
    "    plt.gray()\n",
    "    ax.get_xaxis().set_visible(False)\n",
    "    ax.get_yaxis().set_visible(False)\n",
    "plt.show()"
   ]
  },
  {
   "cell_type": "markdown",
   "metadata": {},
   "source": [
    "# Compare results"
   ]
  },
  {
   "cell_type": "markdown",
   "metadata": {},
   "source": [
    "## Classification of noisy data"
   ]
  },
  {
   "cell_type": "code",
   "execution_count": 224,
   "metadata": {
    "scrolled": true
   },
   "outputs": [
    {
     "name": "stdout",
     "output_type": "stream",
     "text": [
      "Test loss: 9.13666110077\n",
      "Test accuracy: 0.3839\n"
     ]
    }
   ],
   "source": [
    "score = model.evaluate(x_val_noisy, y_val, verbose=0)\n",
    "print('Test loss:', score[0])\n",
    "print('Test accuracy:', score[1])"
   ]
  },
  {
   "cell_type": "markdown",
   "metadata": {},
   "source": [
    "## Classification of denoised data"
   ]
  },
  {
   "cell_type": "code",
   "execution_count": 225,
   "metadata": {
    "scrolled": true
   },
   "outputs": [
    {
     "name": "stdout",
     "output_type": "stream",
     "text": [
      "Test loss: 0.396575538995\n",
      "Test accuracy: 0.9386\n"
     ]
    }
   ],
   "source": [
    "score = model.evaluate(decoded_imgs, y_val, verbose=0)\n",
    "print('Test loss:', score[0])\n",
    "print('Test accuracy:', score[1])"
   ]
  },
  {
   "cell_type": "markdown",
   "metadata": {},
   "source": [
    "# Additional Information and Footage"
   ]
  },
  {
   "cell_type": "markdown",
   "metadata": {},
   "source": [
    "## Cross Entropy"
   ]
  },
  {
   "cell_type": "markdown",
   "metadata": {},
   "source": [
    "![Cross Entropy](images\\2017-12-03 10_42_19-Machine Learning_ Should I use a categorical cross entropy or binary cross entro.png)"
   ]
  },
  {
   "cell_type": "markdown",
   "metadata": {},
   "source": [
    "## Batch Size"
   ]
  },
  {
   "cell_type": "markdown",
   "metadata": {},
   "source": [
    "Batch size defines number of samples that going to be propagated through the network.\n",
    "\n",
    "For instance, let's say you have 1050 training samples and you want to set up batch_size equal to 100. Algorithm takes first 100 samples (from 1st to 100th) from the training dataset and trains network. Next it takes second 100 samples (from 101st to 200th) and train network again. We can keep doing this procedure until we will propagate through the networks all samples. The problem usually happens with the last set of samples. In our example we've used 1050 which is not divisible by 100 without remainder. The simplest solution is just to get final 50 samples and train the network.\n",
    "\n",
    "Advantages:\n",
    "\n",
    "* It requires less memory. Since you train network using less number of samples the overall training procedure requires less memory. It's especially important in case if you are not able to fit dataset in memory.\n",
    "* Typically networks trains faster with mini-batches. That's because we update weights after each propagation. In our example we've propagated 11 batches (10 of them had 100 samples and 1 had 50 samples) and after each of them we've updated network's parameters. If we used all samples during propagation we would make only 1 update for the network's parameter.\n",
    "\n",
    "Disadvantages:\n",
    "\n",
    "* The smaller the batch the less accurate estimate of the gradient. In the figure below you can see that mini-batch (green color) gradient's direction fluctuates compare to the full batch (blue color)."
   ]
  },
  {
   "cell_type": "markdown",
   "metadata": {},
   "source": [
    "![https://stats.stackexchange.com/questions/153531/what-is-batch-size-in-neural-network](images\\lU3sx.png)"
   ]
  },
  {
   "cell_type": "markdown",
   "metadata": {},
   "source": [
    "to be done:\n",
    "- check various encoders with different numbers of hidden layers\n",
    "- feature extraction"
   ]
  },
  {
   "cell_type": "markdown",
   "metadata": {
    "tags": [
     "dropout"
    ]
   },
   "source": [
    "# Dropout"
   ]
  },
  {
   "cell_type": "markdown",
   "metadata": {},
   "source": [
    "Deep neural nets with a large number of parameters are very powerful machine learning\n",
    "systems. However, overfitting is a serious problem in such networks. Large networks are also\n",
    "slow to use, making it difficult to deal with overfitting by combining the predictions of many\n",
    "different large neural nets at test time. Dropout is a technique for addressing this problem.\n",
    "The key idea is to randomly drop units (along with their connections) from the neural\n",
    "network during training. This prevents units from co-adapting too much. During training,\n",
    "dropout samples from an exponential number of different “thinned” networks. At test time,\n",
    "it is easy to approximate the effect of averaging the predictions of all these thinned networks\n",
    "by simply using a single unthinned network that has smaller weights. This significantly\n",
    "reduces overfitting and gives major improvements over other regularization methods. We\n",
    "show that dropout improves the performance of neural networks on supervised learning\n",
    "tasks in vision, speech recognition, document classification and computational biology,\n",
    "obtaining state-of-the-art results on many benchmark data sets."
   ]
  },
  {
   "cell_type": "markdown",
   "metadata": {},
   "source": [
    "For more information on dropout visit http://www.cs.toronto.edu/~rsalakhu/papers/srivastava14a.pdf"
   ]
  }
 ],
 "metadata": {
  "celltoolbar": "Raw Cell Format",
  "kernelspec": {
   "display_name": "Python 3",
   "language": "python",
   "name": "python3"
  },
  "language_info": {
   "codemirror_mode": {
    "name": "ipython",
    "version": 3
   },
   "file_extension": ".py",
   "mimetype": "text/x-python",
   "name": "python",
   "nbconvert_exporter": "python",
   "pygments_lexer": "ipython3",
   "version": "3.6.1"
  }
 },
 "nbformat": 4,
 "nbformat_minor": 2
}
